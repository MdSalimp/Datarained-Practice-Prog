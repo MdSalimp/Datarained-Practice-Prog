{
 "cells": [
  {
   "cell_type": "markdown",
   "id": "8f7feab2",
   "metadata": {},
   "source": [
    "Write a python program to find the factorial of a number."
   ]
  },
  {
   "cell_type": "code",
   "execution_count": 1,
   "id": "ee476e38",
   "metadata": {},
   "outputs": [
    {
     "name": "stdout",
     "output_type": "stream",
     "text": [
      "Enter a number: 23\n",
      "Factorial of 23 is: 25852016738884976640000\n"
     ]
    }
   ],
   "source": [
    "num = int(input('Enter a number: ' ))\n",
    "\n",
    "factorial=1\n",
    "\n",
    "#To check if the number is negitive,positive or zero\n",
    "if num < 0:\n",
    "    print('Factorial cannot be found for negitive numbers')\n",
    "elif num == 0:\n",
    "    print('Factorial of 0 is 1')\n",
    "else: \n",
    "    for i in range(1,num+1):\n",
    "        factorial = factorial*i\n",
    "    print('Factorial of',num,'is:',factorial) "
   ]
  },
  {
   "cell_type": "markdown",
   "id": "bcaa9bb9",
   "metadata": {},
   "source": [
    "Write a python program to find whether a number is prime or composite."
   ]
  },
  {
   "cell_type": "code",
   "execution_count": 2,
   "id": "cc94e897",
   "metadata": {},
   "outputs": [
    {
     "name": "stdout",
     "output_type": "stream",
     "text": [
      "Enter a number: 23\n",
      "23 is a prime number\n"
     ]
    }
   ],
   "source": [
    "num = int(input('Enter a number: ' ))\n",
    "#To check if the number is negitive,positive or zero\n",
    "if num < 1:\n",
    "    print('Number needs to be greater than 1')\n",
    "elif num == 1:\n",
    "    print(num, 'is nither prime number nor composite number')\n",
    "else:\n",
    "    for i in range(2,(num//2)+1):\n",
    "        if(num % i)==0:\n",
    "            print(num, 'is a composite number')\n",
    "            break\n",
    "    else:\n",
    "        print(num, 'is a prime number')"
   ]
  },
  {
   "cell_type": "markdown",
   "id": "3b67ab16",
   "metadata": {},
   "source": [
    "Write a python program to check whether a given string is palindrome or not."
   ]
  },
  {
   "cell_type": "code",
   "execution_count": 3,
   "id": "8755eae3",
   "metadata": {},
   "outputs": [
    {
     "name": "stdout",
     "output_type": "stream",
     "text": [
      "Enter a word:asd\n",
      "asd : not a palindrome.\n"
     ]
    }
   ],
   "source": [
    "a = input('Enter a word:' )\n",
    "b = a[-1::-1] \n",
    "if(a == b):\n",
    "    print(a, ': is a palindrome.')\n",
    "else:\n",
    "    print(a, ': not a palindrome.')"
   ]
  },
  {
   "cell_type": "markdown",
   "id": "0caf82c0",
   "metadata": {},
   "source": [
    "Write a Python program to get the third side of right-angled triangle from two given sides."
   ]
  },
  {
   "cell_type": "code",
   "execution_count": 4,
   "id": "356ba3b5",
   "metadata": {},
   "outputs": [
    {
     "name": "stdout",
     "output_type": "stream",
     "text": [
      "enter the base of the right angled triangle 2\n",
      "enter the perpendicular of the right angled triangle 5\n",
      "the length of hypotenuse is  5.385164807134504\n"
     ]
    }
   ],
   "source": [
    "import math\n",
    "a=int(input(\"enter the base of the right angled triangle \"))\n",
    "b=int(input(\"enter the perpendicular of the right angled triangle \"))\n",
    "print(\"the length of hypotenuse is \",math.sqrt(a**2+b**2))"
   ]
  },
  {
   "cell_type": "markdown",
   "id": "58f6dc4d",
   "metadata": {},
   "source": [
    "Write a python program to print the frequency of each of the characters present in a given string"
   ]
  },
  {
   "cell_type": "code",
   "execution_count": 5,
   "id": "4f2a41da",
   "metadata": {},
   "outputs": [
    {
     "name": "stdout",
     "output_type": "stream",
     "text": [
      "enter a word or sentence: sffffs\n",
      "please enter the character to find it's frequency: f\n",
      "The frequency of the f in the string is:  4\n"
     ]
    }
   ],
   "source": [
    "a = input('enter a word or sentence: ')\n",
    "char = input(\"please enter the character to find it's frequency: \")\n",
    "\n",
    "count = 0\n",
    "for i in range(len(a)):\n",
    "    if(a[i] == char):\n",
    "        count = count + 1\n",
    "print('The frequency of the',char,'in the string is: ',count)"
   ]
  }
 ],
 "metadata": {
  "kernelspec": {
   "display_name": "Python 3 (ipykernel)",
   "language": "python",
   "name": "python3"
  },
  "language_info": {
   "codemirror_mode": {
    "name": "ipython",
    "version": 3
   },
   "file_extension": ".py",
   "mimetype": "text/x-python",
   "name": "python",
   "nbconvert_exporter": "python",
   "pygments_lexer": "ipython3",
   "version": "3.9.7"
  }
 },
 "nbformat": 4,
 "nbformat_minor": 5
}
