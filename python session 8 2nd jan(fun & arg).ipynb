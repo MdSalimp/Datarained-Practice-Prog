{
 "cells": [
  {
   "cell_type": "markdown",
   "id": "bf023c45",
   "metadata": {},
   "source": [
    "user defined functions"
   ]
  },
  {
   "cell_type": "code",
   "execution_count": 1,
   "id": "cdce0774",
   "metadata": {},
   "outputs": [],
   "source": [
    "def fadd(a,b):\n",
    "    c=a+b\n",
    "    print(c)"
   ]
  },
  {
   "cell_type": "code",
   "execution_count": 2,
   "id": "7551d1c8",
   "metadata": {},
   "outputs": [
    {
     "name": "stdout",
     "output_type": "stream",
     "text": [
      "10\n"
     ]
    }
   ],
   "source": [
    "fadd(5,5)"
   ]
  },
  {
   "cell_type": "code",
   "execution_count": 3,
   "id": "2e2c7c83",
   "metadata": {},
   "outputs": [
    {
     "name": "stdout",
     "output_type": "stream",
     "text": [
      "15\n"
     ]
    }
   ],
   "source": [
    "fadd(10,5)"
   ]
  },
  {
   "cell_type": "code",
   "execution_count": 4,
   "id": "9c852fa7",
   "metadata": {},
   "outputs": [],
   "source": [
    "def fsub(a,b):\n",
    "    c=a-b\n",
    "    print(c)"
   ]
  },
  {
   "cell_type": "code",
   "execution_count": 5,
   "id": "10156c3c",
   "metadata": {},
   "outputs": [
    {
     "name": "stdout",
     "output_type": "stream",
     "text": [
      "3\n"
     ]
    }
   ],
   "source": [
    "fsub(6,3)"
   ]
  },
  {
   "cell_type": "code",
   "execution_count": 6,
   "id": "89d28691",
   "metadata": {},
   "outputs": [],
   "source": [
    "def fmultiply(a,b):\n",
    "    c=a*b\n",
    "    print(c)"
   ]
  },
  {
   "cell_type": "code",
   "execution_count": 7,
   "id": "1035d791",
   "metadata": {},
   "outputs": [
    {
     "name": "stdout",
     "output_type": "stream",
     "text": [
      "30\n"
     ]
    }
   ],
   "source": [
    "fmultiply(5,6)"
   ]
  },
  {
   "cell_type": "code",
   "execution_count": 8,
   "id": "42095d32",
   "metadata": {},
   "outputs": [],
   "source": [
    "def fdiv(a,b):\n",
    "    c=a/b\n",
    "    print(c)"
   ]
  },
  {
   "cell_type": "code",
   "execution_count": 9,
   "id": "e1f23f1e",
   "metadata": {},
   "outputs": [
    {
     "name": "stdout",
     "output_type": "stream",
     "text": [
      "2.0\n"
     ]
    }
   ],
   "source": [
    "fdiv(12,6)"
   ]
  },
  {
   "cell_type": "code",
   "execution_count": 10,
   "id": "5713397e",
   "metadata": {},
   "outputs": [],
   "source": [
    "def fadd(a,b,c):\n",
    "    c=a+b+c\n",
    "    print(c)"
   ]
  },
  {
   "cell_type": "code",
   "execution_count": 11,
   "id": "5098a0b5",
   "metadata": {},
   "outputs": [
    {
     "name": "stdout",
     "output_type": "stream",
     "text": [
      "12\n"
     ]
    }
   ],
   "source": [
    "fadd(3,4,5)"
   ]
  },
  {
   "cell_type": "code",
   "execution_count": 13,
   "id": "dec83bef",
   "metadata": {},
   "outputs": [],
   "source": [
    "def fmul(a,b,c):\n",
    "    c=a*b*c\n",
    "    print(c)"
   ]
  },
  {
   "cell_type": "code",
   "execution_count": 14,
   "id": "d54f5571",
   "metadata": {},
   "outputs": [
    {
     "name": "stdout",
     "output_type": "stream",
     "text": [
      "120\n"
     ]
    }
   ],
   "source": [
    "fmul(4,5,6)"
   ]
  },
  {
   "cell_type": "code",
   "execution_count": 41,
   "id": "2ad3155b",
   "metadata": {},
   "outputs": [],
   "source": [
    "def areaofrect(l,b):\n",
    "    area=l*b\n",
    "    print(area)"
   ]
  },
  {
   "cell_type": "code",
   "execution_count": 42,
   "id": "a0615b57",
   "metadata": {},
   "outputs": [
    {
     "name": "stdout",
     "output_type": "stream",
     "text": [
      "8\n"
     ]
    }
   ],
   "source": [
    "areaofrect(2,4)"
   ]
  },
  {
   "cell_type": "code",
   "execution_count": 2,
   "id": "673a3303",
   "metadata": {},
   "outputs": [
    {
     "name": "stdout",
     "output_type": "stream",
     "text": [
      "length10\n",
      "breadth20\n",
      "area 200\n",
      "area with length= 10 and area with breadth = 20 area 200\n"
     ]
    }
   ],
   "source": [
    "length=int(input(\"length\"))\n",
    "breadth=int(input(\"breadth\"))\n",
    "area=length*breadth\n",
    "print(\"area\",area)\n",
    "print(\"area with length=\",length, \"and area with breadth =\",breadth ,\"area\",area)\n"
   ]
  },
  {
   "cell_type": "code",
   "execution_count": 37,
   "id": "baba1dd0",
   "metadata": {},
   "outputs": [],
   "source": [
    "def area__of__circle(radius):\n",
    "    pi=3.14\n",
    "    area=pi*(radius**2)\n",
    "    print(\"area__of__circle=\",area)\n",
    "    print(\"area__of__circle=\",round(area,3))"
   ]
  },
  {
   "cell_type": "code",
   "execution_count": 38,
   "id": "20c7095d",
   "metadata": {},
   "outputs": [
    {
     "name": "stdout",
     "output_type": "stream",
     "text": [
      "enter radius39\n",
      "area__of__circle= 4775.9400000000005\n",
      "area__of__circle= 4775.94\n"
     ]
    }
   ],
   "source": [
    "radius=int(input(\"enter radius\"))\n",
    "area__of__circle(radius)"
   ]
  },
  {
   "cell_type": "code",
   "execution_count": 40,
   "id": "8a1aa73c",
   "metadata": {},
   "outputs": [
    {
     "data": {
      "text/plain": [
       "200"
      ]
     },
     "execution_count": 40,
     "metadata": {},
     "output_type": "execute_result"
    }
   ],
   "source": [
    "round(area,3)"
   ]
  },
  {
   "cell_type": "markdown",
   "id": "879c00d5",
   "metadata": {},
   "source": [
    "\n",
    "# user defined functions parametric functions"
   ]
  },
  {
   "cell_type": "code",
   "execution_count": 8,
   "id": "323d4086",
   "metadata": {},
   "outputs": [],
   "source": [
    "def funcadd():\n",
    "    a=10\n",
    "    b=5\n",
    "    c=a+b\n",
    "    return c"
   ]
  },
  {
   "cell_type": "code",
   "execution_count": 9,
   "id": "e143df02",
   "metadata": {},
   "outputs": [
    {
     "name": "stdout",
     "output_type": "stream",
     "text": [
      "15\n"
     ]
    }
   ],
   "source": [
    "val=funcadd()\n",
    "print(val)"
   ]
  },
  {
   "cell_type": "code",
   "execution_count": 7,
   "id": "6e71933d",
   "metadata": {},
   "outputs": [
    {
     "data": {
      "text/plain": [
       "5"
      ]
     },
     "execution_count": 7,
     "metadata": {},
     "output_type": "execute_result"
    }
   ],
   "source": [
    "fadd(2,3)"
   ]
  },
  {
   "cell_type": "code",
   "execution_count": 6,
   "id": "b2a52d1a",
   "metadata": {},
   "outputs": [],
   "source": [
    "def add_f(a,b):\n",
    "    result=a+b\n",
    "    print('result',result)\n",
    "a=10\n",
    "b=20\n",
    "    "
   ]
  },
  {
   "cell_type": "code",
   "execution_count": 7,
   "id": "a2108de0",
   "metadata": {},
   "outputs": [
    {
     "name": "stdout",
     "output_type": "stream",
     "text": [
      "result 30\n"
     ]
    }
   ],
   "source": [
    "add_f(a,b)"
   ]
  },
  {
   "cell_type": "code",
   "execution_count": 12,
   "id": "63676d51",
   "metadata": {},
   "outputs": [],
   "source": [
    "def sub_f(a,b):\n",
    "    sub=a-b\n",
    "    print('sub',sub)\n",
    "a=10\n",
    "b=20\n"
   ]
  },
  {
   "cell_type": "code",
   "execution_count": 13,
   "id": "9418e226",
   "metadata": {},
   "outputs": [
    {
     "name": "stdout",
     "output_type": "stream",
     "text": [
      "sub -10\n"
     ]
    }
   ],
   "source": [
    "sub_f(a,b)"
   ]
  },
  {
   "cell_type": "code",
   "execution_count": 14,
   "id": "1e2dbf7a",
   "metadata": {},
   "outputs": [
    {
     "name": "stdout",
     "output_type": "stream",
     "text": [
      "square 100\n"
     ]
    }
   ],
   "source": [
    "def square_f(a):\n",
    "    square=a*a\n",
    "    print('square',square)\n",
    "square_f(a)"
   ]
  },
  {
   "cell_type": "code",
   "execution_count": 11,
   "id": "2dce30ae",
   "metadata": {},
   "outputs": [
    {
     "data": {
      "text/plain": [
       "20"
      ]
     },
     "execution_count": 11,
     "metadata": {},
     "output_type": "execute_result"
    }
   ],
   "source": [
    "def function_mul(a,b):\n",
    "    c=a*b\n",
    "    return  c\n",
    "myval=function_mul(4,5)\n",
    "myval"
   ]
  },
  {
   "cell_type": "code",
   "execution_count": 18,
   "id": "b3a6013e",
   "metadata": {},
   "outputs": [],
   "source": [
    "def areacircle(val):\n",
    "    ar=3.14*(val**2)\n",
    "    print(\"area of circle\",ar)\n",
    "val=4"
   ]
  },
  {
   "cell_type": "code",
   "execution_count": 19,
   "id": "2aeb1acd",
   "metadata": {},
   "outputs": [
    {
     "name": "stdout",
     "output_type": "stream",
     "text": [
      "area of circle 50.24\n"
     ]
    }
   ],
   "source": [
    "areacircle(val)"
   ]
  },
  {
   "cell_type": "code",
   "execution_count": 20,
   "id": "dd1b0d34",
   "metadata": {},
   "outputs": [],
   "source": [
    "def arearect():\n",
    "    length=10\n",
    "    breadth=20\n",
    "    return length*breadth"
   ]
  },
  {
   "cell_type": "code",
   "execution_count": 21,
   "id": "1a8fa948",
   "metadata": {},
   "outputs": [
    {
     "data": {
      "text/plain": [
       "200"
      ]
     },
     "execution_count": 21,
     "metadata": {},
     "output_type": "execute_result"
    }
   ],
   "source": [
    "arearect()"
   ]
  },
  {
   "cell_type": "code",
   "execution_count": 20,
   "id": "ca69b78a",
   "metadata": {},
   "outputs": [],
   "source": [
    "def squareroot():\n",
    "    x=25\n",
    "    y=x**(1/2)\n",
    "squareroot()\n",
    "z=squareroot()"
   ]
  },
  {
   "cell_type": "code",
   "execution_count": 25,
   "id": "ecf3f08c",
   "metadata": {},
   "outputs": [],
   "source": [
    "def fun1():\n",
    "    for i in range(1,11):\n",
    "        print(i)"
   ]
  },
  {
   "cell_type": "code",
   "execution_count": 26,
   "id": "71486431",
   "metadata": {},
   "outputs": [
    {
     "name": "stdout",
     "output_type": "stream",
     "text": [
      "1\n",
      "2\n",
      "3\n",
      "4\n",
      "5\n",
      "6\n",
      "7\n",
      "8\n",
      "9\n",
      "10\n"
     ]
    }
   ],
   "source": [
    "fun1()"
   ]
  },
  {
   "cell_type": "code",
   "execution_count": 28,
   "id": "eec1b88f",
   "metadata": {},
   "outputs": [
    {
     "name": "stdout",
     "output_type": "stream",
     "text": [
      "1\n",
      "4\n",
      "7\n",
      "10\n"
     ]
    }
   ],
   "source": [
    "def fun1():\n",
    "    for i in range(1,11,3):\n",
    "        print(i)\n",
    "fun1()"
   ]
  },
  {
   "cell_type": "code",
   "execution_count": 42,
   "id": "b9257dcc",
   "metadata": {},
   "outputs": [
    {
     "name": "stdout",
     "output_type": "stream",
     "text": [
      "enter value of X6\n",
      "6 * 1 = 6\n",
      "6 * 2 = 66\n",
      "6 * 3 = 666\n",
      "6 * 4 = 6666\n",
      "6 * 5 = 66666\n",
      "6 * 6 = 666666\n",
      "6 * 7 = 6666666\n",
      "6 * 8 = 66666666\n",
      "6 * 9 = 666666666\n"
     ]
    }
   ],
   "source": [
    "def fun3(x):\n",
    "    for i in range(1,10):\n",
    "        print(x,\"*\",i,\"=\",x*i)\n",
    "x=input('enter value of X')        \n",
    "fun3(x)"
   ]
  },
  {
   "cell_type": "code",
   "execution_count": null,
   "id": "4c7f2774",
   "metadata": {},
   "outputs": [],
   "source": [
    "def funtable(x):\n",
    "    for i in range(1,20):\n",
    "        print(x,\"*\",i,\"=\",x*i)\n",
    "x=input('enter value of table X')        \n",
    "funtable(x)"
   ]
  },
  {
   "cell_type": "code",
   "execution_count": 46,
   "id": "6bddb093",
   "metadata": {},
   "outputs": [
    {
     "name": "stdout",
     "output_type": "stream",
     "text": [
      "[1, 2, 3, 4, 5, 6]\n"
     ]
    }
   ],
   "source": [
    "def tst():\n",
    "    list1=[]\n",
    "    for i in range(1,7):\n",
    "        list1.append(i)\n",
    "    print (list1)\n",
    "tst()   "
   ]
  },
  {
   "cell_type": "code",
   "execution_count": 49,
   "id": "20860d39",
   "metadata": {},
   "outputs": [
    {
     "name": "stdout",
     "output_type": "stream",
     "text": [
      "['a', 'b', 'c']\n"
     ]
    }
   ],
   "source": [
    "def tst1():\n",
    "    list1=[]\n",
    "    for i in ['a','b','c']:\n",
    "        list1.append(i)\n",
    "    print (list1)\n",
    "tst1()   "
   ]
  },
  {
   "cell_type": "code",
   "execution_count": 10,
   "id": "b545004c",
   "metadata": {},
   "outputs": [
    {
     "name": "stdout",
     "output_type": "stream",
     "text": [
      "[0, 2, 4, 6, 8]\n"
     ]
    }
   ],
   "source": [
    "def tst1():\n",
    "    list1=[]\n",
    "    for i in range(10):\n",
    "        if i%2==0:\n",
    "            list1.append(i)\n",
    "    print (list1)\n",
    "tst1()   "
   ]
  },
  {
   "cell_type": "code",
   "execution_count": 11,
   "id": "906c1714",
   "metadata": {},
   "outputs": [
    {
     "name": "stdout",
     "output_type": "stream",
     "text": [
      "[1, 3, 5, 7, 9]\n"
     ]
    }
   ],
   "source": [
    "def tst1():\n",
    "    list1=[]\n",
    "    for i in range(10):\n",
    "        if i%2!=0:\n",
    "            list1.append(i)\n",
    "    print (list1)\n",
    "tst1()   "
   ]
  },
  {
   "cell_type": "code",
   "execution_count": 54,
   "id": "39e5b7fb",
   "metadata": {},
   "outputs": [],
   "source": [
    "def tst1():\n",
    "    list1=[]\n",
    "    list2=[]\n",
    "    for x in range(10):\n",
    "        if x%2==0:\n",
    "            cuberoot=x**(1/3)\n",
    "            list1.append(x)\n",
    "            print (list1)\n",
    "            print(\"cuberoot\",cuberoot,)\n",
    "           \n",
    "        else: \n",
    "            \n",
    "            x%2!=0\n",
    "            square=x**(2)\n",
    "            list2.append(x)\n",
    "            print(\"square\",square,)\n",
    "    "
   ]
  },
  {
   "cell_type": "code",
   "execution_count": 55,
   "id": "4f70e291",
   "metadata": {},
   "outputs": [
    {
     "name": "stdout",
     "output_type": "stream",
     "text": [
      "[0]\n",
      "cuberoot 0.0\n",
      "square 1\n",
      "[0, 2]\n",
      "cuberoot 1.2599210498948732\n",
      "square 9\n",
      "[0, 2, 4]\n",
      "cuberoot 1.5874010519681994\n",
      "square 25\n",
      "[0, 2, 4, 6]\n",
      "cuberoot 1.8171205928321397\n",
      "square 49\n",
      "[0, 2, 4, 6, 8]\n",
      "cuberoot 2.0\n",
      "square 81\n"
     ]
    }
   ],
   "source": [
    "tst1()\n"
   ]
  },
  {
   "cell_type": "code",
   "execution_count": 56,
   "id": "2f359896",
   "metadata": {},
   "outputs": [
    {
     "name": "stdout",
     "output_type": "stream",
     "text": [
      "[0]\n",
      "cuberoot 0.0\n",
      "square 1\n",
      "[0, 2]\n",
      "cuberoot 1.2599210498948732\n",
      "square 9\n",
      "[0, 2, 4]\n",
      "cuberoot 1.5874010519681994\n",
      "square 25\n",
      "[0, 2, 4, 6]\n",
      "cuberoot 1.8171205928321397\n",
      "square 49\n",
      "[0, 2, 4, 6, 8]\n",
      "cuberoot 2.0\n",
      "square 81\n"
     ]
    }
   ],
   "source": [
    "tst1()"
   ]
  },
  {
   "cell_type": "markdown",
   "id": "56790f59",
   "metadata": {},
   "source": [
    "variable num of arguments"
   ]
  },
  {
   "cell_type": "code",
   "execution_count": 62,
   "id": "3b38697c",
   "metadata": {},
   "outputs": [],
   "source": [
    "def plus(*args):\n",
    "    return sum(args)"
   ]
  },
  {
   "cell_type": "code",
   "execution_count": 58,
   "id": "d4081500",
   "metadata": {},
   "outputs": [
    {
     "data": {
      "text/plain": [
       "49"
      ]
     },
     "execution_count": 58,
     "metadata": {},
     "output_type": "execute_result"
    }
   ],
   "source": [
    "plus(9,6,7,8,9,10)"
   ]
  },
  {
   "cell_type": "code",
   "execution_count": 59,
   "id": "10ea64cc",
   "metadata": {},
   "outputs": [],
   "source": [
    "def mu(*args):\n",
    "    return max(args)"
   ]
  },
  {
   "cell_type": "code",
   "execution_count": 61,
   "id": "48a3ba5f",
   "metadata": {},
   "outputs": [
    {
     "data": {
      "text/plain": [
       "4"
      ]
     },
     "execution_count": 61,
     "metadata": {},
     "output_type": "execute_result"
    }
   ],
   "source": [
    "mu(2,3,4)"
   ]
  },
  {
   "cell_type": "code",
   "execution_count": null,
   "id": "08de7b16",
   "metadata": {},
   "outputs": [],
   "source": [
    "def plus(*args):\n",
    "    return min(args)"
   ]
  },
  {
   "cell_type": "code",
   "execution_count": null,
   "id": "1c790c4f",
   "metadata": {},
   "outputs": [],
   "source": [
    "plus(1,5,6,7)"
   ]
  },
  {
   "cell_type": "code",
   "execution_count": 8,
   "id": "e9e62cd8",
   "metadata": {},
   "outputs": [],
   "source": [
    "def sumfun(*numbers):\n",
    "    s=0\n",
    "    for n in numbers:\n",
    "        s+=n\n",
    "    return s"
   ]
  },
  {
   "cell_type": "code",
   "execution_count": 9,
   "id": "45616519",
   "metadata": {},
   "outputs": [
    {
     "name": "stdout",
     "output_type": "stream",
     "text": [
      "3\n"
     ]
    }
   ],
   "source": [
    "print (sumfun(1,2))"
   ]
  },
  {
   "cell_type": "code",
   "execution_count": 10,
   "id": "1d1a8580",
   "metadata": {},
   "outputs": [
    {
     "name": "stdout",
     "output_type": "stream",
     "text": [
      "9\n"
     ]
    }
   ],
   "source": [
    "print (sumfun(3,4,2))"
   ]
  },
  {
   "cell_type": "code",
   "execution_count": null,
   "id": "d38da49e",
   "metadata": {},
   "outputs": [],
   "source": []
  }
 ],
 "metadata": {
  "kernelspec": {
   "display_name": "Python 3 (ipykernel)",
   "language": "python",
   "name": "python3"
  },
  "language_info": {
   "codemirror_mode": {
    "name": "ipython",
    "version": 3
   },
   "file_extension": ".py",
   "mimetype": "text/x-python",
   "name": "python",
   "nbconvert_exporter": "python",
   "pygments_lexer": "ipython3",
   "version": "3.9.7"
  }
 },
 "nbformat": 4,
 "nbformat_minor": 5
}
