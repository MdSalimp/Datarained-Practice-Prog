{
 "cells": [
  {
   "cell_type": "markdown",
   "id": "c8b543df",
   "metadata": {},
   "source": [
    "# Exceptional handling"
   ]
  },
  {
   "cell_type": "markdown",
   "id": "aedc6476",
   "metadata": {},
   "source": [
    "syntax errors"
   ]
  },
  {
   "cell_type": "code",
   "execution_count": 4,
   "id": "b915c1ff",
   "metadata": {},
   "outputs": [
    {
     "ename": "ZeroDivisionError",
     "evalue": "division by zero",
     "output_type": "error",
     "traceback": [
      "\u001b[1;31m---------------------------------------------------------------------------\u001b[0m",
      "\u001b[1;31mZeroDivisionError\u001b[0m                         Traceback (most recent call last)",
      "\u001b[1;32m~\\AppData\\Local\\Temp/ipykernel_27080/2214808741.py\u001b[0m in \u001b[0;36m<module>\u001b[1;34m\u001b[0m\n\u001b[1;32m----> 1\u001b[1;33m \u001b[1;36m56\u001b[0m\u001b[1;33m/\u001b[0m\u001b[1;36m0\u001b[0m\u001b[1;33m\u001b[0m\u001b[1;33m\u001b[0m\u001b[0m\n\u001b[0m",
      "\u001b[1;31mZeroDivisionError\u001b[0m: division by zero"
     ]
    }
   ],
   "source": [
    "56/0"
   ]
  },
  {
   "cell_type": "code",
   "execution_count": 25,
   "id": "63e07637",
   "metadata": {},
   "outputs": [
    {
     "data": {
      "text/plain": [
       "28.0"
      ]
     },
     "execution_count": 25,
     "metadata": {},
     "output_type": "execute_result"
    }
   ],
   "source": [
    "56/2\n"
   ]
  },
  {
   "cell_type": "code",
   "execution_count": 24,
   "id": "d228eb26",
   "metadata": {},
   "outputs": [
    {
     "name": "stdout",
     "output_type": "stream",
     "text": [
      "1\n",
      "2\n",
      "3\n",
      "4\n"
     ]
    }
   ],
   "source": [
    "for i in [1,2,3,4]:\n",
    "    print(i)\n"
   ]
  },
  {
   "cell_type": "code",
   "execution_count": 23,
   "id": "4492f5f1",
   "metadata": {},
   "outputs": [
    {
     "ename": "NameError",
     "evalue": "name 'ptr' is not defined",
     "output_type": "error",
     "traceback": [
      "\u001b[1;31m---------------------------------------------------------------------------\u001b[0m",
      "\u001b[1;31mNameError\u001b[0m                                 Traceback (most recent call last)",
      "\u001b[1;32m~\\AppData\\Local\\Temp/ipykernel_10492/2003933426.py\u001b[0m in \u001b[0;36m<module>\u001b[1;34m\u001b[0m\n\u001b[1;32m----> 1\u001b[1;33m \u001b[0mprint\u001b[0m\u001b[1;33m(\u001b[0m\u001b[0mptr\u001b[0m\u001b[1;33m)\u001b[0m\u001b[1;33m\u001b[0m\u001b[1;33m\u001b[0m\u001b[0m\n\u001b[0m",
      "\u001b[1;31mNameError\u001b[0m: name 'ptr' is not defined"
     ]
    }
   ],
   "source": [
    "print(ptr)"
   ]
  },
  {
   "cell_type": "code",
   "execution_count": 26,
   "id": "0f9cf6ce",
   "metadata": {},
   "outputs": [
    {
     "name": "stdout",
     "output_type": "stream",
     "text": [
      "enter th value60\n",
      "enter the value5\n"
     ]
    },
    {
     "ename": "TypeError",
     "evalue": "unsupported operand type(s) for /: 'str' and 'str'",
     "output_type": "error",
     "traceback": [
      "\u001b[1;31m---------------------------------------------------------------------------\u001b[0m",
      "\u001b[1;31mTypeError\u001b[0m                                 Traceback (most recent call last)",
      "\u001b[1;32m~\\AppData\\Local\\Temp/ipykernel_10492/576000662.py\u001b[0m in \u001b[0;36m<module>\u001b[1;34m\u001b[0m\n\u001b[0;32m      1\u001b[0m \u001b[0mnp1\u001b[0m\u001b[1;33m=\u001b[0m\u001b[0minput\u001b[0m\u001b[1;33m(\u001b[0m\u001b[1;34m'enter th value'\u001b[0m\u001b[1;33m)\u001b[0m\u001b[1;33m\u001b[0m\u001b[1;33m\u001b[0m\u001b[0m\n\u001b[0;32m      2\u001b[0m \u001b[0mnp2\u001b[0m\u001b[1;33m=\u001b[0m\u001b[0minput\u001b[0m\u001b[1;33m(\u001b[0m\u001b[1;34m'enter the value'\u001b[0m\u001b[1;33m)\u001b[0m\u001b[1;33m\u001b[0m\u001b[1;33m\u001b[0m\u001b[0m\n\u001b[1;32m----> 3\u001b[1;33m \u001b[0mnp1\u001b[0m\u001b[1;33m/\u001b[0m\u001b[0mnp2\u001b[0m\u001b[1;33m\u001b[0m\u001b[1;33m\u001b[0m\u001b[0m\n\u001b[0m",
      "\u001b[1;31mTypeError\u001b[0m: unsupported operand type(s) for /: 'str' and 'str'"
     ]
    }
   ],
   "source": [
    "np1=input('enter th value')\n",
    "np2=input('enter the value')\n",
    "np1/np2"
   ]
  },
  {
   "cell_type": "code",
   "execution_count": null,
   "id": "ce3b5f86",
   "metadata": {},
   "outputs": [],
   "source": []
  },
  {
   "cell_type": "code",
   "execution_count": null,
   "id": "9809caac",
   "metadata": {},
   "outputs": [],
   "source": []
  },
  {
   "cell_type": "code",
   "execution_count": 5,
   "id": "67243de6",
   "metadata": {},
   "outputs": [
    {
     "ename": "TypeError",
     "evalue": "can only concatenate str (not \"int\") to str",
     "output_type": "error",
     "traceback": [
      "\u001b[1;31m---------------------------------------------------------------------------\u001b[0m",
      "\u001b[1;31mTypeError\u001b[0m                                 Traceback (most recent call last)",
      "\u001b[1;32m~\\AppData\\Local\\Temp/ipykernel_27080/1074455573.py\u001b[0m in \u001b[0;36m<module>\u001b[1;34m\u001b[0m\n\u001b[1;32m----> 1\u001b[1;33m \u001b[1;34m'5'\u001b[0m\u001b[1;33m+\u001b[0m\u001b[1;36m7\u001b[0m\u001b[1;33m\u001b[0m\u001b[1;33m\u001b[0m\u001b[0m\n\u001b[0m",
      "\u001b[1;31mTypeError\u001b[0m: can only concatenate str (not \"int\") to str"
     ]
    }
   ],
   "source": [
    "'5'+7"
   ]
  },
  {
   "cell_type": "markdown",
   "id": "fcd4c202",
   "metadata": {},
   "source": [
    "# Exceptions"
   ]
  },
  {
   "cell_type": "code",
   "execution_count": 6,
   "id": "47a63086",
   "metadata": {},
   "outputs": [
    {
     "ename": "ZeroDivisionError",
     "evalue": "division by zero",
     "output_type": "error",
     "traceback": [
      "\u001b[1;31m---------------------------------------------------------------------------\u001b[0m",
      "\u001b[1;31mZeroDivisionError\u001b[0m                         Traceback (most recent call last)",
      "\u001b[1;32m~\\AppData\\Local\\Temp/ipykernel_27080/530406163.py\u001b[0m in \u001b[0;36m<module>\u001b[1;34m\u001b[0m\n\u001b[1;32m----> 1\u001b[1;33m \u001b[1;36m10\u001b[0m\u001b[1;33m/\u001b[0m\u001b[1;36m0\u001b[0m\u001b[1;33m\u001b[0m\u001b[1;33m\u001b[0m\u001b[0m\n\u001b[0m",
      "\u001b[1;31mZeroDivisionError\u001b[0m: division by zero"
     ]
    }
   ],
   "source": [
    "10/0"
   ]
  },
  {
   "cell_type": "code",
   "execution_count": 7,
   "id": "f8cd9259",
   "metadata": {},
   "outputs": [
    {
     "ename": "NameError",
     "evalue": "name 'number' is not defined",
     "output_type": "error",
     "traceback": [
      "\u001b[1;31m---------------------------------------------------------------------------\u001b[0m",
      "\u001b[1;31mNameError\u001b[0m                                 Traceback (most recent call last)",
      "\u001b[1;32m~\\AppData\\Local\\Temp/ipykernel_27080/1799749339.py\u001b[0m in \u001b[0;36m<module>\u001b[1;34m\u001b[0m\n\u001b[1;32m----> 1\u001b[1;33m \u001b[1;36m8\u001b[0m\u001b[1;33m+\u001b[0m\u001b[0mnumber\u001b[0m\u001b[1;33m*\u001b[0m\u001b[1;36m2\u001b[0m\u001b[1;33m\u001b[0m\u001b[1;33m\u001b[0m\u001b[0m\n\u001b[0m",
      "\u001b[1;31mNameError\u001b[0m: name 'number' is not defined"
     ]
    }
   ],
   "source": [
    "8+number*2"
   ]
  },
  {
   "cell_type": "code",
   "execution_count": 8,
   "id": "68ae60ea",
   "metadata": {},
   "outputs": [
    {
     "ename": "TypeError",
     "evalue": "can only concatenate str (not \"int\") to str",
     "output_type": "error",
     "traceback": [
      "\u001b[1;31m---------------------------------------------------------------------------\u001b[0m",
      "\u001b[1;31mTypeError\u001b[0m                                 Traceback (most recent call last)",
      "\u001b[1;32m~\\AppData\\Local\\Temp/ipykernel_27080/3639722995.py\u001b[0m in \u001b[0;36m<module>\u001b[1;34m\u001b[0m\n\u001b[1;32m----> 1\u001b[1;33m \u001b[1;34m'9'\u001b[0m\u001b[1;33m+\u001b[0m\u001b[1;36m9\u001b[0m\u001b[1;33m\u001b[0m\u001b[1;33m\u001b[0m\u001b[0m\n\u001b[0m",
      "\u001b[1;31mTypeError\u001b[0m: can only concatenate str (not \"int\") to str"
     ]
    }
   ],
   "source": [
    "'9'+9"
   ]
  },
  {
   "cell_type": "markdown",
   "id": "6ec60ef4",
   "metadata": {},
   "source": [
    "handling exceptions"
   ]
  },
  {
   "cell_type": "code",
   "execution_count": 27,
   "id": "09743ce0",
   "metadata": {},
   "outputs": [
    {
     "name": "stdout",
     "output_type": "stream",
     "text": [
      "handling run time error: division by zero\n"
     ]
    }
   ],
   "source": [
    "try:\n",
    "     79/0\n",
    "except ZeroDivisionError as err:\n",
    "    print('handling run time error:',err)"
   ]
  },
  {
   "cell_type": "code",
   "execution_count": 29,
   "id": "96fc30a7",
   "metadata": {},
   "outputs": [
    {
     "name": "stdout",
     "output_type": "stream",
     "text": [
      "handling run time error: name 'm' is not defined\n"
     ]
    }
   ],
   "source": [
    "try:\n",
    "    8+m*2\n",
    "except NameError as err:\n",
    "    print('handling run time error:',err)"
   ]
  },
  {
   "cell_type": "code",
   "execution_count": 28,
   "id": "5edabbc0",
   "metadata": {},
   "outputs": [],
   "source": [
    "def divfun():\n",
    "    a=80\n",
    "    b=0\n",
    "    c=a/b\n",
    "    print(\"the value of c=\",c)"
   ]
  },
  {
   "cell_type": "code",
   "execution_count": 32,
   "id": "bce3abc0",
   "metadata": {},
   "outputs": [
    {
     "name": "stdout",
     "output_type": "stream",
     "text": [
      "handling run time error: division by zero\n"
     ]
    }
   ],
   "source": [
    "try:\n",
    "    divfun()\n",
    "except ZeroDivisionError as err:\n",
    "    print('handling run time error:',err)"
   ]
  },
  {
   "cell_type": "code",
   "execution_count": 54,
   "id": "c35d8c64",
   "metadata": {},
   "outputs": [],
   "source": [
    "def divide(x,y):\n",
    "    try:\n",
    "        result=x/y\n",
    "    except ZeroDivisionError:\n",
    "        print(\"division by zero\")\n",
    "    else:\n",
    "          print(\"result is\",result)\n",
    "    finally:\n",
    "        print(\"executing finally clause\")"
   ]
  },
  {
   "cell_type": "code",
   "execution_count": 55,
   "id": "116ca696",
   "metadata": {},
   "outputs": [
    {
     "name": "stdout",
     "output_type": "stream",
     "text": [
      "result is 10.0\n",
      "executing finally clause\n"
     ]
    }
   ],
   "source": [
    "divide(50,5)"
   ]
  },
  {
   "cell_type": "code",
   "execution_count": 56,
   "id": "a68bb8c9",
   "metadata": {},
   "outputs": [
    {
     "name": "stdout",
     "output_type": "stream",
     "text": [
      "division by zero\n",
      "executing finally clause\n"
     ]
    }
   ],
   "source": [
    "divide(30,0)"
   ]
  },
  {
   "cell_type": "markdown",
   "id": "2cd761b7",
   "metadata": {},
   "source": [
    "# class"
   ]
  },
  {
   "cell_type": "code",
   "execution_count": 30,
   "id": "4eb39678",
   "metadata": {},
   "outputs": [],
   "source": [
    "class car:\n",
    "    year=2019\n",
    "    mpg=2\n",
    "    speed=120\n",
    "    def accelerate(self):\n",
    "        return self.speed\n",
    "    def brake(self):\n",
    "        return self.mpg"
   ]
  },
  {
   "cell_type": "code",
   "execution_count": 31,
   "id": "7f3355ea",
   "metadata": {},
   "outputs": [
    {
     "ename": "TypeError",
     "evalue": "accelerate() missing 1 required positional argument: 'self'",
     "output_type": "error",
     "traceback": [
      "\u001b[1;31m---------------------------------------------------------------------------\u001b[0m",
      "\u001b[1;31mTypeError\u001b[0m                                 Traceback (most recent call last)",
      "\u001b[1;32m~\\AppData\\Local\\Temp/ipykernel_10492/680925324.py\u001b[0m in \u001b[0;36m<module>\u001b[1;34m\u001b[0m\n\u001b[1;32m----> 1\u001b[1;33m \u001b[0mcar\u001b[0m\u001b[1;33m.\u001b[0m\u001b[0maccelerate\u001b[0m\u001b[1;33m(\u001b[0m\u001b[1;33m)\u001b[0m\u001b[1;33m\u001b[0m\u001b[1;33m\u001b[0m\u001b[0m\n\u001b[0m",
      "\u001b[1;31mTypeError\u001b[0m: accelerate() missing 1 required positional argument: 'self'"
     ]
    }
   ],
   "source": [
    "car.accelerate()"
   ]
  },
  {
   "cell_type": "code",
   "execution_count": 3,
   "id": "a6530d0f",
   "metadata": {},
   "outputs": [
    {
     "data": {
      "text/plain": [
       "120"
      ]
     },
     "execution_count": 3,
     "metadata": {},
     "output_type": "execute_result"
    }
   ],
   "source": [
    "car1=car()\n",
    "car1.accelerate()"
   ]
  },
  {
   "cell_type": "code",
   "execution_count": 60,
   "id": "3ef2f21d",
   "metadata": {},
   "outputs": [
    {
     "data": {
      "text/plain": [
       "2"
      ]
     },
     "execution_count": 60,
     "metadata": {},
     "output_type": "execute_result"
    }
   ],
   "source": [
    "car1.brake()"
   ]
  },
  {
   "cell_type": "code",
   "execution_count": 61,
   "id": "e058bb31",
   "metadata": {},
   "outputs": [
    {
     "name": "stdout",
     "output_type": "stream",
     "text": [
      "2019\n",
      "2\n",
      "120\n"
     ]
    }
   ],
   "source": [
    "print(car1.year)\n",
    "print(car1.mpg)\n",
    "print(car1.speed)"
   ]
  },
  {
   "cell_type": "code",
   "execution_count": 62,
   "id": "6836fb63",
   "metadata": {},
   "outputs": [
    {
     "data": {
      "text/plain": [
       "120"
      ]
     },
     "execution_count": 62,
     "metadata": {},
     "output_type": "execute_result"
    }
   ],
   "source": [
    "car2=car()\n",
    "car2.accelerate()"
   ]
  },
  {
   "cell_type": "code",
   "execution_count": 16,
   "id": "5be661c5",
   "metadata": {},
   "outputs": [],
   "source": [
    "class student:\n",
    "    \n",
    "    def __init__(self,id,rollno,name):\n",
    "        self.id=id\n",
    "        self.rollno=rollno\n",
    "        self.name=name\n",
    "    \n",
    "    def display(self):\n",
    "        print(\"ID=\",self.id,\"rollno\",self.rollno,\"Name is\",self.name)"
   ]
  },
  {
   "cell_type": "code",
   "execution_count": 17,
   "id": "d8ab9bc0",
   "metadata": {},
   "outputs": [
    {
     "name": "stdout",
     "output_type": "stream",
     "text": [
      "ID= 101 rollno 12345 Name is sam\n"
     ]
    }
   ],
   "source": [
    "p1=student(101,12345,\"sam\")\n",
    "p1.display()"
   ]
  },
  {
   "cell_type": "code",
   "execution_count": 19,
   "id": "65ac8b6d",
   "metadata": {},
   "outputs": [
    {
     "name": "stdout",
     "output_type": "stream",
     "text": [
      "ID= 101 Name is sam\n",
      "ID= 102 Name is jam\n"
     ]
    }
   ],
   "source": [
    "class Person:\n",
    "    \n",
    "    def __init__(self,id,name):\n",
    "        self.id=id\n",
    "        self.name=name\n",
    "        \n",
    "    def display(self):\n",
    "            print(\"ID=\",self.id,\"Name is\",self.name)      \n",
    "            \n",
    "p1=Person(101,\"sam\")\n",
    "p1.display()\n",
    "\n",
    "p2=Person(102,\"jam\")\n",
    "p2.display()"
   ]
  },
  {
   "cell_type": "code",
   "execution_count": null,
   "id": "23062f59",
   "metadata": {},
   "outputs": [],
   "source": []
  }
 ],
 "metadata": {
  "kernelspec": {
   "display_name": "Python 3 (ipykernel)",
   "language": "python",
   "name": "python3"
  },
  "language_info": {
   "codemirror_mode": {
    "name": "ipython",
    "version": 3
   },
   "file_extension": ".py",
   "mimetype": "text/x-python",
   "name": "python",
   "nbconvert_exporter": "python",
   "pygments_lexer": "ipython3",
   "version": "3.9.7"
  }
 },
 "nbformat": 4,
 "nbformat_minor": 5
}
