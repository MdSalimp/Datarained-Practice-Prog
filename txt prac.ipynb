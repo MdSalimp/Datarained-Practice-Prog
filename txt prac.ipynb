{
 "cells": [
  {
   "cell_type": "code",
   "execution_count": 24,
   "id": "2d532e25",
   "metadata": {},
   "outputs": [],
   "source": [
    "savefile=open('c:\\\\python\\jan22file.txt','w')"
   ]
  },
  {
   "cell_type": "code",
   "execution_count": 25,
   "id": "08783b68",
   "metadata": {},
   "outputs": [
    {
     "data": {
      "text/plain": [
       "22"
      ]
     },
     "execution_count": 25,
     "metadata": {},
     "output_type": "execute_result"
    }
   ],
   "source": [
    "savefile.write(\"this is the first line\")"
   ]
  },
  {
   "cell_type": "code",
   "execution_count": 26,
   "id": "8ec668a7",
   "metadata": {},
   "outputs": [],
   "source": [
    "savefile.close()"
   ]
  },
  {
   "cell_type": "code",
   "execution_count": 27,
   "id": "a25a6115",
   "metadata": {},
   "outputs": [],
   "source": [
    "readme=open('c:\\\\python\\jan22file.txt','r')"
   ]
  },
  {
   "cell_type": "code",
   "execution_count": 28,
   "id": "9dfd5cdb",
   "metadata": {},
   "outputs": [
    {
     "name": "stdout",
     "output_type": "stream",
     "text": [
      "this is the first line\n"
     ]
    }
   ],
   "source": [
    "print(readme.read())"
   ]
  },
  {
   "cell_type": "code",
   "execution_count": 29,
   "id": "a81ae5c7",
   "metadata": {},
   "outputs": [],
   "source": [
    "readme.close()"
   ]
  },
  {
   "cell_type": "code",
   "execution_count": 30,
   "id": "d20d32cb",
   "metadata": {},
   "outputs": [],
   "source": [
    "appendfile=open('c:\\\\python\\jan22file.txt','a')"
   ]
  },
  {
   "cell_type": "code",
   "execution_count": 31,
   "id": "91159373",
   "metadata": {},
   "outputs": [
    {
     "data": {
      "text/plain": [
       "19"
      ]
     },
     "execution_count": 31,
     "metadata": {},
     "output_type": "execute_result"
    }
   ],
   "source": [
    "appendfile.write(\"\\n this is next line\")"
   ]
  },
  {
   "cell_type": "code",
   "execution_count": 32,
   "id": "071b841c",
   "metadata": {},
   "outputs": [],
   "source": [
    "appendfile.close()"
   ]
  },
  {
   "cell_type": "code",
   "execution_count": 33,
   "id": "d9ee4d89",
   "metadata": {},
   "outputs": [],
   "source": [
    "readme=open('c:\\\\python\\jan22file.txt','r')"
   ]
  },
  {
   "cell_type": "code",
   "execution_count": 34,
   "id": "9e539d3c",
   "metadata": {},
   "outputs": [
    {
     "name": "stdout",
     "output_type": "stream",
     "text": [
      "this is the first line\n",
      " this is next line\n"
     ]
    }
   ],
   "source": [
    "print(readme.read())"
   ]
  },
  {
   "cell_type": "code",
   "execution_count": 35,
   "id": "e66b557c",
   "metadata": {},
   "outputs": [],
   "source": [
    "readme.close()"
   ]
  },
  {
   "cell_type": "code",
   "execution_count": null,
   "id": "48573458",
   "metadata": {},
   "outputs": [],
   "source": []
  }
 ],
 "metadata": {
  "kernelspec": {
   "display_name": "Python 3 (ipykernel)",
   "language": "python",
   "name": "python3"
  },
  "language_info": {
   "codemirror_mode": {
    "name": "ipython",
    "version": 3
   },
   "file_extension": ".py",
   "mimetype": "text/x-python",
   "name": "python",
   "nbconvert_exporter": "python",
   "pygments_lexer": "ipython3",
   "version": "3.9.7"
  }
 },
 "nbformat": 4,
 "nbformat_minor": 5
}
