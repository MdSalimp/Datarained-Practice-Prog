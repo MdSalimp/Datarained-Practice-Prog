{
 "cells": [
  {
   "cell_type": "code",
   "execution_count": 1,
   "id": "61eb62d7",
   "metadata": {},
   "outputs": [],
   "source": [
    "import sqlite3"
   ]
  },
  {
   "cell_type": "code",
   "execution_count": 2,
   "id": "28c7a405",
   "metadata": {},
   "outputs": [],
   "source": [
    "db=sqlite3.connect(\"student_course_database9.db\")"
   ]
  },
  {
   "cell_type": "code",
   "execution_count": 6,
   "id": "6d1440e8",
   "metadata": {},
   "outputs": [],
   "source": [
    "cur=db.cursor()"
   ]
  },
  {
   "cell_type": "code",
   "execution_count": 7,
   "id": "eef1e4b0",
   "metadata": {},
   "outputs": [
    {
     "ename": "OperationalError",
     "evalue": "table course already exists",
     "output_type": "error",
     "traceback": [
      "\u001b[1;31m---------------------------------------------------------------------------\u001b[0m",
      "\u001b[1;31mOperationalError\u001b[0m                          Traceback (most recent call last)",
      "\u001b[1;32m~\\AppData\\Local\\Temp/ipykernel_7420/2944479973.py\u001b[0m in \u001b[0;36m<module>\u001b[1;34m\u001b[0m\n\u001b[1;32m----> 1\u001b[1;33m \u001b[0mcur\u001b[0m\u001b[1;33m.\u001b[0m\u001b[0mexecute\u001b[0m\u001b[1;33m(\u001b[0m\u001b[1;34m\"create table course(courseid int primary key,coursename text,duration int)\"\u001b[0m\u001b[1;33m)\u001b[0m\u001b[1;33m\u001b[0m\u001b[1;33m\u001b[0m\u001b[0m\n\u001b[0m",
      "\u001b[1;31mOperationalError\u001b[0m: table course already exists"
     ]
    }
   ],
   "source": [
    "cur.execute(\"create table course(courseid int primary key,coursename text,duration int)\")"
   ]
  },
  {
   "cell_type": "code",
   "execution_count": 9,
   "id": "494f6185",
   "metadata": {},
   "outputs": [
    {
     "ename": "OperationalError",
     "evalue": "table student already exists",
     "output_type": "error",
     "traceback": [
      "\u001b[1;31m---------------------------------------------------------------------------\u001b[0m",
      "\u001b[1;31mOperationalError\u001b[0m                          Traceback (most recent call last)",
      "\u001b[1;32m~\\AppData\\Local\\Temp/ipykernel_7420/309704435.py\u001b[0m in \u001b[0;36m<module>\u001b[1;34m\u001b[0m\n\u001b[1;32m----> 1\u001b[1;33m \u001b[0mcur\u001b[0m\u001b[1;33m.\u001b[0m\u001b[0mexecute\u001b[0m\u001b[1;33m(\u001b[0m\u001b[1;34m\"create table student(roll_no int primary key,studentname text,age int,courseid int,foreign key(courseid) references course(courseid))\"\u001b[0m\u001b[1;33m)\u001b[0m\u001b[1;33m\u001b[0m\u001b[1;33m\u001b[0m\u001b[0m\n\u001b[0m",
      "\u001b[1;31mOperationalError\u001b[0m: table student already exists"
     ]
    }
   ],
   "source": [
    "cur.execute(\"create table student(roll_no int primary key,studentname text,age int,courseid int,foreign key(courseid) references course(courseid))\")"
   ]
  },
  {
   "cell_type": "code",
   "execution_count": 10,
   "id": "1f6a631e",
   "metadata": {},
   "outputs": [
    {
     "data": {
      "text/plain": [
       "<sqlite3.Cursor at 0x190341a4340>"
      ]
     },
     "execution_count": 10,
     "metadata": {},
     "output_type": "execute_result"
    }
   ],
   "source": [
    "cur.execute(\"insert into course values(1,'DS',12),(2,'fs',06),(3,'java',9)\")"
   ]
  },
  {
   "cell_type": "code",
   "execution_count": 11,
   "id": "92bdeaa2",
   "metadata": {},
   "outputs": [
    {
     "name": "stdout",
     "output_type": "stream",
     "text": [
      "3 Record(s) inserted\n"
     ]
    }
   ],
   "source": [
    "print (cur.rowcount,\"Record(s) inserted\")"
   ]
  },
  {
   "cell_type": "code",
   "execution_count": 12,
   "id": "98cd9ea5",
   "metadata": {},
   "outputs": [
    {
     "data": {
      "text/plain": [
       "<sqlite3.Cursor at 0x190341a4340>"
      ]
     },
     "execution_count": 12,
     "metadata": {},
     "output_type": "execute_result"
    }
   ],
   "source": [
    "cur.execute(\"insert into student values(1,'jac',12,1),(2,'fui',06,2),(3,'jam',9,3)\")"
   ]
  },
  {
   "cell_type": "code",
   "execution_count": 13,
   "id": "e15bb34d",
   "metadata": {},
   "outputs": [
    {
     "data": {
      "text/plain": [
       "[(1, 'jac', 12, 1), (2, 'fui', 6, 2), (3, 'jam', 9, 3)]"
      ]
     },
     "execution_count": 13,
     "metadata": {},
     "output_type": "execute_result"
    }
   ],
   "source": [
    "results=cur.execute(\"select * from student\")\n",
    "results.fetchall()\n"
   ]
  },
  {
   "cell_type": "code",
   "execution_count": 14,
   "id": "23a17781",
   "metadata": {},
   "outputs": [
    {
     "data": {
      "text/plain": [
       "[(1, 'DS', 12), (2, 'fs', 6), (3, 'java', 9)]"
      ]
     },
     "execution_count": 14,
     "metadata": {},
     "output_type": "execute_result"
    }
   ],
   "source": [
    "results=cur.execute(\"select * from course\")\n",
    "results.fetchall()"
   ]
  },
  {
   "cell_type": "code",
   "execution_count": 15,
   "id": "474c3d0d",
   "metadata": {},
   "outputs": [
    {
     "data": {
      "text/plain": [
       "[(1,)]"
      ]
     },
     "execution_count": 15,
     "metadata": {},
     "output_type": "execute_result"
    }
   ],
   "source": [
    "results=cur.execute(\"select courseid from course where coursename='DS'\")\n",
    "results.fetchall()"
   ]
  },
  {
   "cell_type": "code",
   "execution_count": 16,
   "id": "bb5a9d98",
   "metadata": {},
   "outputs": [
    {
     "data": {
      "text/plain": [
       "[(1, 'jac', 12, 1)]"
      ]
     },
     "execution_count": 16,
     "metadata": {},
     "output_type": "execute_result"
    }
   ],
   "source": [
    "results=cur.execute('select * from student where courseid=(select courseid from course where coursename=\"DS\")')\n",
    "results.fetchall()"
   ]
  },
  {
   "cell_type": "code",
   "execution_count": 17,
   "id": "b1074d06",
   "metadata": {},
   "outputs": [
    {
     "data": {
      "text/plain": [
       "[(3, 'jam', 9, 3)]"
      ]
     },
     "execution_count": 17,
     "metadata": {},
     "output_type": "execute_result"
    }
   ],
   "source": [
    "results=cur.execute('select * from student where courseid=(select courseid from course where coursename=\"java\")')\n",
    "results.fetchall()"
   ]
  },
  {
   "cell_type": "markdown",
   "id": "c331d37f",
   "metadata": {},
   "source": [
    "inner join"
   ]
  },
  {
   "cell_type": "code",
   "execution_count": 30,
   "id": "0c3f7eb4",
   "metadata": {},
   "outputs": [
    {
     "name": "stdout",
     "output_type": "stream",
     "text": [
      "(1, 'jac', 1, 'DS')\n",
      "(2, 'fui', 2, 'fs')\n",
      "(3, 'jam', 3, 'java')\n"
     ]
    }
   ],
   "source": [
    "sql=(\"SELECT student.roll_no,student.studentname,course.courseid,course.coursename FROM student INNER JOIN course ON student.courseid=course.courseid\")\n",
    "results=cur.execute(sql)\n",
    "for row in results:\n",
    "    print(row)"
   ]
  },
  {
   "cell_type": "code",
   "execution_count": 31,
   "id": "854793d9",
   "metadata": {},
   "outputs": [
    {
     "name": "stdout",
     "output_type": "stream",
     "text": [
      "(1, 'jac', 1, 'DS')\n",
      "(2, 'fui', 2, 'fs')\n",
      "(3, 'jam', 3, 'java')\n"
     ]
    }
   ],
   "source": [
    "sql=(\"SELECT student.roll_no,student.studentname,course.courseid,course.coursename FROM student LEFT JOIN course ON student.courseid=course.courseid\")\n",
    "results=cur.execute(sql)\n",
    "for row in results:\n",
    "    print(row)"
   ]
  },
  {
   "cell_type": "code",
   "execution_count": 32,
   "id": "34200da6",
   "metadata": {},
   "outputs": [
    {
     "ename": "OperationalError",
     "evalue": "RIGHT and FULL OUTER JOINs are not currently supported",
     "output_type": "error",
     "traceback": [
      "\u001b[1;31m---------------------------------------------------------------------------\u001b[0m",
      "\u001b[1;31mOperationalError\u001b[0m                          Traceback (most recent call last)",
      "\u001b[1;32m~\\AppData\\Local\\Temp/ipykernel_7420/1999018647.py\u001b[0m in \u001b[0;36m<module>\u001b[1;34m\u001b[0m\n\u001b[0;32m      1\u001b[0m \u001b[0msql\u001b[0m\u001b[1;33m=\u001b[0m\u001b[1;33m(\u001b[0m\u001b[1;34m\"SELECT student.roll_no,student.studentname,course.courseid,course.coursename FROM student RIGHT JOIN course ON student.courseid=course.courseid\"\u001b[0m\u001b[1;33m)\u001b[0m\u001b[1;33m\u001b[0m\u001b[1;33m\u001b[0m\u001b[0m\n\u001b[1;32m----> 2\u001b[1;33m \u001b[0mresults\u001b[0m\u001b[1;33m=\u001b[0m\u001b[0mcur\u001b[0m\u001b[1;33m.\u001b[0m\u001b[0mexecute\u001b[0m\u001b[1;33m(\u001b[0m\u001b[0msql\u001b[0m\u001b[1;33m)\u001b[0m\u001b[1;33m\u001b[0m\u001b[1;33m\u001b[0m\u001b[0m\n\u001b[0m\u001b[0;32m      3\u001b[0m \u001b[1;32mfor\u001b[0m \u001b[0mrow\u001b[0m \u001b[1;32min\u001b[0m \u001b[0mresults\u001b[0m\u001b[1;33m:\u001b[0m\u001b[1;33m\u001b[0m\u001b[1;33m\u001b[0m\u001b[0m\n\u001b[0;32m      4\u001b[0m     \u001b[0mprint\u001b[0m\u001b[1;33m(\u001b[0m\u001b[0mrow\u001b[0m\u001b[1;33m)\u001b[0m\u001b[1;33m\u001b[0m\u001b[1;33m\u001b[0m\u001b[0m\n",
      "\u001b[1;31mOperationalError\u001b[0m: RIGHT and FULL OUTER JOINs are not currently supported"
     ]
    }
   ],
   "source": [
    "sql=(\"SELECT student.roll_no,student.studentname,course.courseid,course.coursename FROM student RIGHT JOIN course ON student.courseid=course.courseid\")\n",
    "results=cur.execute(sql)\n",
    "for row in results:\n",
    "    print(row)"
   ]
  },
  {
   "cell_type": "code",
   "execution_count": 33,
   "id": "b7e11ae0",
   "metadata": {},
   "outputs": [
    {
     "ename": "OperationalError",
     "evalue": "RIGHT and FULL OUTER JOINs are not currently supported",
     "output_type": "error",
     "traceback": [
      "\u001b[1;31m---------------------------------------------------------------------------\u001b[0m",
      "\u001b[1;31mOperationalError\u001b[0m                          Traceback (most recent call last)",
      "\u001b[1;32m~\\AppData\\Local\\Temp/ipykernel_7420/4195696617.py\u001b[0m in \u001b[0;36m<module>\u001b[1;34m\u001b[0m\n\u001b[0;32m      1\u001b[0m \u001b[0msql\u001b[0m\u001b[1;33m=\u001b[0m\u001b[1;33m(\u001b[0m\u001b[1;34m\"SELECT student.roll_no,student.studentname,course.courseid,course.coursename FROM student FULL join course ON student.courseid=course.courseid\"\u001b[0m\u001b[1;33m)\u001b[0m\u001b[1;33m\u001b[0m\u001b[1;33m\u001b[0m\u001b[0m\n\u001b[1;32m----> 2\u001b[1;33m \u001b[0mresults\u001b[0m\u001b[1;33m=\u001b[0m\u001b[0mcur\u001b[0m\u001b[1;33m.\u001b[0m\u001b[0mexecute\u001b[0m\u001b[1;33m(\u001b[0m\u001b[0msql\u001b[0m\u001b[1;33m)\u001b[0m\u001b[1;33m\u001b[0m\u001b[1;33m\u001b[0m\u001b[0m\n\u001b[0m\u001b[0;32m      3\u001b[0m \u001b[1;32mfor\u001b[0m \u001b[0mrow\u001b[0m \u001b[1;32min\u001b[0m \u001b[0mresults\u001b[0m\u001b[1;33m:\u001b[0m\u001b[1;33m\u001b[0m\u001b[1;33m\u001b[0m\u001b[0m\n\u001b[0;32m      4\u001b[0m     \u001b[0mprint\u001b[0m\u001b[1;33m(\u001b[0m\u001b[0mrow\u001b[0m\u001b[1;33m)\u001b[0m\u001b[1;33m\u001b[0m\u001b[1;33m\u001b[0m\u001b[0m\n",
      "\u001b[1;31mOperationalError\u001b[0m: RIGHT and FULL OUTER JOINs are not currently supported"
     ]
    }
   ],
   "source": [
    "sql=(\"SELECT student.roll_no,student.studentname,course.courseid,course.coursename FROM student FULL join course ON student.courseid=course.courseid\")\n",
    "results=cur.execute(sql)\n",
    "for row in results:\n",
    "    print(row)"
   ]
  },
  {
   "cell_type": "code",
   "execution_count": null,
   "id": "d896da1d",
   "metadata": {},
   "outputs": [],
   "source": []
  }
 ],
 "metadata": {
  "kernelspec": {
   "display_name": "Python 3 (ipykernel)",
   "language": "python",
   "name": "python3"
  },
  "language_info": {
   "codemirror_mode": {
    "name": "ipython",
    "version": 3
   },
   "file_extension": ".py",
   "mimetype": "text/x-python",
   "name": "python",
   "nbconvert_exporter": "python",
   "pygments_lexer": "ipython3",
   "version": "3.9.7"
  }
 },
 "nbformat": 4,
 "nbformat_minor": 5
}
