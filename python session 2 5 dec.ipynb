{
 "cells": [
  {
   "cell_type": "code",
   "execution_count": 1,
   "id": "ce2f8dcb",
   "metadata": {},
   "outputs": [
    {
     "name": "stdout",
     "output_type": "stream",
     "text": [
      "enter first number15\n"
     ]
    }
   ],
   "source": [
    "x=input(\"enter first number\")"
   ]
  },
  {
   "cell_type": "code",
   "execution_count": 2,
   "id": "26b63ea2",
   "metadata": {},
   "outputs": [
    {
     "data": {
      "text/plain": [
       "'15'"
      ]
     },
     "execution_count": 2,
     "metadata": {},
     "output_type": "execute_result"
    }
   ],
   "source": [
    "x"
   ]
  },
  {
   "cell_type": "code",
   "execution_count": 15,
   "id": "23e2e63a",
   "metadata": {},
   "outputs": [
    {
     "name": "stdout",
     "output_type": "stream",
     "text": [
      "enter second number35\n"
     ]
    }
   ],
   "source": [
    "y=input(\"enter second number\")"
   ]
  },
  {
   "cell_type": "code",
   "execution_count": 16,
   "id": "a3a64437",
   "metadata": {},
   "outputs": [
    {
     "data": {
      "text/plain": [
       "'35'"
      ]
     },
     "execution_count": 16,
     "metadata": {},
     "output_type": "execute_result"
    }
   ],
   "source": [
    "y"
   ]
  },
  {
   "cell_type": "code",
   "execution_count": 17,
   "id": "1cd91d09",
   "metadata": {},
   "outputs": [
    {
     "data": {
      "text/plain": [
       "'1535'"
      ]
     },
     "execution_count": 17,
     "metadata": {},
     "output_type": "execute_result"
    }
   ],
   "source": [
    "x+y"
   ]
  },
  {
   "cell_type": "code",
   "execution_count": 18,
   "id": "5c795d0b",
   "metadata": {},
   "outputs": [
    {
     "data": {
      "text/plain": [
       "50"
      ]
     },
     "execution_count": 18,
     "metadata": {},
     "output_type": "execute_result"
    }
   ],
   "source": [
    "int (x)+int(y)"
   ]
  },
  {
   "cell_type": "markdown",
   "id": "3f0aa625",
   "metadata": {},
   "source": [
    "boolean operations"
   ]
  },
  {
   "cell_type": "code",
   "execution_count": 19,
   "id": "92d9277e",
   "metadata": {},
   "outputs": [
    {
     "data": {
      "text/plain": [
       "True"
      ]
     },
     "execution_count": 19,
     "metadata": {},
     "output_type": "execute_result"
    }
   ],
   "source": [
    "85>25"
   ]
  },
  {
   "cell_type": "code",
   "execution_count": 20,
   "id": "703c14e7",
   "metadata": {},
   "outputs": [
    {
     "data": {
      "text/plain": [
       "True"
      ]
     },
     "execution_count": 20,
     "metadata": {},
     "output_type": "execute_result"
    }
   ],
   "source": [
    "25<36"
   ]
  },
  {
   "cell_type": "code",
   "execution_count": 21,
   "id": "bef29d38",
   "metadata": {},
   "outputs": [
    {
     "data": {
      "text/plain": [
       "False"
      ]
     },
     "execution_count": 21,
     "metadata": {},
     "output_type": "execute_result"
    }
   ],
   "source": [
    "25>35"
   ]
  },
  {
   "cell_type": "markdown",
   "id": "90dcae2f",
   "metadata": {},
   "source": [
    "compare"
   ]
  },
  {
   "cell_type": "code",
   "execution_count": 24,
   "id": "fda0cc42",
   "metadata": {},
   "outputs": [
    {
     "data": {
      "text/plain": [
       "True"
      ]
     },
     "execution_count": 24,
     "metadata": {},
     "output_type": "execute_result"
    }
   ],
   "source": [
    "25==25"
   ]
  },
  {
   "cell_type": "code",
   "execution_count": 25,
   "id": "15e82dd7",
   "metadata": {},
   "outputs": [
    {
     "data": {
      "text/plain": [
       "False"
      ]
     },
     "execution_count": 25,
     "metadata": {},
     "output_type": "execute_result"
    }
   ],
   "source": [
    "25==15"
   ]
  },
  {
   "cell_type": "code",
   "execution_count": 26,
   "id": "6fe8ba52",
   "metadata": {},
   "outputs": [
    {
     "data": {
      "text/plain": [
       "False"
      ]
     },
     "execution_count": 26,
     "metadata": {},
     "output_type": "execute_result"
    }
   ],
   "source": [
    "36==18"
   ]
  },
  {
   "cell_type": "code",
   "execution_count": 27,
   "id": "44489516",
   "metadata": {},
   "outputs": [
    {
     "data": {
      "text/plain": [
       "True"
      ]
     },
     "execution_count": 27,
     "metadata": {},
     "output_type": "execute_result"
    }
   ],
   "source": [
    "19==19"
   ]
  },
  {
   "cell_type": "code",
   "execution_count": 29,
   "id": "226de2a7",
   "metadata": {},
   "outputs": [
    {
     "data": {
      "text/plain": [
       "True"
      ]
     },
     "execution_count": 29,
     "metadata": {},
     "output_type": "execute_result"
    }
   ],
   "source": [
    "90!=20"
   ]
  },
  {
   "cell_type": "code",
   "execution_count": 30,
   "id": "a2ed3d26",
   "metadata": {},
   "outputs": [
    {
     "data": {
      "text/plain": [
       "False"
      ]
     },
     "execution_count": 30,
     "metadata": {},
     "output_type": "execute_result"
    }
   ],
   "source": [
    "20!=20"
   ]
  },
  {
   "cell_type": "code",
   "execution_count": 31,
   "id": "f95fe485",
   "metadata": {},
   "outputs": [
    {
     "data": {
      "text/plain": [
       "False"
      ]
     },
     "execution_count": 31,
     "metadata": {},
     "output_type": "execute_result"
    }
   ],
   "source": [
    "j=23\n",
    "k=12\n",
    "j==k"
   ]
  },
  {
   "cell_type": "code",
   "execution_count": 35,
   "id": "d996cace",
   "metadata": {},
   "outputs": [
    {
     "data": {
      "text/plain": [
       "False"
      ]
     },
     "execution_count": 35,
     "metadata": {},
     "output_type": "execute_result"
    }
   ],
   "source": [
    "j=56\n",
    "k=96\n",
    "j==k"
   ]
  },
  {
   "cell_type": "code",
   "execution_count": 36,
   "id": "ddde076c",
   "metadata": {},
   "outputs": [
    {
     "data": {
      "text/plain": [
       "True"
      ]
     },
     "execution_count": 36,
     "metadata": {},
     "output_type": "execute_result"
    }
   ],
   "source": [
    "j=23\n",
    "k=23\n",
    "j==k"
   ]
  },
  {
   "cell_type": "markdown",
   "id": "da8e1109",
   "metadata": {},
   "source": [
    "string concatenation\n"
   ]
  },
  {
   "cell_type": "code",
   "execution_count": 37,
   "id": "abf82b42",
   "metadata": {},
   "outputs": [
    {
     "data": {
      "text/plain": [
       "'datascience'"
      ]
     },
     "execution_count": 37,
     "metadata": {},
     "output_type": "execute_result"
    }
   ],
   "source": [
    "\"data\"+\"science\""
   ]
  },
  {
   "cell_type": "code",
   "execution_count": 38,
   "id": "21731835",
   "metadata": {},
   "outputs": [
    {
     "data": {
      "text/plain": [
       "'doctorscientist'"
      ]
     },
     "execution_count": 38,
     "metadata": {},
     "output_type": "execute_result"
    }
   ],
   "source": [
    "\"doctor\"+\"scientist\""
   ]
  },
  {
   "cell_type": "code",
   "execution_count": 39,
   "id": "dacece97",
   "metadata": {},
   "outputs": [
    {
     "data": {
      "text/plain": [
       "'4558'"
      ]
     },
     "execution_count": 39,
     "metadata": {},
     "output_type": "execute_result"
    }
   ],
   "source": [
    "\"45\"+\"58\""
   ]
  },
  {
   "cell_type": "code",
   "execution_count": 46,
   "id": "bc57b450",
   "metadata": {},
   "outputs": [
    {
     "data": {
      "text/plain": [
       "'nano and nexon  are brands of tata'"
      ]
     },
     "execution_count": 46,
     "metadata": {},
     "output_type": "execute_result"
    }
   ],
   "source": [
    "\"nano and \" +     \"nexon \"+\" are brands of tata\""
   ]
  },
  {
   "cell_type": "code",
   "execution_count": 47,
   "id": "45df8584",
   "metadata": {},
   "outputs": [
    {
     "data": {
      "text/plain": [
       "float"
      ]
     },
     "execution_count": 47,
     "metadata": {},
     "output_type": "execute_result"
    }
   ],
   "source": [
    "x=25.36526\n",
    "type(x)"
   ]
  },
  {
   "cell_type": "markdown",
   "id": "10e507e5",
   "metadata": {},
   "source": [
    "# data structure"
   ]
  },
  {
   "cell_type": "code",
   "execution_count": 57,
   "id": "f0f1bc30",
   "metadata": {},
   "outputs": [],
   "source": [
    "list1 =[1,2,3,4]"
   ]
  },
  {
   "cell_type": "code",
   "execution_count": 63,
   "id": "709de64a",
   "metadata": {},
   "outputs": [
    {
     "data": {
      "text/plain": [
       "4"
      ]
     },
     "execution_count": 63,
     "metadata": {},
     "output_type": "execute_result"
    }
   ],
   "source": [
    "list1\n",
    "len(list1)"
   ]
  },
  {
   "cell_type": "code",
   "execution_count": 60,
   "id": "0c8d82ef",
   "metadata": {},
   "outputs": [],
   "source": [
    "="
   ]
  },
  {
   "cell_type": "code",
   "execution_count": 61,
   "id": "a7c47fc8",
   "metadata": {},
   "outputs": [
    {
     "data": {
      "text/plain": [
       "5"
      ]
     },
     "execution_count": 61,
     "metadata": {},
     "output_type": "execute_result"
    }
   ],
   "source": [
    "len (list2)"
   ]
  },
  {
   "cell_type": "code",
   "execution_count": 64,
   "id": "13afc124",
   "metadata": {},
   "outputs": [],
   "source": [
    "list3=[\"a\",\"b\",\"c\",\"d\",\"e\",\"f\"]"
   ]
  },
  {
   "cell_type": "code",
   "execution_count": 66,
   "id": "5d49e8e8",
   "metadata": {},
   "outputs": [
    {
     "data": {
      "text/plain": [
       "['a', 'b', 'c', 'd', 'e', 'f']"
      ]
     },
     "execution_count": 66,
     "metadata": {},
     "output_type": "execute_result"
    }
   ],
   "source": [
    "list3"
   ]
  },
  {
   "cell_type": "code",
   "execution_count": 68,
   "id": "3af172a5",
   "metadata": {},
   "outputs": [],
   "source": [
    "list8=[\"a\",4,\"d\",6,\"z\"]"
   ]
  },
  {
   "cell_type": "code",
   "execution_count": 69,
   "id": "b1924e8d",
   "metadata": {},
   "outputs": [
    {
     "data": {
      "text/plain": [
       "['a', 4, 'd', 6, 'z']"
      ]
     },
     "execution_count": 69,
     "metadata": {},
     "output_type": "execute_result"
    }
   ],
   "source": [
    "list8"
   ]
  },
  {
   "cell_type": "code",
   "execution_count": 73,
   "id": "0298ca31",
   "metadata": {},
   "outputs": [
    {
     "data": {
      "text/plain": [
       "[1, 2, 3, 4, 4, 5, 6, 7, 8]"
      ]
     },
     "execution_count": 73,
     "metadata": {},
     "output_type": "execute_result"
    }
   ],
   "source": [
    "(list+list2)"
   ]
  },
  {
   "cell_type": "code",
   "execution_count": 78,
   "id": "90c4f7b9",
   "metadata": {},
   "outputs": [],
   "source": [
    "planetlist=[\"m\",\"e\",\"m\",\"j\",\"s\",\"u\",\"n\",\"p\"]"
   ]
  },
  {
   "cell_type": "code",
   "execution_count": 79,
   "id": "9c5211da",
   "metadata": {},
   "outputs": [
    {
     "data": {
      "text/plain": [
       "['m', 'e', 'm', 'j', 's', 'u', 'n', 'p']"
      ]
     },
     "execution_count": 79,
     "metadata": {},
     "output_type": "execute_result"
    }
   ],
   "source": [
    "planetlist\n",
    "\n"
   ]
  },
  {
   "cell_type": "markdown",
   "id": "5390ff8d",
   "metadata": {},
   "source": [
    "indexing"
   ]
  },
  {
   "cell_type": "code",
   "execution_count": null,
   "id": "2e7219a1",
   "metadata": {},
   "outputs": [],
   "source": []
  },
  {
   "cell_type": "code",
   "execution_count": 81,
   "id": "7a844e91",
   "metadata": {},
   "outputs": [
    {
     "data": {
      "text/plain": [
       "'e'"
      ]
     },
     "execution_count": 81,
     "metadata": {},
     "output_type": "execute_result"
    }
   ],
   "source": [
    "planetlist[1]\n"
   ]
  },
  {
   "cell_type": "code",
   "execution_count": null,
   "id": "145f7ef4",
   "metadata": {},
   "outputs": [],
   "source": []
  },
  {
   "cell_type": "code",
   "execution_count": 83,
   "id": "ce4467fb",
   "metadata": {},
   "outputs": [
    {
     "data": {
      "text/plain": [
       "'m'"
      ]
     },
     "execution_count": 83,
     "metadata": {},
     "output_type": "execute_result"
    }
   ],
   "source": [
    "planetlist[2]\n"
   ]
  },
  {
   "cell_type": "code",
   "execution_count": 86,
   "id": "0029e791",
   "metadata": {},
   "outputs": [
    {
     "data": {
      "text/plain": [
       "'p'"
      ]
     },
     "execution_count": 86,
     "metadata": {},
     "output_type": "execute_result"
    }
   ],
   "source": [
    "planetlist[7]"
   ]
  },
  {
   "cell_type": "code",
   "execution_count": 88,
   "id": "065bdbdd",
   "metadata": {},
   "outputs": [
    {
     "data": {
      "text/plain": [
       "'m'"
      ]
     },
     "execution_count": 88,
     "metadata": {},
     "output_type": "execute_result"
    }
   ],
   "source": [
    "planetlist[0]"
   ]
  },
  {
   "cell_type": "markdown",
   "id": "059c8e43",
   "metadata": {},
   "source": [
    "slicing"
   ]
  },
  {
   "cell_type": "code",
   "execution_count": 104,
   "id": "6550058b",
   "metadata": {},
   "outputs": [
    {
     "data": {
      "text/plain": [
       "['m', 'e']"
      ]
     },
     "execution_count": 104,
     "metadata": {},
     "output_type": "execute_result"
    }
   ],
   "source": [
    "planetlist[0:2]"
   ]
  },
  {
   "cell_type": "code",
   "execution_count": 91,
   "id": "4390ba17",
   "metadata": {},
   "outputs": [
    {
     "data": {
      "text/plain": [
       "['m', 'e', 'm', 'j', 's', 'u', 'n']"
      ]
     },
     "execution_count": 91,
     "metadata": {},
     "output_type": "execute_result"
    }
   ],
   "source": [
    "planetlist[0:7]"
   ]
  },
  {
   "cell_type": "code",
   "execution_count": 93,
   "id": "4513b42b",
   "metadata": {},
   "outputs": [
    {
     "data": {
      "text/plain": [
       "['m']"
      ]
     },
     "execution_count": 93,
     "metadata": {},
     "output_type": "execute_result"
    }
   ],
   "source": [
    "planetlist[0:1]"
   ]
  },
  {
   "cell_type": "code",
   "execution_count": 95,
   "id": "9b63ab17",
   "metadata": {},
   "outputs": [
    {
     "data": {
      "text/plain": [
       "['m']"
      ]
     },
     "execution_count": 95,
     "metadata": {},
     "output_type": "execute_result"
    }
   ],
   "source": [
    "planetlist[2:3]"
   ]
  },
  {
   "cell_type": "code",
   "execution_count": 96,
   "id": "01c96a4e",
   "metadata": {},
   "outputs": [
    {
     "data": {
      "text/plain": [
       "['s', 'u']"
      ]
     },
     "execution_count": 96,
     "metadata": {},
     "output_type": "execute_result"
    }
   ],
   "source": [
    "planetlist[4:6]"
   ]
  },
  {
   "cell_type": "code",
   "execution_count": 97,
   "id": "02e7e483",
   "metadata": {},
   "outputs": [
    {
     "data": {
      "text/plain": [
       "['m', 'e', 'm', 'j', 's', 'u', 'n', 'p']"
      ]
     },
     "execution_count": 97,
     "metadata": {},
     "output_type": "execute_result"
    }
   ],
   "source": [
    "planetlist[:]"
   ]
  },
  {
   "cell_type": "markdown",
   "id": "90fd17b2",
   "metadata": {},
   "source": [
    "negative indexing"
   ]
  },
  {
   "cell_type": "code",
   "execution_count": 100,
   "id": "741205bc",
   "metadata": {},
   "outputs": [
    {
     "data": {
      "text/plain": [
       "'e'"
      ]
     },
     "execution_count": 100,
     "metadata": {},
     "output_type": "execute_result"
    }
   ],
   "source": [
    "planetlist[-7]"
   ]
  },
  {
   "cell_type": "code",
   "execution_count": 98,
   "id": "360b33c8",
   "metadata": {},
   "outputs": [
    {
     "data": {
      "text/plain": [
       "'n'"
      ]
     },
     "execution_count": 98,
     "metadata": {},
     "output_type": "execute_result"
    }
   ],
   "source": [
    "planetlist[-2]"
   ]
  },
  {
   "cell_type": "code",
   "execution_count": 101,
   "id": "d655cf74",
   "metadata": {},
   "outputs": [
    {
     "data": {
      "text/plain": [
       "'m'"
      ]
     },
     "execution_count": 101,
     "metadata": {},
     "output_type": "execute_result"
    }
   ],
   "source": [
    "planetlist[-6]"
   ]
  },
  {
   "cell_type": "code",
   "execution_count": 102,
   "id": "97fd6055",
   "metadata": {},
   "outputs": [
    {
     "data": {
      "text/plain": [
       "'m'"
      ]
     },
     "execution_count": 102,
     "metadata": {},
     "output_type": "execute_result"
    }
   ],
   "source": [
    "planetlist[-8]"
   ]
  },
  {
   "cell_type": "markdown",
   "id": "6fe70e02",
   "metadata": {},
   "source": [
    "negative slicing"
   ]
  },
  {
   "cell_type": "code",
   "execution_count": 107,
   "id": "ca0be62d",
   "metadata": {},
   "outputs": [
    {
     "data": {
      "text/plain": [
       "['j', 's', 'u']"
      ]
     },
     "execution_count": 107,
     "metadata": {},
     "output_type": "execute_result"
    }
   ],
   "source": [
    "planetlist[-5:-2]"
   ]
  },
  {
   "cell_type": "code",
   "execution_count": 108,
   "id": "82881b7b",
   "metadata": {},
   "outputs": [
    {
     "data": {
      "text/plain": [
       "['m', 'e', 'm']"
      ]
     },
     "execution_count": 108,
     "metadata": {},
     "output_type": "execute_result"
    }
   ],
   "source": [
    "planetlist[-8:-5]"
   ]
  },
  {
   "cell_type": "code",
   "execution_count": 109,
   "id": "8a8cb182",
   "metadata": {},
   "outputs": [
    {
     "data": {
      "text/plain": [
       "['m', 'j', 's', 'u']"
      ]
     },
     "execution_count": 109,
     "metadata": {},
     "output_type": "execute_result"
    }
   ],
   "source": [
    "planetlist[-6:-2]"
   ]
  },
  {
   "cell_type": "code",
   "execution_count": null,
   "id": "738fa070",
   "metadata": {},
   "outputs": [],
   "source": []
  }
 ],
 "metadata": {
  "kernelspec": {
   "display_name": "Python 3 (ipykernel)",
   "language": "python",
   "name": "python3"
  },
  "language_info": {
   "codemirror_mode": {
    "name": "ipython",
    "version": 3
   },
   "file_extension": ".py",
   "mimetype": "text/x-python",
   "name": "python",
   "nbconvert_exporter": "python",
   "pygments_lexer": "ipython3",
   "version": "3.9.7"
  }
 },
 "nbformat": 4,
 "nbformat_minor": 5
}
