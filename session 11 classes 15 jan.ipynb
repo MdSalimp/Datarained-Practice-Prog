{
 "cells": [
  {
   "cell_type": "code",
   "execution_count": 1,
   "id": "cacf9b27",
   "metadata": {
    "scrolled": true
   },
   "outputs": [
    {
     "name": "stdout",
     "output_type": "stream",
     "text": [
      "id= 11 name sam\n",
      "id= 12 name man\n"
     ]
    }
   ],
   "source": [
    "class person:\n",
    "    def __init__(self,id,name):\n",
    "        self.id=id\n",
    "        self.name=name\n",
    "    \n",
    "    def display(self):\n",
    "        print(\"id=\",self.id,\"name\",self.name)\n",
    "p1=person(11,\"sam\")\n",
    "p1.display()\n",
    "p2=person(12,\"man\")\n",
    "p2.display()"
   ]
  },
  {
   "cell_type": "code",
   "execution_count": 2,
   "id": "3ec370eb",
   "metadata": {},
   "outputs": [],
   "source": [
    "class student:\n",
    "    \n",
    "    def __init__(self,name,age):\n",
    "        self.name=name\n",
    "        self.age=age"
   ]
  },
  {
   "cell_type": "code",
   "execution_count": 3,
   "id": "1cda3ba3",
   "metadata": {},
   "outputs": [
    {
     "name": "stdout",
     "output_type": "stream",
     "text": [
      "sam\n",
      "25\n",
      "andrew\n",
      "30\n"
     ]
    }
   ],
   "source": [
    "s1=student(\"sam\",25)\n",
    "print(s1.name)\n",
    "print(s1.age)\n",
    "s2=student(\"andrew\",30)\n",
    "print(s2.name)\n",
    "print(s2.age)"
   ]
  },
  {
   "cell_type": "code",
   "execution_count": 4,
   "id": "e886b53b",
   "metadata": {},
   "outputs": [],
   "source": [
    "class Employee:\n",
    "    def __init__(self,name,age,id,salary):\n",
    "        self.name=name\n",
    "        self.age=age\n",
    "        self.id=id\n",
    "        self.salary=salary\n",
    "        \n",
    "        \n",
    "    def display(self):\n",
    "            print(\"inside display function\")\n",
    "            print(self.name,self.age,self.id,self.salary)"
   ]
  },
  {
   "cell_type": "code",
   "execution_count": 5,
   "id": "81a143a2",
   "metadata": {},
   "outputs": [
    {
     "name": "stdout",
     "output_type": "stream",
     "text": [
      "inside display function\n",
      "john 26 888 4566\n",
      "inside display function\n",
      "andrew 32 777 4489\n"
     ]
    }
   ],
   "source": [
    "emp1=Employee(\"john\",26,888,4566)\n",
    "emp2=Employee(\"andrew\",32,777,4489)\n",
    "emp1.display()\n",
    "emp2.display()"
   ]
  },
  {
   "cell_type": "code",
   "execution_count": 6,
   "id": "4616ac9a",
   "metadata": {},
   "outputs": [],
   "source": [
    "class Company:\n",
    "    revenue=223523\n",
    "    \n",
    "    def __init__(self,name,location,number__of__employees):\n",
    "        self.name=name\n",
    "        self.location=location\n",
    "        self.number__of__employees=number__of__employees"
   ]
  },
  {
   "cell_type": "code",
   "execution_count": 7,
   "id": "fe65e189",
   "metadata": {},
   "outputs": [
    {
     "name": "stdout",
     "output_type": "stream",
     "text": [
      "apple\n",
      "america\n",
      "500\n"
     ]
    },
    {
     "data": {
      "text/plain": [
       "223523"
      ]
     },
     "execution_count": 7,
     "metadata": {},
     "output_type": "execute_result"
    }
   ],
   "source": [
    "C=Company(\"apple\",\"america\",500)\n",
    "print(C.name)\n",
    "print(C.location)\n",
    "print(C.number__of__employees)\n",
    "Company.revenue"
   ]
  },
  {
   "cell_type": "code",
   "execution_count": 8,
   "id": "a8b25cc1",
   "metadata": {},
   "outputs": [],
   "source": [
    "class Car:\n",
    "    def __init__(self,company,color):\n",
    "        self.company=company\n",
    "        self.color=color\n",
    "    def display(self):\n",
    "            print(\"this is a\",self.color,self.company)"
   ]
  },
  {
   "cell_type": "code",
   "execution_count": 40,
   "id": "2591bec2",
   "metadata": {},
   "outputs": [],
   "source": [
    "def main():\n",
    "    C=Car(\"ferrari\",\"red\")\n",
    "    C.display()"
   ]
  },
  {
   "cell_type": "code",
   "execution_count": 46,
   "id": "a9d4a14b",
   "metadata": {},
   "outputs": [
    {
     "name": "stdout",
     "output_type": "stream",
     "text": [
      "this is a red ferrari\n"
     ]
    }
   ],
   "source": [
    "if __name__==\"__main__\":\n",
    "    main()"
   ]
  },
  {
   "cell_type": "code",
   "execution_count": 57,
   "id": "b4f81c68",
   "metadata": {},
   "outputs": [],
   "source": [
    "class Employee:\n",
    "    \n",
    "        def __init__(self,name,age):  \n",
    "            print(\"initialization method called\")\n",
    "            self.name=name\n",
    "            self.age=age\n",
    "\n",
    "        def getdata(self,name,age):\n",
    "            print(\"getdata method called\")\n",
    "            self.name=name\n",
    "            self.age=age\n",
    "            \n",
    "        def displaydata(self):\n",
    "            print(\"hello\",self.name,self.age)"
   ]
  },
  {
   "cell_type": "code",
   "execution_count": 77,
   "id": "2faa80de",
   "metadata": {},
   "outputs": [],
   "source": [
    "def main():\n",
    "    \n",
    "    e=Employee(\"asda\",55)\n",
    "    e.displaydata()\n",
    "    \n",
    "    e.getdata(\"ggh\",45)\n",
    "    e.displaydata()\n",
    "\n"
   ]
  },
  {
   "cell_type": "code",
   "execution_count": 80,
   "id": "23a1a449",
   "metadata": {},
   "outputs": [
    {
     "name": "stdout",
     "output_type": "stream",
     "text": [
      "initialization method called\n",
      "hello asda 55\n",
      "get data method called\n",
      "hello ggh 45\n"
     ]
    }
   ],
   "source": [
    "if __name__==\"__main__\":   \n",
    "    main()"
   ]
  },
  {
   "cell_type": "code",
   "execution_count": 136,
   "id": "1642e424",
   "metadata": {},
   "outputs": [
    {
     "name": "stdout",
     "output_type": "stream",
     "text": [
      "initialized data for players\n",
      "player details v 22 cricket\n",
      "getdata for players\n",
      "player details r 58 tennis\n",
      "initialized data for players\n",
      "player details b 25 cricket\n",
      "getdata for players\n",
      "player details d 98 tennis\n"
     ]
    }
   ],
   "source": [
    "class Player:\n",
    "\n",
    "\n",
    "    def __init__(self,name,age,sport):  \n",
    "            print(\"initialized data for players\")\n",
    "            self.name=name\n",
    "            self.age=age\n",
    "            self.sport=sport\n",
    "\n",
    "    def getdata(self,name,age,sport):\n",
    "            print(\"getdata for players\")\n",
    "            self.name=name\n",
    "            self.age=age\n",
    "            self.sport=sport\n",
    "            \n",
    "    def displaydata(self):\n",
    "            print(\"player details\",self.name,self.age,self.sport)\n",
    "\n",
    "def main():\n",
    "    p1=Player(\"v\",22,\"cricket\")\n",
    "    p1.displaydata()\n",
    "    \n",
    "    p1.getdata(\"r\",58,\"tennis\")\n",
    "    p1.displaydata()\n",
    "    \n",
    "    p2=Player(\"b\",25,\"cricket\")\n",
    "    p2.displaydata() \n",
    "    \n",
    "    p2.getdata(\"d\",98,\"tennis\")\n",
    "    p2.displaydata()\n",
    "        \n",
    "        \n",
    "        \n",
    "        \n",
    "if __name__==\"__main__\":\n",
    "    main()\n",
    "    "
   ]
  },
  {
   "cell_type": "code",
   "execution_count": 97,
   "id": "e92177eb",
   "metadata": {},
   "outputs": [],
   "source": []
  },
  {
   "cell_type": "code",
   "execution_count": null,
   "id": "a322a27a",
   "metadata": {},
   "outputs": [],
   "source": []
  },
  {
   "cell_type": "code",
   "execution_count": null,
   "id": "e9211251",
   "metadata": {},
   "outputs": [],
   "source": []
  }
 ],
 "metadata": {
  "kernelspec": {
   "display_name": "Python 3 (ipykernel)",
   "language": "python",
   "name": "python3"
  },
  "language_info": {
   "codemirror_mode": {
    "name": "ipython",
    "version": 3
   },
   "file_extension": ".py",
   "mimetype": "text/x-python",
   "name": "python",
   "nbconvert_exporter": "python",
   "pygments_lexer": "ipython3",
   "version": "3.9.7"
  }
 },
 "nbformat": 4,
 "nbformat_minor": 5
}
