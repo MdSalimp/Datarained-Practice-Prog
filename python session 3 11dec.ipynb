{
 "cells": [
  {
   "cell_type": "markdown",
   "id": "44cbd029",
   "metadata": {},
   "source": [
    "# list"
   ]
  },
  {
   "cell_type": "code",
   "execution_count": 11,
   "id": "f7b8be16",
   "metadata": {},
   "outputs": [
    {
     "data": {
      "text/plain": [
       "['ma', 've', 'ea', 'me']"
      ]
     },
     "execution_count": 11,
     "metadata": {},
     "output_type": "execute_result"
    }
   ],
   "source": [
    "planetlist=[\"ma\",\"ve\",\"ea\",\"me\"]\n",
    "planetlist"
   ]
  },
  {
   "cell_type": "code",
   "execution_count": 13,
   "id": "e9066452",
   "metadata": {},
   "outputs": [
    {
     "data": {
      "text/plain": [
       "4"
      ]
     },
     "execution_count": 13,
     "metadata": {},
     "output_type": "execute_result"
    }
   ],
   "source": [
    "len(planetlist)"
   ]
  },
  {
   "cell_type": "code",
   "execution_count": 14,
   "id": "7ab56a00",
   "metadata": {},
   "outputs": [],
   "source": [
    "planetlist.append(\"ju\")"
   ]
  },
  {
   "cell_type": "code",
   "execution_count": 16,
   "id": "89a21f7e",
   "metadata": {},
   "outputs": [
    {
     "data": {
      "text/plain": [
       "['ma', 've', 'ea', 'me', 'ju']"
      ]
     },
     "execution_count": 16,
     "metadata": {},
     "output_type": "execute_result"
    }
   ],
   "source": [
    "planetlist"
   ]
  },
  {
   "cell_type": "code",
   "execution_count": 46,
   "id": "8f4bd1a1",
   "metadata": {},
   "outputs": [
    {
     "data": {
      "text/plain": [
       "['ve', 'ju']"
      ]
     },
     "execution_count": 46,
     "metadata": {},
     "output_type": "execute_result"
    }
   ],
   "source": [
    "planetlist"
   ]
  },
  {
   "cell_type": "code",
   "execution_count": 28,
   "id": "3355a506",
   "metadata": {},
   "outputs": [],
   "source": [
    "planetlist.sort()"
   ]
  },
  {
   "cell_type": "code",
   "execution_count": 22,
   "id": "d7093105",
   "metadata": {},
   "outputs": [
    {
     "data": {
      "text/plain": [
       "['ea', 'ju', 'ma', 'me', 've']"
      ]
     },
     "execution_count": 22,
     "metadata": {},
     "output_type": "execute_result"
    }
   ],
   "source": [
    "planetlist"
   ]
  },
  {
   "cell_type": "code",
   "execution_count": 29,
   "id": "f3a0d355",
   "metadata": {},
   "outputs": [],
   "source": [
    "planetlist.reverse()"
   ]
  },
  {
   "cell_type": "code",
   "execution_count": 45,
   "id": "133f9c8a",
   "metadata": {},
   "outputs": [
    {
     "data": {
      "text/plain": [
       "['ve', 'ju']"
      ]
     },
     "execution_count": 45,
     "metadata": {},
     "output_type": "execute_result"
    }
   ],
   "source": [
    "planetlist\n"
   ]
  },
  {
   "cell_type": "code",
   "execution_count": 32,
   "id": "5cad8aaf",
   "metadata": {},
   "outputs": [],
   "source": [
    "planetlist.insert(2,\"plu\")"
   ]
  },
  {
   "cell_type": "code",
   "execution_count": 44,
   "id": "ab5a8b65",
   "metadata": {},
   "outputs": [
    {
     "data": {
      "text/plain": [
       "['ve', 'ju']"
      ]
     },
     "execution_count": 44,
     "metadata": {},
     "output_type": "execute_result"
    }
   ],
   "source": [
    "planetlist"
   ]
  },
  {
   "cell_type": "code",
   "execution_count": 43,
   "id": "b1d74fba",
   "metadata": {},
   "outputs": [
    {
     "data": {
      "text/plain": [
       "'ma'"
      ]
     },
     "execution_count": 43,
     "metadata": {},
     "output_type": "execute_result"
    }
   ],
   "source": [
    "planetlist.pop(1)"
   ]
  },
  {
   "cell_type": "code",
   "execution_count": 42,
   "id": "e7ff89f1",
   "metadata": {},
   "outputs": [
    {
     "data": {
      "text/plain": [
       "['ve', 'ma', 'ju']"
      ]
     },
     "execution_count": 42,
     "metadata": {},
     "output_type": "execute_result"
    }
   ],
   "source": [
    "planetlist"
   ]
  },
  {
   "cell_type": "code",
   "execution_count": 47,
   "id": "b24aa2a1",
   "metadata": {},
   "outputs": [
    {
     "data": {
      "text/plain": [
       "['ve', 'ju']"
      ]
     },
     "execution_count": 47,
     "metadata": {},
     "output_type": "execute_result"
    }
   ],
   "source": [
    "planetlist"
   ]
  },
  {
   "cell_type": "code",
   "execution_count": 58,
   "id": "514b8e46",
   "metadata": {},
   "outputs": [],
   "source": [
    "planetlist=[\"ma\",\"ve\",\"ea\",\"me\",\"ju\"]"
   ]
  },
  {
   "cell_type": "code",
   "execution_count": 59,
   "id": "53791ace",
   "metadata": {},
   "outputs": [
    {
     "data": {
      "text/plain": [
       "['ma', 've', 'ea', 'me', 'ju']"
      ]
     },
     "execution_count": 59,
     "metadata": {},
     "output_type": "execute_result"
    }
   ],
   "source": [
    "planetlist"
   ]
  },
  {
   "cell_type": "code",
   "execution_count": 60,
   "id": "d55c7e68",
   "metadata": {
    "scrolled": true
   },
   "outputs": [],
   "source": [
    "planetlist.remove(\"me\")"
   ]
  },
  {
   "cell_type": "code",
   "execution_count": 61,
   "id": "5b4588aa",
   "metadata": {},
   "outputs": [
    {
     "data": {
      "text/plain": [
       "['ma', 've', 'ea', 'ju']"
      ]
     },
     "execution_count": 61,
     "metadata": {},
     "output_type": "execute_result"
    }
   ],
   "source": [
    "planetlist"
   ]
  },
  {
   "cell_type": "code",
   "execution_count": 63,
   "id": "920a7d98",
   "metadata": {},
   "outputs": [],
   "source": [
    "planetlist.clear()"
   ]
  },
  {
   "cell_type": "code",
   "execution_count": 64,
   "id": "c711e3c6",
   "metadata": {},
   "outputs": [
    {
     "data": {
      "text/plain": [
       "[]"
      ]
     },
     "execution_count": 64,
     "metadata": {},
     "output_type": "execute_result"
    }
   ],
   "source": [
    "planetlist"
   ]
  },
  {
   "cell_type": "code",
   "execution_count": 65,
   "id": "800ce3ff",
   "metadata": {},
   "outputs": [],
   "source": [
    "del planetlist"
   ]
  },
  {
   "cell_type": "code",
   "execution_count": 66,
   "id": "0162bf11",
   "metadata": {},
   "outputs": [
    {
     "ename": "NameError",
     "evalue": "name 'planetlist' is not defined",
     "output_type": "error",
     "traceback": [
      "\u001b[1;31m---------------------------------------------------------------------------\u001b[0m",
      "\u001b[1;31mNameError\u001b[0m                                 Traceback (most recent call last)",
      "\u001b[1;32m~\\AppData\\Local\\Temp/ipykernel_28592/3676854626.py\u001b[0m in \u001b[0;36m<module>\u001b[1;34m\u001b[0m\n\u001b[1;32m----> 1\u001b[1;33m \u001b[0mplanetlist\u001b[0m\u001b[1;33m\u001b[0m\u001b[1;33m\u001b[0m\u001b[0m\n\u001b[0m",
      "\u001b[1;31mNameError\u001b[0m: name 'planetlist' is not defined"
     ]
    }
   ],
   "source": [
    "planetlist"
   ]
  },
  {
   "cell_type": "code",
   "execution_count": 77,
   "id": "96030dd2",
   "metadata": {},
   "outputs": [],
   "source": [
    "l1=[1,2,3,4]\n",
    "#l1.append([5,6,7,8])"
   ]
  },
  {
   "cell_type": "code",
   "execution_count": 78,
   "id": "4599e5ce",
   "metadata": {},
   "outputs": [
    {
     "data": {
      "text/plain": [
       "[1, 2, 3, 4]"
      ]
     },
     "execution_count": 78,
     "metadata": {},
     "output_type": "execute_result"
    }
   ],
   "source": [
    "l1"
   ]
  },
  {
   "cell_type": "code",
   "execution_count": 79,
   "id": "77d38ad0",
   "metadata": {},
   "outputs": [],
   "source": [
    "l1.extend([5,6,7,8])"
   ]
  },
  {
   "cell_type": "code",
   "execution_count": 80,
   "id": "38510675",
   "metadata": {},
   "outputs": [
    {
     "data": {
      "text/plain": [
       "[1, 2, 3, 4, 5, 6, 7, 8]"
      ]
     },
     "execution_count": 80,
     "metadata": {},
     "output_type": "execute_result"
    }
   ],
   "source": [
    "l1"
   ]
  },
  {
   "cell_type": "code",
   "execution_count": 9,
   "id": "0c1d9e4e",
   "metadata": {},
   "outputs": [],
   "source": [
    "fruits=['ba','ma',\"or\",\"ki\",\"pa\"]\n",
    "veggies=['ca','br']"
   ]
  },
  {
   "cell_type": "code",
   "execution_count": 10,
   "id": "00bcf20d",
   "metadata": {},
   "outputs": [
    {
     "data": {
      "text/plain": [
       "['ba', 'ma', 'or', 'ki', 'pa']"
      ]
     },
     "execution_count": 10,
     "metadata": {},
     "output_type": "execute_result"
    }
   ],
   "source": [
    "fruits"
   ]
  },
  {
   "cell_type": "code",
   "execution_count": 11,
   "id": "16931828",
   "metadata": {},
   "outputs": [],
   "source": [
    "fruits.extend([\"pi\",\"bb\"])"
   ]
  },
  {
   "cell_type": "code",
   "execution_count": 12,
   "id": "5ac0916e",
   "metadata": {},
   "outputs": [
    {
     "data": {
      "text/plain": [
       "['ba', 'ma', 'or', 'ki', 'pa', 'pi', 'bb']"
      ]
     },
     "execution_count": 12,
     "metadata": {},
     "output_type": "execute_result"
    }
   ],
   "source": [
    "fruits"
   ]
  },
  {
   "cell_type": "code",
   "execution_count": 13,
   "id": "3c3e9a9c",
   "metadata": {},
   "outputs": [
    {
     "data": {
      "text/plain": [
       "['ca', 'br']"
      ]
     },
     "execution_count": 13,
     "metadata": {},
     "output_type": "execute_result"
    }
   ],
   "source": [
    "veggies"
   ]
  },
  {
   "cell_type": "code",
   "execution_count": 18,
   "id": "2cdb6cac",
   "metadata": {},
   "outputs": [],
   "source": [
    "veggies.append(fruits)"
   ]
  },
  {
   "cell_type": "code",
   "execution_count": 19,
   "id": "550fb8e9",
   "metadata": {},
   "outputs": [
    {
     "data": {
      "text/plain": [
       "['ca',\n",
       " 'br',\n",
       " ['ba', 'ma', 'or', 'ki', 'pa', 'pi', 'bb'],\n",
       " 'ba',\n",
       " 'ma',\n",
       " 'or',\n",
       " 'ki',\n",
       " 'pa',\n",
       " 'pi',\n",
       " 'bb',\n",
       " ['ba', 'ma', 'or', 'ki', 'pa', 'pi', 'bb']]"
      ]
     },
     "execution_count": 19,
     "metadata": {},
     "output_type": "execute_result"
    }
   ],
   "source": [
    "veggies"
   ]
  },
  {
   "cell_type": "code",
   "execution_count": 21,
   "id": "f6e1da2a",
   "metadata": {},
   "outputs": [],
   "source": [
    "veggies.extend(fruits)"
   ]
  },
  {
   "cell_type": "code",
   "execution_count": 22,
   "id": "aa7d880c",
   "metadata": {},
   "outputs": [
    {
     "data": {
      "text/plain": [
       "['ca',\n",
       " 'br',\n",
       " ['ba', 'ma', 'or', 'ki', 'pa', 'pi', 'bb'],\n",
       " 'ba',\n",
       " 'ma',\n",
       " 'or',\n",
       " 'ki',\n",
       " 'pa',\n",
       " 'pi',\n",
       " 'bb',\n",
       " ['ba', 'ma', 'or', 'ki', 'pa', 'pi', 'bb'],\n",
       " 'ba',\n",
       " 'ma',\n",
       " 'or',\n",
       " 'ki',\n",
       " 'pa',\n",
       " 'pi',\n",
       " 'bb',\n",
       " 'ba',\n",
       " 'ma',\n",
       " 'or',\n",
       " 'ki',\n",
       " 'pa',\n",
       " 'pi',\n",
       " 'bb']"
      ]
     },
     "execution_count": 22,
     "metadata": {},
     "output_type": "execute_result"
    }
   ],
   "source": [
    "veggies"
   ]
  },
  {
   "cell_type": "code",
   "execution_count": null,
   "id": "ab25e72b",
   "metadata": {},
   "outputs": [],
   "source": []
  },
  {
   "cell_type": "code",
   "execution_count": null,
   "id": "f5ca370f",
   "metadata": {},
   "outputs": [],
   "source": []
  },
  {
   "cell_type": "code",
   "execution_count": 30,
   "id": "c9f9a870",
   "metadata": {},
   "outputs": [],
   "source": [
    "veggies.insert(2,[\"ww\",\"cc\"])"
   ]
  },
  {
   "cell_type": "code",
   "execution_count": 31,
   "id": "4d1d92ed",
   "metadata": {},
   "outputs": [
    {
     "data": {
      "text/plain": [
       "['ca',\n",
       " 'br',\n",
       " ['ww', 'cc'],\n",
       " ['ba', 'ma', 'or', 'ki', 'pa', 'pi', 'bb'],\n",
       " 'ba',\n",
       " 'ma',\n",
       " 'or',\n",
       " 'ki',\n",
       " 'pa',\n",
       " 'pi',\n",
       " 'bb',\n",
       " ['ba', 'ma', 'or', 'ki', 'pa', 'pi', 'bb'],\n",
       " 'ba',\n",
       " 'ma',\n",
       " 'or',\n",
       " 'ki',\n",
       " 'pa',\n",
       " 'pi',\n",
       " 'bb',\n",
       " 'ba',\n",
       " 'ma',\n",
       " 'or',\n",
       " 'ki',\n",
       " 'pa',\n",
       " 'pi',\n",
       " 'bb']"
      ]
     },
     "execution_count": 31,
     "metadata": {},
     "output_type": "execute_result"
    }
   ],
   "source": [
    "veggies"
   ]
  },
  {
   "cell_type": "code",
   "execution_count": 32,
   "id": "bf2aa6c6",
   "metadata": {},
   "outputs": [],
   "source": [
    "mobilelist=[\"sa\",\"no\",\"app\",\"le\",\"tep\"]"
   ]
  },
  {
   "cell_type": "code",
   "execution_count": 33,
   "id": "fecd502b",
   "metadata": {},
   "outputs": [
    {
     "data": {
      "text/plain": [
       "'app'"
      ]
     },
     "execution_count": 33,
     "metadata": {},
     "output_type": "execute_result"
    }
   ],
   "source": [
    "mobilelist[2]"
   ]
  },
  {
   "cell_type": "markdown",
   "id": "adf521c1",
   "metadata": {},
   "source": [
    "mobilelist[3]=\"tesla\""
   ]
  },
  {
   "cell_type": "markdown",
   "id": "bf5db3e1",
   "metadata": {},
   "source": [
    "property mutable\n"
   ]
  },
  {
   "cell_type": "code",
   "execution_count": 35,
   "id": "9522ae04",
   "metadata": {},
   "outputs": [
    {
     "data": {
      "text/plain": [
       "['sa', 'no', 'app', 'tesla', 'tep']"
      ]
     },
     "execution_count": 35,
     "metadata": {},
     "output_type": "execute_result"
    }
   ],
   "source": [
    "mobilelist"
   ]
  },
  {
   "cell_type": "code",
   "execution_count": 36,
   "id": "e7e319ed",
   "metadata": {},
   "outputs": [
    {
     "data": {
      "text/plain": [
       "'tesla'"
      ]
     },
     "execution_count": 36,
     "metadata": {},
     "output_type": "execute_result"
    }
   ],
   "source": [
    "mobilelist[3]"
   ]
  },
  {
   "cell_type": "markdown",
   "id": "7f32caed",
   "metadata": {},
   "source": [
    "# tuples"
   ]
  },
  {
   "cell_type": "code",
   "execution_count": 37,
   "id": "c3aae2ca",
   "metadata": {},
   "outputs": [],
   "source": [
    "my_tuple=[\"mi\",\"mo\",\"31\",\"sw\"]"
   ]
  },
  {
   "cell_type": "code",
   "execution_count": 38,
   "id": "d9fd9f40",
   "metadata": {},
   "outputs": [
    {
     "data": {
      "text/plain": [
       "'mo'"
      ]
     },
     "execution_count": 38,
     "metadata": {},
     "output_type": "execute_result"
    }
   ],
   "source": [
    "my_tuple[1]"
   ]
  },
  {
   "cell_type": "code",
   "execution_count": 41,
   "id": "63f460ce",
   "metadata": {},
   "outputs": [
    {
     "data": {
      "text/plain": [
       "[1, 2, 3, 4, 4, 5, 6, 7]"
      ]
     },
     "execution_count": 41,
     "metadata": {},
     "output_type": "execute_result"
    }
   ],
   "source": [
    "tuple1=[1,2,3,4]\n",
    "tuple2=[4,5,6,7]\n",
    "tuple1+tuple2"
   ]
  },
  {
   "cell_type": "markdown",
   "id": "b9cededc",
   "metadata": {},
   "source": [
    "dictionary"
   ]
  },
  {
   "cell_type": "code",
   "execution_count": 42,
   "id": "35e96293",
   "metadata": {},
   "outputs": [],
   "source": [
    "d1={'id':1,'name':'john','class':2}"
   ]
  },
  {
   "cell_type": "code",
   "execution_count": 45,
   "id": "131e85b1",
   "metadata": {},
   "outputs": [
    {
     "data": {
      "text/plain": [
       "{'id': 1, 'name': 'john', 'class': 2}"
      ]
     },
     "execution_count": 45,
     "metadata": {},
     "output_type": "execute_result"
    }
   ],
   "source": [
    "d1"
   ]
  },
  {
   "cell_type": "code",
   "execution_count": 49,
   "id": "62647ae2",
   "metadata": {},
   "outputs": [
    {
     "data": {
      "text/plain": [
       "1"
      ]
     },
     "execution_count": 49,
     "metadata": {},
     "output_type": "execute_result"
    }
   ],
   "source": [
    "d1['id']"
   ]
  },
  {
   "cell_type": "code",
   "execution_count": 51,
   "id": "62bba92c",
   "metadata": {},
   "outputs": [
    {
     "data": {
      "text/plain": [
       "'john'"
      ]
     },
     "execution_count": 51,
     "metadata": {},
     "output_type": "execute_result"
    }
   ],
   "source": [
    "d1['name']"
   ]
  },
  {
   "cell_type": "code",
   "execution_count": 52,
   "id": "5fd9fa2f",
   "metadata": {},
   "outputs": [
    {
     "data": {
      "text/plain": [
       "2"
      ]
     },
     "execution_count": 52,
     "metadata": {},
     "output_type": "execute_result"
    }
   ],
   "source": [
    "d1['class']"
   ]
  },
  {
   "cell_type": "code",
   "execution_count": 53,
   "id": "f683b92b",
   "metadata": {},
   "outputs": [
    {
     "data": {
      "text/plain": [
       "dict_keys(['id', 'name', 'class'])"
      ]
     },
     "execution_count": 53,
     "metadata": {},
     "output_type": "execute_result"
    }
   ],
   "source": [
    "d1.keys()"
   ]
  },
  {
   "cell_type": "code",
   "execution_count": 55,
   "id": "8ee5ae38",
   "metadata": {},
   "outputs": [
    {
     "data": {
      "text/plain": [
       "dict_values([1, 'john', 2])"
      ]
     },
     "execution_count": 55,
     "metadata": {},
     "output_type": "execute_result"
    }
   ],
   "source": [
    "d1.values()"
   ]
  },
  {
   "cell_type": "code",
   "execution_count": 56,
   "id": "261aaf09",
   "metadata": {},
   "outputs": [
    {
     "data": {
      "text/plain": [
       "dict_items([('id', 1), ('name', 'john'), ('class', 2)])"
      ]
     },
     "execution_count": 56,
     "metadata": {},
     "output_type": "execute_result"
    }
   ],
   "source": [
    "d1.items()"
   ]
  },
  {
   "cell_type": "code",
   "execution_count": 62,
   "id": "b05c77b0",
   "metadata": {},
   "outputs": [],
   "source": [
    "numdict={1:11,2:33,3:44,5:66}"
   ]
  },
  {
   "cell_type": "code",
   "execution_count": 59,
   "id": "fcd04d69",
   "metadata": {},
   "outputs": [
    {
     "data": {
      "text/plain": [
       "11"
      ]
     },
     "execution_count": 59,
     "metadata": {},
     "output_type": "execute_result"
    }
   ],
   "source": [
    "numdict[1]"
   ]
  },
  {
   "cell_type": "code",
   "execution_count": 65,
   "id": "28c3165b",
   "metadata": {},
   "outputs": [
    {
     "data": {
      "text/plain": [
       "66"
      ]
     },
     "execution_count": 65,
     "metadata": {},
     "output_type": "execute_result"
    }
   ],
   "source": [
    "numdict[5]"
   ]
  },
  {
   "cell_type": "code",
   "execution_count": 67,
   "id": "7944c75c",
   "metadata": {},
   "outputs": [
    {
     "data": {
      "text/plain": [
       "dict_keys([1, 2, 3, 5])"
      ]
     },
     "execution_count": 67,
     "metadata": {},
     "output_type": "execute_result"
    }
   ],
   "source": [
    "numdict.keys()"
   ]
  },
  {
   "cell_type": "code",
   "execution_count": 68,
   "id": "5a52f884",
   "metadata": {},
   "outputs": [
    {
     "data": {
      "text/plain": [
       "dict_values([11, 33, 44, 66])"
      ]
     },
     "execution_count": 68,
     "metadata": {},
     "output_type": "execute_result"
    }
   ],
   "source": [
    "numdict.values()"
   ]
  },
  {
   "cell_type": "code",
   "execution_count": 69,
   "id": "1e9c14fc",
   "metadata": {},
   "outputs": [
    {
     "data": {
      "text/plain": [
       "dict_items([(1, 11), (2, 33), (3, 44), (5, 66)])"
      ]
     },
     "execution_count": 69,
     "metadata": {},
     "output_type": "execute_result"
    }
   ],
   "source": [
    "numdict.items()"
   ]
  },
  {
   "cell_type": "code",
   "execution_count": null,
   "id": "37cae3ff",
   "metadata": {},
   "outputs": [],
   "source": []
  }
 ],
 "metadata": {
  "kernelspec": {
   "display_name": "Python 3 (ipykernel)",
   "language": "python",
   "name": "python3"
  },
  "language_info": {
   "codemirror_mode": {
    "name": "ipython",
    "version": 3
   },
   "file_extension": ".py",
   "mimetype": "text/x-python",
   "name": "python",
   "nbconvert_exporter": "python",
   "pygments_lexer": "ipython3",
   "version": "3.9.7"
  }
 },
 "nbformat": 4,
 "nbformat_minor": 5
}
