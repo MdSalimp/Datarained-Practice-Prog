{
 "cells": [
  {
   "cell_type": "markdown",
   "id": "b9eaa4d2",
   "metadata": {},
   "source": [
    "PANDAS FINAL"
   ]
  },
  {
   "cell_type": "code",
   "execution_count": 1,
   "id": "b07524c1",
   "metadata": {},
   "outputs": [],
   "source": [
    "import pandas as pd"
   ]
  },
  {
   "cell_type": "code",
   "execution_count": 2,
   "id": "21d15454",
   "metadata": {},
   "outputs": [],
   "source": [
    "a=pd.Series([1,2,3,4])"
   ]
  },
  {
   "cell_type": "code",
   "execution_count": 3,
   "id": "8dea978c",
   "metadata": {},
   "outputs": [
    {
     "data": {
      "text/plain": [
       "0    1\n",
       "1    2\n",
       "2    3\n",
       "3    4\n",
       "dtype: int64"
      ]
     },
     "execution_count": 3,
     "metadata": {},
     "output_type": "execute_result"
    }
   ],
   "source": [
    "a"
   ]
  },
  {
   "cell_type": "code",
   "execution_count": 4,
   "id": "0cce39f2",
   "metadata": {},
   "outputs": [],
   "source": [
    "b=pd.Series([22,34,45,67])"
   ]
  },
  {
   "cell_type": "code",
   "execution_count": 5,
   "id": "400fa1a2",
   "metadata": {},
   "outputs": [
    {
     "data": {
      "text/plain": [
       "0    22\n",
       "1    34\n",
       "2    45\n",
       "3    67\n",
       "dtype: int64"
      ]
     },
     "execution_count": 5,
     "metadata": {},
     "output_type": "execute_result"
    }
   ],
   "source": [
    "b"
   ]
  },
  {
   "cell_type": "code",
   "execution_count": 6,
   "id": "5aee5ce0",
   "metadata": {},
   "outputs": [],
   "source": [
    "c=pd.Series([1,2,3,4],index=[10,20,30,40],dtype='int32')"
   ]
  },
  {
   "cell_type": "code",
   "execution_count": 7,
   "id": "b5dcbc9e",
   "metadata": {},
   "outputs": [
    {
     "data": {
      "text/plain": [
       "10    1\n",
       "20    2\n",
       "30    3\n",
       "40    4\n",
       "dtype: int32"
      ]
     },
     "execution_count": 7,
     "metadata": {},
     "output_type": "execute_result"
    }
   ],
   "source": [
    "c"
   ]
  },
  {
   "cell_type": "code",
   "execution_count": 9,
   "id": "b6e33f22",
   "metadata": {},
   "outputs": [],
   "source": [
    "s = pd.Series([1,2,3,4],index=[22,56,45,36],dtype='float32')"
   ]
  },
  {
   "cell_type": "code",
   "execution_count": 10,
   "id": "57fe281c",
   "metadata": {},
   "outputs": [
    {
     "data": {
      "text/plain": [
       "22    1.0\n",
       "56    2.0\n",
       "45    3.0\n",
       "36    4.0\n",
       "dtype: float32"
      ]
     },
     "execution_count": 10,
     "metadata": {},
     "output_type": "execute_result"
    }
   ],
   "source": [
    "s"
   ]
  },
  {
   "cell_type": "code",
   "execution_count": 11,
   "id": "049bef60",
   "metadata": {},
   "outputs": [
    {
     "name": "stdout",
     "output_type": "stream",
     "text": [
      "1\n"
     ]
    }
   ],
   "source": [
    "s = pd.Series([1,2,3,4])\n",
    "print(s[0])"
   ]
  },
  {
   "cell_type": "code",
   "execution_count": 12,
   "id": "c5543813",
   "metadata": {},
   "outputs": [
    {
     "data": {
      "text/plain": [
       "4"
      ]
     },
     "execution_count": 12,
     "metadata": {},
     "output_type": "execute_result"
    }
   ],
   "source": [
    "s[3]"
   ]
  },
  {
   "cell_type": "code",
   "execution_count": 13,
   "id": "aa82c180",
   "metadata": {},
   "outputs": [
    {
     "name": "stdout",
     "output_type": "stream",
     "text": [
      "0    1\n",
      "1    2\n",
      "2    3\n",
      "dtype: int64\n"
     ]
    }
   ],
   "source": [
    "s = pd.Series([1,2,3,4])\n",
    "print(s[0:3])"
   ]
  },
  {
   "cell_type": "code",
   "execution_count": 14,
   "id": "51808dc0",
   "metadata": {},
   "outputs": [
    {
     "data": {
      "text/plain": [
       "0    1\n",
       "1    2\n",
       "2    3\n",
       "3    4\n",
       "dtype: int32"
      ]
     },
     "execution_count": 14,
     "metadata": {},
     "output_type": "execute_result"
    }
   ],
   "source": [
    "import numpy as np\n",
    "data=np.array([1,2,3,4])\n",
    "m=pd.Series(data)\n",
    "m"
   ]
  },
  {
   "cell_type": "code",
   "execution_count": 15,
   "id": "317f434b",
   "metadata": {},
   "outputs": [
    {
     "data": {
      "text/plain": [
       "name     X\n",
       "age     12\n",
       "dtype: object"
      ]
     },
     "execution_count": 15,
     "metadata": {},
     "output_type": "execute_result"
    }
   ],
   "source": [
    "demodict={'name':'X','age':12}\n",
    "s1=pd.Series(demodict)\n",
    "s1"
   ]
  },
  {
   "cell_type": "code",
   "execution_count": 16,
   "id": "9de0963e",
   "metadata": {},
   "outputs": [
    {
     "data": {
      "text/plain": [
       "{'name': 'vir', 'runs': 23, 'innings': 3, 'balls': 23}"
      ]
     },
     "execution_count": 16,
     "metadata": {},
     "output_type": "execute_result"
    }
   ],
   "source": [
    "ckr={'name':'vir','runs':23,'innings':3,'balls':23}\n",
    "ckr"
   ]
  },
  {
   "cell_type": "code",
   "execution_count": 17,
   "id": "36258590",
   "metadata": {},
   "outputs": [],
   "source": [
    "s2=pd.Series(ckr)"
   ]
  },
  {
   "cell_type": "code",
   "execution_count": 18,
   "id": "f8be000f",
   "metadata": {},
   "outputs": [
    {
     "data": {
      "text/plain": [
       "name       vir\n",
       "runs        23\n",
       "innings      3\n",
       "balls       23\n",
       "dtype: object"
      ]
     },
     "execution_count": 18,
     "metadata": {},
     "output_type": "execute_result"
    }
   ],
   "source": [
    "s2"
   ]
  },
  {
   "cell_type": "code",
   "execution_count": 22,
   "id": "65c86b09",
   "metadata": {},
   "outputs": [
    {
     "data": {
      "text/html": [
       "<div>\n",
       "<style scoped>\n",
       "    .dataframe tbody tr th:only-of-type {\n",
       "        vertical-align: middle;\n",
       "    }\n",
       "\n",
       "    .dataframe tbody tr th {\n",
       "        vertical-align: top;\n",
       "    }\n",
       "\n",
       "    .dataframe thead th {\n",
       "        text-align: right;\n",
       "    }\n",
       "</style>\n",
       "<table border=\"1\" class=\"dataframe\">\n",
       "  <thead>\n",
       "    <tr style=\"text-align: right;\">\n",
       "      <th></th>\n",
       "      <th>nos</th>\n",
       "    </tr>\n",
       "  </thead>\n",
       "  <tbody>\n",
       "    <tr>\n",
       "      <th>0</th>\n",
       "      <td>1</td>\n",
       "    </tr>\n",
       "    <tr>\n",
       "      <th>1</th>\n",
       "      <td>2</td>\n",
       "    </tr>\n",
       "    <tr>\n",
       "      <th>2</th>\n",
       "      <td>3</td>\n",
       "    </tr>\n",
       "    <tr>\n",
       "      <th>3</th>\n",
       "      <td>4</td>\n",
       "    </tr>\n",
       "  </tbody>\n",
       "</table>\n",
       "</div>"
      ],
      "text/plain": [
       "   nos\n",
       "0    1\n",
       "1    2\n",
       "2    3\n",
       "3    4"
      ]
     },
     "execution_count": 22,
     "metadata": {},
     "output_type": "execute_result"
    }
   ],
   "source": [
    "import pandas as pd\n",
    "data=[1,2,3,4]\n",
    "df=pd.DataFrame(data,columns=['nos'])\n",
    "df"
   ]
  },
  {
   "cell_type": "code",
   "execution_count": 20,
   "id": "72b572f3",
   "metadata": {},
   "outputs": [
    {
     "data": {
      "text/html": [
       "<div>\n",
       "<style scoped>\n",
       "    .dataframe tbody tr th:only-of-type {\n",
       "        vertical-align: middle;\n",
       "    }\n",
       "\n",
       "    .dataframe tbody tr th {\n",
       "        vertical-align: top;\n",
       "    }\n",
       "\n",
       "    .dataframe thead th {\n",
       "        text-align: right;\n",
       "    }\n",
       "</style>\n",
       "<table border=\"1\" class=\"dataframe\">\n",
       "  <thead>\n",
       "    <tr style=\"text-align: right;\">\n",
       "      <th></th>\n",
       "      <th>0</th>\n",
       "      <th>1</th>\n",
       "    </tr>\n",
       "  </thead>\n",
       "  <tbody>\n",
       "    <tr>\n",
       "      <th>0</th>\n",
       "      <td>Alex</td>\n",
       "      <td>10</td>\n",
       "    </tr>\n",
       "    <tr>\n",
       "      <th>1</th>\n",
       "      <td>Bob</td>\n",
       "      <td>12</td>\n",
       "    </tr>\n",
       "    <tr>\n",
       "      <th>2</th>\n",
       "      <td>clarke</td>\n",
       "      <td>13</td>\n",
       "    </tr>\n",
       "  </tbody>\n",
       "</table>\n",
       "</div>"
      ],
      "text/plain": [
       "        0   1\n",
       "0    Alex  10\n",
       "1     Bob  12\n",
       "2  clarke  13"
      ]
     },
     "execution_count": 20,
     "metadata": {},
     "output_type": "execute_result"
    }
   ],
   "source": [
    "data=[['Alex',10],['Bob',12],['clarke',13]]\n",
    "df=pd.DataFrame(data)\n",
    "df"
   ]
  },
  {
   "cell_type": "code",
   "execution_count": 23,
   "id": "b5e9e4fc",
   "metadata": {},
   "outputs": [
    {
     "data": {
      "text/html": [
       "<div>\n",
       "<style scoped>\n",
       "    .dataframe tbody tr th:only-of-type {\n",
       "        vertical-align: middle;\n",
       "    }\n",
       "\n",
       "    .dataframe tbody tr th {\n",
       "        vertical-align: top;\n",
       "    }\n",
       "\n",
       "    .dataframe thead th {\n",
       "        text-align: right;\n",
       "    }\n",
       "</style>\n",
       "<table border=\"1\" class=\"dataframe\">\n",
       "  <thead>\n",
       "    <tr style=\"text-align: right;\">\n",
       "      <th></th>\n",
       "      <th>name</th>\n",
       "      <th>age</th>\n",
       "    </tr>\n",
       "  </thead>\n",
       "  <tbody>\n",
       "    <tr>\n",
       "      <th>0</th>\n",
       "      <td>Alex</td>\n",
       "      <td>10</td>\n",
       "    </tr>\n",
       "    <tr>\n",
       "      <th>1</th>\n",
       "      <td>Bob</td>\n",
       "      <td>12</td>\n",
       "    </tr>\n",
       "    <tr>\n",
       "      <th>2</th>\n",
       "      <td>clarke</td>\n",
       "      <td>13</td>\n",
       "    </tr>\n",
       "  </tbody>\n",
       "</table>\n",
       "</div>"
      ],
      "text/plain": [
       "     name  age\n",
       "0    Alex   10\n",
       "1     Bob   12\n",
       "2  clarke   13"
      ]
     },
     "execution_count": 23,
     "metadata": {},
     "output_type": "execute_result"
    }
   ],
   "source": [
    "data=[['Alex',10],['Bob',12],['clarke',13]]\n",
    "df=pd.DataFrame(data,columns=['name','age'])\n",
    "df"
   ]
  },
  {
   "cell_type": "code",
   "execution_count": 26,
   "id": "92aed263",
   "metadata": {},
   "outputs": [
    {
     "name": "stderr",
     "output_type": "stream",
     "text": [
      "C:\\Users\\Inayat\\anaconda3\\lib\\site-packages\\IPython\\core\\interactiveshell.py:3444: FutureWarning: Could not cast to float32, falling back to object. This behavior is deprecated. In a future version, when a dtype is passed to 'DataFrame', either all columns will be cast to that dtype, or a TypeError will be raised\n",
      "  exec(code_obj, self.user_global_ns, self.user_ns)\n"
     ]
    },
    {
     "data": {
      "text/html": [
       "<div>\n",
       "<style scoped>\n",
       "    .dataframe tbody tr th:only-of-type {\n",
       "        vertical-align: middle;\n",
       "    }\n",
       "\n",
       "    .dataframe tbody tr th {\n",
       "        vertical-align: top;\n",
       "    }\n",
       "\n",
       "    .dataframe thead th {\n",
       "        text-align: right;\n",
       "    }\n",
       "</style>\n",
       "<table border=\"1\" class=\"dataframe\">\n",
       "  <thead>\n",
       "    <tr style=\"text-align: right;\">\n",
       "      <th></th>\n",
       "      <th>name</th>\n",
       "      <th>age</th>\n",
       "    </tr>\n",
       "  </thead>\n",
       "  <tbody>\n",
       "    <tr>\n",
       "      <th>0</th>\n",
       "      <td>Alex</td>\n",
       "      <td>10.0</td>\n",
       "    </tr>\n",
       "    <tr>\n",
       "      <th>1</th>\n",
       "      <td>Bob</td>\n",
       "      <td>12.0</td>\n",
       "    </tr>\n",
       "    <tr>\n",
       "      <th>2</th>\n",
       "      <td>clarke</td>\n",
       "      <td>13.0</td>\n",
       "    </tr>\n",
       "  </tbody>\n",
       "</table>\n",
       "</div>"
      ],
      "text/plain": [
       "     name   age\n",
       "0    Alex  10.0\n",
       "1     Bob  12.0\n",
       "2  clarke  13.0"
      ]
     },
     "execution_count": 26,
     "metadata": {},
     "output_type": "execute_result"
    }
   ],
   "source": [
    "data=[['Alex',10],['Bob',12],['clarke',13]]\n",
    "df=pd.DataFrame(data,columns=['name','age'],dtype='float32')\n",
    "df"
   ]
  },
  {
   "cell_type": "code",
   "execution_count": 27,
   "id": "a32804e8",
   "metadata": {},
   "outputs": [
    {
     "name": "stdout",
     "output_type": "stream",
     "text": [
      "     name   age\n",
      "0    Alex  10.0\n",
      "1     Bob  12.0\n",
      "2  clarke  13.0\n"
     ]
    },
    {
     "name": "stderr",
     "output_type": "stream",
     "text": [
      "C:\\Users\\Inayat\\anaconda3\\lib\\site-packages\\IPython\\core\\interactiveshell.py:3444: FutureWarning: Could not cast to float64, falling back to object. This behavior is deprecated. In a future version, when a dtype is passed to 'DataFrame', either all columns will be cast to that dtype, or a TypeError will be raised\n",
      "  exec(code_obj, self.user_global_ns, self.user_ns)\n"
     ]
    }
   ],
   "source": [
    "data=[['Alex',10],['Bob',12],['clarke',13]]\n",
    "df=pd.DataFrame(data,columns=['name','age'],dtype=float)\n",
    "print(df)"
   ]
  },
  {
   "cell_type": "code",
   "execution_count": 28,
   "id": "50c00603",
   "metadata": {},
   "outputs": [
    {
     "data": {
      "text/html": [
       "<div>\n",
       "<style scoped>\n",
       "    .dataframe tbody tr th:only-of-type {\n",
       "        vertical-align: middle;\n",
       "    }\n",
       "\n",
       "    .dataframe tbody tr th {\n",
       "        vertical-align: top;\n",
       "    }\n",
       "\n",
       "    .dataframe thead th {\n",
       "        text-align: right;\n",
       "    }\n",
       "</style>\n",
       "<table border=\"1\" class=\"dataframe\">\n",
       "  <thead>\n",
       "    <tr style=\"text-align: right;\">\n",
       "      <th></th>\n",
       "      <th>name</th>\n",
       "      <th>Age</th>\n",
       "    </tr>\n",
       "  </thead>\n",
       "  <tbody>\n",
       "    <tr>\n",
       "      <th>0</th>\n",
       "      <td>tom</td>\n",
       "      <td>21</td>\n",
       "    </tr>\n",
       "    <tr>\n",
       "      <th>1</th>\n",
       "      <td>jac</td>\n",
       "      <td>45</td>\n",
       "    </tr>\n",
       "    <tr>\n",
       "      <th>2</th>\n",
       "      <td>ste</td>\n",
       "      <td>56</td>\n",
       "    </tr>\n",
       "    <tr>\n",
       "      <th>3</th>\n",
       "      <td>ric</td>\n",
       "      <td>78</td>\n",
       "    </tr>\n",
       "  </tbody>\n",
       "</table>\n",
       "</div>"
      ],
      "text/plain": [
       "  name  Age\n",
       "0  tom   21\n",
       "1  jac   45\n",
       "2  ste   56\n",
       "3  ric   78"
      ]
     },
     "execution_count": 28,
     "metadata": {},
     "output_type": "execute_result"
    }
   ],
   "source": [
    "data={'name':['tom','jac','ste','ric'],'Age':[21,45,56,78]}\n",
    "df=pd.DataFrame(data)\n",
    "df"
   ]
  },
  {
   "cell_type": "code",
   "execution_count": 29,
   "id": "7fdf95c0",
   "metadata": {},
   "outputs": [
    {
     "data": {
      "text/html": [
       "<div>\n",
       "<style scoped>\n",
       "    .dataframe tbody tr th:only-of-type {\n",
       "        vertical-align: middle;\n",
       "    }\n",
       "\n",
       "    .dataframe tbody tr th {\n",
       "        vertical-align: top;\n",
       "    }\n",
       "\n",
       "    .dataframe thead th {\n",
       "        text-align: right;\n",
       "    }\n",
       "</style>\n",
       "<table border=\"1\" class=\"dataframe\">\n",
       "  <thead>\n",
       "    <tr style=\"text-align: right;\">\n",
       "      <th></th>\n",
       "      <th>a</th>\n",
       "      <th>b</th>\n",
       "      <th>c</th>\n",
       "    </tr>\n",
       "  </thead>\n",
       "  <tbody>\n",
       "    <tr>\n",
       "      <th>0</th>\n",
       "      <td>1.0</td>\n",
       "      <td>2.0</td>\n",
       "      <td>NaN</td>\n",
       "    </tr>\n",
       "    <tr>\n",
       "      <th>1</th>\n",
       "      <td>5.0</td>\n",
       "      <td>6.0</td>\n",
       "      <td>21.0</td>\n",
       "    </tr>\n",
       "  </tbody>\n",
       "</table>\n",
       "</div>"
      ],
      "text/plain": [
       "     a    b     c\n",
       "0  1.0  2.0   NaN\n",
       "1  5.0  6.0  21.0"
      ]
     },
     "execution_count": 29,
     "metadata": {},
     "output_type": "execute_result"
    }
   ],
   "source": [
    "data=[{'a':1,'b':2},{'a':5,'b':6,'c':21}]\n",
    "df=pd.DataFrame(data,dtype=float)\n",
    "df"
   ]
  },
  {
   "cell_type": "code",
   "execution_count": 1,
   "id": "6cde3291",
   "metadata": {},
   "outputs": [
    {
     "data": {
      "text/html": [
       "<div>\n",
       "<style scoped>\n",
       "    .dataframe tbody tr th:only-of-type {\n",
       "        vertical-align: middle;\n",
       "    }\n",
       "\n",
       "    .dataframe tbody tr th {\n",
       "        vertical-align: top;\n",
       "    }\n",
       "\n",
       "    .dataframe thead th {\n",
       "        text-align: right;\n",
       "    }\n",
       "</style>\n",
       "<table border=\"1\" class=\"dataframe\">\n",
       "  <thead>\n",
       "    <tr style=\"text-align: right;\">\n",
       "      <th></th>\n",
       "      <th>A</th>\n",
       "      <th>B</th>\n",
       "      <th>C</th>\n",
       "      <th>D</th>\n",
       "    </tr>\n",
       "  </thead>\n",
       "  <tbody>\n",
       "    <tr>\n",
       "      <th>0</th>\n",
       "      <td>-0.545642</td>\n",
       "      <td>0.985347</td>\n",
       "      <td>-0.162515</td>\n",
       "      <td>-0.368866</td>\n",
       "    </tr>\n",
       "    <tr>\n",
       "      <th>1</th>\n",
       "      <td>0.830126</td>\n",
       "      <td>0.024166</td>\n",
       "      <td>0.435067</td>\n",
       "      <td>0.154734</td>\n",
       "    </tr>\n",
       "    <tr>\n",
       "      <th>2</th>\n",
       "      <td>-1.563677</td>\n",
       "      <td>0.331171</td>\n",
       "      <td>0.480758</td>\n",
       "      <td>0.577488</td>\n",
       "    </tr>\n",
       "    <tr>\n",
       "      <th>3</th>\n",
       "      <td>-0.255287</td>\n",
       "      <td>-0.254886</td>\n",
       "      <td>-0.962254</td>\n",
       "      <td>1.715077</td>\n",
       "    </tr>\n",
       "    <tr>\n",
       "      <th>4</th>\n",
       "      <td>-1.879881</td>\n",
       "      <td>-0.073642</td>\n",
       "      <td>0.249539</td>\n",
       "      <td>-0.382166</td>\n",
       "    </tr>\n",
       "    <tr>\n",
       "      <th>5</th>\n",
       "      <td>-1.819692</td>\n",
       "      <td>-1.153854</td>\n",
       "      <td>-0.337915</td>\n",
       "      <td>0.658645</td>\n",
       "    </tr>\n",
       "    <tr>\n",
       "      <th>6</th>\n",
       "      <td>-0.942898</td>\n",
       "      <td>0.900662</td>\n",
       "      <td>-0.915055</td>\n",
       "      <td>0.916782</td>\n",
       "    </tr>\n",
       "    <tr>\n",
       "      <th>7</th>\n",
       "      <td>-0.640218</td>\n",
       "      <td>0.294056</td>\n",
       "      <td>-0.040102</td>\n",
       "      <td>0.232158</td>\n",
       "    </tr>\n",
       "  </tbody>\n",
       "</table>\n",
       "</div>"
      ],
      "text/plain": [
       "          A         B         C         D\n",
       "0 -0.545642  0.985347 -0.162515 -0.368866\n",
       "1  0.830126  0.024166  0.435067  0.154734\n",
       "2 -1.563677  0.331171  0.480758  0.577488\n",
       "3 -0.255287 -0.254886 -0.962254  1.715077\n",
       "4 -1.879881 -0.073642  0.249539 -0.382166\n",
       "5 -1.819692 -1.153854 -0.337915  0.658645\n",
       "6 -0.942898  0.900662 -0.915055  0.916782\n",
       "7 -0.640218  0.294056 -0.040102  0.232158"
      ]
     },
     "execution_count": 1,
     "metadata": {},
     "output_type": "execute_result"
    }
   ],
   "source": [
    "import pandas as pd\n",
    "import numpy as np\n",
    "df=pd.DataFrame(np.random.randn(8,4),columns=['A','B','C','D'])\n",
    "df"
   ]
  },
  {
   "cell_type": "code",
   "execution_count": 2,
   "id": "7f7a2713",
   "metadata": {},
   "outputs": [
    {
     "name": "stdout",
     "output_type": "stream",
     "text": [
      "0   -0.545642\n",
      "1    0.830126\n",
      "2   -1.563677\n",
      "3   -0.255287\n",
      "4   -1.879881\n",
      "5   -1.819692\n",
      "6   -0.942898\n",
      "7   -0.640218\n",
      "Name: A, dtype: float64\n"
     ]
    }
   ],
   "source": [
    "print(df.loc[:,'A'])"
   ]
  },
  {
   "cell_type": "code",
   "execution_count": 12,
   "id": "7e719b3b",
   "metadata": {},
   "outputs": [
    {
     "name": "stdout",
     "output_type": "stream",
     "text": [
      "          A         B         C         D\n",
      "0 -0.545642  0.985347 -0.162515 -0.368866\n",
      "1  0.830126  0.024166  0.435067  0.154734\n",
      "2 -1.563677  0.331171  0.480758  0.577488\n",
      "3 -0.255287 -0.254886 -0.962254  1.715077\n",
      "4 -1.879881 -0.073642  0.249539 -0.382166\n",
      "5 -1.819692 -1.153854 -0.337915  0.658645\n",
      "6 -0.942898  0.900662 -0.915055  0.916782\n",
      "7 -0.640218  0.294056 -0.040102  0.232158\n"
     ]
    }
   ],
   "source": [
    "print(df.loc[:'D'])"
   ]
  },
  {
   "cell_type": "code",
   "execution_count": 14,
   "id": "33161e0a",
   "metadata": {},
   "outputs": [
    {
     "name": "stdout",
     "output_type": "stream",
     "text": [
      "          A         B         C         D\n",
      "0 -0.545642  0.985347 -0.162515 -0.368866\n",
      "1  0.830126  0.024166  0.435067  0.154734\n",
      "2 -1.563677  0.331171  0.480758  0.577488\n",
      "3 -0.255287 -0.254886 -0.962254  1.715077\n"
     ]
    }
   ],
   "source": [
    "print(df.iloc[:4,:])"
   ]
  },
  {
   "cell_type": "code",
   "execution_count": 8,
   "id": "42b74152",
   "metadata": {},
   "outputs": [
    {
     "name": "stdout",
     "output_type": "stream",
     "text": [
      "          B         C\n",
      "0  0.985347 -0.162515\n",
      "1  0.024166  0.435067\n",
      "2  0.331171  0.480758\n",
      "3 -0.254886 -0.962254\n",
      "4 -0.073642  0.249539\n",
      "5 -1.153854 -0.337915\n",
      "6  0.900662 -0.915055\n",
      "7  0.294056 -0.040102\n"
     ]
    }
   ],
   "source": [
    "print(df.loc[:,['B','C']])"
   ]
  },
  {
   "cell_type": "code",
   "execution_count": 20,
   "id": "266835a9",
   "metadata": {},
   "outputs": [
    {
     "name": "stdout",
     "output_type": "stream",
     "text": [
      "0    0.985347\n",
      "1    0.024166\n",
      "2    0.331171\n",
      "3   -0.254886\n",
      "Name: B, dtype: float64\n"
     ]
    }
   ],
   "source": [
    "print(df.iloc[:4,1])"
   ]
  },
  {
   "cell_type": "code",
   "execution_count": 31,
   "id": "ce2893e9",
   "metadata": {},
   "outputs": [
    {
     "name": "stdout",
     "output_type": "stream",
     "text": [
      "          A         B         C         D\n",
      "0 -0.545642  0.985347 -0.162515 -0.368866\n",
      "1  0.830126  0.024166  0.435067  0.154734\n",
      "2 -1.563677  0.331171  0.480758  0.577488\n",
      "3 -0.255287 -0.254886 -0.962254  1.715077\n",
      "4 -1.879881 -0.073642  0.249539 -0.382166\n",
      "5 -1.819692 -1.153854 -0.337915  0.658645\n",
      "6 -0.942898  0.900662 -0.915055  0.916782\n",
      "7 -0.640218  0.294056 -0.040102  0.232158\n"
     ]
    }
   ],
   "source": [
    "print(df.iloc[:8,:])"
   ]
  },
  {
   "cell_type": "code",
   "execution_count": 33,
   "id": "cd1b13a8",
   "metadata": {},
   "outputs": [
    {
     "name": "stdout",
     "output_type": "stream",
     "text": [
      "0   -0.545642\n",
      "1    0.830126\n",
      "2   -1.563677\n",
      "3   -0.255287\n",
      "4   -1.879881\n",
      "5   -1.819692\n",
      "6   -0.942898\n",
      "7   -0.640218\n",
      "Name: A, dtype: float64\n"
     ]
    }
   ],
   "source": [
    "print(df.iloc[:,0])"
   ]
  },
  {
   "cell_type": "code",
   "execution_count": 40,
   "id": "7a5590e0",
   "metadata": {},
   "outputs": [
    {
     "name": "stdout",
     "output_type": "stream",
     "text": [
      "          A         B         C         D\n",
      "0 -0.545642  0.985347 -0.162515 -0.368866\n",
      "1  0.830126  0.024166  0.435067  0.154734\n",
      "2 -1.563677  0.331171  0.480758  0.577488\n",
      "3 -0.255287 -0.254886 -0.962254  1.715077\n",
      "4 -1.879881 -0.073642  0.249539 -0.382166\n",
      "5 -1.819692 -1.153854 -0.337915  0.658645\n",
      "6 -0.942898  0.900662 -0.915055  0.916782\n",
      "7 -0.640218  0.294056 -0.040102  0.232158\n"
     ]
    }
   ],
   "source": [
    "print(df.loc[:'D'])"
   ]
  },
  {
   "cell_type": "code",
   "execution_count": 44,
   "id": "31dff4bb",
   "metadata": {},
   "outputs": [
    {
     "name": "stdout",
     "output_type": "stream",
     "text": [
      "1    0.830126\n",
      "2   -1.563677\n",
      "3   -0.255287\n",
      "Name: A, dtype: float64\n"
     ]
    }
   ],
   "source": [
    "print(df.iloc[1:4,0])"
   ]
  },
  {
   "cell_type": "code",
   "execution_count": 54,
   "id": "783d9e23",
   "metadata": {},
   "outputs": [
    {
     "name": "stdout",
     "output_type": "stream",
     "text": [
      "          A         B         C         D\n",
      "1  0.830126  0.024166  0.435067  0.154734\n",
      "2 -1.563677  0.331171  0.480758  0.577488\n",
      "3 -0.255287 -0.254886 -0.962254  1.715077\n",
      "4 -1.879881 -0.073642  0.249539 -0.382166\n",
      "5 -1.819692 -1.153854 -0.337915  0.658645\n",
      "6 -0.942898  0.900662 -0.915055  0.916782\n",
      "7 -0.640218  0.294056 -0.040102  0.232158\n"
     ]
    }
   ],
   "source": [
    "print(df.iloc[1:8,0:4])"
   ]
  },
  {
   "cell_type": "code",
   "execution_count": 55,
   "id": "9c91ad5d",
   "metadata": {},
   "outputs": [
    {
     "name": "stdout",
     "output_type": "stream",
     "text": [
      "          B         C         D\n",
      "1  0.024166  0.435067  0.154734\n",
      "2  0.331171  0.480758  0.577488\n"
     ]
    }
   ],
   "source": [
    "print(df.iloc[1:3,1:4])"
   ]
  },
  {
   "cell_type": "code",
   "execution_count": 56,
   "id": "4d56f286",
   "metadata": {},
   "outputs": [
    {
     "name": "stdout",
     "output_type": "stream",
     "text": [
      "          B         C         D\n",
      "0  0.985347 -0.162515 -0.368866\n",
      "1  0.024166  0.435067  0.154734\n",
      "2  0.331171  0.480758  0.577488\n",
      "3 -0.254886 -0.962254  1.715077\n",
      "4 -0.073642  0.249539 -0.382166\n",
      "5 -1.153854 -0.337915  0.658645\n",
      "6  0.900662 -0.915055  0.916782\n",
      "7  0.294056 -0.040102  0.232158\n"
     ]
    }
   ],
   "source": [
    "print(df.iloc[:,1:4])"
   ]
  },
  {
   "cell_type": "code",
   "execution_count": 57,
   "id": "9f29e6f6",
   "metadata": {},
   "outputs": [
    {
     "name": "stdout",
     "output_type": "stream",
     "text": [
      "          A         B         C         D\n",
      "1  0.830126  0.024166  0.435067  0.154734\n",
      "2 -1.563677  0.331171  0.480758  0.577488\n"
     ]
    }
   ],
   "source": [
    "print(df.iloc[1:3,:])"
   ]
  },
  {
   "cell_type": "code",
   "execution_count": 59,
   "id": "a13768a5",
   "metadata": {},
   "outputs": [
    {
     "name": "stdout",
     "output_type": "stream",
     "text": [
      "2    0.577488\n",
      "Name: D, dtype: float64\n"
     ]
    }
   ],
   "source": [
    "print(df.iloc[2:3,-1])"
   ]
  },
  {
   "cell_type": "code",
   "execution_count": 60,
   "id": "7d46a884",
   "metadata": {},
   "outputs": [
    {
     "name": "stdout",
     "output_type": "stream",
     "text": [
      "          A         B\n",
      "0 -0.545642  0.985347\n",
      "1  0.830126  0.024166\n",
      "2 -1.563677  0.331171\n",
      "3 -0.255287 -0.254886\n",
      "4 -1.879881 -0.073642\n",
      "5 -1.819692 -1.153854\n",
      "6 -0.942898  0.900662\n",
      "7 -0.640218  0.294056\n"
     ]
    }
   ],
   "source": [
    "print(df.iloc[:,-4:-2])"
   ]
  },
  {
   "cell_type": "code",
   "execution_count": null,
   "id": "a879d02f",
   "metadata": {},
   "outputs": [],
   "source": []
  }
 ],
 "metadata": {
  "kernelspec": {
   "display_name": "Python 3 (ipykernel)",
   "language": "python",
   "name": "python3"
  },
  "language_info": {
   "codemirror_mode": {
    "name": "ipython",
    "version": 3
   },
   "file_extension": ".py",
   "mimetype": "text/x-python",
   "name": "python",
   "nbconvert_exporter": "python",
   "pygments_lexer": "ipython3",
   "version": "3.9.7"
  }
 },
 "nbformat": 4,
 "nbformat_minor": 5
}
