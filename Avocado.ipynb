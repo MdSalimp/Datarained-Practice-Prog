{
 "cells": [
  {
   "cell_type": "markdown",
   "id": "443ae258",
   "metadata": {},
   "source": [
    "Avocado Project\n",
    "Project Description\n",
    "This data was downloaded from the Hass Avocado Board website in May of 2018 & compiled into a single CSV. \n",
    "The table below represents weekly 2018 retail scan data for National retail volume (units) and price. Retail scan data comes directly from retailers’ cash registers based on actual retail sales of Hass avocados. \n",
    "Starting in 2013, the table below reflects an expanded, multi-outlet retail data set. Multi-outlet reporting includes an aggregation of the following channels: grocery, mass, club, drug, dollar and military. The Average Price (of avocados) in the table reflects a per unit (per avocado) cost, even when multiple units (avocados) are sold in bags. \n",
    "The Product Lookup codes (PLU’s) in the table are only for Hass avocados. Other varieties of avocados (e.g. greenskins) are not included in this table.\n",
    "Some relevant columns in the dataset:\n",
    "•\tDate - The date of the observation\n",
    "•\tAveragePrice - the average price of a single avocado\n",
    "•\ttype - conventional or organic\n",
    "•\tyear - the year\n",
    "•\tRegion - the city or region of the observation\n",
    "•\tTotal Volume - Total number of avocados sold\n",
    "•\t4046 - Total number of avocados with PLU 4046 sold\n",
    "•\t4225 - Total number of avocados with PLU 4225 sold\n",
    "•\t4770 - Total number of avocados with PLU 4770 sold\n",
    "\n",
    "Inspiration /Label \n",
    "The dataset can be seen in two angles to find the region and find the average price .\n",
    "Task: One of Classification and other of Regression\n",
    "Do both tasks in the same .ipynb file and submit at single file. \n",
    "\n",
    "Dataset Link-\n",
    "•\thttps://github.com/dsrscientist/Data-Science-ML-Capstone-Projects/blob/master/avocado.csv.zip\n",
    "\n"
   ]
  },
  {
   "cell_type": "markdown",
   "id": "5e62ee41",
   "metadata": {},
   "source": [
    "Importing of Libraries"
   ]
  },
  {
   "cell_type": "markdown",
   "id": "bb1e78fc",
   "metadata": {},
   "source": [
    "# Avacado project as Regression problem"
   ]
  },
  {
   "cell_type": "code",
   "execution_count": 31,
   "id": "0b36f601",
   "metadata": {},
   "outputs": [],
   "source": [
    "import pandas as pd\n",
    "import numpy as np\n",
    "import matplotlib\n",
    "from matplotlib import pyplot as plt\n",
    "import matplotlib.pyplot as plt\n",
    "import seaborn as sns\n",
    "import sklearn\n",
    "from sklearn.model_selection import train_test_split\n",
    "from sklearn.preprocessing import StandardScaler\n",
    "from sklearn.preprocessing import LabelEncoder\n",
    "from sklearn import tree\n",
    "from sklearn.preprocessing import power_transform\n",
    "from sklearn.ensemble import RandomForestRegressor,ExtraTreesRegressor\n",
    "from sklearn.linear_model import LinearRegression\n",
    "from sklearn.svm import SVR\n",
    "from sklearn.svm import SVC\n",
    "from sklearn.linear_model import LogisticRegression\n",
    "from sklearn.tree import DecisionTreeRegressor\n",
    "from sklearn.model_selection import cross_val_score\n",
    "from sklearn.model_selection import GridSearchCV\n",
    "from sklearn.neighbors import KNeighborsRegressor\n",
    "from scipy.stats.mstats import normaltest\n",
    "from sklearn.metrics import mean_absolute_error,mean_squared_error,r2_score\n",
    "from sklearn.metrics import accuracy_score,roc_curve, roc_auc_score\n",
    "from sklearn.naive_bayes import GaussianNB\n",
    "from imblearn.over_sampling import SMOTE\n",
    "from statsmodels.stats.outliers_influence import variance_inflation_factor\n",
    "from sklearn.ensemble import AdaBoostRegressor\n",
    "from sklearn.ensemble import GradientBoostingRegressor\n",
    "from sklearn.metrics import roc_curve\n",
    "from sklearn.metrics  import roc_auc_score\n",
    "from sklearn.metrics import r2_score\n",
    "from scipy.stats.mstats import normaltest\n",
    "import warnings\n",
    "warnings.filterwarnings('ignore')"
   ]
  },
  {
   "cell_type": "markdown",
   "id": "05ddb689",
   "metadata": {},
   "source": [
    "Extracting the Data"
   ]
  },
  {
   "cell_type": "code",
   "execution_count": 35,
   "id": "bb881aeb",
   "metadata": {},
   "outputs": [
    {
     "data": {
      "text/html": [
       "<div>\n",
       "<style scoped>\n",
       "    .dataframe tbody tr th:only-of-type {\n",
       "        vertical-align: middle;\n",
       "    }\n",
       "\n",
       "    .dataframe tbody tr th {\n",
       "        vertical-align: top;\n",
       "    }\n",
       "\n",
       "    .dataframe thead th {\n",
       "        text-align: right;\n",
       "    }\n",
       "</style>\n",
       "<table border=\"1\" class=\"dataframe\">\n",
       "  <thead>\n",
       "    <tr style=\"text-align: right;\">\n",
       "      <th></th>\n",
       "      <th>Unnamed: 0</th>\n",
       "      <th>Date</th>\n",
       "      <th>AveragePrice</th>\n",
       "      <th>Total Volume</th>\n",
       "      <th>4046</th>\n",
       "      <th>4225</th>\n",
       "      <th>4770</th>\n",
       "      <th>Total Bags</th>\n",
       "      <th>Small Bags</th>\n",
       "      <th>Large Bags</th>\n",
       "      <th>XLarge Bags</th>\n",
       "      <th>type</th>\n",
       "      <th>year</th>\n",
       "      <th>region</th>\n",
       "    </tr>\n",
       "  </thead>\n",
       "  <tbody>\n",
       "    <tr>\n",
       "      <th>0</th>\n",
       "      <td>0</td>\n",
       "      <td>2015-12-27</td>\n",
       "      <td>1.33</td>\n",
       "      <td>64236.62</td>\n",
       "      <td>1036.74</td>\n",
       "      <td>54454.85</td>\n",
       "      <td>48.16</td>\n",
       "      <td>8696.87</td>\n",
       "      <td>8603.62</td>\n",
       "      <td>93.25</td>\n",
       "      <td>0.0</td>\n",
       "      <td>conventional</td>\n",
       "      <td>2015</td>\n",
       "      <td>Albany</td>\n",
       "    </tr>\n",
       "    <tr>\n",
       "      <th>1</th>\n",
       "      <td>1</td>\n",
       "      <td>2015-12-20</td>\n",
       "      <td>1.35</td>\n",
       "      <td>54876.98</td>\n",
       "      <td>674.28</td>\n",
       "      <td>44638.81</td>\n",
       "      <td>58.33</td>\n",
       "      <td>9505.56</td>\n",
       "      <td>9408.07</td>\n",
       "      <td>97.49</td>\n",
       "      <td>0.0</td>\n",
       "      <td>conventional</td>\n",
       "      <td>2015</td>\n",
       "      <td>Albany</td>\n",
       "    </tr>\n",
       "    <tr>\n",
       "      <th>2</th>\n",
       "      <td>2</td>\n",
       "      <td>2015-12-13</td>\n",
       "      <td>0.93</td>\n",
       "      <td>118220.22</td>\n",
       "      <td>794.70</td>\n",
       "      <td>109149.67</td>\n",
       "      <td>130.50</td>\n",
       "      <td>8145.35</td>\n",
       "      <td>8042.21</td>\n",
       "      <td>103.14</td>\n",
       "      <td>0.0</td>\n",
       "      <td>conventional</td>\n",
       "      <td>2015</td>\n",
       "      <td>Albany</td>\n",
       "    </tr>\n",
       "    <tr>\n",
       "      <th>3</th>\n",
       "      <td>3</td>\n",
       "      <td>2015-12-06</td>\n",
       "      <td>1.08</td>\n",
       "      <td>78992.15</td>\n",
       "      <td>1132.00</td>\n",
       "      <td>71976.41</td>\n",
       "      <td>72.58</td>\n",
       "      <td>5811.16</td>\n",
       "      <td>5677.40</td>\n",
       "      <td>133.76</td>\n",
       "      <td>0.0</td>\n",
       "      <td>conventional</td>\n",
       "      <td>2015</td>\n",
       "      <td>Albany</td>\n",
       "    </tr>\n",
       "    <tr>\n",
       "      <th>4</th>\n",
       "      <td>4</td>\n",
       "      <td>2015-11-29</td>\n",
       "      <td>1.28</td>\n",
       "      <td>51039.60</td>\n",
       "      <td>941.48</td>\n",
       "      <td>43838.39</td>\n",
       "      <td>75.78</td>\n",
       "      <td>6183.95</td>\n",
       "      <td>5986.26</td>\n",
       "      <td>197.69</td>\n",
       "      <td>0.0</td>\n",
       "      <td>conventional</td>\n",
       "      <td>2015</td>\n",
       "      <td>Albany</td>\n",
       "    </tr>\n",
       "    <tr>\n",
       "      <th>...</th>\n",
       "      <td>...</td>\n",
       "      <td>...</td>\n",
       "      <td>...</td>\n",
       "      <td>...</td>\n",
       "      <td>...</td>\n",
       "      <td>...</td>\n",
       "      <td>...</td>\n",
       "      <td>...</td>\n",
       "      <td>...</td>\n",
       "      <td>...</td>\n",
       "      <td>...</td>\n",
       "      <td>...</td>\n",
       "      <td>...</td>\n",
       "      <td>...</td>\n",
       "    </tr>\n",
       "    <tr>\n",
       "      <th>18244</th>\n",
       "      <td>7</td>\n",
       "      <td>2018-02-04</td>\n",
       "      <td>1.63</td>\n",
       "      <td>17074.83</td>\n",
       "      <td>2046.96</td>\n",
       "      <td>1529.20</td>\n",
       "      <td>0.00</td>\n",
       "      <td>13498.67</td>\n",
       "      <td>13066.82</td>\n",
       "      <td>431.85</td>\n",
       "      <td>0.0</td>\n",
       "      <td>organic</td>\n",
       "      <td>2018</td>\n",
       "      <td>WestTexNewMexico</td>\n",
       "    </tr>\n",
       "    <tr>\n",
       "      <th>18245</th>\n",
       "      <td>8</td>\n",
       "      <td>2018-01-28</td>\n",
       "      <td>1.71</td>\n",
       "      <td>13888.04</td>\n",
       "      <td>1191.70</td>\n",
       "      <td>3431.50</td>\n",
       "      <td>0.00</td>\n",
       "      <td>9264.84</td>\n",
       "      <td>8940.04</td>\n",
       "      <td>324.80</td>\n",
       "      <td>0.0</td>\n",
       "      <td>organic</td>\n",
       "      <td>2018</td>\n",
       "      <td>WestTexNewMexico</td>\n",
       "    </tr>\n",
       "    <tr>\n",
       "      <th>18246</th>\n",
       "      <td>9</td>\n",
       "      <td>2018-01-21</td>\n",
       "      <td>1.87</td>\n",
       "      <td>13766.76</td>\n",
       "      <td>1191.92</td>\n",
       "      <td>2452.79</td>\n",
       "      <td>727.94</td>\n",
       "      <td>9394.11</td>\n",
       "      <td>9351.80</td>\n",
       "      <td>42.31</td>\n",
       "      <td>0.0</td>\n",
       "      <td>organic</td>\n",
       "      <td>2018</td>\n",
       "      <td>WestTexNewMexico</td>\n",
       "    </tr>\n",
       "    <tr>\n",
       "      <th>18247</th>\n",
       "      <td>10</td>\n",
       "      <td>2018-01-14</td>\n",
       "      <td>1.93</td>\n",
       "      <td>16205.22</td>\n",
       "      <td>1527.63</td>\n",
       "      <td>2981.04</td>\n",
       "      <td>727.01</td>\n",
       "      <td>10969.54</td>\n",
       "      <td>10919.54</td>\n",
       "      <td>50.00</td>\n",
       "      <td>0.0</td>\n",
       "      <td>organic</td>\n",
       "      <td>2018</td>\n",
       "      <td>WestTexNewMexico</td>\n",
       "    </tr>\n",
       "    <tr>\n",
       "      <th>18248</th>\n",
       "      <td>11</td>\n",
       "      <td>2018-01-07</td>\n",
       "      <td>1.62</td>\n",
       "      <td>17489.58</td>\n",
       "      <td>2894.77</td>\n",
       "      <td>2356.13</td>\n",
       "      <td>224.53</td>\n",
       "      <td>12014.15</td>\n",
       "      <td>11988.14</td>\n",
       "      <td>26.01</td>\n",
       "      <td>0.0</td>\n",
       "      <td>organic</td>\n",
       "      <td>2018</td>\n",
       "      <td>WestTexNewMexico</td>\n",
       "    </tr>\n",
       "  </tbody>\n",
       "</table>\n",
       "<p>18249 rows × 14 columns</p>\n",
       "</div>"
      ],
      "text/plain": [
       "       Unnamed: 0        Date  AveragePrice  Total Volume     4046       4225  \\\n",
       "0               0  2015-12-27          1.33      64236.62  1036.74   54454.85   \n",
       "1               1  2015-12-20          1.35      54876.98   674.28   44638.81   \n",
       "2               2  2015-12-13          0.93     118220.22   794.70  109149.67   \n",
       "3               3  2015-12-06          1.08      78992.15  1132.00   71976.41   \n",
       "4               4  2015-11-29          1.28      51039.60   941.48   43838.39   \n",
       "...           ...         ...           ...           ...      ...        ...   \n",
       "18244           7  2018-02-04          1.63      17074.83  2046.96    1529.20   \n",
       "18245           8  2018-01-28          1.71      13888.04  1191.70    3431.50   \n",
       "18246           9  2018-01-21          1.87      13766.76  1191.92    2452.79   \n",
       "18247          10  2018-01-14          1.93      16205.22  1527.63    2981.04   \n",
       "18248          11  2018-01-07          1.62      17489.58  2894.77    2356.13   \n",
       "\n",
       "         4770  Total Bags  Small Bags  Large Bags  XLarge Bags          type  \\\n",
       "0       48.16     8696.87     8603.62       93.25          0.0  conventional   \n",
       "1       58.33     9505.56     9408.07       97.49          0.0  conventional   \n",
       "2      130.50     8145.35     8042.21      103.14          0.0  conventional   \n",
       "3       72.58     5811.16     5677.40      133.76          0.0  conventional   \n",
       "4       75.78     6183.95     5986.26      197.69          0.0  conventional   \n",
       "...       ...         ...         ...         ...          ...           ...   \n",
       "18244    0.00    13498.67    13066.82      431.85          0.0       organic   \n",
       "18245    0.00     9264.84     8940.04      324.80          0.0       organic   \n",
       "18246  727.94     9394.11     9351.80       42.31          0.0       organic   \n",
       "18247  727.01    10969.54    10919.54       50.00          0.0       organic   \n",
       "18248  224.53    12014.15    11988.14       26.01          0.0       organic   \n",
       "\n",
       "       year            region  \n",
       "0      2015            Albany  \n",
       "1      2015            Albany  \n",
       "2      2015            Albany  \n",
       "3      2015            Albany  \n",
       "4      2015            Albany  \n",
       "...     ...               ...  \n",
       "18244  2018  WestTexNewMexico  \n",
       "18245  2018  WestTexNewMexico  \n",
       "18246  2018  WestTexNewMexico  \n",
       "18247  2018  WestTexNewMexico  \n",
       "18248  2018  WestTexNewMexico  \n",
       "\n",
       "[18249 rows x 14 columns]"
      ]
     },
     "execution_count": 35,
     "metadata": {},
     "output_type": "execute_result"
    }
   ],
   "source": [
    "Avocado=pd.read_csv('avocado.csv')\n",
    "Avocado"
   ]
  },
  {
   "cell_type": "markdown",
   "id": "b280d72e",
   "metadata": {},
   "source": [
    "The input contains boths label and target variable.\n",
    "In task 1, \"Average Price\" is the target variable which contains continuous data, so it is a regression type problem.\n",
    "In task 2, \"Region\" is the target variable which has classes, so it is a classification problem.\n"
   ]
  },
  {
   "cell_type": "code",
   "execution_count": 40,
   "id": "f64f47da",
   "metadata": {},
   "outputs": [
    {
     "data": {
      "text/plain": [
       "(18249, 14)"
      ]
     },
     "execution_count": 40,
     "metadata": {},
     "output_type": "execute_result"
    }
   ],
   "source": [
    "Avocado.shape"
   ]
  },
  {
   "cell_type": "markdown",
   "id": "70c3b49f",
   "metadata": {},
   "source": [
    " we can see that  we have 18249 rows and  14 columns ie attributes and when we check the shape its showing 14 which mean one column is target and it is 'AveragePrice'"
   ]
  },
  {
   "cell_type": "code",
   "execution_count": 43,
   "id": "3562462a",
   "metadata": {},
   "outputs": [
    {
     "data": {
      "text/plain": [
       "Index(['Unnamed: 0', 'Date', 'AveragePrice', 'Total Volume', '4046', '4225',\n",
       "       '4770', 'Total Bags', 'Small Bags', 'Large Bags', 'XLarge Bags', 'type',\n",
       "       'year', 'region'],\n",
       "      dtype='object')"
      ]
     },
     "execution_count": 43,
     "metadata": {},
     "output_type": "execute_result"
    }
   ],
   "source": [
    "Avocado.columns"
   ]
  },
  {
   "cell_type": "code",
   "execution_count": 44,
   "id": "bc0929fd",
   "metadata": {},
   "outputs": [
    {
     "name": "stdout",
     "output_type": "stream",
     "text": [
      "<class 'pandas.core.frame.DataFrame'>\n",
      "RangeIndex: 18249 entries, 0 to 18248\n",
      "Data columns (total 14 columns):\n",
      " #   Column        Non-Null Count  Dtype  \n",
      "---  ------        --------------  -----  \n",
      " 0   Unnamed: 0    18249 non-null  int64  \n",
      " 1   Date          18249 non-null  object \n",
      " 2   AveragePrice  18249 non-null  float64\n",
      " 3   Total Volume  18249 non-null  float64\n",
      " 4   4046          18249 non-null  float64\n",
      " 5   4225          18249 non-null  float64\n",
      " 6   4770          18249 non-null  float64\n",
      " 7   Total Bags    18249 non-null  float64\n",
      " 8   Small Bags    18249 non-null  float64\n",
      " 9   Large Bags    18249 non-null  float64\n",
      " 10  XLarge Bags   18249 non-null  float64\n",
      " 11  type          18249 non-null  object \n",
      " 12  year          18249 non-null  int64  \n",
      " 13  region        18249 non-null  object \n",
      "dtypes: float64(9), int64(2), object(3)\n",
      "memory usage: 1.9+ MB\n"
     ]
    }
   ],
   "source": [
    "Avocado.info()"
   ]
  },
  {
   "cell_type": "markdown",
   "id": "894e9a79",
   "metadata": {},
   "source": [
    "All the the 14 columns have No Null values and out of 14 attributes or input columns we have only 1 columns as output and and rest all are 15 columns are int -02,objectt-03 and Float=09. and object has to be changed using Ordinal encoder"
   ]
  },
  {
   "cell_type": "code",
   "execution_count": 45,
   "id": "82b6bfbe",
   "metadata": {},
   "outputs": [
    {
     "data": {
      "text/plain": [
       "Index(['Unnamed:_0', 'Date', 'AveragePrice', 'Total_Volume', '4046', '4225',\n",
       "       '4770', 'Total_Bags', 'Small_Bags', 'Large_Bags', 'XLarge_Bags', 'type',\n",
       "       'year', 'region'],\n",
       "      dtype='object')"
      ]
     },
     "execution_count": 45,
     "metadata": {},
     "output_type": "execute_result"
    }
   ],
   "source": [
    "Avocado.columns = Avocado.columns.str.replace(' ', '_')\n",
    "Avocado.columns"
   ]
  },
  {
   "cell_type": "markdown",
   "id": "936d4b03",
   "metadata": {},
   "source": [
    " Input features: Unnamed:_0','Date',,Total_Volume','4046','4225','4770','Total_Bags','Small_Bags','Large_Bags', 'XLarge_Bags', 'type', 'year','region \n",
    " Output Features-'AveragePrice'"
   ]
  },
  {
   "cell_type": "code",
   "execution_count": 46,
   "id": "98d87580",
   "metadata": {},
   "outputs": [
    {
     "data": {
      "text/plain": [
       "Unnamed:_0      0\n",
       "Date            0\n",
       "AveragePrice    0\n",
       "Total_Volume    0\n",
       "4046            0\n",
       "4225            0\n",
       "4770            0\n",
       "Total_Bags      0\n",
       "Small_Bags      0\n",
       "Large_Bags      0\n",
       "XLarge_Bags     0\n",
       "type            0\n",
       "year            0\n",
       "region          0\n",
       "dtype: int64"
      ]
     },
     "execution_count": 46,
     "metadata": {},
     "output_type": "execute_result"
    }
   ],
   "source": [
    "Avocado.isnull().sum()     #no Missing Values"
   ]
  },
  {
   "cell_type": "markdown",
   "id": "fcd38831",
   "metadata": {},
   "source": [
    "Here we can clearly see that we have 0 null values in all the columns . ."
   ]
  },
  {
   "cell_type": "code",
   "execution_count": 47,
   "id": "84ef375b",
   "metadata": {},
   "outputs": [],
   "source": [
    "# Changing date column from object type to Date Type\n",
    "Avocado['Date']=pd.to_datetime(Avocado['Date'])\n"
   ]
  },
  {
   "cell_type": "code",
   "execution_count": 48,
   "id": "4b3763b7",
   "metadata": {},
   "outputs": [],
   "source": [
    "Avocado['Month']=Avocado['Date'].apply(lambda x:x.month)\n",
    "Avocado['Day']=Avocado['Date'].apply(lambda x:x.day)"
   ]
  },
  {
   "cell_type": "code",
   "execution_count": 49,
   "id": "6c8a2c60",
   "metadata": {},
   "outputs": [
    {
     "data": {
      "text/html": [
       "<div>\n",
       "<style scoped>\n",
       "    .dataframe tbody tr th:only-of-type {\n",
       "        vertical-align: middle;\n",
       "    }\n",
       "\n",
       "    .dataframe tbody tr th {\n",
       "        vertical-align: top;\n",
       "    }\n",
       "\n",
       "    .dataframe thead th {\n",
       "        text-align: right;\n",
       "    }\n",
       "</style>\n",
       "<table border=\"1\" class=\"dataframe\">\n",
       "  <thead>\n",
       "    <tr style=\"text-align: right;\">\n",
       "      <th></th>\n",
       "      <th>Unnamed:_0</th>\n",
       "      <th>Date</th>\n",
       "      <th>AveragePrice</th>\n",
       "      <th>Total_Volume</th>\n",
       "      <th>4046</th>\n",
       "      <th>4225</th>\n",
       "      <th>4770</th>\n",
       "      <th>Total_Bags</th>\n",
       "      <th>Small_Bags</th>\n",
       "      <th>Large_Bags</th>\n",
       "      <th>XLarge_Bags</th>\n",
       "      <th>type</th>\n",
       "      <th>year</th>\n",
       "      <th>region</th>\n",
       "      <th>Month</th>\n",
       "      <th>Day</th>\n",
       "    </tr>\n",
       "  </thead>\n",
       "  <tbody>\n",
       "    <tr>\n",
       "      <th>0</th>\n",
       "      <td>0</td>\n",
       "      <td>2015-12-27</td>\n",
       "      <td>1.33</td>\n",
       "      <td>64236.62</td>\n",
       "      <td>1036.74</td>\n",
       "      <td>54454.85</td>\n",
       "      <td>48.16</td>\n",
       "      <td>8696.87</td>\n",
       "      <td>8603.62</td>\n",
       "      <td>93.25</td>\n",
       "      <td>0.0</td>\n",
       "      <td>conventional</td>\n",
       "      <td>2015</td>\n",
       "      <td>Albany</td>\n",
       "      <td>12</td>\n",
       "      <td>27</td>\n",
       "    </tr>\n",
       "    <tr>\n",
       "      <th>1</th>\n",
       "      <td>1</td>\n",
       "      <td>2015-12-20</td>\n",
       "      <td>1.35</td>\n",
       "      <td>54876.98</td>\n",
       "      <td>674.28</td>\n",
       "      <td>44638.81</td>\n",
       "      <td>58.33</td>\n",
       "      <td>9505.56</td>\n",
       "      <td>9408.07</td>\n",
       "      <td>97.49</td>\n",
       "      <td>0.0</td>\n",
       "      <td>conventional</td>\n",
       "      <td>2015</td>\n",
       "      <td>Albany</td>\n",
       "      <td>12</td>\n",
       "      <td>20</td>\n",
       "    </tr>\n",
       "    <tr>\n",
       "      <th>2</th>\n",
       "      <td>2</td>\n",
       "      <td>2015-12-13</td>\n",
       "      <td>0.93</td>\n",
       "      <td>118220.22</td>\n",
       "      <td>794.70</td>\n",
       "      <td>109149.67</td>\n",
       "      <td>130.50</td>\n",
       "      <td>8145.35</td>\n",
       "      <td>8042.21</td>\n",
       "      <td>103.14</td>\n",
       "      <td>0.0</td>\n",
       "      <td>conventional</td>\n",
       "      <td>2015</td>\n",
       "      <td>Albany</td>\n",
       "      <td>12</td>\n",
       "      <td>13</td>\n",
       "    </tr>\n",
       "    <tr>\n",
       "      <th>3</th>\n",
       "      <td>3</td>\n",
       "      <td>2015-12-06</td>\n",
       "      <td>1.08</td>\n",
       "      <td>78992.15</td>\n",
       "      <td>1132.00</td>\n",
       "      <td>71976.41</td>\n",
       "      <td>72.58</td>\n",
       "      <td>5811.16</td>\n",
       "      <td>5677.40</td>\n",
       "      <td>133.76</td>\n",
       "      <td>0.0</td>\n",
       "      <td>conventional</td>\n",
       "      <td>2015</td>\n",
       "      <td>Albany</td>\n",
       "      <td>12</td>\n",
       "      <td>6</td>\n",
       "    </tr>\n",
       "    <tr>\n",
       "      <th>4</th>\n",
       "      <td>4</td>\n",
       "      <td>2015-11-29</td>\n",
       "      <td>1.28</td>\n",
       "      <td>51039.60</td>\n",
       "      <td>941.48</td>\n",
       "      <td>43838.39</td>\n",
       "      <td>75.78</td>\n",
       "      <td>6183.95</td>\n",
       "      <td>5986.26</td>\n",
       "      <td>197.69</td>\n",
       "      <td>0.0</td>\n",
       "      <td>conventional</td>\n",
       "      <td>2015</td>\n",
       "      <td>Albany</td>\n",
       "      <td>11</td>\n",
       "      <td>29</td>\n",
       "    </tr>\n",
       "    <tr>\n",
       "      <th>...</th>\n",
       "      <td>...</td>\n",
       "      <td>...</td>\n",
       "      <td>...</td>\n",
       "      <td>...</td>\n",
       "      <td>...</td>\n",
       "      <td>...</td>\n",
       "      <td>...</td>\n",
       "      <td>...</td>\n",
       "      <td>...</td>\n",
       "      <td>...</td>\n",
       "      <td>...</td>\n",
       "      <td>...</td>\n",
       "      <td>...</td>\n",
       "      <td>...</td>\n",
       "      <td>...</td>\n",
       "      <td>...</td>\n",
       "    </tr>\n",
       "    <tr>\n",
       "      <th>18244</th>\n",
       "      <td>7</td>\n",
       "      <td>2018-02-04</td>\n",
       "      <td>1.63</td>\n",
       "      <td>17074.83</td>\n",
       "      <td>2046.96</td>\n",
       "      <td>1529.20</td>\n",
       "      <td>0.00</td>\n",
       "      <td>13498.67</td>\n",
       "      <td>13066.82</td>\n",
       "      <td>431.85</td>\n",
       "      <td>0.0</td>\n",
       "      <td>organic</td>\n",
       "      <td>2018</td>\n",
       "      <td>WestTexNewMexico</td>\n",
       "      <td>2</td>\n",
       "      <td>4</td>\n",
       "    </tr>\n",
       "    <tr>\n",
       "      <th>18245</th>\n",
       "      <td>8</td>\n",
       "      <td>2018-01-28</td>\n",
       "      <td>1.71</td>\n",
       "      <td>13888.04</td>\n",
       "      <td>1191.70</td>\n",
       "      <td>3431.50</td>\n",
       "      <td>0.00</td>\n",
       "      <td>9264.84</td>\n",
       "      <td>8940.04</td>\n",
       "      <td>324.80</td>\n",
       "      <td>0.0</td>\n",
       "      <td>organic</td>\n",
       "      <td>2018</td>\n",
       "      <td>WestTexNewMexico</td>\n",
       "      <td>1</td>\n",
       "      <td>28</td>\n",
       "    </tr>\n",
       "    <tr>\n",
       "      <th>18246</th>\n",
       "      <td>9</td>\n",
       "      <td>2018-01-21</td>\n",
       "      <td>1.87</td>\n",
       "      <td>13766.76</td>\n",
       "      <td>1191.92</td>\n",
       "      <td>2452.79</td>\n",
       "      <td>727.94</td>\n",
       "      <td>9394.11</td>\n",
       "      <td>9351.80</td>\n",
       "      <td>42.31</td>\n",
       "      <td>0.0</td>\n",
       "      <td>organic</td>\n",
       "      <td>2018</td>\n",
       "      <td>WestTexNewMexico</td>\n",
       "      <td>1</td>\n",
       "      <td>21</td>\n",
       "    </tr>\n",
       "    <tr>\n",
       "      <th>18247</th>\n",
       "      <td>10</td>\n",
       "      <td>2018-01-14</td>\n",
       "      <td>1.93</td>\n",
       "      <td>16205.22</td>\n",
       "      <td>1527.63</td>\n",
       "      <td>2981.04</td>\n",
       "      <td>727.01</td>\n",
       "      <td>10969.54</td>\n",
       "      <td>10919.54</td>\n",
       "      <td>50.00</td>\n",
       "      <td>0.0</td>\n",
       "      <td>organic</td>\n",
       "      <td>2018</td>\n",
       "      <td>WestTexNewMexico</td>\n",
       "      <td>1</td>\n",
       "      <td>14</td>\n",
       "    </tr>\n",
       "    <tr>\n",
       "      <th>18248</th>\n",
       "      <td>11</td>\n",
       "      <td>2018-01-07</td>\n",
       "      <td>1.62</td>\n",
       "      <td>17489.58</td>\n",
       "      <td>2894.77</td>\n",
       "      <td>2356.13</td>\n",
       "      <td>224.53</td>\n",
       "      <td>12014.15</td>\n",
       "      <td>11988.14</td>\n",
       "      <td>26.01</td>\n",
       "      <td>0.0</td>\n",
       "      <td>organic</td>\n",
       "      <td>2018</td>\n",
       "      <td>WestTexNewMexico</td>\n",
       "      <td>1</td>\n",
       "      <td>7</td>\n",
       "    </tr>\n",
       "  </tbody>\n",
       "</table>\n",
       "<p>18249 rows × 16 columns</p>\n",
       "</div>"
      ],
      "text/plain": [
       "       Unnamed:_0       Date  AveragePrice  Total_Volume     4046       4225  \\\n",
       "0               0 2015-12-27          1.33      64236.62  1036.74   54454.85   \n",
       "1               1 2015-12-20          1.35      54876.98   674.28   44638.81   \n",
       "2               2 2015-12-13          0.93     118220.22   794.70  109149.67   \n",
       "3               3 2015-12-06          1.08      78992.15  1132.00   71976.41   \n",
       "4               4 2015-11-29          1.28      51039.60   941.48   43838.39   \n",
       "...           ...        ...           ...           ...      ...        ...   \n",
       "18244           7 2018-02-04          1.63      17074.83  2046.96    1529.20   \n",
       "18245           8 2018-01-28          1.71      13888.04  1191.70    3431.50   \n",
       "18246           9 2018-01-21          1.87      13766.76  1191.92    2452.79   \n",
       "18247          10 2018-01-14          1.93      16205.22  1527.63    2981.04   \n",
       "18248          11 2018-01-07          1.62      17489.58  2894.77    2356.13   \n",
       "\n",
       "         4770  Total_Bags  Small_Bags  Large_Bags  XLarge_Bags          type  \\\n",
       "0       48.16     8696.87     8603.62       93.25          0.0  conventional   \n",
       "1       58.33     9505.56     9408.07       97.49          0.0  conventional   \n",
       "2      130.50     8145.35     8042.21      103.14          0.0  conventional   \n",
       "3       72.58     5811.16     5677.40      133.76          0.0  conventional   \n",
       "4       75.78     6183.95     5986.26      197.69          0.0  conventional   \n",
       "...       ...         ...         ...         ...          ...           ...   \n",
       "18244    0.00    13498.67    13066.82      431.85          0.0       organic   \n",
       "18245    0.00     9264.84     8940.04      324.80          0.0       organic   \n",
       "18246  727.94     9394.11     9351.80       42.31          0.0       organic   \n",
       "18247  727.01    10969.54    10919.54       50.00          0.0       organic   \n",
       "18248  224.53    12014.15    11988.14       26.01          0.0       organic   \n",
       "\n",
       "       year            region  Month  Day  \n",
       "0      2015            Albany     12   27  \n",
       "1      2015            Albany     12   20  \n",
       "2      2015            Albany     12   13  \n",
       "3      2015            Albany     12    6  \n",
       "4      2015            Albany     11   29  \n",
       "...     ...               ...    ...  ...  \n",
       "18244  2018  WestTexNewMexico      2    4  \n",
       "18245  2018  WestTexNewMexico      1   28  \n",
       "18246  2018  WestTexNewMexico      1   21  \n",
       "18247  2018  WestTexNewMexico      1   14  \n",
       "18248  2018  WestTexNewMexico      1    7  \n",
       "\n",
       "[18249 rows x 16 columns]"
      ]
     },
     "execution_count": 49,
     "metadata": {},
     "output_type": "execute_result"
    }
   ],
   "source": [
    "Avocado"
   ]
  },
  {
   "cell_type": "code",
   "execution_count": 50,
   "id": "593af9d4",
   "metadata": {
    "scrolled": true
   },
   "outputs": [
    {
     "data": {
      "text/html": [
       "<div>\n",
       "<style scoped>\n",
       "    .dataframe tbody tr th:only-of-type {\n",
       "        vertical-align: middle;\n",
       "    }\n",
       "\n",
       "    .dataframe tbody tr th {\n",
       "        vertical-align: top;\n",
       "    }\n",
       "\n",
       "    .dataframe thead th {\n",
       "        text-align: right;\n",
       "    }\n",
       "</style>\n",
       "<table border=\"1\" class=\"dataframe\">\n",
       "  <thead>\n",
       "    <tr style=\"text-align: right;\">\n",
       "      <th></th>\n",
       "      <th>AveragePrice</th>\n",
       "      <th>Total_Volume</th>\n",
       "      <th>4046</th>\n",
       "      <th>4225</th>\n",
       "      <th>4770</th>\n",
       "      <th>Total_Bags</th>\n",
       "      <th>Small_Bags</th>\n",
       "      <th>Large_Bags</th>\n",
       "      <th>XLarge_Bags</th>\n",
       "      <th>type</th>\n",
       "      <th>year</th>\n",
       "      <th>region</th>\n",
       "      <th>Month</th>\n",
       "      <th>Day</th>\n",
       "    </tr>\n",
       "  </thead>\n",
       "  <tbody>\n",
       "    <tr>\n",
       "      <th>0</th>\n",
       "      <td>1.33</td>\n",
       "      <td>64236.62</td>\n",
       "      <td>1036.74</td>\n",
       "      <td>54454.85</td>\n",
       "      <td>48.16</td>\n",
       "      <td>8696.87</td>\n",
       "      <td>8603.62</td>\n",
       "      <td>93.25</td>\n",
       "      <td>0.0</td>\n",
       "      <td>conventional</td>\n",
       "      <td>2015</td>\n",
       "      <td>Albany</td>\n",
       "      <td>12</td>\n",
       "      <td>27</td>\n",
       "    </tr>\n",
       "    <tr>\n",
       "      <th>1</th>\n",
       "      <td>1.35</td>\n",
       "      <td>54876.98</td>\n",
       "      <td>674.28</td>\n",
       "      <td>44638.81</td>\n",
       "      <td>58.33</td>\n",
       "      <td>9505.56</td>\n",
       "      <td>9408.07</td>\n",
       "      <td>97.49</td>\n",
       "      <td>0.0</td>\n",
       "      <td>conventional</td>\n",
       "      <td>2015</td>\n",
       "      <td>Albany</td>\n",
       "      <td>12</td>\n",
       "      <td>20</td>\n",
       "    </tr>\n",
       "    <tr>\n",
       "      <th>2</th>\n",
       "      <td>0.93</td>\n",
       "      <td>118220.22</td>\n",
       "      <td>794.70</td>\n",
       "      <td>109149.67</td>\n",
       "      <td>130.50</td>\n",
       "      <td>8145.35</td>\n",
       "      <td>8042.21</td>\n",
       "      <td>103.14</td>\n",
       "      <td>0.0</td>\n",
       "      <td>conventional</td>\n",
       "      <td>2015</td>\n",
       "      <td>Albany</td>\n",
       "      <td>12</td>\n",
       "      <td>13</td>\n",
       "    </tr>\n",
       "    <tr>\n",
       "      <th>3</th>\n",
       "      <td>1.08</td>\n",
       "      <td>78992.15</td>\n",
       "      <td>1132.00</td>\n",
       "      <td>71976.41</td>\n",
       "      <td>72.58</td>\n",
       "      <td>5811.16</td>\n",
       "      <td>5677.40</td>\n",
       "      <td>133.76</td>\n",
       "      <td>0.0</td>\n",
       "      <td>conventional</td>\n",
       "      <td>2015</td>\n",
       "      <td>Albany</td>\n",
       "      <td>12</td>\n",
       "      <td>6</td>\n",
       "    </tr>\n",
       "    <tr>\n",
       "      <th>4</th>\n",
       "      <td>1.28</td>\n",
       "      <td>51039.60</td>\n",
       "      <td>941.48</td>\n",
       "      <td>43838.39</td>\n",
       "      <td>75.78</td>\n",
       "      <td>6183.95</td>\n",
       "      <td>5986.26</td>\n",
       "      <td>197.69</td>\n",
       "      <td>0.0</td>\n",
       "      <td>conventional</td>\n",
       "      <td>2015</td>\n",
       "      <td>Albany</td>\n",
       "      <td>11</td>\n",
       "      <td>29</td>\n",
       "    </tr>\n",
       "    <tr>\n",
       "      <th>...</th>\n",
       "      <td>...</td>\n",
       "      <td>...</td>\n",
       "      <td>...</td>\n",
       "      <td>...</td>\n",
       "      <td>...</td>\n",
       "      <td>...</td>\n",
       "      <td>...</td>\n",
       "      <td>...</td>\n",
       "      <td>...</td>\n",
       "      <td>...</td>\n",
       "      <td>...</td>\n",
       "      <td>...</td>\n",
       "      <td>...</td>\n",
       "      <td>...</td>\n",
       "    </tr>\n",
       "    <tr>\n",
       "      <th>18244</th>\n",
       "      <td>1.63</td>\n",
       "      <td>17074.83</td>\n",
       "      <td>2046.96</td>\n",
       "      <td>1529.20</td>\n",
       "      <td>0.00</td>\n",
       "      <td>13498.67</td>\n",
       "      <td>13066.82</td>\n",
       "      <td>431.85</td>\n",
       "      <td>0.0</td>\n",
       "      <td>organic</td>\n",
       "      <td>2018</td>\n",
       "      <td>WestTexNewMexico</td>\n",
       "      <td>2</td>\n",
       "      <td>4</td>\n",
       "    </tr>\n",
       "    <tr>\n",
       "      <th>18245</th>\n",
       "      <td>1.71</td>\n",
       "      <td>13888.04</td>\n",
       "      <td>1191.70</td>\n",
       "      <td>3431.50</td>\n",
       "      <td>0.00</td>\n",
       "      <td>9264.84</td>\n",
       "      <td>8940.04</td>\n",
       "      <td>324.80</td>\n",
       "      <td>0.0</td>\n",
       "      <td>organic</td>\n",
       "      <td>2018</td>\n",
       "      <td>WestTexNewMexico</td>\n",
       "      <td>1</td>\n",
       "      <td>28</td>\n",
       "    </tr>\n",
       "    <tr>\n",
       "      <th>18246</th>\n",
       "      <td>1.87</td>\n",
       "      <td>13766.76</td>\n",
       "      <td>1191.92</td>\n",
       "      <td>2452.79</td>\n",
       "      <td>727.94</td>\n",
       "      <td>9394.11</td>\n",
       "      <td>9351.80</td>\n",
       "      <td>42.31</td>\n",
       "      <td>0.0</td>\n",
       "      <td>organic</td>\n",
       "      <td>2018</td>\n",
       "      <td>WestTexNewMexico</td>\n",
       "      <td>1</td>\n",
       "      <td>21</td>\n",
       "    </tr>\n",
       "    <tr>\n",
       "      <th>18247</th>\n",
       "      <td>1.93</td>\n",
       "      <td>16205.22</td>\n",
       "      <td>1527.63</td>\n",
       "      <td>2981.04</td>\n",
       "      <td>727.01</td>\n",
       "      <td>10969.54</td>\n",
       "      <td>10919.54</td>\n",
       "      <td>50.00</td>\n",
       "      <td>0.0</td>\n",
       "      <td>organic</td>\n",
       "      <td>2018</td>\n",
       "      <td>WestTexNewMexico</td>\n",
       "      <td>1</td>\n",
       "      <td>14</td>\n",
       "    </tr>\n",
       "    <tr>\n",
       "      <th>18248</th>\n",
       "      <td>1.62</td>\n",
       "      <td>17489.58</td>\n",
       "      <td>2894.77</td>\n",
       "      <td>2356.13</td>\n",
       "      <td>224.53</td>\n",
       "      <td>12014.15</td>\n",
       "      <td>11988.14</td>\n",
       "      <td>26.01</td>\n",
       "      <td>0.0</td>\n",
       "      <td>organic</td>\n",
       "      <td>2018</td>\n",
       "      <td>WestTexNewMexico</td>\n",
       "      <td>1</td>\n",
       "      <td>7</td>\n",
       "    </tr>\n",
       "  </tbody>\n",
       "</table>\n",
       "<p>18249 rows × 14 columns</p>\n",
       "</div>"
      ],
      "text/plain": [
       "       AveragePrice  Total_Volume     4046       4225    4770  Total_Bags  \\\n",
       "0              1.33      64236.62  1036.74   54454.85   48.16     8696.87   \n",
       "1              1.35      54876.98   674.28   44638.81   58.33     9505.56   \n",
       "2              0.93     118220.22   794.70  109149.67  130.50     8145.35   \n",
       "3              1.08      78992.15  1132.00   71976.41   72.58     5811.16   \n",
       "4              1.28      51039.60   941.48   43838.39   75.78     6183.95   \n",
       "...             ...           ...      ...        ...     ...         ...   \n",
       "18244          1.63      17074.83  2046.96    1529.20    0.00    13498.67   \n",
       "18245          1.71      13888.04  1191.70    3431.50    0.00     9264.84   \n",
       "18246          1.87      13766.76  1191.92    2452.79  727.94     9394.11   \n",
       "18247          1.93      16205.22  1527.63    2981.04  727.01    10969.54   \n",
       "18248          1.62      17489.58  2894.77    2356.13  224.53    12014.15   \n",
       "\n",
       "       Small_Bags  Large_Bags  XLarge_Bags          type  year  \\\n",
       "0         8603.62       93.25          0.0  conventional  2015   \n",
       "1         9408.07       97.49          0.0  conventional  2015   \n",
       "2         8042.21      103.14          0.0  conventional  2015   \n",
       "3         5677.40      133.76          0.0  conventional  2015   \n",
       "4         5986.26      197.69          0.0  conventional  2015   \n",
       "...           ...         ...          ...           ...   ...   \n",
       "18244    13066.82      431.85          0.0       organic  2018   \n",
       "18245     8940.04      324.80          0.0       organic  2018   \n",
       "18246     9351.80       42.31          0.0       organic  2018   \n",
       "18247    10919.54       50.00          0.0       organic  2018   \n",
       "18248    11988.14       26.01          0.0       organic  2018   \n",
       "\n",
       "                 region  Month  Day  \n",
       "0                Albany     12   27  \n",
       "1                Albany     12   20  \n",
       "2                Albany     12   13  \n",
       "3                Albany     12    6  \n",
       "4                Albany     11   29  \n",
       "...                 ...    ...  ...  \n",
       "18244  WestTexNewMexico      2    4  \n",
       "18245  WestTexNewMexico      1   28  \n",
       "18246  WestTexNewMexico      1   21  \n",
       "18247  WestTexNewMexico      1   14  \n",
       "18248  WestTexNewMexico      1    7  \n",
       "\n",
       "[18249 rows x 14 columns]"
      ]
     },
     "execution_count": 50,
     "metadata": {},
     "output_type": "execute_result"
    }
   ],
   "source": [
    "# Now Lets Drop Date columns from the dataset bcz we have already made the columns for Month and day in the dateset above \n",
    "# Year columns was already pre mentioned in the dateset\n",
    "#dropping the columns with very high multicollinearity\n",
    "Avocado.drop(['Unnamed:_0','Date'],axis=1,inplace=True)\n",
    "Avocado"
   ]
  },
  {
   "cell_type": "code",
   "execution_count": 51,
   "id": "7f3ba5aa",
   "metadata": {},
   "outputs": [
    {
     "name": "stdout",
     "output_type": "stream",
     "text": [
      "Number of rows after removing duplicates= 18249\n"
     ]
    }
   ],
   "source": [
    "#dropping duplicate rows and resetting index\n",
    "Avocado=Avocado.drop_duplicates()\n",
    "print('Number of rows after removing duplicates=', len(Avocado))"
   ]
  },
  {
   "cell_type": "code",
   "execution_count": 52,
   "id": "87b47c1f",
   "metadata": {},
   "outputs": [
    {
     "data": {
      "text/plain": [
       "<AxesSubplot:>"
      ]
     },
     "execution_count": 52,
     "metadata": {},
     "output_type": "execute_result"
    },
    {
     "data": {
      "image/png": "[encoded data removed]",
      "text/plain": [
       "<Figure size 432x288 with 2 Axes>"
      ]
     },
     "metadata": {
      "needs_background": "light"
     },
     "output_type": "display_data"
    }
   ],
   "source": [
    "sns.heatmap(Avocado.isnull())"
   ]
  },
  {
   "cell_type": "markdown",
   "id": "9ed31e9b",
   "metadata": {},
   "source": [
    "Hence, No Null Values in the dataframe"
   ]
  },
  {
   "cell_type": "code",
   "execution_count": 53,
   "id": "d2964e4a",
   "metadata": {},
   "outputs": [
    {
     "data": {
      "text/plain": [
       "0"
      ]
     },
     "execution_count": 53,
     "metadata": {},
     "output_type": "execute_result"
    }
   ],
   "source": [
    "Avocado.duplicated().sum()# No Duplicate Values"
   ]
  },
  {
   "cell_type": "code",
   "execution_count": 54,
   "id": "9a65480d",
   "metadata": {},
   "outputs": [
    {
     "data": {
      "text/plain": [
       "AveragePrice    0\n",
       "Total_Volume    0\n",
       "4046            0\n",
       "4225            0\n",
       "4770            0\n",
       "Total_Bags      0\n",
       "Small_Bags      0\n",
       "Large_Bags      0\n",
       "XLarge_Bags     0\n",
       "type            0\n",
       "year            0\n",
       "region          0\n",
       "Month           0\n",
       "Day             0\n",
       "dtype: int64"
      ]
     },
     "execution_count": 54,
     "metadata": {},
     "output_type": "execute_result"
    }
   ],
   "source": [
    "Avocado.isnull().sum()"
   ]
  },
  {
   "cell_type": "markdown",
   "id": "6a2ce77b",
   "metadata": {},
   "source": [
    "Univariate Analysis 'Subscribed' variable"
   ]
  },
  {
   "cell_type": "code",
   "execution_count": 55,
   "id": "07e4dfd4",
   "metadata": {},
   "outputs": [
    {
     "data": {
      "text/plain": [
       "1.15    202\n",
       "1.18    199\n",
       "1.08    194\n",
       "1.26    193\n",
       "1.13    192\n",
       "       ... \n",
       "3.25      1\n",
       "3.12      1\n",
       "2.68      1\n",
       "3.03      1\n",
       "3.17      1\n",
       "Name: AveragePrice, Length: 259, dtype: int64"
      ]
     },
     "execution_count": 55,
     "metadata": {},
     "output_type": "execute_result"
    }
   ],
   "source": [
    "#Frequency of 'AveragePrice'\n",
    "Avocado['AveragePrice'].value_counts()"
   ]
  },
  {
   "cell_type": "code",
   "execution_count": 56,
   "id": "46a1c7be",
   "metadata": {},
   "outputs": [
    {
     "data": {
      "text/plain": [
       "<AxesSubplot:xlabel='AveragePrice', ylabel='count'>"
      ]
     },
     "execution_count": 56,
     "metadata": {},
     "output_type": "execute_result"
    },
    {
     "data": {
      "image/png": "[encoded data removed]",
      "text/plain": [
       "<Figure size 432x288 with 1 Axes>"
      ]
     },
     "metadata": {
      "needs_background": "light"
     },
     "output_type": "display_data"
    }
   ],
   "source": [
    "# Plotting the 'AveragePrice' frequency\n",
    "sns.countplot(data=Avocado,x='AveragePrice')"
   ]
  },
  {
   "cell_type": "code",
   "execution_count": 57,
   "id": "9c83736b",
   "metadata": {},
   "outputs": [
    {
     "data": {
      "text/plain": [
       "1.15    0.011069\n",
       "1.18    0.010905\n",
       "1.08    0.010631\n",
       "1.26    0.010576\n",
       "1.13    0.010521\n",
       "          ...   \n",
       "3.25    0.000055\n",
       "3.12    0.000055\n",
       "2.68    0.000055\n",
       "3.03    0.000055\n",
       "3.17    0.000055\n",
       "Name: AveragePrice, Length: 259, dtype: float64"
      ]
     },
     "execution_count": 57,
     "metadata": {},
     "output_type": "execute_result"
    }
   ],
   "source": [
    "#Normalizing the frequency table of 'AveragePrice' variable\n",
    "Avocado['AveragePrice'].value_counts(normalize=True)"
   ]
  },
  {
   "cell_type": "code",
   "execution_count": 58,
   "id": "1a70c536",
   "metadata": {},
   "outputs": [
    {
     "data": {
      "text/plain": [
       "1.15    202\n",
       "1.18    199\n",
       "1.08    194\n",
       "1.26    193\n",
       "1.13    192\n",
       "       ... \n",
       "3.25      1\n",
       "3.12      1\n",
       "2.68      1\n",
       "3.03      1\n",
       "3.17      1\n",
       "Name: AveragePrice, Length: 259, dtype: int64"
      ]
     },
     "execution_count": 58,
     "metadata": {},
     "output_type": "execute_result"
    }
   ],
   "source": [
    "#Frequency table\n",
    "Avocado['AveragePrice'].value_counts()"
   ]
  },
  {
   "cell_type": "markdown",
   "id": "4a721389",
   "metadata": {},
   "source": [
    "# EDA"
   ]
  },
  {
   "cell_type": "markdown",
   "id": "c51656f1",
   "metadata": {},
   "source": [
    "Encoding Techniques"
   ]
  },
  {
   "cell_type": "code",
   "execution_count": 59,
   "id": "069bcd0b",
   "metadata": {},
   "outputs": [
    {
     "data": {
      "text/html": [
       "<div>\n",
       "<style scoped>\n",
       "    .dataframe tbody tr th:only-of-type {\n",
       "        vertical-align: middle;\n",
       "    }\n",
       "\n",
       "    .dataframe tbody tr th {\n",
       "        vertical-align: top;\n",
       "    }\n",
       "\n",
       "    .dataframe thead th {\n",
       "        text-align: right;\n",
       "    }\n",
       "</style>\n",
       "<table border=\"1\" class=\"dataframe\">\n",
       "  <thead>\n",
       "    <tr style=\"text-align: right;\">\n",
       "      <th></th>\n",
       "      <th>AveragePrice</th>\n",
       "      <th>Total_Volume</th>\n",
       "      <th>4046</th>\n",
       "      <th>4225</th>\n",
       "      <th>4770</th>\n",
       "      <th>Total_Bags</th>\n",
       "      <th>Small_Bags</th>\n",
       "      <th>Large_Bags</th>\n",
       "      <th>XLarge_Bags</th>\n",
       "      <th>type</th>\n",
       "      <th>year</th>\n",
       "      <th>region</th>\n",
       "      <th>Month</th>\n",
       "      <th>Day</th>\n",
       "    </tr>\n",
       "  </thead>\n",
       "  <tbody>\n",
       "    <tr>\n",
       "      <th>18229</th>\n",
       "      <td>1.49</td>\n",
       "      <td>301985.61</td>\n",
       "      <td>34200.18</td>\n",
       "      <td>49139.34</td>\n",
       "      <td>85.58</td>\n",
       "      <td>218560.51</td>\n",
       "      <td>99989.62</td>\n",
       "      <td>118314.77</td>\n",
       "      <td>256.12</td>\n",
       "      <td>1.0</td>\n",
       "      <td>2018</td>\n",
       "      <td>52.0</td>\n",
       "      <td>2</td>\n",
       "      <td>25</td>\n",
       "    </tr>\n",
       "    <tr>\n",
       "      <th>18230</th>\n",
       "      <td>1.64</td>\n",
       "      <td>224798.60</td>\n",
       "      <td>30149.00</td>\n",
       "      <td>38800.64</td>\n",
       "      <td>123.13</td>\n",
       "      <td>155725.83</td>\n",
       "      <td>120428.13</td>\n",
       "      <td>35257.73</td>\n",
       "      <td>39.97</td>\n",
       "      <td>1.0</td>\n",
       "      <td>2018</td>\n",
       "      <td>52.0</td>\n",
       "      <td>2</td>\n",
       "      <td>18</td>\n",
       "    </tr>\n",
       "    <tr>\n",
       "      <th>18231</th>\n",
       "      <td>1.47</td>\n",
       "      <td>275248.53</td>\n",
       "      <td>24732.55</td>\n",
       "      <td>61713.53</td>\n",
       "      <td>243.00</td>\n",
       "      <td>188559.45</td>\n",
       "      <td>88497.05</td>\n",
       "      <td>99810.80</td>\n",
       "      <td>251.60</td>\n",
       "      <td>1.0</td>\n",
       "      <td>2018</td>\n",
       "      <td>52.0</td>\n",
       "      <td>2</td>\n",
       "      <td>11</td>\n",
       "    </tr>\n",
       "    <tr>\n",
       "      <th>18232</th>\n",
       "      <td>1.41</td>\n",
       "      <td>283378.47</td>\n",
       "      <td>22474.66</td>\n",
       "      <td>55360.49</td>\n",
       "      <td>133.41</td>\n",
       "      <td>205409.91</td>\n",
       "      <td>70232.59</td>\n",
       "      <td>134666.91</td>\n",
       "      <td>510.41</td>\n",
       "      <td>1.0</td>\n",
       "      <td>2018</td>\n",
       "      <td>52.0</td>\n",
       "      <td>2</td>\n",
       "      <td>4</td>\n",
       "    </tr>\n",
       "    <tr>\n",
       "      <th>18233</th>\n",
       "      <td>1.80</td>\n",
       "      <td>185974.53</td>\n",
       "      <td>22918.40</td>\n",
       "      <td>33051.14</td>\n",
       "      <td>93.52</td>\n",
       "      <td>129911.47</td>\n",
       "      <td>77822.23</td>\n",
       "      <td>51986.86</td>\n",
       "      <td>102.38</td>\n",
       "      <td>1.0</td>\n",
       "      <td>2018</td>\n",
       "      <td>52.0</td>\n",
       "      <td>1</td>\n",
       "      <td>28</td>\n",
       "    </tr>\n",
       "    <tr>\n",
       "      <th>18234</th>\n",
       "      <td>1.83</td>\n",
       "      <td>189317.99</td>\n",
       "      <td>27049.44</td>\n",
       "      <td>33561.32</td>\n",
       "      <td>439.47</td>\n",
       "      <td>128267.76</td>\n",
       "      <td>76091.99</td>\n",
       "      <td>51947.50</td>\n",
       "      <td>228.27</td>\n",
       "      <td>1.0</td>\n",
       "      <td>2018</td>\n",
       "      <td>52.0</td>\n",
       "      <td>1</td>\n",
       "      <td>21</td>\n",
       "    </tr>\n",
       "    <tr>\n",
       "      <th>18235</th>\n",
       "      <td>1.82</td>\n",
       "      <td>207999.67</td>\n",
       "      <td>33869.12</td>\n",
       "      <td>47435.14</td>\n",
       "      <td>433.52</td>\n",
       "      <td>126261.89</td>\n",
       "      <td>89115.78</td>\n",
       "      <td>37133.99</td>\n",
       "      <td>12.12</td>\n",
       "      <td>1.0</td>\n",
       "      <td>2018</td>\n",
       "      <td>52.0</td>\n",
       "      <td>1</td>\n",
       "      <td>14</td>\n",
       "    </tr>\n",
       "    <tr>\n",
       "      <th>18236</th>\n",
       "      <td>1.48</td>\n",
       "      <td>297190.60</td>\n",
       "      <td>34734.97</td>\n",
       "      <td>62967.74</td>\n",
       "      <td>157.77</td>\n",
       "      <td>199330.12</td>\n",
       "      <td>103761.55</td>\n",
       "      <td>95544.39</td>\n",
       "      <td>24.18</td>\n",
       "      <td>1.0</td>\n",
       "      <td>2018</td>\n",
       "      <td>52.0</td>\n",
       "      <td>1</td>\n",
       "      <td>7</td>\n",
       "    </tr>\n",
       "    <tr>\n",
       "      <th>18237</th>\n",
       "      <td>1.62</td>\n",
       "      <td>15303.40</td>\n",
       "      <td>2325.30</td>\n",
       "      <td>2171.66</td>\n",
       "      <td>0.00</td>\n",
       "      <td>10806.44</td>\n",
       "      <td>10569.80</td>\n",
       "      <td>236.64</td>\n",
       "      <td>0.00</td>\n",
       "      <td>1.0</td>\n",
       "      <td>2018</td>\n",
       "      <td>53.0</td>\n",
       "      <td>3</td>\n",
       "      <td>25</td>\n",
       "    </tr>\n",
       "    <tr>\n",
       "      <th>18238</th>\n",
       "      <td>1.56</td>\n",
       "      <td>15896.38</td>\n",
       "      <td>2055.35</td>\n",
       "      <td>1499.55</td>\n",
       "      <td>0.00</td>\n",
       "      <td>12341.48</td>\n",
       "      <td>12114.81</td>\n",
       "      <td>226.67</td>\n",
       "      <td>0.00</td>\n",
       "      <td>1.0</td>\n",
       "      <td>2018</td>\n",
       "      <td>53.0</td>\n",
       "      <td>3</td>\n",
       "      <td>18</td>\n",
       "    </tr>\n",
       "    <tr>\n",
       "      <th>18239</th>\n",
       "      <td>1.56</td>\n",
       "      <td>22128.42</td>\n",
       "      <td>2162.67</td>\n",
       "      <td>3194.25</td>\n",
       "      <td>8.93</td>\n",
       "      <td>16762.57</td>\n",
       "      <td>16510.32</td>\n",
       "      <td>252.25</td>\n",
       "      <td>0.00</td>\n",
       "      <td>1.0</td>\n",
       "      <td>2018</td>\n",
       "      <td>53.0</td>\n",
       "      <td>3</td>\n",
       "      <td>11</td>\n",
       "    </tr>\n",
       "    <tr>\n",
       "      <th>18240</th>\n",
       "      <td>1.54</td>\n",
       "      <td>17393.30</td>\n",
       "      <td>1832.24</td>\n",
       "      <td>1905.57</td>\n",
       "      <td>0.00</td>\n",
       "      <td>13655.49</td>\n",
       "      <td>13401.93</td>\n",
       "      <td>253.56</td>\n",
       "      <td>0.00</td>\n",
       "      <td>1.0</td>\n",
       "      <td>2018</td>\n",
       "      <td>53.0</td>\n",
       "      <td>3</td>\n",
       "      <td>4</td>\n",
       "    </tr>\n",
       "    <tr>\n",
       "      <th>18241</th>\n",
       "      <td>1.57</td>\n",
       "      <td>18421.24</td>\n",
       "      <td>1974.26</td>\n",
       "      <td>2482.65</td>\n",
       "      <td>0.00</td>\n",
       "      <td>13964.33</td>\n",
       "      <td>13698.27</td>\n",
       "      <td>266.06</td>\n",
       "      <td>0.00</td>\n",
       "      <td>1.0</td>\n",
       "      <td>2018</td>\n",
       "      <td>53.0</td>\n",
       "      <td>2</td>\n",
       "      <td>25</td>\n",
       "    </tr>\n",
       "    <tr>\n",
       "      <th>18242</th>\n",
       "      <td>1.56</td>\n",
       "      <td>17597.12</td>\n",
       "      <td>1892.05</td>\n",
       "      <td>1928.36</td>\n",
       "      <td>0.00</td>\n",
       "      <td>13776.71</td>\n",
       "      <td>13553.53</td>\n",
       "      <td>223.18</td>\n",
       "      <td>0.00</td>\n",
       "      <td>1.0</td>\n",
       "      <td>2018</td>\n",
       "      <td>53.0</td>\n",
       "      <td>2</td>\n",
       "      <td>18</td>\n",
       "    </tr>\n",
       "    <tr>\n",
       "      <th>18243</th>\n",
       "      <td>1.57</td>\n",
       "      <td>15986.17</td>\n",
       "      <td>1924.28</td>\n",
       "      <td>1368.32</td>\n",
       "      <td>0.00</td>\n",
       "      <td>12693.57</td>\n",
       "      <td>12437.35</td>\n",
       "      <td>256.22</td>\n",
       "      <td>0.00</td>\n",
       "      <td>1.0</td>\n",
       "      <td>2018</td>\n",
       "      <td>53.0</td>\n",
       "      <td>2</td>\n",
       "      <td>11</td>\n",
       "    </tr>\n",
       "    <tr>\n",
       "      <th>18244</th>\n",
       "      <td>1.63</td>\n",
       "      <td>17074.83</td>\n",
       "      <td>2046.96</td>\n",
       "      <td>1529.20</td>\n",
       "      <td>0.00</td>\n",
       "      <td>13498.67</td>\n",
       "      <td>13066.82</td>\n",
       "      <td>431.85</td>\n",
       "      <td>0.00</td>\n",
       "      <td>1.0</td>\n",
       "      <td>2018</td>\n",
       "      <td>53.0</td>\n",
       "      <td>2</td>\n",
       "      <td>4</td>\n",
       "    </tr>\n",
       "    <tr>\n",
       "      <th>18245</th>\n",
       "      <td>1.71</td>\n",
       "      <td>13888.04</td>\n",
       "      <td>1191.70</td>\n",
       "      <td>3431.50</td>\n",
       "      <td>0.00</td>\n",
       "      <td>9264.84</td>\n",
       "      <td>8940.04</td>\n",
       "      <td>324.80</td>\n",
       "      <td>0.00</td>\n",
       "      <td>1.0</td>\n",
       "      <td>2018</td>\n",
       "      <td>53.0</td>\n",
       "      <td>1</td>\n",
       "      <td>28</td>\n",
       "    </tr>\n",
       "    <tr>\n",
       "      <th>18246</th>\n",
       "      <td>1.87</td>\n",
       "      <td>13766.76</td>\n",
       "      <td>1191.92</td>\n",
       "      <td>2452.79</td>\n",
       "      <td>727.94</td>\n",
       "      <td>9394.11</td>\n",
       "      <td>9351.80</td>\n",
       "      <td>42.31</td>\n",
       "      <td>0.00</td>\n",
       "      <td>1.0</td>\n",
       "      <td>2018</td>\n",
       "      <td>53.0</td>\n",
       "      <td>1</td>\n",
       "      <td>21</td>\n",
       "    </tr>\n",
       "    <tr>\n",
       "      <th>18247</th>\n",
       "      <td>1.93</td>\n",
       "      <td>16205.22</td>\n",
       "      <td>1527.63</td>\n",
       "      <td>2981.04</td>\n",
       "      <td>727.01</td>\n",
       "      <td>10969.54</td>\n",
       "      <td>10919.54</td>\n",
       "      <td>50.00</td>\n",
       "      <td>0.00</td>\n",
       "      <td>1.0</td>\n",
       "      <td>2018</td>\n",
       "      <td>53.0</td>\n",
       "      <td>1</td>\n",
       "      <td>14</td>\n",
       "    </tr>\n",
       "    <tr>\n",
       "      <th>18248</th>\n",
       "      <td>1.62</td>\n",
       "      <td>17489.58</td>\n",
       "      <td>2894.77</td>\n",
       "      <td>2356.13</td>\n",
       "      <td>224.53</td>\n",
       "      <td>12014.15</td>\n",
       "      <td>11988.14</td>\n",
       "      <td>26.01</td>\n",
       "      <td>0.00</td>\n",
       "      <td>1.0</td>\n",
       "      <td>2018</td>\n",
       "      <td>53.0</td>\n",
       "      <td>1</td>\n",
       "      <td>7</td>\n",
       "    </tr>\n",
       "  </tbody>\n",
       "</table>\n",
       "</div>"
      ],
      "text/plain": [
       "       AveragePrice  Total_Volume      4046      4225    4770  Total_Bags  \\\n",
       "18229          1.49     301985.61  34200.18  49139.34   85.58   218560.51   \n",
       "18230          1.64     224798.60  30149.00  38800.64  123.13   155725.83   \n",
       "18231          1.47     275248.53  24732.55  61713.53  243.00   188559.45   \n",
       "18232          1.41     283378.47  22474.66  55360.49  133.41   205409.91   \n",
       "18233          1.80     185974.53  22918.40  33051.14   93.52   129911.47   \n",
       "18234          1.83     189317.99  27049.44  33561.32  439.47   128267.76   \n",
       "18235          1.82     207999.67  33869.12  47435.14  433.52   126261.89   \n",
       "18236          1.48     297190.60  34734.97  62967.74  157.77   199330.12   \n",
       "18237          1.62      15303.40   2325.30   2171.66    0.00    10806.44   \n",
       "18238          1.56      15896.38   2055.35   1499.55    0.00    12341.48   \n",
       "18239          1.56      22128.42   2162.67   3194.25    8.93    16762.57   \n",
       "18240          1.54      17393.30   1832.24   1905.57    0.00    13655.49   \n",
       "18241          1.57      18421.24   1974.26   2482.65    0.00    13964.33   \n",
       "18242          1.56      17597.12   1892.05   1928.36    0.00    13776.71   \n",
       "18243          1.57      15986.17   1924.28   1368.32    0.00    12693.57   \n",
       "18244          1.63      17074.83   2046.96   1529.20    0.00    13498.67   \n",
       "18245          1.71      13888.04   1191.70   3431.50    0.00     9264.84   \n",
       "18246          1.87      13766.76   1191.92   2452.79  727.94     9394.11   \n",
       "18247          1.93      16205.22   1527.63   2981.04  727.01    10969.54   \n",
       "18248          1.62      17489.58   2894.77   2356.13  224.53    12014.15   \n",
       "\n",
       "       Small_Bags  Large_Bags  XLarge_Bags  type  year  region  Month  Day  \n",
       "18229    99989.62   118314.77       256.12   1.0  2018    52.0      2   25  \n",
       "18230   120428.13    35257.73        39.97   1.0  2018    52.0      2   18  \n",
       "18231    88497.05    99810.80       251.60   1.0  2018    52.0      2   11  \n",
       "18232    70232.59   134666.91       510.41   1.0  2018    52.0      2    4  \n",
       "18233    77822.23    51986.86       102.38   1.0  2018    52.0      1   28  \n",
       "18234    76091.99    51947.50       228.27   1.0  2018    52.0      1   21  \n",
       "18235    89115.78    37133.99        12.12   1.0  2018    52.0      1   14  \n",
       "18236   103761.55    95544.39        24.18   1.0  2018    52.0      1    7  \n",
       "18237    10569.80      236.64         0.00   1.0  2018    53.0      3   25  \n",
       "18238    12114.81      226.67         0.00   1.0  2018    53.0      3   18  \n",
       "18239    16510.32      252.25         0.00   1.0  2018    53.0      3   11  \n",
       "18240    13401.93      253.56         0.00   1.0  2018    53.0      3    4  \n",
       "18241    13698.27      266.06         0.00   1.0  2018    53.0      2   25  \n",
       "18242    13553.53      223.18         0.00   1.0  2018    53.0      2   18  \n",
       "18243    12437.35      256.22         0.00   1.0  2018    53.0      2   11  \n",
       "18244    13066.82      431.85         0.00   1.0  2018    53.0      2    4  \n",
       "18245     8940.04      324.80         0.00   1.0  2018    53.0      1   28  \n",
       "18246     9351.80       42.31         0.00   1.0  2018    53.0      1   21  \n",
       "18247    10919.54       50.00         0.00   1.0  2018    53.0      1   14  \n",
       "18248    11988.14       26.01         0.00   1.0  2018    53.0      1    7  "
      ]
     },
     "execution_count": 59,
     "metadata": {},
     "output_type": "execute_result"
    }
   ],
   "source": [
    "from sklearn.preprocessing import OrdinalEncoder\n",
    "enc=OrdinalEncoder()\n",
    "for i in Avocado.columns:\n",
    "    if Avocado[i].dtypes=='object':\n",
    "        Avocado[i]=enc.fit_transform(Avocado[i].values.reshape(-1,1))\n",
    "Avocado.tail(20)"
   ]
  },
  {
   "cell_type": "markdown",
   "id": "d7ef3390",
   "metadata": {},
   "source": [
    "Region  and Type is conveted into float  from Object  "
   ]
  },
  {
   "cell_type": "code",
   "execution_count": 60,
   "id": "9c1dd517",
   "metadata": {},
   "outputs": [
    {
     "data": {
      "text/plain": [
       "AveragePrice    float64\n",
       "Total_Volume    float64\n",
       "4046            float64\n",
       "4225            float64\n",
       "4770            float64\n",
       "Total_Bags      float64\n",
       "Small_Bags      float64\n",
       "Large_Bags      float64\n",
       "XLarge_Bags     float64\n",
       "type            float64\n",
       "year              int64\n",
       "region          float64\n",
       "Month             int64\n",
       "Day               int64\n",
       "dtype: object"
      ]
     },
     "execution_count": 60,
     "metadata": {},
     "output_type": "execute_result"
    }
   ],
   "source": [
    "Avocado.dtypes"
   ]
  },
  {
   "cell_type": "markdown",
   "id": "e17fd8d1",
   "metadata": {},
   "source": [
    "So here we can that our target variable 'AveragePrice' is in float format ,and by this we can make the decision that we have to build a Regression Model. . "
   ]
  },
  {
   "cell_type": "markdown",
   "id": "6ddf2fe3",
   "metadata": {},
   "source": [
    "Visualization using Count and Bar Plot for Input and output Variables"
   ]
  },
  {
   "cell_type": "code",
   "execution_count": null,
   "id": "3bac0af0",
   "metadata": {},
   "outputs": [],
   "source": [
    "for column in Avocado.columns:\n",
    "    sns.barplot(x=column,y='AveragePrice',data=Avocado)\n",
    "    plt.xlabel(column)\n",
    "    plt.show()"
   ]
  },
  {
   "cell_type": "code",
   "execution_count": null,
   "id": "ee0bbf1c",
   "metadata": {
    "scrolled": false
   },
   "outputs": [],
   "source": [
    "for column in Avocado.columns:\n",
    "    sns.countplot(x=column, data=Avocado)\n",
    "    plt.xlabel(column)\n",
    "    plt.ylabel('W')\n",
    "    plt.show()"
   ]
  },
  {
   "cell_type": "markdown",
   "id": "7710b5b1",
   "metadata": {},
   "source": [
    "Histogram View "
   ]
  },
  {
   "cell_type": "code",
   "execution_count": null,
   "id": "f5f53edf",
   "metadata": {},
   "outputs": [],
   "source": [
    "Avocado.hist(bins=10, figsize=(20,20))"
   ]
  },
  {
   "cell_type": "code",
   "execution_count": null,
   "id": "c99e7697",
   "metadata": {},
   "outputs": [],
   "source": []
  },
  {
   "cell_type": "markdown",
   "id": "c5eb232e",
   "metadata": {},
   "source": [
    "# Bivarate"
   ]
  },
  {
   "cell_type": "code",
   "execution_count": null,
   "id": "863733bc",
   "metadata": {},
   "outputs": [],
   "source": [
    "sns.scatterplot(x='type',y='AveragePrice',data=Avocado)"
   ]
  },
  {
   "cell_type": "code",
   "execution_count": null,
   "id": "9b97ec40",
   "metadata": {},
   "outputs": [],
   "source": [
    "sns.scatterplot(x='Total_Volume',y='AveragePrice',data=Avocado)"
   ]
  },
  {
   "cell_type": "code",
   "execution_count": null,
   "id": "fbc6b2f4",
   "metadata": {},
   "outputs": [],
   "source": [
    "sns.scatterplot(x='4046',y='AveragePrice',data=Avocado)"
   ]
  },
  {
   "cell_type": "code",
   "execution_count": null,
   "id": "b7d11cfc",
   "metadata": {},
   "outputs": [],
   "source": [
    "sns.scatterplot(x='4225',y='AveragePrice',data=Avocado)"
   ]
  },
  {
   "cell_type": "code",
   "execution_count": null,
   "id": "82680ff8",
   "metadata": {},
   "outputs": [],
   "source": [
    "sns.scatterplot(x='Total_Bags',y='AveragePrice',data=Avocado)"
   ]
  },
  {
   "cell_type": "code",
   "execution_count": null,
   "id": "d92e4538",
   "metadata": {},
   "outputs": [],
   "source": [
    "sns.scatterplot(x='4770',y='AveragePrice',data=Avocado)"
   ]
  },
  {
   "cell_type": "code",
   "execution_count": null,
   "id": "d7e5fbff",
   "metadata": {},
   "outputs": [],
   "source": [
    "sns.scatterplot(x='Small_Bags',y='AveragePrice',data=Avocado)"
   ]
  },
  {
   "cell_type": "code",
   "execution_count": null,
   "id": "79269e84",
   "metadata": {},
   "outputs": [],
   "source": [
    "sns.scatterplot(x='Large_Bags',y='AveragePrice',data=Avocado)"
   ]
  },
  {
   "cell_type": "code",
   "execution_count": null,
   "id": "6823c2e2",
   "metadata": {},
   "outputs": [],
   "source": [
    "sns.scatterplot(x='XLarge_Bags',y='AveragePrice',data=Avocado)"
   ]
  },
  {
   "cell_type": "code",
   "execution_count": null,
   "id": "279c6313",
   "metadata": {},
   "outputs": [],
   "source": [
    "sns.scatterplot(x='year',y='AveragePrice',data=Avocado)"
   ]
  },
  {
   "cell_type": "code",
   "execution_count": null,
   "id": "056626dc",
   "metadata": {},
   "outputs": [],
   "source": [
    "sns.scatterplot(x='region',y='AveragePrice',data=Avocado)"
   ]
  },
  {
   "cell_type": "code",
   "execution_count": null,
   "id": "9b0abb9c",
   "metadata": {},
   "outputs": [],
   "source": [
    "sns.scatterplot(x='Month',y='AveragePrice',data=Avocado)"
   ]
  },
  {
   "cell_type": "code",
   "execution_count": null,
   "id": "c5ca3366",
   "metadata": {},
   "outputs": [],
   "source": [
    "sns.scatterplot(x='Day',y='AveragePrice',data=Avocado)"
   ]
  },
  {
   "cell_type": "markdown",
   "id": "46858ee4",
   "metadata": {},
   "source": [
    "Multivariate Analysis"
   ]
  },
  {
   "cell_type": "code",
   "execution_count": null,
   "id": "ca6b2fde",
   "metadata": {},
   "outputs": [],
   "source": [
    "plt.figure(figsize=(25,30))\n",
    "sns.pairplot(Avocado)\n",
    "plt.show()"
   ]
  },
  {
   "cell_type": "markdown",
   "id": "cffc8134",
   "metadata": {},
   "source": [
    "Now Lets See that counts of each columns"
   ]
  },
  {
   "cell_type": "code",
   "execution_count": null,
   "id": "04d7801a",
   "metadata": {},
   "outputs": [],
   "source": [
    "for i in Avocado.columns:\n",
    "        print(Avocado[i].value_counts())\n",
    "        print('*'*100)"
   ]
  },
  {
   "cell_type": "code",
   "execution_count": null,
   "id": "da1b24fa",
   "metadata": {},
   "outputs": [],
   "source": [
    "plt.figure(figsize = (10,10))\n",
    "sns.heatmap(Avocado.corr(),annot=True,linewidths=0.1,linecolor=\"black\",fmt=\"0.2f\")"
   ]
  },
  {
   "cell_type": "code",
   "execution_count": null,
   "id": "a2d78afe",
   "metadata": {},
   "outputs": [],
   "source": [
    "#checking the columns which are positively and negatively correlated\n",
    "plt.figure(figsize=(25,30))\n",
    "Avocado.corr()['AveragePrice'].sort_values(ascending=False).drop(['AveragePrice']).plot(kind='bar',color='c')\n",
    "plt.xlabel('Features',fontsize=14)\n",
    "plt.ylabel('columns with target names',fontsize=14)\n",
    "plt.title('CORRELATION',fontsize=18)\n",
    "plt.show()"
   ]
  },
  {
   "cell_type": "markdown",
   "id": "14859c5a",
   "metadata": {},
   "source": [
    "Here  positive correlated columns are upwards and Negative are    Downwards"
   ]
  },
  {
   "cell_type": "markdown",
   "id": "20aa91cb",
   "metadata": {},
   "source": [
    "4046,Total Volume and Total Bags are highly correlated to many columns.\n",
    "AveragePrice is negitively correalted to all of the columns."
   ]
  },
  {
   "cell_type": "markdown",
   "id": "d6d9e9ca",
   "metadata": {},
   "source": [
    "Now Lets Delete the columns which are Negatively corrlated to target variable"
   ]
  },
  {
   "cell_type": "code",
   "execution_count": null,
   "id": "e0c5f77c",
   "metadata": {},
   "outputs": [],
   "source": [
    "#dropping the columns with very high multicollinearity\n",
    "Avocado.drop(['4046','Total_Bags','Total_Volume'],axis=1,inplace=True)\n",
    "Avocado"
   ]
  },
  {
   "cell_type": "code",
   "execution_count": null,
   "id": "136a73c2",
   "metadata": {},
   "outputs": [],
   "source": [
    "#to analyse the correlation of each column\n",
    "Avocado.corr()"
   ]
  },
  {
   "cell_type": "code",
   "execution_count": null,
   "id": "002ea417",
   "metadata": {},
   "outputs": [],
   "source": [
    "Avocado.corr()['AveragePrice'].sort_values()"
   ]
  },
  {
   "cell_type": "markdown",
   "id": "5ea5a934",
   "metadata": {},
   "source": [
    "# DESCRIPTIVE STATSTICS"
   ]
  },
  {
   "cell_type": "code",
   "execution_count": null,
   "id": "4c18df4c",
   "metadata": {},
   "outputs": [],
   "source": [
    "Avocado.describe().T"
   ]
  },
  {
   "cell_type": "markdown",
   "id": "a7e2fe17",
   "metadata": {},
   "source": [
    "*Its Clearly shown above that all the columns have the count value of 18249 there are no negative values in the dataset and Few columns have very low values in it, where few have very high values in the datset."
   ]
  },
  {
   "cell_type": "code",
   "execution_count": null,
   "id": "88df2737",
   "metadata": {},
   "outputs": [],
   "source": [
    "plt.figure(figsize = (22,7))\n",
    "sns.heatmap(Avocado.describe(),annot=True,linewidths=0.1,linecolor=\"black\",fmt=\"0.2f\")"
   ]
  },
  {
   "cell_type": "markdown",
   "id": "e4a18333",
   "metadata": {},
   "source": [
    "Outcome of describe() of dataset :-\n",
    "from the above plotting we are determining mean,standard deviation,minimum and maximum value of each column\n",
    "\n"
   ]
  },
  {
   "cell_type": "code",
   "execution_count": null,
   "id": "a1f99946",
   "metadata": {},
   "outputs": [],
   "source": [
    "Avocado.info()"
   ]
  },
  {
   "cell_type": "markdown",
   "id": "ec61264d",
   "metadata": {},
   "source": [
    "OUTLIERS CHECKING(Any One outlier method can be  used)"
   ]
  },
  {
   "cell_type": "code",
   "execution_count": null,
   "id": "0053fa2a",
   "metadata": {},
   "outputs": [],
   "source": [
    "colmlist=Avocado.columns.values\n",
    "ncol=30\n",
    "nrows=14"
   ]
  },
  {
   "cell_type": "code",
   "execution_count": null,
   "id": "a768a82d",
   "metadata": {},
   "outputs": [],
   "source": [
    "plt.figure(figsize=(ncol,3*ncol))\n",
    "for i in range (0,len(colmlist)):\n",
    "    plt.subplot(nrows,ncol,i+1)\n",
    "    sns.boxplot(data= Avocado[colmlist[i]],color='green',orient='v')\n",
    "    plt.tight_layout()"
   ]
  },
  {
   "cell_type": "code",
   "execution_count": null,
   "id": "c2ebb108",
   "metadata": {},
   "outputs": [],
   "source": [
    "# to find out outliers in the dataset\n",
    "Avocado.plot(kind='box',subplots=True,figsize=(20,10))"
   ]
  },
  {
   "cell_type": "markdown",
   "id": "cba05b46",
   "metadata": {},
   "source": [
    "We can see that the Outliers are present in the columns R,ERA,SHO,SV and E ...we have to treat this Outliers .."
   ]
  },
  {
   "cell_type": "code",
   "execution_count": null,
   "id": "339645ee",
   "metadata": {},
   "outputs": [],
   "source": [
    "#Lets plot all using Histogram and see the skewness again\n",
    " \n",
    "#plt.rcParams['figure.figsize']=(20,20)\n",
    "Avocado.hist(bins=25,color='green',density=True,label='Value',histtype='bar')\n",
    "plt.show()"
   ]
  },
  {
   "cell_type": "markdown",
   "id": "67505b90",
   "metadata": {},
   "source": [
    "WE can see maximum data is not  normally distributed rest all are skewed or unbalanced data\n",
    "Lets take some of the data and do some of the plotting of skewness although we can see all skewed columns on above plotting"
   ]
  },
  {
   "cell_type": "markdown",
   "id": "f15544df",
   "metadata": {},
   "source": [
    "Univariate Analysis"
   ]
  },
  {
   "cell_type": "code",
   "execution_count": null,
   "id": "1daeef11",
   "metadata": {},
   "outputs": [],
   "source": [
    "sns.distplot(Avocado['type'])"
   ]
  },
  {
   "cell_type": "markdown",
   "id": "2a9928b2",
   "metadata": {},
   "source": [
    "type is not normally distributed ,its Skewed"
   ]
  },
  {
   "cell_type": "code",
   "execution_count": null,
   "id": "1bf536dc",
   "metadata": {},
   "outputs": [],
   "source": [
    "sns.distplot(Avocado['4225'])"
   ]
  },
  {
   "cell_type": "markdown",
   "id": "f6ce22d1",
   "metadata": {},
   "source": [
    "4225 is also Normally distributed and skewed as per the graph"
   ]
  },
  {
   "cell_type": "code",
   "execution_count": null,
   "id": "8761b4a2",
   "metadata": {},
   "outputs": [],
   "source": [
    " sns.distplot(Avocado['Small_Bags'])\n",
    "    "
   ]
  },
  {
   "cell_type": "markdown",
   "id": "08f71d79",
   "metadata": {},
   "source": [
    " Normally distributed and Skewed as per the graph"
   ]
  },
  {
   "cell_type": "code",
   "execution_count": null,
   "id": "1deef134",
   "metadata": {},
   "outputs": [],
   "source": [
    "sns.distplot(Avocado['Large_Bags'])\n",
    "    "
   ]
  },
  {
   "cell_type": "markdown",
   "id": "8f9d4bb2",
   "metadata": {},
   "source": [
    "Normally distributed and Skewed as per the graph"
   ]
  },
  {
   "cell_type": "code",
   "execution_count": null,
   "id": "09aa3241",
   "metadata": {},
   "outputs": [],
   "source": [
    "sns.distplot(Avocado['XLarge_Bags'])\n",
    "    "
   ]
  },
  {
   "cell_type": "markdown",
   "id": "c24a01bf",
   "metadata": {},
   "source": [
    "Normally distributed and Skewed as per the graph"
   ]
  },
  {
   "cell_type": "code",
   "execution_count": null,
   "id": "2e19accb",
   "metadata": {},
   "outputs": [],
   "source": [
    "sns.distplot(Avocado['year'])"
   ]
  },
  {
   "cell_type": "markdown",
   "id": "c731df0e",
   "metadata": {},
   "source": [
    "Normally distributed as per the graph .."
   ]
  },
  {
   "cell_type": "code",
   "execution_count": null,
   "id": "11c0eea2",
   "metadata": {},
   "outputs": [],
   "source": [
    "sns.distplot(Avocado['region'])"
   ]
  },
  {
   "cell_type": "markdown",
   "id": "9fe50d12",
   "metadata": {},
   "source": [
    "Normally distributed and Skewed as per the graph"
   ]
  },
  {
   "cell_type": "code",
   "execution_count": null,
   "id": "75a23bcb",
   "metadata": {},
   "outputs": [],
   "source": [
    "sns.distplot(Avocado['Month'])"
   ]
  },
  {
   "cell_type": "markdown",
   "id": "95f6efd9",
   "metadata": {},
   "source": [
    "Normally distributed and Skewed as per the graph"
   ]
  },
  {
   "cell_type": "code",
   "execution_count": null,
   "id": "5303ad2e",
   "metadata": {},
   "outputs": [],
   "source": [
    "sns.distplot(Avocado['Day'])"
   ]
  },
  {
   "cell_type": "markdown",
   "id": "84afae5d",
   "metadata": {},
   "source": [
    "Normally distributed and Skewed as per the graph"
   ]
  },
  {
   "cell_type": "markdown",
   "id": "2b7685ed",
   "metadata": {},
   "source": [
    "the data of the column is normalised ...The building block is out of normalized curve..It a right skewed data..\n",
    "Maximum columns are normally distributed but some columns  have skewness. . . .\n",
    "\n",
    "\n",
    "Normal distribution curve of outcome column is irrelevent"
   ]
  },
  {
   "cell_type": "markdown",
   "id": "f137364f",
   "metadata": {},
   "source": [
    "Now Lets Remove Outliers Now"
   ]
  },
  {
   "cell_type": "code",
   "execution_count": null,
   "id": "d5c52229",
   "metadata": {},
   "outputs": [],
   "source": [
    "#to check for outliers through zscore \n",
    "from scipy.stats import zscore\n",
    "(np.abs(zscore( Avocado)) < 3).all()"
   ]
  },
  {
   "cell_type": "code",
   "execution_count": null,
   "id": "efec4665",
   "metadata": {},
   "outputs": [],
   "source": [
    "#to remove outliers in data set through zscore\n",
    "z = np.abs(zscore(Avocado))\n",
    "z.shape"
   ]
  },
  {
   "cell_type": "code",
   "execution_count": null,
   "id": "700fa749",
   "metadata": {},
   "outputs": [],
   "source": [
    "threshold = 3\n",
    "print(np.where(z>3))"
   ]
  },
  {
   "cell_type": "code",
   "execution_count": null,
   "id": "3cd2a450",
   "metadata": {},
   "outputs": [],
   "source": [
    "Avocado_new=Avocado[(z<3).all(axis=1)]\n",
    "print(Avocado_new.shape)\n"
   ]
  },
  {
   "cell_type": "code",
   "execution_count": null,
   "id": "ba5de527",
   "metadata": {},
   "outputs": [],
   "source": [
    "Avocado.shape"
   ]
  },
  {
   "cell_type": "code",
   "execution_count": null,
   "id": "cfda617e",
   "metadata": {},
   "outputs": [],
   "source": [
    "print (\"Old DataFrame =\",Avocado.shape)\n",
    "print (\"New DataFrame =\",Avocado_new.shape)\n",
    "print (\"Total dropped rows = \",Avocado.shape[0] - Avocado_new.shape[0])"
   ]
  },
  {
   "cell_type": "code",
   "execution_count": null,
   "id": "b5926d54",
   "metadata": {},
   "outputs": [],
   "source": [
    "#to find % loss in data\n",
    "loss = (18249-17657)/18249 * 100\n",
    "print(loss)"
   ]
  },
  {
   "cell_type": "code",
   "execution_count": null,
   "id": "5d3b9276",
   "metadata": {},
   "outputs": [],
   "source": [
    "Avocado_new"
   ]
  },
  {
   "cell_type": "markdown",
   "id": "0974a8b9",
   "metadata": {},
   "source": [
    "Now Lets Split the dataset into dependent and independent variable*"
   ]
  },
  {
   "cell_type": "code",
   "execution_count": null,
   "id": "a28bf980",
   "metadata": {},
   "outputs": [],
   "source": [
    "# Independent column\n",
    "\n",
    "x=Avocado_new.iloc[:,1:]\n",
    "x"
   ]
  },
  {
   "cell_type": "code",
   "execution_count": null,
   "id": "d0144bba",
   "metadata": {},
   "outputs": [],
   "source": [
    "x.shape"
   ]
  },
  {
   "cell_type": "code",
   "execution_count": null,
   "id": "d75aa7b0",
   "metadata": {},
   "outputs": [],
   "source": [
    "# Target or dependent variable\n",
    "\n",
    "y=Avocado_new.iloc[0:,0]\n",
    "y"
   ]
  },
  {
   "cell_type": "code",
   "execution_count": null,
   "id": "1dc993e8",
   "metadata": {},
   "outputs": [],
   "source": [
    "y.shape"
   ]
  },
  {
   "cell_type": "markdown",
   "id": "be8d87d4",
   "metadata": {},
   "source": [
    "# TRANSFORMING DATA TO REMOVE SKEWNESS"
   ]
  },
  {
   "cell_type": "code",
   "execution_count": null,
   "id": "3831b7f5",
   "metadata": {},
   "outputs": [],
   "source": [
    "Avocado.skew()"
   ]
  },
  {
   "cell_type": "code",
   "execution_count": null,
   "id": "b3bc3643",
   "metadata": {},
   "outputs": [],
   "source": [
    "#Lets plot all using Histogram and see the skewness again\n",
    " \n",
    "plt.rcParams['figure.figsize']=(20,20)\n",
    "Avocado.hist(bins=25,color='yellow',density=True,label='Value',histtype='bar')\n",
    "plt.tight_layout()\n",
    "plt.show()"
   ]
  },
  {
   "cell_type": "markdown",
   "id": "947bec0d",
   "metadata": {},
   "source": [
    "there is skewness present  "
   ]
  },
  {
   "cell_type": "markdown",
   "id": "7f141080",
   "metadata": {},
   "source": [
    "Now Lets Remove Skewness Now"
   ]
  },
  {
   "cell_type": "code",
   "execution_count": null,
   "id": "b4b7a53e",
   "metadata": {
    "scrolled": true
   },
   "outputs": [],
   "source": [
    "Avocado_new.skew()"
   ]
  },
  {
   "cell_type": "markdown",
   "id": "845c97b0",
   "metadata": {},
   "source": [
    "Here We have skewness ,. Now remove the skewness from the given columns"
   ]
  },
  {
   "cell_type": "code",
   "execution_count": null,
   "id": "8258b404",
   "metadata": {},
   "outputs": [],
   "source": [
    "Avocado_new.head()\n"
   ]
  },
  {
   "cell_type": "code",
   "execution_count": null,
   "id": "6adf0c36",
   "metadata": {},
   "outputs": [],
   "source": [
    "from sklearn.preprocessing import power_transform\n",
    "x_new=power_transform(Avocado,method='yeo-johnson')"
   ]
  },
  {
   "cell_type": "code",
   "execution_count": null,
   "id": "b3ef987e",
   "metadata": {
    "scrolled": true
   },
   "outputs": [],
   "source": [
    "pd.DataFrame(x_new).skew()"
   ]
  },
  {
   "cell_type": "markdown",
   "id": "ab0d3470",
   "metadata": {},
   "source": [
    "We can see that the skewness has been removed from the given columns  ."
   ]
  },
  {
   "cell_type": "code",
   "execution_count": null,
   "id": "15bf2215",
   "metadata": {},
   "outputs": [],
   "source": [
    "# It will be a 2 dimensional data contaning rows and columns\n",
    "\n",
    "from sklearn.preprocessing import StandardScaler\n",
    "#transforming my dataset into a standard normal distribution\n",
    "sc=StandardScaler()\n",
    "\n",
    "x= pd.DataFrame(sc.fit_transform(x), columns=x.columns)\n",
    "x"
   ]
  },
  {
   "cell_type": "code",
   "execution_count": null,
   "id": "b6a8de62",
   "metadata": {},
   "outputs": [],
   "source": [
    "x.mean()"
   ]
  },
  {
   "cell_type": "code",
   "execution_count": null,
   "id": "10b860ec",
   "metadata": {},
   "outputs": [],
   "source": [
    "x.std()"
   ]
  },
  {
   "cell_type": "markdown",
   "id": "11d724fb",
   "metadata": {},
   "source": [
    "Balancing the dataset over here,otherwise it will be a baised dataset"
   ]
  },
  {
   "cell_type": "code",
   "execution_count": null,
   "id": "c7697604",
   "metadata": {},
   "outputs": [],
   "source": [
    "x.shape"
   ]
  },
  {
   "cell_type": "code",
   "execution_count": null,
   "id": "04a52391",
   "metadata": {},
   "outputs": [],
   "source": [
    "y.value_counts()"
   ]
  },
  {
   "cell_type": "code",
   "execution_count": null,
   "id": "ddcbaec7",
   "metadata": {
    "scrolled": true
   },
   "outputs": [],
   "source": [
    "plt.figure(figsize=(8,8))\n",
    "sns.countplot(y)"
   ]
  },
  {
   "cell_type": "markdown",
   "id": "019fd6ec",
   "metadata": {},
   "source": [
    "Now Lets Whether Multicollinearity is present in the dataset or not "
   ]
  },
  {
   "cell_type": "markdown",
   "id": "4711a842",
   "metadata": {},
   "source": [
    "WE CHECK MULTICOLLINEARITY BY VARIANCE INFLATION FACTOR (VIF)"
   ]
  },
  {
   "cell_type": "code",
   "execution_count": null,
   "id": "1cdfd5be",
   "metadata": {},
   "outputs": [],
   "source": [
    "def vif_cal():\n",
    "    vif=pd.DataFrame()\n",
    "    vif[\"VIF FACTOR\"]=[variance_inflation_factor(x.values,i) for i in range(x.shape[1])]\n",
    "    vif[\"FEATURES\"]=x.columns\n",
    "    print (vif)"
   ]
  },
  {
   "cell_type": "code",
   "execution_count": null,
   "id": "d89170df",
   "metadata": {},
   "outputs": [],
   "source": [
    "vif_cal()"
   ]
  },
  {
   "cell_type": "markdown",
   "id": "82182a31",
   "metadata": {},
   "source": [
    "#No Multicollinearity is present in the dataset...Here we can observe all the columns have VIF less than 10 which means we are free from multicollinearity problem. Let's move to buliding machine learning models..."
   ]
  },
  {
   "cell_type": "markdown",
   "id": "fbe98d74",
   "metadata": {},
   "source": [
    "Now Lets Train and Test the model using Regression Models"
   ]
  },
  {
   "cell_type": "code",
   "execution_count": null,
   "id": "39eef741",
   "metadata": {},
   "outputs": [],
   "source": [
    "# to find out best random state\n",
    "max_r2=0\n",
    "maxRs=0\n",
    "for i in range(0,100):\n",
    "    x_train, x_test, y_train, y_test = train_test_split(x, y, test_size=0.20, random_state=i)\n",
    "    lr=LinearRegression()\n",
    "    lr.fit(x_train,y_train)\n",
    "    pred_train=lr.predict(x_train)\n",
    "    pred_test=lr.predict(x_test)\n",
    "    r2_score1=r2_score(y_test,pred_test)\n",
    "    if r2_score1>max_r2:\n",
    "        max_r2=r2_score1\n",
    "        maxRs=i\n",
    "print(\"Best r2_score is \", max_r2,\"on Random_State\",maxRs)"
   ]
  },
  {
   "cell_type": "code",
   "execution_count": null,
   "id": "d9432b91",
   "metadata": {},
   "outputs": [],
   "source": [
    "x_train,x_test,y_train,y_test = train_test_split(x,y,test_size=0.3,random_state=95)"
   ]
  },
  {
   "cell_type": "code",
   "execution_count": null,
   "id": "d189231c",
   "metadata": {},
   "outputs": [],
   "source": [
    "x_train"
   ]
  },
  {
   "cell_type": "code",
   "execution_count": null,
   "id": "5fb4cabc",
   "metadata": {},
   "outputs": [],
   "source": [
    "x_test"
   ]
  },
  {
   "cell_type": "code",
   "execution_count": null,
   "id": "56aad407",
   "metadata": {},
   "outputs": [],
   "source": [
    "y_train"
   ]
  },
  {
   "cell_type": "code",
   "execution_count": null,
   "id": "4c01db87",
   "metadata": {},
   "outputs": [],
   "source": [
    "y_test"
   ]
  },
  {
   "cell_type": "markdown",
   "id": "53dd77b8",
   "metadata": {},
   "source": [
    "  REGRESSION,ENSEMBLE TECHNIQUE(GradientBoostingClassifier,RandomForestClassifier)"
   ]
  },
  {
   "cell_type": "code",
   "execution_count": null,
   "id": "1c4501e3",
   "metadata": {},
   "outputs": [],
   "source": [
    "models=[SVR(),DecisionTreeRegressor(),LinearRegression(),RandomForestRegressor(),KNeighborsRegressor(),GradientBoostingRegressor(),AdaBoostRegressor()]"
   ]
  },
  {
   "cell_type": "code",
   "execution_count": null,
   "id": "28897477",
   "metadata": {},
   "outputs": [],
   "source": [
    "maelist=[]\n",
    "mselist=[]\n",
    "rmselist=[]\n",
    "r2list=[]\n",
    "def create_model(model):\n",
    "    m=model\n",
    "    m.fit(x_train,y_train)\n",
    "    pred_train=m.predict(x_train)\n",
    "    pred_test=m.predict(x_test)\n",
    "    p=m.predict(x_test)\n",
    "    m.score(x_train,y_train)\n",
    "    predm=m.predict(x_test)\n",
    "    mae=mean_absolute_error(p,y_test)\n",
    "    mse=mean_squared_error(p,y_test)\n",
    "    rmse=np.sqrt(mean_squared_error(p,y_test))\n",
    "    r2=r2_score(y_test,p)\n",
    "    score=cross_val_score(m,x,y,cv=5)\n",
    "    crossval=score.mean()\n",
    "    \n",
    "    maelist.append(mae)\n",
    "    mselist.append(mse)\n",
    "    rmselist.append(rmse)\n",
    "    r2list.append(r2)\n",
    "    plt.figure(figsize=(10,10))\n",
    "    sns.regplot(y_test,predm,color=\"purple\")\n",
    "    plt.show()\n",
    "    print(m)\n",
    "    print('Mean absolute error',mae)\n",
    "    print('Mean squared error',mse)\n",
    "    print('Root Mean squared error',rmse)\n",
    "    print('R2 Score',r2)\n",
    "    print (f\"At random state {i},the training accuracy is :- {r2_score(y_train,pred_train)}\")\n",
    "    print (f\"At random state {i},the testing accuracy is :- {r2_score(y_test,pred_test)}\")\n",
    "    print(\"Cross Validation Score:\",crossval)\n",
    "    print(\"Difference Between r2_score and CrossValidation Score:\",abs(r2-crossval))\n",
    "    print('---------------------------------------------------------------------------------------------------------')"
   ]
  },
  {
   "cell_type": "code",
   "execution_count": null,
   "id": "e67c5635",
   "metadata": {
    "scrolled": true
   },
   "outputs": [],
   "source": [
    "for i in models:\n",
    "    create_model(i)"
   ]
  },
  {
   "cell_type": "markdown",
   "id": "753a00e7",
   "metadata": {},
   "source": [
    "Now Lets consider model which Model should we go for as a final model"
   ]
  },
  {
   "cell_type": "markdown",
   "id": "bd9ee064",
   "metadata": {},
   "source": []
  },
  {
   "cell_type": "markdown",
   "id": "aa496b33",
   "metadata": {},
   "source": [
    "Hyper parameter tuning"
   ]
  },
  {
   "cell_type": "code",
   "execution_count": null,
   "id": "4bf04d8f",
   "metadata": {},
   "outputs": [],
   "source": [
    "params = {'n_estimators': [13,15,17],\n",
    "         'max_depth':[5,6],\n",
    "         'min_samples_split':[5,6],\n",
    "         'min_samples_leaf':[3,5,6]\n",
    "         }"
   ]
  },
  {
   "cell_type": "code",
   "execution_count": null,
   "id": "0900e795",
   "metadata": {},
   "outputs": [],
   "source": [
    "from sklearn.model_selection import RandomizedSearchCV\n",
    "RSCV = RandomizedSearchCV(RandomForestRegressor(),params, cv=5)"
   ]
  },
  {
   "cell_type": "code",
   "execution_count": null,
   "id": "e89bb9fc",
   "metadata": {},
   "outputs": [],
   "source": [
    "RSCV.fit(x_train, y_train)"
   ]
  },
  {
   "cell_type": "code",
   "execution_count": null,
   "id": "04d8b4e5",
   "metadata": {},
   "outputs": [],
   "source": [
    "RSCV.best_params_"
   ]
  },
  {
   "cell_type": "code",
   "execution_count": null,
   "id": "21438d3c",
   "metadata": {},
   "outputs": [],
   "source": [
    "Final_Model = RandomForestRegressor(n_estimators=17,min_samples_split=6,min_samples_leaf=5,max_depth=6)\n",
    "Classifier = Final_Model.fit(x_train, y_train)\n",
    "lr_pred = Final_Model.predict(x_test)\n",
    "lr_r2_score = r2_score(y_test, lr_pred, multioutput='variance_weighted')\n",
    "print(f\"R2 score for the Final Model is:\", lr_r2_score*100)"
   ]
  },
  {
   "cell_type": "code",
   "execution_count": null,
   "id": "7876ee9d",
   "metadata": {},
   "outputs": [],
   "source": [
    "Final_Model"
   ]
  },
  {
   "cell_type": "code",
   "execution_count": null,
   "id": "63ddeccb",
   "metadata": {},
   "outputs": [],
   "source": [
    "from sklearn.model_selection import GridSearchCV"
   ]
  },
  {
   "cell_type": "code",
   "execution_count": null,
   "id": "9475cfd6",
   "metadata": {},
   "outputs": [],
   "source": [
    "params = {'n_estimators': [13,15,17],\n",
    "         'max_depth':[5,6],\n",
    "         'min_samples_split':[5,6],\n",
    "         'min_samples_leaf':[3,5,6]\n",
    "         }"
   ]
  },
  {
   "cell_type": "code",
   "execution_count": null,
   "id": "12ecf08a",
   "metadata": {},
   "outputs": [],
   "source": [
    "GSCV=GridSearchCV(RandomForestRegressor(),params, cv=5)\n"
   ]
  },
  {
   "cell_type": "code",
   "execution_count": null,
   "id": "437942c8",
   "metadata": {},
   "outputs": [],
   "source": [
    "GSCV.fit(x_train,y_train)"
   ]
  },
  {
   "cell_type": "code",
   "execution_count": null,
   "id": "ccbb4ba3",
   "metadata": {},
   "outputs": [],
   "source": [
    "GSCV.best_params_"
   ]
  },
  {
   "cell_type": "code",
   "execution_count": null,
   "id": "db850820",
   "metadata": {},
   "outputs": [],
   "source": [
    "Last_Model = RandomForestRegressor(n_estimators=15,min_samples_split=5,min_samples_leaf=3,max_depth=6)\n",
    "Classifier = Last_Model.fit(x_train, y_train)\n",
    "lr_pred = Last_Model.predict(x_test)\n",
    "lr_r2_score = r2_score(y_test, lr_pred, multioutput='variance_weighted')\n",
    "print(f\"R2 score for the Last_Model is:\", lr_r2_score*100)"
   ]
  },
  {
   "cell_type": "code",
   "execution_count": null,
   "id": "9f98d4ab",
   "metadata": {},
   "outputs": [],
   "source": [
    "Last_Model"
   ]
  },
  {
   "cell_type": "code",
   "execution_count": null,
   "id": "2ad14cbc",
   "metadata": {},
   "outputs": [],
   "source": [
    "# to improve accuracy of model\n",
    "from sklearn.linear_model import Lasso,Ridge,ElasticNet"
   ]
  },
  {
   "cell_type": "code",
   "execution_count": null,
   "id": "6d7584c6",
   "metadata": {},
   "outputs": [],
   "source": [
    "lasso= Lasso(alpha=0.0001)"
   ]
  },
  {
   "cell_type": "code",
   "execution_count": null,
   "id": "971caf81",
   "metadata": {},
   "outputs": [],
   "source": [
    "lasso.fit(x_train,y_train)"
   ]
  },
  {
   "cell_type": "code",
   "execution_count": null,
   "id": "575607e4",
   "metadata": {},
   "outputs": [],
   "source": [
    "lasso.score(x_train,y_train)"
   ]
  },
  {
   "cell_type": "code",
   "execution_count": null,
   "id": "1c7d5acd",
   "metadata": {},
   "outputs": [],
   "source": [
    "lasso_pred=lasso.predict(x_test)"
   ]
  },
  {
   "cell_type": "code",
   "execution_count": null,
   "id": "32fe841d",
   "metadata": {},
   "outputs": [],
   "source": [
    "r2_score(y_test,lasso_pred)"
   ]
  },
  {
   "cell_type": "code",
   "execution_count": null,
   "id": "101dfda7",
   "metadata": {},
   "outputs": [],
   "source": [
    "ridge=Ridge(alpha=0.1)"
   ]
  },
  {
   "cell_type": "code",
   "execution_count": null,
   "id": "e1703bf8",
   "metadata": {},
   "outputs": [],
   "source": [
    "ridge.fit(x_train,y_train)"
   ]
  },
  {
   "cell_type": "code",
   "execution_count": null,
   "id": "2fc725f3",
   "metadata": {},
   "outputs": [],
   "source": [
    "ridge.score(x_train,y_train)*100"
   ]
  },
  {
   "cell_type": "code",
   "execution_count": null,
   "id": "5e341f44",
   "metadata": {},
   "outputs": [],
   "source": [
    "ridge_pred=ridge.predict(x_test)"
   ]
  },
  {
   "cell_type": "code",
   "execution_count": null,
   "id": "c3ddeae4",
   "metadata": {},
   "outputs": [],
   "source": [
    "r2_score(y_test,ridge_pred)"
   ]
  },
  {
   "cell_type": "markdown",
   "id": "a6df5a19",
   "metadata": {},
   "source": [
    "save the final model"
   ]
  },
  {
   "cell_type": "code",
   "execution_count": null,
   "id": "62c9599b",
   "metadata": {},
   "outputs": [],
   "source": [
    "#saving the model\n",
    "import joblib\n",
    "joblib.dump(Final_Model,'Avocado.pkl')"
   ]
  },
  {
   "cell_type": "code",
   "execution_count": null,
   "id": "4f7c6635",
   "metadata": {},
   "outputs": [],
   "source": [
    "#Loading the saved model\n",
    "AV=joblib.load('Avocado.pkl')"
   ]
  },
  {
   "cell_type": "markdown",
   "id": "6492ea17",
   "metadata": {},
   "source": [
    "Prediction"
   ]
  },
  {
   "cell_type": "code",
   "execution_count": null,
   "id": "6ca25dbd",
   "metadata": {},
   "outputs": [],
   "source": [
    "prediction =AV.predict(x_test)\n",
    "prediction"
   ]
  },
  {
   "cell_type": "code",
   "execution_count": null,
   "id": "e09ec660",
   "metadata": {},
   "outputs": [],
   "source": [
    "pd.DataFrame([AV.predict(x_test)[:],y_test[:]],index=[\"Predicted\",\"Original\"])"
   ]
  },
  {
   "cell_type": "code",
   "execution_count": null,
   "id": "7f46d576",
   "metadata": {},
   "outputs": [],
   "source": [
    "import pickle\n",
    "filename = 'Avocado.pkl'\n",
    "pickle.dump(Final_Model,open(filename, 'wb'))"
   ]
  },
  {
   "cell_type": "code",
   "execution_count": null,
   "id": "2c501cbe",
   "metadata": {},
   "outputs": [],
   "source": [
    "loaded_model = pickle.load(open(filename, 'rb'))\n",
    "predicted = loaded_model.score(x_test,y_test)*100\n",
    "print(predicted)"
   ]
  },
  {
   "cell_type": "markdown",
   "id": "d8717691",
   "metadata": {},
   "source": [
    "# Avacado project as Classifier problem\n"
   ]
  },
  {
   "cell_type": "code",
   "execution_count": null,
   "id": "86ddec5d",
   "metadata": {},
   "outputs": [],
   "source": [
    "%matplotlib inline\n",
    "import pandas as pd\n",
    "import numpy as np\n",
    "import matplotlib\n",
    "from matplotlib import pyplot as plt\n",
    "import matplotlib.pyplot as plt\n",
    "import seaborn as sns\n",
    "import sklearn\n",
    "from sklearn.model_selection import train_test_split\n",
    "from sklearn.preprocessing import StandardScaler\n",
    "from sklearn.preprocessing import LabelEncoder\n",
    "from sklearn import tree\n",
    "from sklearn.preprocessing import power_transform\n",
    "from sklearn.ensemble import RandomForestClassifier\n",
    "from sklearn.linear_model import LogisticRegression\n",
    "from sklearn.svm import SVC\n",
    "from sklearn.tree import DecisionTreeClassifier\n",
    "from sklearn.model_selection import cross_val_score\n",
    "from sklearn.model_selection import GridSearchCV\n",
    "from sklearn.neighbors import KNeighborsClassifier\n",
    "from sklearn.metrics import accuracy_score,classification_report,confusion_matrix\n",
    "from sklearn.naive_bayes import GaussianNB\n",
    "from imblearn.over_sampling import SMOTE\n",
    "from statsmodels.stats.outliers_influence import variance_inflation_factor\n",
    "from sklearn.ensemble import AdaBoostClassifier\n",
    "from sklearn.ensemble import GradientBoostingClassifier\n",
    "from sklearn.metrics import roc_curve\n",
    "from sklearn.metrics  import roc_auc_score\n",
    "import warnings\n",
    "warnings.filterwarnings('ignore')"
   ]
  },
  {
   "cell_type": "markdown",
   "id": "4b5956d4",
   "metadata": {},
   "source": [
    "Extracting the Data"
   ]
  },
  {
   "cell_type": "code",
   "execution_count": null,
   "id": "634faf79",
   "metadata": {},
   "outputs": [],
   "source": [
    "Avocado_Reg=pd.read_csv('avocado.csv')\n",
    "Avocado_Reg"
   ]
  },
  {
   "cell_type": "code",
   "execution_count": null,
   "id": "39f8fb12",
   "metadata": {},
   "outputs": [],
   "source": [
    "# List of values in the target column\n",
    "Avocado['region'].value_counts()"
   ]
  },
  {
   "cell_type": "code",
   "execution_count": null,
   "id": "d4c75f8d",
   "metadata": {},
   "outputs": [],
   "source": [
    "#Frequency of 'region'\n",
    "Avocado['region'].value_counts()"
   ]
  },
  {
   "cell_type": "code",
   "execution_count": null,
   "id": "8cf70ac6",
   "metadata": {},
   "outputs": [],
   "source": [
    "# Plotting the 'region' frequency\n",
    "sns.countplot(data=Avocado,x='region')"
   ]
  },
  {
   "cell_type": "code",
   "execution_count": null,
   "id": "17a6561c",
   "metadata": {},
   "outputs": [],
   "source": [
    "#Normalizing the frequency table of 'region' variable\n",
    "Avocado['region'].value_counts(normalize=True)"
   ]
  },
  {
   "cell_type": "code",
   "execution_count": null,
   "id": "70b50c7e",
   "metadata": {},
   "outputs": [],
   "source": [
    "#Frequency table\n",
    "Avocado['region'].value_counts()"
   ]
  },
  {
   "cell_type": "code",
   "execution_count": null,
   "id": "fc2e38fa",
   "metadata": {},
   "outputs": [],
   "source": [
    "Avocado.corr()"
   ]
  },
  {
   "cell_type": "code",
   "execution_count": null,
   "id": "c77a85f5",
   "metadata": {},
   "outputs": [],
   "source": [
    "Avocado.corr()['region'].sort_values()"
   ]
  },
  {
   "cell_type": "code",
   "execution_count": null,
   "id": "d0ea0f53",
   "metadata": {},
   "outputs": [],
   "source": [
    "plt.figure(figsize = (10,10))\n",
    "sns.heatmap(Avocado.corr(),annot=True,linewidths=0.1,linecolor=\"black\",fmt=\"0.2f\")"
   ]
  },
  {
   "cell_type": "code",
   "execution_count": null,
   "id": "bcb2763c",
   "metadata": {},
   "outputs": [],
   "source": [
    "#checking the columns which are positively and negatively correlated\n",
    "plt.figure(figsize=(25,30))\n",
    "Avocado.corr()['region'].sort_values(ascending=False).drop(['region']).plot(kind='bar',color='c')\n",
    "plt.xlabel('Feature',fontsize=14)\n",
    "plt.ylabel('columns with target names',fontsize=14)\n",
    "plt.title('CORRELATION',fontsize=18)\n",
    "plt.show()"
   ]
  },
  {
   "cell_type": "code",
   "execution_count": null,
   "id": "ec1f2482",
   "metadata": {},
   "outputs": [],
   "source": [
    "#to check for outliers through zscore \n",
    "from scipy.stats import zscore\n",
    "(np.abs(zscore( Avocado)) < 3).all()"
   ]
  },
  {
   "cell_type": "code",
   "execution_count": null,
   "id": "7b9fb3cd",
   "metadata": {},
   "outputs": [],
   "source": [
    "threshold = 3\n",
    "print(np.where(z>3))"
   ]
  },
  {
   "cell_type": "code",
   "execution_count": null,
   "id": "19681707",
   "metadata": {},
   "outputs": [],
   "source": [
    "Avocado_new=Avocado[(z<3).all(axis=1)]\n",
    "print(Avocado_new.shape)\n"
   ]
  },
  {
   "cell_type": "code",
   "execution_count": null,
   "id": "4b601c92",
   "metadata": {},
   "outputs": [],
   "source": [
    "Avocado_new=Avocado[(z<3).all(axis=1)]\n",
    "Avocado_new"
   ]
  },
  {
   "cell_type": "code",
   "execution_count": null,
   "id": "7d0bae2d",
   "metadata": {},
   "outputs": [],
   "source": [
    "print(Avocado.shape)\n",
    "print(Avocado_new.shape)"
   ]
  },
  {
   "cell_type": "code",
   "execution_count": null,
   "id": "9bad5daa",
   "metadata": {},
   "outputs": [],
   "source": [
    "#to find % loss in data\n",
    "loss = (18249-17657)/18249 * 100\n",
    "print(loss)\n"
   ]
  },
  {
   "cell_type": "code",
   "execution_count": null,
   "id": "7d255694",
   "metadata": {},
   "outputs": [],
   "source": [
    "Avocado_new.skew()"
   ]
  },
  {
   "cell_type": "markdown",
   "id": "7becb4c1",
   "metadata": {},
   "source": [
    "Removing skewness using yeo-johnson  method to get better prediction"
   ]
  },
  {
   "cell_type": "code",
   "execution_count": null,
   "id": "e2fa42a3",
   "metadata": {},
   "outputs": [],
   "source": [
    "from sklearn.preprocessing import power_transform\n",
    "x_new=power_transform(Avocado,method='yeo-johnson')"
   ]
  },
  {
   "cell_type": "code",
   "execution_count": null,
   "id": "2ce9b818",
   "metadata": {},
   "outputs": [],
   "source": [
    "pd.DataFrame(x_new).skew()"
   ]
  },
  {
   "cell_type": "code",
   "execution_count": null,
   "id": "037a803b",
   "metadata": {},
   "outputs": [],
   "source": [
    "# It will be a 2 dimensional data containg rows and columns\n",
    "\n",
    "from sklearn.preprocessing import StandardScaler\n",
    "#transforming my dataset into a standard normal distribution\n",
    "sc=StandardScaler()\n",
    "\n",
    "x= pd.DataFrame(sc.fit_transform(x), columns=x.columns)\n",
    "x"
   ]
  },
  {
   "cell_type": "code",
   "execution_count": null,
   "id": "33a3973b",
   "metadata": {},
   "outputs": [],
   "source": [
    "x.mean()"
   ]
  },
  {
   "cell_type": "code",
   "execution_count": null,
   "id": "29ae26de",
   "metadata": {},
   "outputs": [],
   "source": [
    "x.std()"
   ]
  },
  {
   "cell_type": "code",
   "execution_count": null,
   "id": "cbbc3260",
   "metadata": {},
   "outputs": [],
   "source": [
    "Avocado_new['region'].value_counts()"
   ]
  },
  {
   "cell_type": "code",
   "execution_count": null,
   "id": "01895198",
   "metadata": {},
   "outputs": [],
   "source": [
    "x.shape"
   ]
  },
  {
   "cell_type": "code",
   "execution_count": null,
   "id": "27a1c0ac",
   "metadata": {},
   "outputs": [],
   "source": [
    "y.shape"
   ]
  },
  {
   "cell_type": "markdown",
   "id": "a70fa780",
   "metadata": {},
   "source": [
    "WE CHECK MULTICOLLINEARITY BY VARIANCE INFLATION FACTOR (VIF)"
   ]
  },
  {
   "cell_type": "code",
   "execution_count": null,
   "id": "bbb15a75",
   "metadata": {},
   "outputs": [],
   "source": [
    "def vif_cal():\n",
    "    vif=pd.DataFrame()\n",
    "    vif[\"VIF FACTOR\"]=[variance_inflation_factor(x.values,i) for i in range(x.shape[1])]\n",
    "    vif[\"FEATURES\"]=x.columns\n",
    "    print (vif)"
   ]
  },
  {
   "cell_type": "code",
   "execution_count": null,
   "id": "a0fc2f33",
   "metadata": {},
   "outputs": [],
   "source": [
    "vif_cal()"
   ]
  },
  {
   "cell_type": "code",
   "execution_count": null,
   "id": "3c49114f",
   "metadata": {},
   "outputs": [],
   "source": [
    "Avocado_new"
   ]
  },
  {
   "cell_type": "code",
   "execution_count": null,
   "id": "511b30d6",
   "metadata": {},
   "outputs": [],
   "source": [
    "#seperate feature variable and target variable\n",
    "x = Avocado_new.drop (['region'], axis = 1)\n",
    "y = Avocado_new['region']"
   ]
  },
  {
   "cell_type": "code",
   "execution_count": null,
   "id": "af7d6610",
   "metadata": {},
   "outputs": [],
   "source": [
    "x"
   ]
  },
  {
   "cell_type": "code",
   "execution_count": null,
   "id": "9c1fbd61",
   "metadata": {},
   "outputs": [],
   "source": [
    "y"
   ]
  },
  {
   "cell_type": "code",
   "execution_count": null,
   "id": "584270df",
   "metadata": {},
   "outputs": [],
   "source": [
    "# to predict best random state value\n",
    "maxAcc =0\n",
    "maxRS=0\n",
    "\n",
    "for i in range(1,100):\n",
    "    x_train,x_test,y_train,y_test = train_test_split(x,y,test_size=0.20,random_state=i)\n",
    "    LR = LogisticRegression()\n",
    "    LR.fit(x_train,y_train)\n",
    "    predrf = LR.predict(x_test)\n",
    "    acc=accuracy_score(y_test,predrf)\n",
    "    if acc>maxAcc:\n",
    "        maxAcc=acc\n",
    "        maxRS=i\n",
    "print('Best accuracy is',maxAcc,'on Random_State',maxRS)"
   ]
  },
  {
   "cell_type": "code",
   "execution_count": null,
   "id": "5be6d57c",
   "metadata": {},
   "outputs": [],
   "source": [
    "x_train,x_test,y_train,y_test = train_test_split(x,y,test_size=0.3,random_state=35)"
   ]
  },
  {
   "cell_type": "code",
   "execution_count": null,
   "id": "7889f3c1",
   "metadata": {},
   "outputs": [],
   "source": [
    "x_train"
   ]
  },
  {
   "cell_type": "code",
   "execution_count": null,
   "id": "301e1827",
   "metadata": {},
   "outputs": [],
   "source": [
    "x_test"
   ]
  },
  {
   "cell_type": "code",
   "execution_count": null,
   "id": "d6824565",
   "metadata": {},
   "outputs": [],
   "source": [
    "y_train"
   ]
  },
  {
   "cell_type": "code",
   "execution_count": null,
   "id": "756b3dd2",
   "metadata": {},
   "outputs": [],
   "source": [
    "y_test"
   ]
  },
  {
   "cell_type": "code",
   "execution_count": null,
   "id": "6b44c21c",
   "metadata": {
    "scrolled": false
   },
   "outputs": [],
   "source": [
    "lg=LogisticRegression()\n",
    "gnb=GaussianNB()\n",
    "svc=SVC()\n",
    "dtc=DecisionTreeClassifier()\n",
    "knn=KNeighborsClassifier()\n",
    "gb = GradientBoostingClassifier()\n",
    "RF = RandomForestClassifier()\n",
    "ada = AdaBoostClassifier()\n",
    "\n",
    "model=[lg,gnb,svc,dtc,knn,RF,gb,ada]\n",
    "for m in model:\n",
    "    m.fit(x_train,y_train)\n",
    "    m.score(x_train,y_train)\n",
    "    predm=m.predict(x_test)\n",
    "    print(\"Accuracy_score:\",m,'is')\n",
    "    print(confusion_matrix(y_test, predm))\n",
    "    print(accuracy_score(y_test,predm))\n",
    "    print(classification_report(y_test,predm))\n",
    "    print('\\n')"
   ]
  },
  {
   "cell_type": "code",
   "execution_count": null,
   "id": "001352ed",
   "metadata": {},
   "outputs": [],
   "source": [
    "#cross validation to check the accuracy score\n",
    "print('cross validation score of random forest model = ', cross_val_score(RF,x,y,cv=None).mean())\n",
    "print('cross validation score of logistic regression model = ', cross_val_score(lg,x,y,cv=None).mean())\n",
    "print('cross validation score of decison tree model = ', cross_val_score(dtc,x,y,cv=None).mean())\n",
    "print('cross validation score of  KNeighborsClassifier model = ', cross_val_score(knn,x,y,cv=None).mean())\n",
    "print('cross validation score of standard vector machine model = ', cross_val_score(svc,x,y,cv=None).mean())\n",
    "print('cross validation score of GaussianNB model = ', cross_val_score(gnb,x,y,cv=None).mean())\n",
    "print('cross validation score of AdaBoostingClassifier model = ',cross_val_score(ada,x,y,cv=None).mean())\n",
    "print('cross validation score of GradientBoostingClassifier model = ',cross_val_score(gb,x,y,cv=None).mean())\n"
   ]
  },
  {
   "cell_type": "code",
   "execution_count": null,
   "id": "966c4f44",
   "metadata": {},
   "outputs": [],
   "source": [
    "\n",
    "# hyperparameter tuning with RandomForestClassifier, parameters of RandomForestClassifier\n",
    "parameters ={'n_estimators':[200], 'criterion':['gini'], \n",
    "             'min_samples_split':[5], 'min_samples_leaf':[2], \n",
    "              'bootstrap':[True],'n_jobs':[-1], 'random_state':[35]}"
   ]
  },
  {
   "cell_type": "code",
   "execution_count": null,
   "id": "2f79e948",
   "metadata": {},
   "outputs": [],
   "source": [
    "# hyperparameter tuning with gridsearchCV\n",
    "gcv = GridSearchCV(RandomForestClassifier(random_state=35), parameters, verbose=1, cv=10, n_jobs=-1)"
   ]
  },
  {
   "cell_type": "code",
   "execution_count": null,
   "id": "9781a73b",
   "metadata": {},
   "outputs": [],
   "source": [
    "#training the model\n",
    "gcv.fit(x_train,y_train)"
   ]
  },
  {
   "cell_type": "code",
   "execution_count": null,
   "id": "b37e8dc6",
   "metadata": {},
   "outputs": [],
   "source": [
    "#finding out which parameter is giving best accuracy\n",
    "gcv.best_params_"
   ]
  },
  {
   "cell_type": "code",
   "execution_count": null,
   "id": "1e678011",
   "metadata": {},
   "outputs": [],
   "source": [
    "type(gcv)"
   ]
  },
  {
   "cell_type": "code",
   "execution_count": null,
   "id": "ff8fa9d4",
   "metadata": {},
   "outputs": [],
   "source": [
    "# finding best estimator\n",
    "gcv.best_estimator_"
   ]
  },
  {
   "cell_type": "code",
   "execution_count": null,
   "id": "f281a597",
   "metadata": {},
   "outputs": [],
   "source": [
    "# Applying the parameters to the final model\n",
    "pred = gcv.best_estimator_.predict(x_test)\n",
    "acc =accuracy_score(y_test,pred)\n",
    "print(acc*100)"
   ]
  },
  {
   "cell_type": "code",
   "execution_count": null,
   "id": "0fe8a11b",
   "metadata": {},
   "outputs": [],
   "source": [
    "#saving the model\n",
    "import joblib\n",
    "joblib.dump(gcv,'AvocadoClass.pkl')"
   ]
  },
  {
   "cell_type": "code",
   "execution_count": null,
   "id": "07952901",
   "metadata": {},
   "outputs": [],
   "source": [
    "#Loading the saved model\n",
    "Avc=joblib.load('AvocadoClass.pkl')"
   ]
  },
  {
   "cell_type": "code",
   "execution_count": null,
   "id": "4462efb9",
   "metadata": {},
   "outputs": [],
   "source": [
    "prediction = Avc.predict(x_test)\n",
    "prediction"
   ]
  },
  {
   "cell_type": "code",
   "execution_count": null,
   "id": "a2b0321d",
   "metadata": {},
   "outputs": [],
   "source": [
    "pd.DataFrame([Avc.predict(x_test)[:],y_test[:]],index=[\"Predicted\",\"Original\"])"
   ]
  },
  {
   "cell_type": "code",
   "execution_count": null,
   "id": "2ce9b342",
   "metadata": {},
   "outputs": [],
   "source": [
    "import pickle\n",
    "filename = 'AvocadoClass.pkl'\n",
    "pickle.dump(gcv,open(filename, 'wb'))"
   ]
  },
  {
   "cell_type": "code",
   "execution_count": null,
   "id": "bab4d148",
   "metadata": {},
   "outputs": [],
   "source": [
    "loaded_model = pickle.load(open(filename, 'rb'))\n",
    "predicted = loaded_model.score(x_test,y_test)*100\n",
    "print(predicted)"
   ]
  },
  {
   "cell_type": "code",
   "execution_count": null,
   "id": "2ae15b1f",
   "metadata": {},
   "outputs": [],
   "source": []
  }
 ],
 "metadata": {
  "kernelspec": {
   "display_name": "Python 3 (ipykernel)",
   "language": "python",
   "name": "python3"
  },
  "language_info": {
   "codemirror_mode": {
    "name": "ipython",
    "version": 3
   },
   "file_extension": ".py",
   "mimetype": "text/x-python",
   "name": "python",
   "nbconvert_exporter": "python",
   "pygments_lexer": "ipython3",
   "version": "3.9.7"
  }
 },
 "nbformat": 4,
 "nbformat_minor": 5
}
