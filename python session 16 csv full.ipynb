{
 "cells": [
  {
   "cell_type": "markdown",
   "id": "6d3ace2b",
   "metadata": {},
   "source": [
    "inserting csv"
   ]
  },
  {
   "cell_type": "markdown",
   "id": "bbf22736",
   "metadata": {},
   "source": [
    "inserting csv"
   ]
  },
  {
   "cell_type": "code",
   "execution_count": 89,
   "id": "f1b57ba8",
   "metadata": {},
   "outputs": [],
   "source": [
    "import sqlite3"
   ]
  },
  {
   "cell_type": "code",
   "execution_count": 100,
   "id": "b46898fc",
   "metadata": {},
   "outputs": [],
   "source": [
    "db=sqlite3.connect(\"stdmarks.db\")"
   ]
  },
  {
   "cell_type": "code",
   "execution_count": 101,
   "id": "e011fa6e",
   "metadata": {},
   "outputs": [],
   "source": [
    "cur=db.cursor()"
   ]
  },
  {
   "cell_type": "code",
   "execution_count": 102,
   "id": "ac96d4b5",
   "metadata": {},
   "outputs": [
    {
     "data": {
      "text/plain": [
       "<sqlite3.Cursor at 0x278e4fdb6c0>"
      ]
     },
     "execution_count": 102,
     "metadata": {},
     "output_type": "execute_result"
    }
   ],
   "source": [
    "cur.execute(\"create table scores(gender TEXT,student_id INT primary key,marks int)\")"
   ]
  },
  {
   "cell_type": "code",
   "execution_count": 106,
   "id": "d14bbbdb",
   "metadata": {},
   "outputs": [
    {
     "name": "stdout",
     "output_type": "stream",
     "text": [
      "12 Records inserted\n"
     ]
    }
   ],
   "source": [
    "with open('stdmarks.csv','r') as file:\n",
    "    total_records=0\n",
    "    for row in file:\n",
    "        cur.execute(\"insert into scores values(?,?,?)\",row.split(\",\"))\n",
    "        db.commit()\n",
    "        total_records+=1\n",
    "print(total_records,'Records inserted')"
   ]
  },
  {
   "cell_type": "code",
   "execution_count": 107,
   "id": "788c5934",
   "metadata": {},
   "outputs": [
    {
     "name": "stdout",
     "output_type": "stream",
     "text": [
      "('m', 1, 30)\n",
      "('f', 2, 36)\n",
      "('f', 3, 45)\n",
      "('f', 4, 65)\n",
      "('m', 5, 34)\n",
      "('m', 6, 90)\n",
      "('m', 7, 42)\n",
      "('m', 8, 56)\n",
      "('m', 9, 48)\n",
      "('f', 10, 34)\n",
      "('m', 11, 78)\n",
      "('f', 12, 75)\n"
     ]
    }
   ],
   "source": [
    "results=cur.execute(\"select * from scores\")\n",
    "for row in results:\n",
    "    print(row)"
   ]
  },
  {
   "cell_type": "raw",
   "id": "1883b926",
   "metadata": {},
   "source": []
  },
  {
   "cell_type": "code",
   "execution_count": 153,
   "id": "339272d9",
   "metadata": {},
   "outputs": [
    {
     "ename": "OperationalError",
     "evalue": "no such table: scores",
     "output_type": "error",
     "traceback": [
      "\u001b[1;31m---------------------------------------------------------------------------\u001b[0m",
      "\u001b[1;31mOperationalError\u001b[0m                          Traceback (most recent call last)",
      "\u001b[1;32m~\\AppData\\Local\\Temp/ipykernel_5772/1899254972.py\u001b[0m in \u001b[0;36m<module>\u001b[1;34m\u001b[0m\n\u001b[1;32m----> 1\u001b[1;33m \u001b[0mresults\u001b[0m\u001b[1;33m=\u001b[0m\u001b[0mcur\u001b[0m\u001b[1;33m.\u001b[0m\u001b[0mexecute\u001b[0m\u001b[1;33m(\u001b[0m\u001b[1;34m\"select min(marks)from scores\"\u001b[0m\u001b[1;33m)\u001b[0m\u001b[1;33m\u001b[0m\u001b[1;33m\u001b[0m\u001b[0m\n\u001b[0m\u001b[0;32m      2\u001b[0m \u001b[1;32mfor\u001b[0m \u001b[0mi\u001b[0m \u001b[1;32min\u001b[0m \u001b[0mresults\u001b[0m\u001b[1;33m:\u001b[0m\u001b[1;33m\u001b[0m\u001b[1;33m\u001b[0m\u001b[0m\n\u001b[0;32m      3\u001b[0m     \u001b[0mprint\u001b[0m\u001b[1;33m(\u001b[0m\u001b[0mi\u001b[0m\u001b[1;33m)\u001b[0m\u001b[1;33m\u001b[0m\u001b[1;33m\u001b[0m\u001b[0m\n",
      "\u001b[1;31mOperationalError\u001b[0m: no such table: scores"
     ]
    }
   ],
   "source": [
    "results=cur.execute(\"select min(marks)from scores\")\n",
    "for i in results:\n",
    "    print(i)"
   ]
  },
  {
   "cell_type": "code",
   "execution_count": 119,
   "id": "89c5a7bd",
   "metadata": {},
   "outputs": [
    {
     "name": "stdout",
     "output_type": "stream",
     "text": [
      "(90,)\n"
     ]
    }
   ],
   "source": [
    "results=cur.execute(\"select max(marks)from scores\")\n",
    "for i in results:\n",
    "    print(i)"
   ]
  },
  {
   "cell_type": "code",
   "execution_count": 121,
   "id": "e5cb21a5",
   "metadata": {},
   "outputs": [
    {
     "name": "stdout",
     "output_type": "stream",
     "text": [
      "('m', 1, 30)\n",
      "('f', 2, 36)\n",
      "('f', 3, 45)\n",
      "('f', 4, 65)\n",
      "('m', 5, 34)\n",
      "('m', 6, 90)\n",
      "('m', 7, 42)\n",
      "('m', 8, 56)\n",
      "('m', 9, 48)\n",
      "('f', 10, 34)\n",
      "('m', 11, 78)\n",
      "('f', 12, 75)\n"
     ]
    }
   ],
   "source": [
    "results=cur.execute(\"select * from scores where marks is not null\")\n",
    "for i in results:\n",
    "    print(i)"
   ]
  },
  {
   "cell_type": "code",
   "execution_count": 158,
   "id": "d5e3505f",
   "metadata": {},
   "outputs": [],
   "source": [
    "import sqlite3"
   ]
  },
  {
   "cell_type": "code",
   "execution_count": 159,
   "id": "1e992774",
   "metadata": {},
   "outputs": [],
   "source": [
    "db=sqlite3.connect(\"sport final.db\")\n",
    "cur=db.cursor()"
   ]
  },
  {
   "cell_type": "code",
   "execution_count": 160,
   "id": "b8bd1032",
   "metadata": {},
   "outputs": [
    {
     "data": {
      "text/plain": [
       "<sqlite3.Cursor at 0x278e4ff15e0>"
      ]
     },
     "execution_count": 160,
     "metadata": {},
     "output_type": "execute_result"
    }
   ],
   "source": [
    "cur.execute(\"create table sport(id int primary key,sportname text unique, dateofevent date,country text not null)\")"
   ]
  },
  {
   "cell_type": "code",
   "execution_count": 161,
   "id": "ea87bce1",
   "metadata": {},
   "outputs": [],
   "source": [
    "db.commit()"
   ]
  },
  {
   "cell_type": "code",
   "execution_count": 162,
   "id": "a280c687",
   "metadata": {},
   "outputs": [
    {
     "data": {
      "text/plain": [
       "<sqlite3.Cursor at 0x278e4ff15e0>"
      ]
     },
     "execution_count": 162,
     "metadata": {},
     "output_type": "execute_result"
    }
   ],
   "source": [
    "cur.execute(\"insert into sport values(1,'crick','2021-10-4','India')\")"
   ]
  },
  {
   "cell_type": "code",
   "execution_count": 165,
   "id": "3f6d97be",
   "metadata": {},
   "outputs": [
    {
     "name": "stdout",
     "output_type": "stream",
     "text": [
      "(1, 'crick', '2021-10-4', 'India')\n"
     ]
    }
   ],
   "source": [
    "results=cur.execute(\"select * from sport final\")\n",
    "for row in results:\n",
    "    print(row)"
   ]
  },
  {
   "cell_type": "code",
   "execution_count": 172,
   "id": "246e7104",
   "metadata": {},
   "outputs": [
    {
     "name": "stdout",
     "output_type": "stream",
     "text": [
      "3 Record(s) inserted\n"
     ]
    }
   ],
   "source": [
    "cur.execute(\"insert into sport values(2,'ten','2021-6-3','AUs'),(3,'hoc','2021-6-31','eng'),(4,'foot','2022-6-3','ban')\")\n",
    "db.commit()\n",
    "print (cur.rowcount,\"Record(s) inserted\")"
   ]
  },
  {
   "cell_type": "code",
   "execution_count": 173,
   "id": "71da352a",
   "metadata": {},
   "outputs": [
    {
     "name": "stdout",
     "output_type": "stream",
     "text": [
      "(1, 'crick', '2021-10-4', 'India')\n",
      "(2, 'ten', '2021-6-3', 'AUs')\n",
      "(3, 'hoc', '2021-6-31', 'eng')\n",
      "(4, 'foot', '2022-6-3', 'ban')\n"
     ]
    }
   ],
   "source": [
    "results=cur.execute(\"select * from sport final\")\n",
    "for row in results:\n",
    "    print(row)"
   ]
  },
  {
   "cell_type": "code",
   "execution_count": 8,
   "id": "fe76e865",
   "metadata": {},
   "outputs": [],
   "source": [
    "import sqlite3\n",
    "con=sqlite3.connect(\"Emply1.db\")"
   ]
  },
  {
   "cell_type": "code",
   "execution_count": 9,
   "id": "8166a974",
   "metadata": {},
   "outputs": [],
   "source": [
    "def sql_table(con):\n",
    "    cur=con.cursor()\n",
    "    cur.execute(\"create table Emply1(id int primary key,name text,salary real,dept text,position text,hiredate text)\")\n",
    "    con.commit()"
   ]
  },
  {
   "cell_type": "code",
   "execution_count": 10,
   "id": "19f8ab2a",
   "metadata": {},
   "outputs": [],
   "source": [
    "sql_table(con)"
   ]
  },
  {
   "cell_type": "code",
   "execution_count": 11,
   "id": "e3823fcc",
   "metadata": {},
   "outputs": [
    {
     "data": {
      "text/plain": [
       "<sqlite3.Cursor at 0x179b3ae5a40>"
      ]
     },
     "execution_count": 11,
     "metadata": {},
     "output_type": "execute_result"
    }
   ],
   "source": [
    "cur=con.cursor()\n",
    "cur.execute(\"insert into Emply1 values(1,'jac',245,'ec','hod','2-02-21')\")"
   ]
  },
  {
   "cell_type": "code",
   "execution_count": 12,
   "id": "f1055305",
   "metadata": {},
   "outputs": [
    {
     "name": "stdout",
     "output_type": "stream",
     "text": [
      "1 Record(s) inserted\n"
     ]
    }
   ],
   "source": [
    "con.commit()\n",
    "print (cur.rowcount,\"Record(s) inserted\")"
   ]
  },
  {
   "cell_type": "code",
   "execution_count": 13,
   "id": "87ddfa8d",
   "metadata": {},
   "outputs": [],
   "source": [
    "con.commit;"
   ]
  },
  {
   "cell_type": "code",
   "execution_count": 14,
   "id": "76425e8d",
   "metadata": {},
   "outputs": [
    {
     "name": "stdout",
     "output_type": "stream",
     "text": [
      "(1, 'jac', 245.0, 'ec', 'hod', '2-02-21')\n"
     ]
    }
   ],
   "source": [
    "results=cur.execute(\"select * from emply1\")\n",
    "for row in results:\n",
    "    print(row)"
   ]
  },
  {
   "cell_type": "code",
   "execution_count": 26,
   "id": "766a2147",
   "metadata": {},
   "outputs": [],
   "source": [
    "def sql_insert(con,entities):\n",
    "    cur=con.cursor()\n",
    "    cur.execute('insert into emply1(id,name,salary,dept,position,hiredate)values(?,?,?,?,?,?)',entities)"
   ]
  },
  {
   "cell_type": "code",
   "execution_count": 27,
   "id": "5f443a45",
   "metadata": {},
   "outputs": [],
   "source": [
    "entities=(2,'mac',24,'rc','hd','2-3-21')\n"
   ]
  },
  {
   "cell_type": "code",
   "execution_count": 28,
   "id": "9eeae3f2",
   "metadata": {},
   "outputs": [],
   "source": [
    "sql_insert(con,entities)"
   ]
  },
  {
   "cell_type": "code",
   "execution_count": 29,
   "id": "dddfc6e5",
   "metadata": {},
   "outputs": [],
   "source": [
    "entities=(3,'mhc',28,'rpc','yhd','2-1-21')\n"
   ]
  },
  {
   "cell_type": "code",
   "execution_count": 30,
   "id": "f048c717",
   "metadata": {},
   "outputs": [],
   "source": [
    "sql_insert(con,entities)"
   ]
  },
  {
   "cell_type": "code",
   "execution_count": 32,
   "id": "72c30ab4",
   "metadata": {},
   "outputs": [
    {
     "data": {
      "text/plain": [
       "[(1, 'jac', 245.0, 'ec', 'hod', '2-02-21'),\n",
       " (2, 'mac', 24.0, 'rc', 'hd', '2-3-21'),\n",
       " (3, 'mhc', 28.0, 'rpc', 'yhd', '2-1-21')]"
      ]
     },
     "execution_count": 32,
     "metadata": {},
     "output_type": "execute_result"
    }
   ],
   "source": [
    "results=cur.execute(\"select * from emply1\")\n",
    "results.fetchall()"
   ]
  },
  {
   "cell_type": "code",
   "execution_count": 42,
   "id": "c9bfcf0e",
   "metadata": {},
   "outputs": [],
   "source": [
    "def sql_update(con):\n",
    "    cur=con.cursor()\n",
    "    cur.execute('update emply1 set name=\"mart\" where id=1')\n",
    "    con.commit()"
   ]
  },
  {
   "cell_type": "code",
   "execution_count": 43,
   "id": "c06b4079",
   "metadata": {},
   "outputs": [],
   "source": [
    "sql_update(con)"
   ]
  },
  {
   "cell_type": "code",
   "execution_count": 44,
   "id": "e632e447",
   "metadata": {},
   "outputs": [
    {
     "data": {
      "text/plain": [
       "[(1, 'mart', 245.0, 'ec', 'hod', '2-02-21'),\n",
       " (2, 'mac', 24.0, 'rc', 'hd', '2-3-21'),\n",
       " (3, 'mhc', 28.0, 'rpc', 'yhd', '2-1-21')]"
      ]
     },
     "execution_count": 44,
     "metadata": {},
     "output_type": "execute_result"
    }
   ],
   "source": [
    "results=cur.execute(\"select * from emply1\")\n",
    "results.fetchall()"
   ]
  },
  {
   "cell_type": "code",
   "execution_count": null,
   "id": "46f1f476",
   "metadata": {},
   "outputs": [],
   "source": []
  }
 ],
 "metadata": {
  "kernelspec": {
   "display_name": "Python 3 (ipykernel)",
   "language": "python",
   "name": "python3"
  },
  "language_info": {
   "codemirror_mode": {
    "name": "ipython",
    "version": 3
   },
   "file_extension": ".py",
   "mimetype": "text/x-python",
   "name": "python",
   "nbconvert_exporter": "python",
   "pygments_lexer": "ipython3",
   "version": "3.9.7"
  }
 },
 "nbformat": 4,
 "nbformat_minor": 5
}
