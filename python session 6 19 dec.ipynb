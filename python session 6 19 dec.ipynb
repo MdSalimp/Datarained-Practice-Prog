{
 "cells": [
  {
   "cell_type": "markdown",
   "id": "3b314730",
   "metadata": {},
   "source": [
    "# IF Constructs"
   ]
  },
  {
   "cell_type": "code",
   "execution_count": 1,
   "id": "8b8607f1",
   "metadata": {},
   "outputs": [],
   "source": [
    "marks=100"
   ]
  },
  {
   "cell_type": "code",
   "execution_count": 2,
   "id": "010938ea",
   "metadata": {},
   "outputs": [
    {
     "data": {
      "text/plain": [
       "100"
      ]
     },
     "execution_count": 2,
     "metadata": {},
     "output_type": "execute_result"
    }
   ],
   "source": [
    "marks"
   ]
  },
  {
   "cell_type": "code",
   "execution_count": 12,
   "id": "86f7ea01",
   "metadata": {},
   "outputs": [
    {
     "name": "stdout",
     "output_type": "stream",
     "text": [
      "excellent\n"
     ]
    }
   ],
   "source": [
    "if marks >90:\n",
    "        print(\"excellent\")\n",
    "else:\n",
    "        print(\"good\")"
   ]
  },
  {
   "cell_type": "code",
   "execution_count": 16,
   "id": "85ddad75",
   "metadata": {},
   "outputs": [
    {
     "name": "stdout",
     "output_type": "stream",
     "text": [
      "good\n"
     ]
    }
   ],
   "source": [
    "marks=90\n",
    "if marks>95:\n",
    "        print(\"excellent\")\n",
    "else:\n",
    "        print(\"good\")"
   ]
  },
  {
   "cell_type": "code",
   "execution_count": 20,
   "id": "acebc572",
   "metadata": {},
   "outputs": [
    {
     "name": "stdout",
     "output_type": "stream",
     "text": [
      "odd\n"
     ]
    }
   ],
   "source": [
    "x=12\n",
    "y=7\n",
    "if(x%y)==0:\n",
    "    print(\"even\")\n",
    "else:\n",
    "    print('odd')"
   ]
  },
  {
   "cell_type": "code",
   "execution_count": 25,
   "id": "2dd9edd4",
   "metadata": {},
   "outputs": [
    {
     "name": "stdout",
     "output_type": "stream",
     "text": [
      "good\n",
      "end\n"
     ]
    }
   ],
   "source": [
    "m=40\n",
    "if (m>20):\n",
    "    print('good')\n",
    "else:\n",
    "        print(\"bad\")\n",
    "        \n",
    "print(\"end\")"
   ]
  },
  {
   "cell_type": "code",
   "execution_count": null,
   "id": "419680e3",
   "metadata": {},
   "outputs": [],
   "source": [
    "k=int(input(\"enter value\"))\n",
    "if k%2==0:\n",
    "    print(\"vaue of k \",k,\"even number\")\n",
    "else:\n",
    "        print(\"vaue of k \",k,\"odd number\")"
   ]
  },
  {
   "cell_type": "code",
   "execution_count": 17,
   "id": "5a3a1e05",
   "metadata": {},
   "outputs": [
    {
     "name": "stdout",
     "output_type": "stream",
     "text": [
      "marks50\n",
      "poor\n"
     ]
    }
   ],
   "source": [
    "marks=int(input(\"marks\"))\n",
    "if marks>90:\n",
    "        print(\"excellent\")\n",
    "elif marks>80 and marks<=90:\n",
    "    print(\"very good\")\n",
    "elif marks>70 and marks<=80:\n",
    "    print(\"good\")\n",
    "elif marks>60 and marks<=70:\n",
    "    print(\"Avg\")\n",
    "else:\n",
    "        print(\"poor\")"
   ]
  },
  {
   "cell_type": "markdown",
   "id": "74259ab7",
   "metadata": {},
   "source": [
    "list comprehension"
   ]
  },
  {
   "cell_type": "code",
   "execution_count": 71,
   "id": "253814d0",
   "metadata": {},
   "outputs": [
    {
     "name": "stdout",
     "output_type": "stream",
     "text": [
      "200 300\n"
     ]
    }
   ],
   "source": [
    "a=200\n",
    "b=300\n",
    "print(a,b)"
   ]
  },
  {
   "cell_type": "code",
   "execution_count": 36,
   "id": "03efa79a",
   "metadata": {},
   "outputs": [
    {
     "name": "stdout",
     "output_type": "stream",
     "text": [
      "[1, 2, 3, 4, 5, 6, 7, 8]\n"
     ]
    }
   ],
   "source": [
    "list1=[1,2,3,4,5,6,7,8]\n",
    "m=[d for d in list1]\n",
    "print(m)"
   ]
  },
  {
   "cell_type": "code",
   "execution_count": 37,
   "id": "a183def1",
   "metadata": {},
   "outputs": [
    {
     "name": "stdout",
     "output_type": "stream",
     "text": [
      "[2, 4, 6, 8]\n"
     ]
    }
   ],
   "source": [
    "data=[1,2,3,4,5,6,7,8]\n",
    "m=[d for d in data if d%2==0]\n",
    "print(m)"
   ]
  },
  {
   "cell_type": "code",
   "execution_count": 38,
   "id": "d831bd48",
   "metadata": {},
   "outputs": [
    {
     "name": "stdout",
     "output_type": "stream",
     "text": [
      "[0, 5, 10, 15, 20, 25]\n"
     ]
    }
   ],
   "source": [
    "j=[i for i in range(0,30,5)]\n",
    "print(j) "
   ]
  },
  {
   "cell_type": "code",
   "execution_count": 39,
   "id": "25cd14cd",
   "metadata": {},
   "outputs": [
    {
     "name": "stdout",
     "output_type": "stream",
     "text": [
      "le\n",
      "app\n",
      "or\n",
      "ba\n"
     ]
    }
   ],
   "source": [
    "for i in ['le','app','or','ba']:\n",
    "    print(i)"
   ]
  },
  {
   "cell_type": "markdown",
   "id": "9efeeda9",
   "metadata": {},
   "source": [
    "break and continue statement"
   ]
  },
  {
   "cell_type": "code",
   "execution_count": 56,
   "id": "b7ca51be",
   "metadata": {},
   "outputs": [
    {
     "name": "stdout",
     "output_type": "stream",
     "text": [
      "le\n",
      "app\n",
      "or\n"
     ]
    }
   ],
   "source": [
    "for i in ['le','app','or','ba']:\n",
    "    if i=='ba':\n",
    "        break\n",
    "    print(i)"
   ]
  },
  {
   "cell_type": "code",
   "execution_count": 68,
   "id": "3ac60eb5",
   "metadata": {},
   "outputs": [
    {
     "name": "stdout",
     "output_type": "stream",
     "text": [
      "10\n",
      "inide\n",
      "out\n"
     ]
    }
   ],
   "source": [
    "for i in [10,20,25,30,54,86]:\n",
    "    if (i==20):\n",
    "        break\n",
    "    print(i)\n",
    "    print(\"inide\")\n",
    "    \n",
    "    print(\"out\")"
   ]
  },
  {
   "cell_type": "code",
   "execution_count": 69,
   "id": "ff1d7180",
   "metadata": {},
   "outputs": [
    {
     "name": "stdout",
     "output_type": "stream",
     "text": [
      "10\n",
      "25\n",
      "30\n",
      "54\n",
      "86\n"
     ]
    }
   ],
   "source": [
    "for i in [10,20,25,30,54,86]:\n",
    "    if (i==20):\n",
    "        continue\n",
    "    print(i)"
   ]
  },
  {
   "cell_type": "markdown",
   "id": "20d92f38",
   "metadata": {},
   "source": [
    "string functions"
   ]
  },
  {
   "cell_type": "code",
   "execution_count": 49,
   "id": "d7f1560d",
   "metadata": {},
   "outputs": [],
   "source": [
    "word=\"welcome to Python\""
   ]
  },
  {
   "cell_type": "code",
   "execution_count": 55,
   "id": "703b3efe",
   "metadata": {},
   "outputs": [
    {
     "data": {
      "text/plain": [
       "'welcome to python'"
      ]
     },
     "execution_count": 55,
     "metadata": {},
     "output_type": "execute_result"
    }
   ],
   "source": [
    "word"
   ]
  },
  {
   "cell_type": "code",
   "execution_count": 56,
   "id": "cbbd32f5",
   "metadata": {},
   "outputs": [
    {
     "data": {
      "text/plain": [
       "'welcome to python'"
      ]
     },
     "execution_count": 56,
     "metadata": {},
     "output_type": "execute_result"
    }
   ],
   "source": [
    "word.lower()"
   ]
  },
  {
   "cell_type": "code",
   "execution_count": 57,
   "id": "fc9e7c47",
   "metadata": {},
   "outputs": [
    {
     "data": {
      "text/plain": [
       "'WELCOME TO PYTHON'"
      ]
     },
     "execution_count": 57,
     "metadata": {},
     "output_type": "execute_result"
    }
   ],
   "source": [
    "word.upper()"
   ]
  },
  {
   "cell_type": "code",
   "execution_count": 58,
   "id": "37b4cc40",
   "metadata": {},
   "outputs": [
    {
     "data": {
      "text/plain": [
       "'WELCOME TO PYTHON'"
      ]
     },
     "execution_count": 58,
     "metadata": {},
     "output_type": "execute_result"
    }
   ],
   "source": [
    "word.swapcase()"
   ]
  },
  {
   "cell_type": "code",
   "execution_count": 59,
   "id": "b68afbac",
   "metadata": {},
   "outputs": [
    {
     "data": {
      "text/plain": [
       "['welcome', 'to', 'python']"
      ]
     },
     "execution_count": 59,
     "metadata": {},
     "output_type": "execute_result"
    }
   ],
   "source": [
    "word.split()"
   ]
  },
  {
   "cell_type": "code",
   "execution_count": 60,
   "id": "8a518747",
   "metadata": {},
   "outputs": [
    {
     "data": {
      "text/plain": [
       "True"
      ]
     },
     "execution_count": 60,
     "metadata": {},
     "output_type": "execute_result"
    }
   ],
   "source": [
    "word2=\"python\"\n",
    "word2.isalpha()"
   ]
  },
  {
   "cell_type": "code",
   "execution_count": 62,
   "id": "e9b388ef",
   "metadata": {},
   "outputs": [
    {
     "data": {
      "text/plain": [
       "True"
      ]
     },
     "execution_count": 62,
     "metadata": {},
     "output_type": "execute_result"
    }
   ],
   "source": [
    "city=\"faasd\"\n",
    "city.islower()"
   ]
  },
  {
   "cell_type": "code",
   "execution_count": 63,
   "id": "d0930ee9",
   "metadata": {},
   "outputs": [
    {
     "data": {
      "text/plain": [
       "False"
      ]
     },
     "execution_count": 63,
     "metadata": {},
     "output_type": "execute_result"
    }
   ],
   "source": [
    "city.isnumeric()"
   ]
  },
  {
   "cell_type": "code",
   "execution_count": 64,
   "id": "48b8b3a1",
   "metadata": {},
   "outputs": [],
   "source": [
    "p=\"data sci is emer field\""
   ]
  },
  {
   "cell_type": "code",
   "execution_count": 65,
   "id": "cc585ad1",
   "metadata": {},
   "outputs": [
    {
     "data": {
      "text/plain": [
       "'Data Sci Is Emer Field'"
      ]
     },
     "execution_count": 65,
     "metadata": {},
     "output_type": "execute_result"
    }
   ],
   "source": [
    "p.title()"
   ]
  },
  {
   "cell_type": "code",
   "execution_count": 4,
   "id": "3e9ecc3e",
   "metadata": {},
   "outputs": [
    {
     "data": {
      "text/plain": [
       "False"
      ]
     },
     "execution_count": 4,
     "metadata": {},
     "output_type": "execute_result"
    }
   ],
   "source": [
    "q=\"data sci is emer field 123\"\n",
    "q.isalnum()\n"
   ]
  },
  {
   "cell_type": "code",
   "execution_count": 5,
   "id": "bf34b894",
   "metadata": {},
   "outputs": [
    {
     "data": {
      "text/plain": [
       "['data', 'sci', 'is', 'emer', 'field', '123']"
      ]
     },
     "execution_count": 5,
     "metadata": {},
     "output_type": "execute_result"
    }
   ],
   "source": [
    "q=\"data sci is emer field 123\"\n",
    "q.split()"
   ]
  },
  {
   "cell_type": "code",
   "execution_count": 8,
   "id": "a12c0984",
   "metadata": {},
   "outputs": [
    {
     "data": {
      "text/plain": [
       "True"
      ]
     },
     "execution_count": 8,
     "metadata": {},
     "output_type": "execute_result"
    }
   ],
   "source": [
    "q.startswith('data')"
   ]
  },
  {
   "cell_type": "code",
   "execution_count": 9,
   "id": "73138ce0",
   "metadata": {},
   "outputs": [
    {
     "data": {
      "text/plain": [
       "False"
      ]
     },
     "execution_count": 9,
     "metadata": {},
     "output_type": "execute_result"
    }
   ],
   "source": [
    "q.startswith('123')"
   ]
  },
  {
   "cell_type": "code",
   "execution_count": 10,
   "id": "f7e1e120",
   "metadata": {},
   "outputs": [
    {
     "data": {
      "text/plain": [
       "True"
      ]
     },
     "execution_count": 10,
     "metadata": {},
     "output_type": "execute_result"
    }
   ],
   "source": [
    "q.endswith('123')"
   ]
  },
  {
   "cell_type": "code",
   "execution_count": 11,
   "id": "06212cbb",
   "metadata": {},
   "outputs": [
    {
     "data": {
      "text/plain": [
       "'data sci is emer field 123'"
      ]
     },
     "execution_count": 11,
     "metadata": {},
     "output_type": "execute_result"
    }
   ],
   "source": [
    "q\n"
   ]
  },
  {
   "cell_type": "code",
   "execution_count": 12,
   "id": "09776c60",
   "metadata": {},
   "outputs": [
    {
     "data": {
      "text/plain": [
       "9"
      ]
     },
     "execution_count": 12,
     "metadata": {},
     "output_type": "execute_result"
    }
   ],
   "source": [
    "q.find('is')"
   ]
  },
  {
   "cell_type": "code",
   "execution_count": 13,
   "id": "0f780ca8",
   "metadata": {},
   "outputs": [
    {
     "data": {
      "text/plain": [
       "17"
      ]
     },
     "execution_count": 13,
     "metadata": {},
     "output_type": "execute_result"
    }
   ],
   "source": [
    "q.find('field')"
   ]
  },
  {
   "cell_type": "code",
   "execution_count": 15,
   "id": "3e85e2d3",
   "metadata": {},
   "outputs": [
    {
     "data": {
      "text/plain": [
       "12"
      ]
     },
     "execution_count": 15,
     "metadata": {},
     "output_type": "execute_result"
    }
   ],
   "source": [
    "q.find('emer',7,17)"
   ]
  },
  {
   "cell_type": "code",
   "execution_count": 16,
   "id": "6011f38a",
   "metadata": {},
   "outputs": [
    {
     "data": {
      "text/plain": [
       "True"
      ]
     },
     "execution_count": 16,
     "metadata": {},
     "output_type": "execute_result"
    }
   ],
   "source": [
    "x='1234'\n",
    "x.isdigit()"
   ]
  },
  {
   "cell_type": "code",
   "execution_count": 19,
   "id": "0bdbe72f",
   "metadata": {},
   "outputs": [
    {
     "data": {
      "text/plain": [
       "3"
      ]
     },
     "execution_count": 19,
     "metadata": {},
     "output_type": "execute_result"
    }
   ],
   "source": [
    "q\n",
    "q.count('e')"
   ]
  },
  {
   "cell_type": "code",
   "execution_count": 24,
   "id": "91c3d2a9",
   "metadata": {},
   "outputs": [
    {
     "data": {
      "text/plain": [
       "'analt sci is emer field 123'"
      ]
     },
     "execution_count": 24,
     "metadata": {},
     "output_type": "execute_result"
    }
   ],
   "source": [
    "q=\"data sci is emer field 123\"\n",
    "q.replace('data','analt')"
   ]
  },
  {
   "cell_type": "code",
   "execution_count": 23,
   "id": "5ab8a047",
   "metadata": {},
   "outputs": [
    {
     "data": {
      "text/plain": [
       "'data sci is emer field 123'"
      ]
     },
     "execution_count": 23,
     "metadata": {},
     "output_type": "execute_result"
    }
   ],
   "source": [
    "q"
   ]
  },
  {
   "cell_type": "code",
   "execution_count": 30,
   "id": "0da5683b",
   "metadata": {},
   "outputs": [
    {
     "data": {
      "text/plain": [
       "['nasa', 'is', 'building', 'house', 'on', 'mars']"
      ]
     },
     "execution_count": 30,
     "metadata": {},
     "output_type": "execute_result"
    }
   ],
   "source": [
    "z= ['nasa','is','building','house', 'on', 'mars']\n",
    "z"
   ]
  },
  {
   "cell_type": "code",
   "execution_count": 31,
   "id": "8b876986",
   "metadata": {},
   "outputs": [
    {
     "data": {
      "text/plain": [
       "'nasaisbuildinghouseonmars'"
      ]
     },
     "execution_count": 31,
     "metadata": {},
     "output_type": "execute_result"
    }
   ],
   "source": [
    "''.join(z)"
   ]
  },
  {
   "cell_type": "code",
   "execution_count": 32,
   "id": "36dcfe63",
   "metadata": {},
   "outputs": [
    {
     "data": {
      "text/plain": [
       "'nasa is building house on mars'"
      ]
     },
     "execution_count": 32,
     "metadata": {},
     "output_type": "execute_result"
    }
   ],
   "source": [
    "' '.join(z)"
   ]
  },
  {
   "cell_type": "code",
   "execution_count": 36,
   "id": "6b5afa4e",
   "metadata": {},
   "outputs": [
    {
     "name": "stdout",
     "output_type": "stream",
     "text": [
      "matching\n"
     ]
    }
   ],
   "source": [
    "str1='tesla'\n",
    "str2='Tesla'\n",
    "if str1.casefold()==str2.casefold():\n",
    "    print(\"matching\")\n",
    "else:\n",
    "     print(\"not matching\")\n"
   ]
  },
  {
   "cell_type": "code",
   "execution_count": 37,
   "id": "13a2a9fe",
   "metadata": {},
   "outputs": [
    {
     "name": "stdout",
     "output_type": "stream",
     "text": [
      "not matching\n"
     ]
    }
   ],
   "source": [
    "str1='iphone'\n",
    "str2='Tesla'\n",
    "if str1.casefold()==str2.casefold():\n",
    "    print(\"matching\")\n",
    "else:\n",
    "     print(\"not matching\")\n"
   ]
  },
  {
   "cell_type": "code",
   "execution_count": 39,
   "id": "ffd14c6f",
   "metadata": {},
   "outputs": [
    {
     "name": "stdout",
     "output_type": "stream",
     "text": [
      "iphoneTesla\n"
     ]
    }
   ],
   "source": [
    "str1='iphone'\n",
    "str2='Tesla'\n",
    "print(str1+' 'str2)"
   ]
  },
  {
   "cell_type": "code",
   "execution_count": 41,
   "id": "9b08bf6e",
   "metadata": {},
   "outputs": [
    {
     "name": "stdout",
     "output_type": "stream",
     "text": [
      "iphone Tesla\n"
     ]
    }
   ],
   "source": [
    "str1='iphone'\n",
    "str2='Tesla'\n",
    "print(str1+' '+str2)"
   ]
  },
  {
   "cell_type": "markdown",
   "id": "6dcb8076",
   "metadata": {},
   "source": [
    "string printing format"
   ]
  },
  {
   "cell_type": "code",
   "execution_count": 50,
   "id": "c22ea6a9",
   "metadata": {},
   "outputs": [
    {
     "name": "stdout",
     "output_type": "stream",
     "text": [
      "hello,john!\n"
     ]
    }
   ],
   "source": [
    "name='john'\n",
    "print(\"hello,%s!\" % name)"
   ]
  },
  {
   "cell_type": "code",
   "execution_count": 53,
   "id": "541468f9",
   "metadata": {},
   "outputs": [
    {
     "name": "stdout",
     "output_type": "stream",
     "text": [
      "hello john !\n"
     ]
    }
   ],
   "source": [
    "print(\"hello\",name,'!')"
   ]
  },
  {
   "cell_type": "code",
   "execution_count": 59,
   "id": "2f8da6db",
   "metadata": {},
   "outputs": [
    {
     "name": "stdout",
     "output_type": "stream",
     "text": [
      "john is 23 old taking salary 12345.230000\n",
      "salary=12345.23\n"
     ]
    }
   ],
   "source": [
    "name =\"john\"\n",
    "age=23\n",
    "salary=12345.23\n",
    "print(\"%s is %d old taking salary %f\" % (name,age,salary))\n",
    "print(\"salary=%0.2f\" %(salary))"
   ]
  },
  {
   "cell_type": "code",
   "execution_count": 62,
   "id": "8a7d20ba",
   "metadata": {},
   "outputs": [
    {
     "name": "stdout",
     "output_type": "stream",
     "text": [
      " i like to eat mang,app,and kiwi\n"
     ]
    }
   ],
   "source": [
    "frt1='mang'\n",
    "frt2='app'\n",
    "frt3=\"kiwi\"\n",
    "print(\" i like to eat %s,%s,and % s\" % (frt1,frt2,frt3))"
   ]
  },
  {
   "cell_type": "code",
   "execution_count": 66,
   "id": "671df24e",
   "metadata": {},
   "outputs": [
    {
     "name": "stdout",
     "output_type": "stream",
     "text": [
      "people takes coke with pizza\n"
     ]
    }
   ],
   "source": [
    "print(\"people takes {} with {}\".format('coke','pizza'))"
   ]
  },
  {
   "cell_type": "code",
   "execution_count": 69,
   "id": "63822947",
   "metadata": {},
   "outputs": [
    {
     "name": "stdout",
     "output_type": "stream",
     "text": [
      "people takes coke with pizza)\n"
     ]
    }
   ],
   "source": [
    "print(\"people takes {0} with {1})\".format('coke','pizza'))"
   ]
  },
  {
   "cell_type": "code",
   "execution_count": 70,
   "id": "b9b73baa",
   "metadata": {},
   "outputs": [
    {
     "name": "stdout",
     "output_type": "stream",
     "text": [
      "people takes pizza with coke)\n"
     ]
    }
   ],
   "source": [
    "print(\"people takes {1} with {0})\".format('coke','pizza'))"
   ]
  },
  {
   "cell_type": "code",
   "execution_count": null,
   "id": "b1f2a69a",
   "metadata": {},
   "outputs": [],
   "source": []
  }
 ],
 "metadata": {
  "kernelspec": {
   "display_name": "Python 3 (ipykernel)",
   "language": "python",
   "name": "python3"
  },
  "language_info": {
   "codemirror_mode": {
    "name": "ipython",
    "version": 3
   },
   "file_extension": ".py",
   "mimetype": "text/x-python",
   "name": "python",
   "nbconvert_exporter": "python",
   "pygments_lexer": "ipython3",
   "version": "3.9.7"
  }
 },
 "nbformat": 4,
 "nbformat_minor": 5
}
