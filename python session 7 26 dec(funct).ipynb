{
 "cells": [
  {
   "cell_type": "code",
   "execution_count": 1,
   "id": "651e2582",
   "metadata": {},
   "outputs": [
    {
     "name": "stdout",
     "output_type": "stream",
     "text": [
      "john\n"
     ]
    }
   ],
   "source": [
    "name=\"john\"\n",
    "print(name)"
   ]
  },
  {
   "cell_type": "code",
   "execution_count": 2,
   "id": "04bbd33b",
   "metadata": {},
   "outputs": [
    {
     "name": "stdout",
     "output_type": "stream",
     "text": [
      "hello,john!\n"
     ]
    }
   ],
   "source": [
    "name=\"john\"\n",
    "print(\"hello,%s!\" %name)"
   ]
  },
  {
   "cell_type": "code",
   "execution_count": 3,
   "id": "2eae2c24",
   "metadata": {},
   "outputs": [
    {
     "name": "stdout",
     "output_type": "stream",
     "text": [
      "hello, john\n"
     ]
    }
   ],
   "source": [
    "print(\"hello,\" ,name)"
   ]
  },
  {
   "cell_type": "code",
   "execution_count": 4,
   "id": "a408a07f",
   "metadata": {},
   "outputs": [
    {
     "name": "stdout",
     "output_type": "stream",
     "text": [
      "john is  23 years old .\n"
     ]
    }
   ],
   "source": [
    "name=\"john\"\n",
    "age=23 \n",
    "print(\"%s is % d years old .\"%(name,age))"
   ]
  },
  {
   "cell_type": "code",
   "execution_count": 5,
   "id": "dc9fd06e",
   "metadata": {},
   "outputs": [
    {
     "name": "stdout",
     "output_type": "stream",
     "text": [
      "i have apples and lemon\n"
     ]
    }
   ],
   "source": [
    "x=\"apples\"\n",
    "y=\"lemon\"\n",
    "z=\"i have %s and % s\" %(x,y)\n",
    "print(z)"
   ]
  },
  {
   "cell_type": "code",
   "execution_count": 6,
   "id": "f69f5080",
   "metadata": {},
   "outputs": [
    {
     "name": "stdout",
     "output_type": "stream",
     "text": [
      "his name is john and he is 23\n"
     ]
    }
   ],
   "source": [
    "name=\"john\"\n",
    "age=23 \n",
    "print(\"his name is {} and he is {}\".format(name,age))"
   ]
  },
  {
   "cell_type": "code",
   "execution_count": 7,
   "id": "15034ac1",
   "metadata": {},
   "outputs": [
    {
     "name": "stdout",
     "output_type": "stream",
     "text": [
      "x andy\n",
      "y andx\n"
     ]
    }
   ],
   "source": [
    "print('{0} and{1}'.format('x','y'))\n",
    "print('{1} and{0}'.format('x','y'))"
   ]
  },
  {
   "cell_type": "markdown",
   "id": "48632a99",
   "metadata": {},
   "source": [
    "functions"
   ]
  },
  {
   "cell_type": "code",
   "execution_count": 11,
   "id": "68645d1a",
   "metadata": {},
   "outputs": [
    {
     "data": {
      "text/plain": [
       "40"
      ]
     },
     "execution_count": 11,
     "metadata": {},
     "output_type": "execute_result"
    }
   ],
   "source": [
    "k=[40,20,6,7,5]\n",
    "max(k)"
   ]
  },
  {
   "cell_type": "code",
   "execution_count": 12,
   "id": "354c645d",
   "metadata": {},
   "outputs": [
    {
     "data": {
      "text/plain": [
       "5"
      ]
     },
     "execution_count": 12,
     "metadata": {},
     "output_type": "execute_result"
    }
   ],
   "source": [
    "min(k)"
   ]
  },
  {
   "cell_type": "code",
   "execution_count": 13,
   "id": "fc760fbb",
   "metadata": {},
   "outputs": [],
   "source": [
    "def firstfunction():\n",
    "    print('my first function')"
   ]
  },
  {
   "cell_type": "code",
   "execution_count": 14,
   "id": "b6f47fb7",
   "metadata": {},
   "outputs": [
    {
     "name": "stdout",
     "output_type": "stream",
     "text": [
      "my first function\n"
     ]
    }
   ],
   "source": [
    "firstfunction()"
   ]
  },
  {
   "cell_type": "code",
   "execution_count": 15,
   "id": "ce506bae",
   "metadata": {},
   "outputs": [],
   "source": [
    "def secondfunction():\n",
    "    print('my second function')"
   ]
  },
  {
   "cell_type": "code",
   "execution_count": 18,
   "id": "9c014a71",
   "metadata": {},
   "outputs": [
    {
     "name": "stdout",
     "output_type": "stream",
     "text": [
      "my second function\n"
     ]
    }
   ],
   "source": [
    "secondfunction()"
   ]
  },
  {
   "cell_type": "markdown",
   "id": "2d147940",
   "metadata": {},
   "source": [
    "# user defined functions"
   ]
  },
  {
   "cell_type": "code",
   "execution_count": 19,
   "id": "faf337ed",
   "metadata": {},
   "outputs": [],
   "source": [
    "def functionname():\n",
    "    print(\"i am in function\")"
   ]
  },
  {
   "cell_type": "code",
   "execution_count": 20,
   "id": "0d4f6007",
   "metadata": {},
   "outputs": [
    {
     "name": "stdout",
     "output_type": "stream",
     "text": [
      "i am in function\n"
     ]
    }
   ],
   "source": [
    "functionname()"
   ]
  },
  {
   "cell_type": "code",
   "execution_count": 21,
   "id": "b82f6845",
   "metadata": {},
   "outputs": [],
   "source": [
    "def function1():\n",
    "    print(\"learning to write functions\")"
   ]
  },
  {
   "cell_type": "code",
   "execution_count": 22,
   "id": "138e1f5d",
   "metadata": {},
   "outputs": [
    {
     "name": "stdout",
     "output_type": "stream",
     "text": [
      "learning to write functions\n"
     ]
    }
   ],
   "source": [
    "function1()"
   ]
  },
  {
   "cell_type": "code",
   "execution_count": 1,
   "id": "1621139b",
   "metadata": {},
   "outputs": [],
   "source": [
    "def function2():\n",
    "    print(\"inside function\")\n",
    "    print(\"learning to write functions\")\n",
    "    print(\"i am in function\")"
   ]
  },
  {
   "cell_type": "code",
   "execution_count": 2,
   "id": "69f564ef",
   "metadata": {},
   "outputs": [
    {
     "name": "stdout",
     "output_type": "stream",
     "text": [
      "inside function\n",
      "learning to write functions\n",
      "i am in function\n"
     ]
    }
   ],
   "source": [
    "function2()"
   ]
  },
  {
   "cell_type": "code",
   "execution_count": 25,
   "id": "0402098c",
   "metadata": {},
   "outputs": [],
   "source": [
    "    def addfunction():\n",
    "        a=10\n",
    "        b=5\n",
    "        c=a+b\n",
    "        print(\"addition\",c)"
   ]
  },
  {
   "cell_type": "code",
   "execution_count": 27,
   "id": "ae779a8a",
   "metadata": {},
   "outputs": [
    {
     "name": "stdout",
     "output_type": "stream",
     "text": [
      "addition 15\n"
     ]
    }
   ],
   "source": [
    "addfunction()"
   ]
  },
  {
   "cell_type": "code",
   "execution_count": 3,
   "id": "c0ca7d0b",
   "metadata": {},
   "outputs": [],
   "source": [
    "def subtraction():\n",
    "        a=100\n",
    "        b=50\n",
    "        c=a-b\n",
    "        print(\"subtraction\",c)"
   ]
  },
  {
   "cell_type": "code",
   "execution_count": 4,
   "id": "ceab4e12",
   "metadata": {},
   "outputs": [
    {
     "name": "stdout",
     "output_type": "stream",
     "text": [
      "subtraction 50\n"
     ]
    }
   ],
   "source": [
    "subtraction()"
   ]
  },
  {
   "cell_type": "code",
   "execution_count": 28,
   "id": "db67c51f",
   "metadata": {},
   "outputs": [],
   "source": [
    "def multiplyfunction():\n",
    "        a=10\n",
    "        b=5\n",
    "        c=a*b\n",
    "        print(\"multiply\",c)"
   ]
  },
  {
   "cell_type": "code",
   "execution_count": 29,
   "id": "f0763dc5",
   "metadata": {},
   "outputs": [
    {
     "name": "stdout",
     "output_type": "stream",
     "text": [
      "multiply 50\n"
     ]
    }
   ],
   "source": [
    "multiplyfunction()"
   ]
  },
  {
   "cell_type": "code",
   "execution_count": 60,
   "id": "90982a9f",
   "metadata": {},
   "outputs": [],
   "source": [
    "def Area__of__rectangle():\n",
    "    length=10\n",
    "    breadth=15\n",
    "    area=length*breadth\n",
    "    print(\"area\",area)\n",
    "    print(\"area with length=\",length, \"and area with breadth =\",breadth ,\"area\",area)"
   ]
  },
  {
   "cell_type": "code",
   "execution_count": 61,
   "id": "9c5a32a7",
   "metadata": {},
   "outputs": [
    {
     "name": "stdout",
     "output_type": "stream",
     "text": [
      "area 150\n",
      "area with length= 10 and area with breadth = 15 area 150\n"
     ]
    }
   ],
   "source": [
    " Area__of__rectangle()"
   ]
  },
  {
   "cell_type": "code",
   "execution_count": 89,
   "id": "f0757d6a",
   "metadata": {},
   "outputs": [],
   "source": [
    "def Area__of__rectangle():\n",
    "    length=int(input(\"length\"))\n",
    "    breadth=int(input(\"breadth\"))\n",
    "    area=length*breadth\n",
    "    print(\"area\",area)\n",
    "    print(\"area with length=\",length, \"and area with breadth =\",breadth ,\"area\",area)"
   ]
  },
  {
   "cell_type": "code",
   "execution_count": 90,
   "id": "135baa5a",
   "metadata": {},
   "outputs": [
    {
     "name": "stdout",
     "output_type": "stream",
     "text": [
      "length10\n",
      "breadth5\n",
      "area 50\n",
      "area with length= 10 and area with breadth = 5 area 50\n"
     ]
    }
   ],
   "source": [
    "Area__of__rectangle()"
   ]
  },
  {
   "cell_type": "raw",
   "id": "1f4847c0",
   "metadata": {},
   "source": []
  },
  {
   "cell_type": "code",
   "execution_count": 95,
   "id": "dffbc119",
   "metadata": {},
   "outputs": [],
   "source": [
    "def areaofcircle():\n",
    "    pi=3.14\n",
    "    radius=5\n",
    "    area=pi*radius**2\n",
    "    print(\"area=\",area)"
   ]
  },
  {
   "cell_type": "code",
   "execution_count": 96,
   "id": "93a57250",
   "metadata": {},
   "outputs": [
    {
     "name": "stdout",
     "output_type": "stream",
     "text": [
      "area= 78.5\n"
     ]
    }
   ],
   "source": [
    "areaofcircle()"
   ]
  },
  {
   "cell_type": "markdown",
   "id": "e8cb9025",
   "metadata": {},
   "source": [
    "Global and Local Variables"
   ]
  },
  {
   "cell_type": "code",
   "execution_count": 6,
   "id": "89581b4c",
   "metadata": {},
   "outputs": [],
   "source": [
    "testx=100 #global variable"
   ]
  },
  {
   "cell_type": "code",
   "execution_count": 3,
   "id": "b0cf1a05",
   "metadata": {},
   "outputs": [
    {
     "data": {
      "text/plain": [
       "100"
      ]
     },
     "execution_count": 3,
     "metadata": {},
     "output_type": "execute_result"
    }
   ],
   "source": [
    "testx"
   ]
  },
  {
   "cell_type": "code",
   "execution_count": 4,
   "id": "f288abbe",
   "metadata": {},
   "outputs": [],
   "source": [
    "def fun():\n",
    "    p=1 # local variabe\n",
    "    print(p)"
   ]
  },
  {
   "cell_type": "code",
   "execution_count": 5,
   "id": "01359905",
   "metadata": {},
   "outputs": [
    {
     "ename": "NameError",
     "evalue": "name 'p' is not defined",
     "output_type": "error",
     "traceback": [
      "\u001b[1;31m---------------------------------------------------------------------------\u001b[0m",
      "\u001b[1;31mNameError\u001b[0m                                 Traceback (most recent call last)",
      "\u001b[1;32m~\\AppData\\Local\\Temp/ipykernel_7576/626125819.py\u001b[0m in \u001b[0;36m<module>\u001b[1;34m\u001b[0m\n\u001b[1;32m----> 1\u001b[1;33m \u001b[0mp\u001b[0m\u001b[1;33m\u001b[0m\u001b[1;33m\u001b[0m\u001b[0m\n\u001b[0m",
      "\u001b[1;31mNameError\u001b[0m: name 'p' is not defined"
     ]
    }
   ],
   "source": [
    "p"
   ]
  },
  {
   "cell_type": "code",
   "execution_count": 7,
   "id": "6c70c74d",
   "metadata": {},
   "outputs": [
    {
     "data": {
      "text/plain": [
       "100"
      ]
     },
     "execution_count": 7,
     "metadata": {},
     "output_type": "execute_result"
    }
   ],
   "source": [
    "testx"
   ]
  },
  {
   "cell_type": "code",
   "execution_count": 8,
   "id": "6b7d0cd3",
   "metadata": {},
   "outputs": [],
   "source": [
    "def fun():\n",
    "    global testx\n",
    "    p=15\n",
    "    print(p)\n",
    "    print(testx)"
   ]
  },
  {
   "cell_type": "code",
   "execution_count": 9,
   "id": "9e3bd687",
   "metadata": {},
   "outputs": [
    {
     "data": {
      "text/plain": [
       "100"
      ]
     },
     "execution_count": 9,
     "metadata": {},
     "output_type": "execute_result"
    }
   ],
   "source": [
    "testx"
   ]
  },
  {
   "cell_type": "code",
   "execution_count": 11,
   "id": "c055dc52",
   "metadata": {},
   "outputs": [
    {
     "name": "stdout",
     "output_type": "stream",
     "text": [
      "15\n",
      "100\n"
     ]
    }
   ],
   "source": [
    "fun()"
   ]
  },
  {
   "cell_type": "code",
   "execution_count": 19,
   "id": "fe367ed9",
   "metadata": {},
   "outputs": [],
   "source": [
    "def fun2():\n",
    "    m=10\n",
    "    print(m)"
   ]
  },
  {
   "cell_type": "code",
   "execution_count": 20,
   "id": "3f58a400",
   "metadata": {},
   "outputs": [
    {
     "name": "stdout",
     "output_type": "stream",
     "text": [
      "10\n"
     ]
    }
   ],
   "source": [
    "fun2()"
   ]
  },
  {
   "cell_type": "code",
   "execution_count": 45,
   "id": "795b69cf",
   "metadata": {},
   "outputs": [],
   "source": [
    "def f1():\n",
    "    a=10\n",
    "    b=5\n",
    "    print(\"f1\",a*b)"
   ]
  },
  {
   "cell_type": "code",
   "execution_count": 46,
   "id": "cf76db31",
   "metadata": {},
   "outputs": [
    {
     "name": "stdout",
     "output_type": "stream",
     "text": [
      "f1 50\n"
     ]
    }
   ],
   "source": [
    "f1()"
   ]
  },
  {
   "cell_type": "code",
   "execution_count": 48,
   "id": "207fc37b",
   "metadata": {},
   "outputs": [],
   "source": [
    "def f2():\n",
    "    f1()\n",
    "    a=10\n",
    "    b=5\n",
    "    print(\"f1\",a-b)"
   ]
  },
  {
   "cell_type": "code",
   "execution_count": 49,
   "id": "f09fd56e",
   "metadata": {},
   "outputs": [
    {
     "name": "stdout",
     "output_type": "stream",
     "text": [
      "f1 50\n",
      "f1 5\n"
     ]
    }
   ],
   "source": [
    "f2()"
   ]
  },
  {
   "cell_type": "markdown",
   "id": "802c0ee7",
   "metadata": {},
   "source": [
    "return keyword"
   ]
  },
  {
   "cell_type": "code",
   "execution_count": 52,
   "id": "a16223ba",
   "metadata": {},
   "outputs": [],
   "source": [
    "def fun1():\n",
    "    a=10\n",
    "    b=5\n",
    "    c=a+b\n",
    "    return c"
   ]
  },
  {
   "cell_type": "code",
   "execution_count": 53,
   "id": "bf7d65ba",
   "metadata": {},
   "outputs": [
    {
     "data": {
      "text/plain": [
       "15"
      ]
     },
     "execution_count": 53,
     "metadata": {},
     "output_type": "execute_result"
    }
   ],
   "source": [
    "fun1()"
   ]
  },
  {
   "cell_type": "code",
   "execution_count": 54,
   "id": "d0356728",
   "metadata": {},
   "outputs": [],
   "source": [
    "h=fun1()\n"
   ]
  },
  {
   "cell_type": "code",
   "execution_count": 55,
   "id": "33ec525a",
   "metadata": {},
   "outputs": [
    {
     "data": {
      "text/plain": [
       "15"
      ]
     },
     "execution_count": 55,
     "metadata": {},
     "output_type": "execute_result"
    }
   ],
   "source": [
    "h"
   ]
  },
  {
   "cell_type": "code",
   "execution_count": 56,
   "id": "ce51f50a",
   "metadata": {},
   "outputs": [],
   "source": [
    "def fun2():\n",
    "    a=10\n",
    "    b=5\n",
    "    c=a-b\n",
    "    return c"
   ]
  },
  {
   "cell_type": "code",
   "execution_count": 57,
   "id": "d6dc9810",
   "metadata": {},
   "outputs": [
    {
     "data": {
      "text/plain": [
       "5"
      ]
     },
     "execution_count": 57,
     "metadata": {},
     "output_type": "execute_result"
    }
   ],
   "source": [
    "fun2()"
   ]
  },
  {
   "cell_type": "code",
   "execution_count": null,
   "id": "8040b190",
   "metadata": {},
   "outputs": [],
   "source": []
  }
 ],
 "metadata": {
  "kernelspec": {
   "display_name": "Python 3 (ipykernel)",
   "language": "python",
   "name": "python3"
  },
  "language_info": {
   "codemirror_mode": {
    "name": "ipython",
    "version": 3
   },
   "file_extension": ".py",
   "mimetype": "text/x-python",
   "name": "python",
   "nbconvert_exporter": "python",
   "pygments_lexer": "ipython3",
   "version": "3.9.7"
  }
 },
 "nbformat": 4,
 "nbformat_minor": 5
}
