{
 "cells": [
  {
   "cell_type": "code",
   "execution_count": 12,
   "id": "62d254f1",
   "metadata": {},
   "outputs": [
    {
     "name": "stdout",
     "output_type": "stream",
     "text": [
      "enter first number15\n"
     ]
    }
   ],
   "source": [
    "x=input(\"enter first number\")"
   ]
  },
  {
   "cell_type": "code",
   "execution_count": 14,
   "id": "9b2f5f51",
   "metadata": {},
   "outputs": [
    {
     "data": {
      "text/plain": [
       "'15'"
      ]
     },
     "execution_count": 14,
     "metadata": {},
     "output_type": "execute_result"
    }
   ],
   "source": [
    "x"
   ]
  },
  {
   "cell_type": "code",
   "execution_count": 15,
   "id": "1f5ed32d",
   "metadata": {},
   "outputs": [
    {
     "name": "stdout",
     "output_type": "stream",
     "text": [
      "enter second number35\n"
     ]
    }
   ],
   "source": [
    "y=input(\"enter second number\")"
   ]
  },
  {
   "cell_type": "code",
   "execution_count": 16,
   "id": "352f56c8",
   "metadata": {},
   "outputs": [
    {
     "data": {
      "text/plain": [
       "'35'"
      ]
     },
     "execution_count": 16,
     "metadata": {},
     "output_type": "execute_result"
    }
   ],
   "source": [
    "y"
   ]
  },
  {
   "cell_type": "code",
   "execution_count": 17,
   "id": "a61dc9f3",
   "metadata": {},
   "outputs": [
    {
     "data": {
      "text/plain": [
       "'1535'"
      ]
     },
     "execution_count": 17,
     "metadata": {},
     "output_type": "execute_result"
    }
   ],
   "source": [
    "x+y"
   ]
  },
  {
   "cell_type": "code",
   "execution_count": 18,
   "id": "c20261a7",
   "metadata": {},
   "outputs": [
    {
     "data": {
      "text/plain": [
       "50"
      ]
     },
     "execution_count": 18,
     "metadata": {},
     "output_type": "execute_result"
    }
   ],
   "source": [
    "int (x)+int(y)"
   ]
  },
  {
   "cell_type": "markdown",
   "id": "ee123a34",
   "metadata": {},
   "source": [
    "boolean operations"
   ]
  },
  {
   "cell_type": "code",
   "execution_count": 19,
   "id": "a083aa90",
   "metadata": {},
   "outputs": [
    {
     "data": {
      "text/plain": [
       "True"
      ]
     },
     "execution_count": 19,
     "metadata": {},
     "output_type": "execute_result"
    }
   ],
   "source": [
    "85>25"
   ]
  },
  {
   "cell_type": "code",
   "execution_count": 20,
   "id": "836566ec",
   "metadata": {},
   "outputs": [
    {
     "data": {
      "text/plain": [
       "True"
      ]
     },
     "execution_count": 20,
     "metadata": {},
     "output_type": "execute_result"
    }
   ],
   "source": [
    "25<36"
   ]
  },
  {
   "cell_type": "code",
   "execution_count": 21,
   "id": "995d7683",
   "metadata": {},
   "outputs": [
    {
     "data": {
      "text/plain": [
       "False"
      ]
     },
     "execution_count": 21,
     "metadata": {},
     "output_type": "execute_result"
    }
   ],
   "source": [
    "25>35"
   ]
  },
  {
   "cell_type": "markdown",
   "id": "614827da",
   "metadata": {},
   "source": [
    "compare"
   ]
  },
  {
   "cell_type": "code",
   "execution_count": 24,
   "id": "3375d7ce",
   "metadata": {},
   "outputs": [
    {
     "data": {
      "text/plain": [
       "True"
      ]
     },
     "execution_count": 24,
     "metadata": {},
     "output_type": "execute_result"
    }
   ],
   "source": [
    "25==25"
   ]
  },
  {
   "cell_type": "code",
   "execution_count": 25,
   "id": "739fad0b",
   "metadata": {},
   "outputs": [
    {
     "data": {
      "text/plain": [
       "False"
      ]
     },
     "execution_count": 25,
     "metadata": {},
     "output_type": "execute_result"
    }
   ],
   "source": [
    "25==15"
   ]
  },
  {
   "cell_type": "code",
   "execution_count": 26,
   "id": "606f5785",
   "metadata": {},
   "outputs": [
    {
     "data": {
      "text/plain": [
       "False"
      ]
     },
     "execution_count": 26,
     "metadata": {},
     "output_type": "execute_result"
    }
   ],
   "source": [
    "36==18"
   ]
  },
  {
   "cell_type": "code",
   "execution_count": 27,
   "id": "4422baad",
   "metadata": {},
   "outputs": [
    {
     "data": {
      "text/plain": [
       "True"
      ]
     },
     "execution_count": 27,
     "metadata": {},
     "output_type": "execute_result"
    }
   ],
   "source": [
    "19==19"
   ]
  },
  {
   "cell_type": "code",
   "execution_count": 29,
   "id": "c73a3ac0",
   "metadata": {},
   "outputs": [
    {
     "data": {
      "text/plain": [
       "True"
      ]
     },
     "execution_count": 29,
     "metadata": {},
     "output_type": "execute_result"
    }
   ],
   "source": [
    "90!=20"
   ]
  },
  {
   "cell_type": "code",
   "execution_count": 30,
   "id": "f84a960b",
   "metadata": {},
   "outputs": [
    {
     "data": {
      "text/plain": [
       "False"
      ]
     },
     "execution_count": 30,
     "metadata": {},
     "output_type": "execute_result"
    }
   ],
   "source": [
    "20!=20"
   ]
  },
  {
   "cell_type": "code",
   "execution_count": 31,
   "id": "d42c2c71",
   "metadata": {},
   "outputs": [
    {
     "data": {
      "text/plain": [
       "False"
      ]
     },
     "execution_count": 31,
     "metadata": {},
     "output_type": "execute_result"
    }
   ],
   "source": [
    "j=23\n",
    "k=12\n",
    "j==k"
   ]
  },
  {
   "cell_type": "code",
   "execution_count": 35,
   "id": "f5c0999f",
   "metadata": {},
   "outputs": [
    {
     "data": {
      "text/plain": [
       "False"
      ]
     },
     "execution_count": 35,
     "metadata": {},
     "output_type": "execute_result"
    }
   ],
   "source": [
    "j=56\n",
    "k=96\n",
    "j==k"
   ]
  },
  {
   "cell_type": "code",
   "execution_count": 36,
   "id": "7b523db5",
   "metadata": {},
   "outputs": [
    {
     "data": {
      "text/plain": [
       "True"
      ]
     },
     "execution_count": 36,
     "metadata": {},
     "output_type": "execute_result"
    }
   ],
   "source": [
    "j=23\n",
    "k=23\n",
    "j==k"
   ]
  },
  {
   "cell_type": "markdown",
   "id": "55ffece5",
   "metadata": {},
   "source": [
    "string concatenation\n"
   ]
  },
  {
   "cell_type": "code",
   "execution_count": 37,
   "id": "2588b3a5",
   "metadata": {},
   "outputs": [
    {
     "data": {
      "text/plain": [
       "'datascience'"
      ]
     },
     "execution_count": 37,
     "metadata": {},
     "output_type": "execute_result"
    }
   ],
   "source": [
    "\"data\"+\"science\""
   ]
  },
  {
   "cell_type": "code",
   "execution_count": 38,
   "id": "aca3b8d6",
   "metadata": {},
   "outputs": [
    {
     "data": {
      "text/plain": [
       "'doctorscientist'"
      ]
     },
     "execution_count": 38,
     "metadata": {},
     "output_type": "execute_result"
    }
   ],
   "source": [
    "\"doctor\"+\"scientist\""
   ]
  },
  {
   "cell_type": "code",
   "execution_count": 39,
   "id": "ee215561",
   "metadata": {},
   "outputs": [
    {
     "data": {
      "text/plain": [
       "'4558'"
      ]
     },
     "execution_count": 39,
     "metadata": {},
     "output_type": "execute_result"
    }
   ],
   "source": [
    "\"45\"+\"58\""
   ]
  },
  {
   "cell_type": "code",
   "execution_count": 44,
   "id": "21d500ab",
   "metadata": {},
   "outputs": [
    {
     "data": {
      "text/plain": [
       "'nano nexon brands of tata'"
      ]
     },
     "execution_count": 44,
     "metadata": {},
     "output_type": "execute_result"
    }
   ],
   "source": [
    "\"nano \" +     \"nexon \"+\"brands of tata\""
   ]
  },
  {
   "cell_type": "code",
   "execution_count": null,
   "id": "1e12057c",
   "metadata": {},
   "outputs": [],
   "source": []
  }
 ],
 "metadata": {
  "kernelspec": {
   "display_name": "Python 3 (ipykernel)",
   "language": "python",
   "name": "python3"
  },
  "language_info": {
   "codemirror_mode": {
    "name": "ipython",
    "version": 3
   },
   "file_extension": ".py",
   "mimetype": "text/x-python",
   "name": "python",
   "nbconvert_exporter": "python",
   "pygments_lexer": "ipython3",
   "version": "3.9.7"
  }
 },
 "nbformat": 4,
 "nbformat_minor": 5
}
