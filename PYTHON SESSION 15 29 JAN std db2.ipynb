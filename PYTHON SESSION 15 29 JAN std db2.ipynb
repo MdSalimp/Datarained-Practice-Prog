{
 "cells": [
  {
   "cell_type": "code",
   "execution_count": 5,
   "id": "133944d7",
   "metadata": {},
   "outputs": [],
   "source": [
    "import sqlite3"
   ]
  },
  {
   "cell_type": "code",
   "execution_count": 6,
   "id": "612d4ca5",
   "metadata": {},
   "outputs": [],
   "source": [
    "db=sqlite3.connect(\"student_database.db\")"
   ]
  },
  {
   "cell_type": "code",
   "execution_count": 7,
   "id": "9f9b58ce",
   "metadata": {},
   "outputs": [],
   "source": [
    "cur=db.cursor()"
   ]
  },
  {
   "cell_type": "code",
   "execution_count": 8,
   "id": "bb2c39f2",
   "metadata": {},
   "outputs": [],
   "source": [
    "results=cur.execute(\"select * from student\")"
   ]
  },
  {
   "cell_type": "code",
   "execution_count": 9,
   "id": "89b183d7",
   "metadata": {},
   "outputs": [
    {
     "name": "stdout",
     "output_type": "stream",
     "text": [
      "(1, 'john', 90)\n",
      "(2, 'teena', 100)\n",
      "(3, 'andrew', 110)\n",
      "(4, 'dor', 45)\n",
      "(5, 'surt', 55)\n",
      "(9, 'kia', 23)\n",
      "(10, 'abj', 93)\n",
      "(11, 'tam', 88)\n"
     ]
    }
   ],
   "source": [
    "for row in results:\n",
    "    print(row)"
   ]
  },
  {
   "cell_type": "code",
   "execution_count": 10,
   "id": "c626bfe1",
   "metadata": {},
   "outputs": [
    {
     "ename": "IntegrityError",
     "evalue": "UNIQUE constraint failed: student.id",
     "output_type": "error",
     "traceback": [
      "\u001b[1;31m---------------------------------------------------------------------------\u001b[0m",
      "\u001b[1;31mIntegrityError\u001b[0m                            Traceback (most recent call last)",
      "\u001b[1;32m~\\AppData\\Local\\Temp/ipykernel_1932/573928744.py\u001b[0m in \u001b[0;36m<module>\u001b[1;34m\u001b[0m\n\u001b[1;32m----> 1\u001b[1;33m \u001b[0mcur\u001b[0m\u001b[1;33m.\u001b[0m\u001b[0mexecute\u001b[0m\u001b[1;33m(\u001b[0m\u001b[1;34m\"insert into student values(10,'lia',56),(11,'dia',89)\"\u001b[0m\u001b[1;33m)\u001b[0m\u001b[1;33m\u001b[0m\u001b[1;33m\u001b[0m\u001b[0m\n\u001b[0m\u001b[0;32m      2\u001b[0m \u001b[0mdb\u001b[0m\u001b[1;33m.\u001b[0m\u001b[0mcommit\u001b[0m\u001b[1;33m(\u001b[0m\u001b[1;33m)\u001b[0m\u001b[1;33m\u001b[0m\u001b[1;33m\u001b[0m\u001b[0m\n\u001b[0;32m      3\u001b[0m \u001b[0mprint\u001b[0m\u001b[1;33m(\u001b[0m\u001b[0mcur\u001b[0m\u001b[1;33m.\u001b[0m\u001b[0mrowcount\u001b[0m\u001b[1;33m,\u001b[0m\u001b[1;34m\"record(s) inserted\"\u001b[0m\u001b[1;33m)\u001b[0m\u001b[1;33m\u001b[0m\u001b[1;33m\u001b[0m\u001b[0m\n",
      "\u001b[1;31mIntegrityError\u001b[0m: UNIQUE constraint failed: student.id"
     ]
    }
   ],
   "source": [
    "cur.execute(\"insert into student values(10,'lia',56),(11,'dia',89)\")\n",
    "db.commit()\n",
    "print(cur.rowcount,\"record(s) inserted\")"
   ]
  },
  {
   "cell_type": "code",
   "execution_count": 7,
   "id": "f726aaba",
   "metadata": {},
   "outputs": [
    {
     "name": "stdout",
     "output_type": "stream",
     "text": [
      "(1, 'john', 90)\n",
      "(2, 'teena', 100)\n",
      "(3, 'andrew', 110)\n",
      "(4, 'dor', 45)\n",
      "(5, 'surt', 55)\n",
      "(9, 'kia', 23)\n",
      "(10, 'abj', 93)\n",
      "(11, 'tam', 88)\n"
     ]
    }
   ],
   "source": [
    "results=cur.execute(\"select * from student\")\n",
    "for row in results:\n",
    "    print(row)"
   ]
  },
  {
   "cell_type": "markdown",
   "id": "4f8aabf8",
   "metadata": {},
   "source": [
    "database will be created in given location"
   ]
  },
  {
   "cell_type": "code",
   "execution_count": 3,
   "id": "8122196b",
   "metadata": {},
   "outputs": [
    {
     "ename": "OperationalError",
     "evalue": "unable to open database file",
     "output_type": "error",
     "traceback": [
      "\u001b[1;31m---------------------------------------------------------------------------\u001b[0m",
      "\u001b[1;31mOperationalError\u001b[0m                          Traceback (most recent call last)",
      "\u001b[1;32m~\\AppData\\Local\\Temp/ipykernel_1932/2930759632.py\u001b[0m in \u001b[0;36m<module>\u001b[1;34m\u001b[0m\n\u001b[1;32m----> 1\u001b[1;33m \u001b[0mdb1\u001b[0m\u001b[1;33m=\u001b[0m\u001b[0msqlite3\u001b[0m\u001b[1;33m.\u001b[0m\u001b[0mconnect\u001b[0m\u001b[1;33m(\u001b[0m\u001b[1;34m\"C:\\my sqlite_database\\STUDENTDB1.txt\"\u001b[0m\u001b[1;33m)\u001b[0m\u001b[1;33m\u001b[0m\u001b[1;33m\u001b[0m\u001b[0m\n\u001b[0m",
      "\u001b[1;31mOperationalError\u001b[0m: unable to open database file"
     ]
    }
   ],
   "source": [
    "db1=sqlite3.connect(\"C:\\my sqlite_database\\STUDENTDB1.txt\")"
   ]
  },
  {
   "cell_type": "code",
   "execution_count": 9,
   "id": "91a39360",
   "metadata": {},
   "outputs": [],
   "source": [
    "cur1=db1.cursor()"
   ]
  },
  {
   "cell_type": "code",
   "execution_count": 10,
   "id": "2f35d7d6",
   "metadata": {
    "scrolled": true
   },
   "outputs": [
    {
     "ename": "OperationalError",
     "evalue": "table employee already exists",
     "output_type": "error",
     "traceback": [
      "\u001b[1;31m---------------------------------------------------------------------------\u001b[0m",
      "\u001b[1;31mOperationalError\u001b[0m                          Traceback (most recent call last)",
      "\u001b[1;32m~\\AppData\\Local\\Temp/ipykernel_20132/3810837871.py\u001b[0m in \u001b[0;36m<module>\u001b[1;34m\u001b[0m\n\u001b[1;32m----> 1\u001b[1;33m \u001b[0mcur1\u001b[0m\u001b[1;33m.\u001b[0m\u001b[0mexecute\u001b[0m\u001b[1;33m(\u001b[0m\u001b[1;34m\"create table employee(id int,name text,age int)\"\u001b[0m\u001b[1;33m)\u001b[0m\u001b[1;33m\u001b[0m\u001b[1;33m\u001b[0m\u001b[0m\n\u001b[0m",
      "\u001b[1;31mOperationalError\u001b[0m: table employee already exists"
     ]
    }
   ],
   "source": [
    "cur1.execute(\"create table employee(id int,name text,age int)\")"
   ]
  },
  {
   "cell_type": "code",
   "execution_count": 11,
   "id": "e170d022",
   "metadata": {},
   "outputs": [],
   "source": [
    "cur1.execute(\"insert into employee values(1,'mel',32)\")\n",
    "db1.commit()"
   ]
  },
  {
   "cell_type": "code",
   "execution_count": 12,
   "id": "a3001dd7",
   "metadata": {},
   "outputs": [
    {
     "name": "stdout",
     "output_type": "stream",
     "text": [
      "1 records inserted\n"
     ]
    }
   ],
   "source": [
    "print(cur1.rowcount,\"records inserted\")"
   ]
  },
  {
   "cell_type": "code",
   "execution_count": 13,
   "id": "0b6334f1",
   "metadata": {},
   "outputs": [],
   "source": [
    "results=cur1.execute(\"select * from employee\")"
   ]
  },
  {
   "cell_type": "code",
   "execution_count": 14,
   "id": "a7347fc5",
   "metadata": {},
   "outputs": [
    {
     "name": "stdout",
     "output_type": "stream",
     "text": [
      "(1, 'mel', 32)\n",
      "(1, 'mel', 32)\n",
      "(1, 'mel', 32)\n",
      "(1, 'mel', 32)\n",
      "(1, 'mel', 32)\n",
      "(1, 'mel', 32)\n",
      "(1, 'mel', 32)\n",
      "(1, 'mel', 32)\n"
     ]
    }
   ],
   "source": [
    "for i in results:\n",
    "    print(i)"
   ]
  },
  {
   "cell_type": "code",
   "execution_count": 15,
   "id": "7f50e3e7",
   "metadata": {},
   "outputs": [],
   "source": [
    "db=sqlite3.connect(\"student_database.db\")"
   ]
  },
  {
   "cell_type": "code",
   "execution_count": 16,
   "id": "8937c792",
   "metadata": {},
   "outputs": [],
   "source": [
    "cur=db.cursor()"
   ]
  },
  {
   "cell_type": "code",
   "execution_count": 17,
   "id": "b3e3215e",
   "metadata": {},
   "outputs": [],
   "source": [
    "results=cur.execute(\"select * from student\")"
   ]
  },
  {
   "cell_type": "code",
   "execution_count": 18,
   "id": "94a866c0",
   "metadata": {},
   "outputs": [
    {
     "name": "stdout",
     "output_type": "stream",
     "text": [
      "(1, 'john', 90)\n",
      "(2, 'teena', 100)\n",
      "(3, 'andrew', 110)\n",
      "(4, 'dor', 45)\n",
      "(5, 'surt', 55)\n",
      "(9, 'kia', 23)\n",
      "(10, 'abj', 93)\n",
      "(11, 'tam', 88)\n"
     ]
    }
   ],
   "source": [
    "for row in results:\n",
    "    print(row)"
   ]
  },
  {
   "cell_type": "code",
   "execution_count": 19,
   "id": "8523c872",
   "metadata": {},
   "outputs": [
    {
     "name": "stdout",
     "output_type": "stream",
     "text": [
      "(1, 'john')\n",
      "(2, 'teena')\n",
      "(3, 'andrew')\n",
      "(4, 'dor')\n",
      "(5, 'surt')\n",
      "(9, 'kia')\n",
      "(10, 'abj')\n",
      "(11, 'tam')\n"
     ]
    }
   ],
   "source": [
    "results=cur.execute(\"select id,name from student\")\n",
    "for i in results:\n",
    "    print(i)"
   ]
  },
  {
   "cell_type": "code",
   "execution_count": 20,
   "id": "61dc6a7d",
   "metadata": {},
   "outputs": [
    {
     "name": "stdout",
     "output_type": "stream",
     "text": [
      "(1, 90)\n",
      "(2, 100)\n",
      "(3, 110)\n",
      "(4, 45)\n",
      "(5, 55)\n",
      "(9, 23)\n",
      "(10, 93)\n",
      "(11, 88)\n"
     ]
    }
   ],
   "source": [
    "results=cur.execute(\"select id,marks from student\")\n",
    "for i in results:\n",
    "    print(i)"
   ]
  },
  {
   "cell_type": "code",
   "execution_count": 21,
   "id": "571724fa",
   "metadata": {},
   "outputs": [
    {
     "name": "stdout",
     "output_type": "stream",
     "text": [
      "(1, 'john', 90)\n"
     ]
    }
   ],
   "source": [
    "results=cur.execute(\"select * from student where id=1\")\n",
    "for i in results:\n",
    "    print(i)"
   ]
  },
  {
   "cell_type": "code",
   "execution_count": 22,
   "id": "abee5d74",
   "metadata": {},
   "outputs": [
    {
     "name": "stdout",
     "output_type": "stream",
     "text": [
      "(2, 'teena', 100)\n"
     ]
    }
   ],
   "source": [
    "results=cur.execute(\"select * from student where id=2\")\n",
    "for i in results:\n",
    "    print(i)"
   ]
  },
  {
   "cell_type": "code",
   "execution_count": 52,
   "id": "5d5f144c",
   "metadata": {},
   "outputs": [
    {
     "name": "stdout",
     "output_type": "stream",
     "text": [
      "(1, 'john', 90)\n"
     ]
    }
   ],
   "source": [
    "results=cur.execute(\"select * from student where name='john'\")\n",
    "for i in results:\n",
    "    print(i)"
   ]
  },
  {
   "cell_type": "code",
   "execution_count": 53,
   "id": "195cc35f",
   "metadata": {},
   "outputs": [
    {
     "name": "stdout",
     "output_type": "stream",
     "text": [
      "(90,)\n"
     ]
    }
   ],
   "source": [
    "results=cur.execute(\"select marks from student where name='john'\")\n",
    "for i in results:\n",
    "    print(i)"
   ]
  },
  {
   "cell_type": "code",
   "execution_count": 54,
   "id": "7a8ee03e",
   "metadata": {},
   "outputs": [
    {
     "name": "stdout",
     "output_type": "stream",
     "text": [
      "(1, 'john', 90)\n",
      "(2, 'teena', 100)\n",
      "(3, 'andrew', 110)\n"
     ]
    }
   ],
   "source": [
    "results=cur.execute(\"select * from student limit 3\")\n",
    "for i in results:\n",
    "    print(i)"
   ]
  },
  {
   "cell_type": "code",
   "execution_count": 55,
   "id": "42e590ea",
   "metadata": {},
   "outputs": [
    {
     "name": "stdout",
     "output_type": "stream",
     "text": [
      "(7, 'derr', 65)\n",
      "(11, 'dia', 89)\n"
     ]
    }
   ],
   "source": [
    "results=cur.execute(\"select * from student where marks>60 and marks <90\")\n",
    "for i in results:\n",
    "    print(i)"
   ]
  },
  {
   "cell_type": "code",
   "execution_count": 56,
   "id": "688e1ea6",
   "metadata": {},
   "outputs": [
    {
     "name": "stdout",
     "output_type": "stream",
     "text": [
      "(4, 'dor', 45)\n",
      "(5, 'surt', 55)\n",
      "(10, 'lia', 56)\n"
     ]
    }
   ],
   "source": [
    "results=cur.execute(\"select * from student where marks>40 and marks <60\")\n",
    "for i in results:\n",
    "    print(i)"
   ]
  },
  {
   "cell_type": "code",
   "execution_count": 16,
   "id": "b49771b1",
   "metadata": {},
   "outputs": [
    {
     "data": {
      "text/plain": [
       "[(1, 'john', 90),\n",
       " (2, 'teena', 100),\n",
       " (3, 'andrew', 110),\n",
       " (4, 'dor', 45),\n",
       " (5, 'surt', 55),\n",
       " (9, 'kia', 23),\n",
       " (10, 'abj', 93),\n",
       " (11, 'tam', 88)]"
      ]
     },
     "execution_count": 16,
     "metadata": {},
     "output_type": "execute_result"
    }
   ],
   "source": [
    "results=cur.execute(\"select * from student\")\n",
    "results.fetchall()"
   ]
  },
  {
   "cell_type": "code",
   "execution_count": 17,
   "id": "83869c20",
   "metadata": {},
   "outputs": [
    {
     "name": "stdout",
     "output_type": "stream",
     "text": [
      "(10, 'abj', 93)\n",
      "(3, 'andrew', 110)\n",
      "(4, 'dor', 45)\n",
      "(1, 'john', 90)\n",
      "(9, 'kia', 23)\n",
      "(5, 'surt', 55)\n",
      "(11, 'tam', 88)\n",
      "(2, 'teena', 100)\n"
     ]
    }
   ],
   "source": [
    "results=cur.execute(\"select * from student order by name asc\")\n",
    "for i in results:\n",
    "    print(i)"
   ]
  },
  {
   "cell_type": "code",
   "execution_count": 23,
   "id": "2eb67dfc",
   "metadata": {},
   "outputs": [
    {
     "name": "stdout",
     "output_type": "stream",
     "text": [
      "(2, 'teena', 100)\n",
      "(11, 'tam', 88)\n",
      "(5, 'surt', 55)\n",
      "(9, 'kia', 23)\n",
      "(1, 'john', 90)\n",
      "(4, 'dor', 45)\n",
      "(3, 'andrew', 110)\n",
      "(10, 'abj', 93)\n"
     ]
    }
   ],
   "source": [
    "results=cur.execute(\"select * from student order by name desc\")\n",
    "for i in results:\n",
    "    print(i)"
   ]
  },
  {
   "cell_type": "code",
   "execution_count": 71,
   "id": "f14030bd",
   "metadata": {},
   "outputs": [
    {
     "name": "stdout",
     "output_type": "stream",
     "text": [
      "(4, 'dor', 45)\n"
     ]
    }
   ],
   "source": [
    "results=cur.execute(\"select * from student where name='dor'and marks=45\")\n",
    "for i in results:\n",
    "    print(i)"
   ]
  },
  {
   "cell_type": "code",
   "execution_count": 72,
   "id": "9f647789",
   "metadata": {},
   "outputs": [],
   "source": [
    "results=cur.execute(\"select * from student where name='dor'and marks=55\")\n",
    "for i in results:\n",
    "    print(i)"
   ]
  },
  {
   "cell_type": "code",
   "execution_count": 76,
   "id": "c6ec40e0",
   "metadata": {},
   "outputs": [
    {
     "name": "stdout",
     "output_type": "stream",
     "text": [
      "(2, 'teena', 100)\n"
     ]
    }
   ],
   "source": [
    "results=cur.execute(\"select * from student where id=2 and marks=100\")\n",
    "for i in results:\n",
    "    print(i)"
   ]
  },
  {
   "cell_type": "code",
   "execution_count": 78,
   "id": "496e48d3",
   "metadata": {},
   "outputs": [
    {
     "name": "stdout",
     "output_type": "stream",
     "text": [
      "(45,)\n"
     ]
    }
   ],
   "source": [
    "results=cur.execute(\"select min (marks)from student \")\n",
    "for i in results:\n",
    "    print(i)"
   ]
  },
  {
   "cell_type": "code",
   "execution_count": 80,
   "id": "f4b65009",
   "metadata": {},
   "outputs": [
    {
     "data": {
      "text/plain": [
       "(111,)"
      ]
     },
     "execution_count": 80,
     "metadata": {},
     "output_type": "execute_result"
    }
   ],
   "source": [
    "results=cur.execute(\"select max (marks)from student \")\n",
    "results.fetchone()"
   ]
  },
  {
   "cell_type": "code",
   "execution_count": 81,
   "id": "50c3c20f",
   "metadata": {},
   "outputs": [
    {
     "data": {
      "text/plain": [
       "(84.81818181818181,)"
      ]
     },
     "execution_count": 81,
     "metadata": {},
     "output_type": "execute_result"
    }
   ],
   "source": [
    "results=cur.execute(\"select avg(marks)from student \")\n",
    "results.fetchone()"
   ]
  },
  {
   "cell_type": "code",
   "execution_count": 82,
   "id": "917ec10c",
   "metadata": {},
   "outputs": [
    {
     "data": {
      "text/plain": [
       "(933,)"
      ]
     },
     "execution_count": 82,
     "metadata": {},
     "output_type": "execute_result"
    }
   ],
   "source": [
    "results=cur.execute(\"select sum(marks)from student \")\n",
    "results.fetchone()"
   ]
  },
  {
   "cell_type": "code",
   "execution_count": 84,
   "id": "465f17ee",
   "metadata": {},
   "outputs": [
    {
     "data": {
      "text/plain": [
       "(11,)"
      ]
     },
     "execution_count": 84,
     "metadata": {},
     "output_type": "execute_result"
    }
   ],
   "source": [
    "results=cur.execute(\"select count(id)from student \")\n",
    "results.fetchone()"
   ]
  },
  {
   "cell_type": "code",
   "execution_count": 85,
   "id": "40e6a102",
   "metadata": {},
   "outputs": [
    {
     "name": "stdout",
     "output_type": "stream",
     "text": [
      "(7, 'derr', 65)\n"
     ]
    }
   ],
   "source": [
    "results=cur.execute(\"select * from student where marks between 65 and 85\")\n",
    "for i in results:\n",
    "    print(i)"
   ]
  },
  {
   "cell_type": "code",
   "execution_count": null,
   "id": "aa5d452a",
   "metadata": {},
   "outputs": [],
   "source": []
  }
 ],
 "metadata": {
  "kernelspec": {
   "display_name": "Python 3 (ipykernel)",
   "language": "python",
   "name": "python3"
  },
  "language_info": {
   "codemirror_mode": {
    "name": "ipython",
    "version": 3
   },
   "file_extension": ".py",
   "mimetype": "text/x-python",
   "name": "python",
   "nbconvert_exporter": "python",
   "pygments_lexer": "ipython3",
   "version": "3.9.7"
  }
 },
 "nbformat": 4,
 "nbformat_minor": 5
}
