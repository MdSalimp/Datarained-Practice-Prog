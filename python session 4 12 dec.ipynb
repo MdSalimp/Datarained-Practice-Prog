{
 "cells": [
  {
   "cell_type": "code",
   "execution_count": 7,
   "id": "a5f17931",
   "metadata": {},
   "outputs": [],
   "source": [
    "dict1={'name':'zara','age':6,'class':8}"
   ]
  },
  {
   "cell_type": "code",
   "execution_count": 8,
   "id": "ccebc0f4",
   "metadata": {},
   "outputs": [
    {
     "data": {
      "text/plain": [
       "{'name': 'zara', 'age': 6, 'class': 8}"
      ]
     },
     "execution_count": 8,
     "metadata": {},
     "output_type": "execute_result"
    }
   ],
   "source": [
    "dict1"
   ]
  },
  {
   "cell_type": "markdown",
   "id": "df20ad11",
   "metadata": {},
   "source": []
  },
  {
   "cell_type": "code",
   "execution_count": 11,
   "id": "65b64a9a",
   "metadata": {},
   "outputs": [
    {
     "data": {
      "text/plain": [
       "'zara'"
      ]
     },
     "execution_count": 11,
     "metadata": {},
     "output_type": "execute_result"
    }
   ],
   "source": [
    "dict1['name']"
   ]
  },
  {
   "cell_type": "code",
   "execution_count": 13,
   "id": "af10b62b",
   "metadata": {},
   "outputs": [
    {
     "data": {
      "text/plain": [
       "6"
      ]
     },
     "execution_count": 13,
     "metadata": {},
     "output_type": "execute_result"
    }
   ],
   "source": [
    "dict1['age']"
   ]
  },
  {
   "cell_type": "code",
   "execution_count": 14,
   "id": "f822ffb6",
   "metadata": {},
   "outputs": [
    {
     "name": "stdout",
     "output_type": "stream",
     "text": [
      "8\n"
     ]
    }
   ],
   "source": [
    "print(dict1['class'])"
   ]
  },
  {
   "cell_type": "code",
   "execution_count": 15,
   "id": "4a78d123",
   "metadata": {},
   "outputs": [
    {
     "name": "stdout",
     "output_type": "stream",
     "text": [
      "dict['name']: zara\n"
     ]
    }
   ],
   "source": [
    "print(\"dict['name']:\",dict1['name'])"
   ]
  },
  {
   "cell_type": "code",
   "execution_count": 16,
   "id": "022046d4",
   "metadata": {},
   "outputs": [
    {
     "data": {
      "text/plain": [
       "3"
      ]
     },
     "execution_count": 16,
     "metadata": {},
     "output_type": "execute_result"
    }
   ],
   "source": [
    "len(dict1)"
   ]
  },
  {
   "cell_type": "code",
   "execution_count": 19,
   "id": "a328169e",
   "metadata": {},
   "outputs": [
    {
     "data": {
      "text/plain": [
       "dict_keys(['name', 'age', 'class'])"
      ]
     },
     "execution_count": 19,
     "metadata": {},
     "output_type": "execute_result"
    }
   ],
   "source": [
    "\n",
    "dict1.keys()"
   ]
  },
  {
   "cell_type": "code",
   "execution_count": 20,
   "id": "de4d3293",
   "metadata": {},
   "outputs": [
    {
     "data": {
      "text/plain": [
       "dict_values(['zara', 6, 8])"
      ]
     },
     "execution_count": 20,
     "metadata": {},
     "output_type": "execute_result"
    }
   ],
   "source": [
    "dict1.values()"
   ]
  },
  {
   "cell_type": "code",
   "execution_count": 21,
   "id": "52019000",
   "metadata": {},
   "outputs": [
    {
     "data": {
      "text/plain": [
       "dict_items([('name', 'zara'), ('age', 6), ('class', 8)])"
      ]
     },
     "execution_count": 21,
     "metadata": {},
     "output_type": "execute_result"
    }
   ],
   "source": [
    "dict1.items()"
   ]
  },
  {
   "cell_type": "code",
   "execution_count": 24,
   "id": "71c161b8",
   "metadata": {},
   "outputs": [],
   "source": [
    "dict1.update({'fees':2525})"
   ]
  },
  {
   "cell_type": "code",
   "execution_count": 25,
   "id": "9adf94c9",
   "metadata": {},
   "outputs": [
    {
     "data": {
      "text/plain": [
       "{'name': 'zara', 'age': 6, 'class': 8, 'fees': 2525}"
      ]
     },
     "execution_count": 25,
     "metadata": {},
     "output_type": "execute_result"
    }
   ],
   "source": [
    "dict1"
   ]
  },
  {
   "cell_type": "code",
   "execution_count": 28,
   "id": "e4c6915d",
   "metadata": {},
   "outputs": [],
   "source": [
    "dict1['fees']=5647"
   ]
  },
  {
   "cell_type": "code",
   "execution_count": 29,
   "id": "223eef14",
   "metadata": {},
   "outputs": [
    {
     "name": "stdout",
     "output_type": "stream",
     "text": [
      "{'name': 'zara', 'age': 6, 'class': 8, 'fees': 5647}\n"
     ]
    }
   ],
   "source": [
    "print (dict1)"
   ]
  },
  {
   "cell_type": "code",
   "execution_count": 35,
   "id": "6d889c26",
   "metadata": {},
   "outputs": [
    {
     "name": "stdout",
     "output_type": "stream",
     "text": [
      "{'rock': 'br', 'trees': 'gr', 'apple': 'red'}\n"
     ]
    }
   ],
   "source": [
    "colordict={'rock':'br','trees':'gr','apple':'red'}\n",
    "print(colordict)"
   ]
  },
  {
   "cell_type": "markdown",
   "id": "a9ff1f0e",
   "metadata": {},
   "source": [
    "enhanced operation in dictionary"
   ]
  },
  {
   "cell_type": "code",
   "execution_count": 37,
   "id": "9902cdc7",
   "metadata": {},
   "outputs": [],
   "source": [
    "intdict={10:'c',20:'c++',30:'java'}"
   ]
  },
  {
   "cell_type": "code",
   "execution_count": 39,
   "id": "23685741",
   "metadata": {},
   "outputs": [
    {
     "data": {
      "text/plain": [
       "dict_keys([10, 20, 30])"
      ]
     },
     "execution_count": 39,
     "metadata": {},
     "output_type": "execute_result"
    }
   ],
   "source": [
    "intdict.keys()"
   ]
  },
  {
   "cell_type": "code",
   "execution_count": 41,
   "id": "6c307918",
   "metadata": {},
   "outputs": [
    {
     "data": {
      "text/plain": [
       "dict_values(['c', 'c++', 'java'])"
      ]
     },
     "execution_count": 41,
     "metadata": {},
     "output_type": "execute_result"
    }
   ],
   "source": [
    "intdict.values()"
   ]
  },
  {
   "cell_type": "code",
   "execution_count": 42,
   "id": "7a4060dd",
   "metadata": {},
   "outputs": [
    {
     "data": {
      "text/plain": [
       "dict_items([(10, 'c'), (20, 'c++'), (30, 'java')])"
      ]
     },
     "execution_count": 42,
     "metadata": {},
     "output_type": "execute_result"
    }
   ],
   "source": [
    "intdict.items()"
   ]
  },
  {
   "cell_type": "code",
   "execution_count": 45,
   "id": "c46b2a17",
   "metadata": {},
   "outputs": [],
   "source": [
    "intdict.update({40:'phy'})"
   ]
  },
  {
   "cell_type": "code",
   "execution_count": 46,
   "id": "ee179a6e",
   "metadata": {},
   "outputs": [
    {
     "data": {
      "text/plain": [
       "{10: 'c', 20: 'c++', 30: 'java', 40: 'phy'}"
      ]
     },
     "execution_count": 46,
     "metadata": {},
     "output_type": "execute_result"
    }
   ],
   "source": [
    "intdict"
   ]
  },
  {
   "cell_type": "code",
   "execution_count": 50,
   "id": "f525fbc3",
   "metadata": {},
   "outputs": [],
   "source": [
    "intdict[20]='csharp'"
   ]
  },
  {
   "cell_type": "code",
   "execution_count": 51,
   "id": "2055bb9f",
   "metadata": {},
   "outputs": [
    {
     "data": {
      "text/plain": [
       "{10: 'c', 20: 'csharp', 30: 'java', 40: 'phy'}"
      ]
     },
     "execution_count": 51,
     "metadata": {},
     "output_type": "execute_result"
    }
   ],
   "source": [
    "intdict"
   ]
  },
  {
   "cell_type": "code",
   "execution_count": 52,
   "id": "05220de4",
   "metadata": {},
   "outputs": [],
   "source": [
    "del intdict[10]"
   ]
  },
  {
   "cell_type": "code",
   "execution_count": 53,
   "id": "b6b26b43",
   "metadata": {},
   "outputs": [
    {
     "data": {
      "text/plain": [
       "{20: 'csharp', 30: 'java', 40: 'phy'}"
      ]
     },
     "execution_count": 53,
     "metadata": {},
     "output_type": "execute_result"
    }
   ],
   "source": [
    "intdict"
   ]
  },
  {
   "cell_type": "code",
   "execution_count": 55,
   "id": "8bcb5b6b",
   "metadata": {},
   "outputs": [
    {
     "data": {
      "text/plain": [
       "'java'"
      ]
     },
     "execution_count": 55,
     "metadata": {},
     "output_type": "execute_result"
    }
   ],
   "source": [
    "intdict.pop(30)"
   ]
  },
  {
   "cell_type": "code",
   "execution_count": 59,
   "id": "dd7a5175",
   "metadata": {},
   "outputs": [],
   "source": [
    "dict2={'id':[1,2,3],'name':['ja','ra','sa'],'grade':[7,8,9]}"
   ]
  },
  {
   "cell_type": "code",
   "execution_count": 60,
   "id": "30849829",
   "metadata": {},
   "outputs": [
    {
     "data": {
      "text/plain": [
       "{'id': [1, 2, 3], 'name': ['ja', 'ra', 'sa'], 'grade': [7, 8, 9]}"
      ]
     },
     "execution_count": 60,
     "metadata": {},
     "output_type": "execute_result"
    }
   ],
   "source": [
    "dict2"
   ]
  },
  {
   "cell_type": "code",
   "execution_count": 62,
   "id": "cb45dbc4",
   "metadata": {},
   "outputs": [
    {
     "data": {
      "text/plain": [
       "dict_keys(['id', 'name', 'grade'])"
      ]
     },
     "execution_count": 62,
     "metadata": {},
     "output_type": "execute_result"
    }
   ],
   "source": [
    "dict2.keys()"
   ]
  },
  {
   "cell_type": "code",
   "execution_count": 63,
   "id": "279aaf96",
   "metadata": {},
   "outputs": [
    {
     "data": {
      "text/plain": [
       "dict_values([[1, 2, 3], ['ja', 'ra', 'sa'], [7, 8, 9]])"
      ]
     },
     "execution_count": 63,
     "metadata": {},
     "output_type": "execute_result"
    }
   ],
   "source": [
    "dict2.values()\n"
   ]
  },
  {
   "cell_type": "code",
   "execution_count": 64,
   "id": "2428186a",
   "metadata": {},
   "outputs": [
    {
     "data": {
      "text/plain": [
       "dict_items([('id', [1, 2, 3]), ('name', ['ja', 'ra', 'sa']), ('grade', [7, 8, 9])])"
      ]
     },
     "execution_count": 64,
     "metadata": {},
     "output_type": "execute_result"
    }
   ],
   "source": [
    "dict2.items()"
   ]
  },
  {
   "cell_type": "markdown",
   "id": "3473d6ef",
   "metadata": {},
   "source": [
    "accessing elements"
   ]
  },
  {
   "cell_type": "code",
   "execution_count": 76,
   "id": "25929539",
   "metadata": {},
   "outputs": [
    {
     "data": {
      "text/plain": [
       "3"
      ]
     },
     "execution_count": 76,
     "metadata": {},
     "output_type": "execute_result"
    }
   ],
   "source": [
    "dict2['id'][2]"
   ]
  },
  {
   "cell_type": "code",
   "execution_count": 77,
   "id": "dd5af3db",
   "metadata": {},
   "outputs": [
    {
     "data": {
      "text/plain": [
       "'sa'"
      ]
     },
     "execution_count": 77,
     "metadata": {},
     "output_type": "execute_result"
    }
   ],
   "source": [
    "dict2[\"name\"][2]"
   ]
  },
  {
   "cell_type": "markdown",
   "id": "1901fc28",
   "metadata": {},
   "source": [
    "accessing elements"
   ]
  },
  {
   "cell_type": "code",
   "execution_count": 78,
   "id": "f26f9bbb",
   "metadata": {},
   "outputs": [
    {
     "data": {
      "text/plain": [
       "[7, 8, 9]"
      ]
     },
     "execution_count": 78,
     "metadata": {},
     "output_type": "execute_result"
    }
   ],
   "source": [
    "dict2[\"grade\"]"
   ]
  },
  {
   "cell_type": "code",
   "execution_count": 80,
   "id": "4af12495",
   "metadata": {},
   "outputs": [
    {
     "data": {
      "text/plain": [
       "9"
      ]
     },
     "execution_count": 80,
     "metadata": {},
     "output_type": "execute_result"
    }
   ],
   "source": [
    "dict2[\"grade\"][2]"
   ]
  },
  {
   "cell_type": "code",
   "execution_count": 82,
   "id": "f354b334",
   "metadata": {},
   "outputs": [],
   "source": [
    "dict2[\"grade\"][2]=25"
   ]
  },
  {
   "cell_type": "code",
   "execution_count": 83,
   "id": "8b8b12ff",
   "metadata": {},
   "outputs": [
    {
     "data": {
      "text/plain": [
       "{'id': [1, 2, 3], 'name': ['ja', 'ra', 'sa'], 'grade': [7, 8, 25]}"
      ]
     },
     "execution_count": 83,
     "metadata": {},
     "output_type": "execute_result"
    }
   ],
   "source": [
    "dict2"
   ]
  },
  {
   "cell_type": "code",
   "execution_count": 93,
   "id": "650fec39",
   "metadata": {},
   "outputs": [],
   "source": [
    "dict2['name']['ja']:'xy'"
   ]
  },
  {
   "cell_type": "code",
   "execution_count": 92,
   "id": "4775ae0b",
   "metadata": {},
   "outputs": [
    {
     "data": {
      "text/plain": [
       "{'id': [1, 2, 3], 'name': ['ja', 'ra', 'sa'], 'grade': [7, 8, 25]}"
      ]
     },
     "execution_count": 92,
     "metadata": {},
     "output_type": "execute_result"
    }
   ],
   "source": [
    "dict2"
   ]
  },
  {
   "cell_type": "markdown",
   "id": "971e7552",
   "metadata": {},
   "source": [
    "# sets\n"
   ]
  },
  {
   "cell_type": "code",
   "execution_count": 99,
   "id": "f113dbf1",
   "metadata": {},
   "outputs": [],
   "source": [
    "x={2,3,4,5,5,5,6,7,8}"
   ]
  },
  {
   "cell_type": "code",
   "execution_count": 100,
   "id": "84be5956",
   "metadata": {},
   "outputs": [
    {
     "data": {
      "text/plain": [
       "{2, 3, 4, 5, 6, 7, 8}"
      ]
     },
     "execution_count": 100,
     "metadata": {},
     "output_type": "execute_result"
    }
   ],
   "source": [
    "x"
   ]
  },
  {
   "cell_type": "code",
   "execution_count": 103,
   "id": "121b8168",
   "metadata": {},
   "outputs": [
    {
     "data": {
      "text/plain": [
       "{2, 5, 6, 7, 8, 9, 10}"
      ]
     },
     "execution_count": 103,
     "metadata": {},
     "output_type": "execute_result"
    }
   ],
   "source": [
    "y={2,5,6,7,8,9,6,9,10}\n",
    "y"
   ]
  },
  {
   "cell_type": "code",
   "execution_count": 105,
   "id": "bc3edca5",
   "metadata": {},
   "outputs": [],
   "source": [
    "x=set ([2,3,4,5,5,5,6,7,8])"
   ]
  },
  {
   "cell_type": "code",
   "execution_count": 106,
   "id": "0b379272",
   "metadata": {},
   "outputs": [
    {
     "data": {
      "text/plain": [
       "{2, 3, 4, 5, 6, 7, 8}"
      ]
     },
     "execution_count": 106,
     "metadata": {},
     "output_type": "execute_result"
    }
   ],
   "source": [
    "x"
   ]
  },
  {
   "cell_type": "code",
   "execution_count": 107,
   "id": "b47423b0",
   "metadata": {},
   "outputs": [],
   "source": [
    "days={'mo','tu','we','tu','fr','sa'}"
   ]
  },
  {
   "cell_type": "code",
   "execution_count": 108,
   "id": "afecb1a5",
   "metadata": {},
   "outputs": [
    {
     "data": {
      "text/plain": [
       "set"
      ]
     },
     "execution_count": 108,
     "metadata": {},
     "output_type": "execute_result"
    }
   ],
   "source": [
    "type(days)"
   ]
  },
  {
   "cell_type": "code",
   "execution_count": 109,
   "id": "42a02fd8",
   "metadata": {},
   "outputs": [],
   "source": [
    "days.add('su')"
   ]
  },
  {
   "cell_type": "code",
   "execution_count": 110,
   "id": "3380a270",
   "metadata": {},
   "outputs": [
    {
     "data": {
      "text/plain": [
       "{'fr', 'mo', 'sa', 'su', 'tu', 'we'}"
      ]
     },
     "execution_count": 110,
     "metadata": {},
     "output_type": "execute_result"
    }
   ],
   "source": [
    "days"
   ]
  },
  {
   "cell_type": "code",
   "execution_count": 112,
   "id": "c27b662f",
   "metadata": {},
   "outputs": [],
   "source": [
    "days.remove('tu')"
   ]
  },
  {
   "cell_type": "code",
   "execution_count": 113,
   "id": "b80be5da",
   "metadata": {},
   "outputs": [
    {
     "data": {
      "text/plain": [
       "{'fr', 'mo', 'sa', 'su', 'we'}"
      ]
     },
     "execution_count": 113,
     "metadata": {},
     "output_type": "execute_result"
    }
   ],
   "source": [
    "days"
   ]
  },
  {
   "cell_type": "code",
   "execution_count": 115,
   "id": "7eaec2b5",
   "metadata": {},
   "outputs": [
    {
     "data": {
      "text/plain": [
       "'fr'"
      ]
     },
     "execution_count": 115,
     "metadata": {},
     "output_type": "execute_result"
    }
   ],
   "source": [
    "days.pop()"
   ]
  },
  {
   "cell_type": "code",
   "execution_count": 116,
   "id": "36490c6e",
   "metadata": {},
   "outputs": [
    {
     "data": {
      "text/plain": [
       "'su'"
      ]
     },
     "execution_count": 116,
     "metadata": {},
     "output_type": "execute_result"
    }
   ],
   "source": [
    "days.pop()"
   ]
  },
  {
   "cell_type": "code",
   "execution_count": null,
   "id": "6c530c7a",
   "metadata": {},
   "outputs": [],
   "source": []
  }
 ],
 "metadata": {
  "kernelspec": {
   "display_name": "Python 3 (ipykernel)",
   "language": "python",
   "name": "python3"
  },
  "language_info": {
   "codemirror_mode": {
    "name": "ipython",
    "version": 3
   },
   "file_extension": ".py",
   "mimetype": "text/x-python",
   "name": "python",
   "nbconvert_exporter": "python",
   "pygments_lexer": "ipython3",
   "version": "3.9.7"
  }
 },
 "nbformat": 4,
 "nbformat_minor": 5
}
