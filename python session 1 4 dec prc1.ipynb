{
 "cells": [
  {
   "cell_type": "markdown",
   "id": "098876f0",
   "metadata": {},
   "source": [
    "# welcome to python"
   ]
  },
  {
   "cell_type": "markdown",
   "id": "1950747d",
   "metadata": {},
   "source": [
    "learning python basics"
   ]
  },
  {
   "cell_type": "code",
   "execution_count": 2,
   "id": "9ee4fd30",
   "metadata": {},
   "outputs": [
    {
     "data": {
      "text/plain": [
       "2"
      ]
     },
     "execution_count": 2,
     "metadata": {},
     "output_type": "execute_result"
    }
   ],
   "source": [
    "1+1"
   ]
  },
  {
   "cell_type": "code",
   "execution_count": 3,
   "id": "e46a8566",
   "metadata": {},
   "outputs": [
    {
     "data": {
      "text/plain": [
       "4"
      ]
     },
     "execution_count": 3,
     "metadata": {},
     "output_type": "execute_result"
    }
   ],
   "source": [
    "5-1"
   ]
  },
  {
   "cell_type": "code",
   "execution_count": 4,
   "id": "98e2b44e",
   "metadata": {},
   "outputs": [
    {
     "data": {
      "text/plain": [
       "18"
      ]
     },
     "execution_count": 4,
     "metadata": {},
     "output_type": "execute_result"
    }
   ],
   "source": [
    "6*3"
   ]
  },
  {
   "cell_type": "code",
   "execution_count": 5,
   "id": "6aac21d0",
   "metadata": {},
   "outputs": [
    {
     "data": {
      "text/plain": [
       "2.0"
      ]
     },
     "execution_count": 5,
     "metadata": {},
     "output_type": "execute_result"
    }
   ],
   "source": [
    "14/7"
   ]
  },
  {
   "cell_type": "code",
   "execution_count": 7,
   "id": "c7683bb0",
   "metadata": {},
   "outputs": [
    {
     "data": {
      "text/plain": [
       "2"
      ]
     },
     "execution_count": 7,
     "metadata": {},
     "output_type": "execute_result"
    }
   ],
   "source": [
    "14//7"
   ]
  },
  {
   "cell_type": "code",
   "execution_count": 8,
   "id": "e1f7381b",
   "metadata": {},
   "outputs": [
    {
     "data": {
      "text/plain": [
       "0"
      ]
     },
     "execution_count": 8,
     "metadata": {},
     "output_type": "execute_result"
    }
   ],
   "source": [
    "10%2"
   ]
  },
  {
   "cell_type": "code",
   "execution_count": 9,
   "id": "7ba2db0a",
   "metadata": {},
   "outputs": [
    {
     "data": {
      "text/plain": [
       "0"
      ]
     },
     "execution_count": 9,
     "metadata": {},
     "output_type": "execute_result"
    }
   ],
   "source": [
    "15%3"
   ]
  },
  {
   "cell_type": "code",
   "execution_count": 10,
   "id": "e2a0756a",
   "metadata": {},
   "outputs": [
    {
     "data": {
      "text/plain": [
       "2"
      ]
     },
     "execution_count": 10,
     "metadata": {},
     "output_type": "execute_result"
    }
   ],
   "source": [
    "7%5"
   ]
  },
  {
   "cell_type": "code",
   "execution_count": 11,
   "id": "5bb73929",
   "metadata": {},
   "outputs": [
    {
     "data": {
      "text/plain": [
       "1296"
      ]
     },
     "execution_count": 11,
     "metadata": {},
     "output_type": "execute_result"
    }
   ],
   "source": [
    "6**4"
   ]
  },
  {
   "cell_type": "code",
   "execution_count": 12,
   "id": "5a678668",
   "metadata": {},
   "outputs": [
    {
     "data": {
      "text/plain": [
       "3125"
      ]
     },
     "execution_count": 12,
     "metadata": {},
     "output_type": "execute_result"
    }
   ],
   "source": [
    "5**5"
   ]
  },
  {
   "cell_type": "code",
   "execution_count": 13,
   "id": "197f1dad",
   "metadata": {},
   "outputs": [
    {
     "data": {
      "text/plain": [
       "25"
      ]
     },
     "execution_count": 13,
     "metadata": {},
     "output_type": "execute_result"
    }
   ],
   "source": [
    "5**2"
   ]
  },
  {
   "cell_type": "code",
   "execution_count": 14,
   "id": "1f42e264",
   "metadata": {},
   "outputs": [
    {
     "data": {
      "text/plain": [
       "15"
      ]
     },
     "execution_count": 14,
     "metadata": {},
     "output_type": "execute_result"
    }
   ],
   "source": [
    "5*3"
   ]
  },
  {
   "cell_type": "code",
   "execution_count": 15,
   "id": "e166fbdc",
   "metadata": {},
   "outputs": [
    {
     "data": {
      "text/plain": [
       "125"
      ]
     },
     "execution_count": 15,
     "metadata": {},
     "output_type": "execute_result"
    }
   ],
   "source": [
    "5**3"
   ]
  },
  {
   "cell_type": "markdown",
   "id": "630062a0",
   "metadata": {},
   "source": [
    "working with variables"
   ]
  },
  {
   "cell_type": "code",
   "execution_count": 16,
   "id": "cab615d8",
   "metadata": {},
   "outputs": [],
   "source": [
    "a=2"
   ]
  },
  {
   "cell_type": "code",
   "execution_count": 17,
   "id": "a50d06b6",
   "metadata": {},
   "outputs": [
    {
     "data": {
      "text/plain": [
       "2"
      ]
     },
     "execution_count": 17,
     "metadata": {},
     "output_type": "execute_result"
    }
   ],
   "source": [
    "a"
   ]
  },
  {
   "cell_type": "code",
   "execution_count": 19,
   "id": "785527df",
   "metadata": {},
   "outputs": [],
   "source": [
    "b=9"
   ]
  },
  {
   "cell_type": "code",
   "execution_count": 20,
   "id": "0a21a22a",
   "metadata": {},
   "outputs": [
    {
     "data": {
      "text/plain": [
       "9"
      ]
     },
     "execution_count": 20,
     "metadata": {},
     "output_type": "execute_result"
    }
   ],
   "source": [
    "b"
   ]
  },
  {
   "cell_type": "code",
   "execution_count": 21,
   "id": "099ce831",
   "metadata": {},
   "outputs": [
    {
     "data": {
      "text/plain": [
       "-7"
      ]
     },
     "execution_count": 21,
     "metadata": {},
     "output_type": "execute_result"
    }
   ],
   "source": [
    "a-b"
   ]
  },
  {
   "cell_type": "code",
   "execution_count": 22,
   "id": "25a22d34",
   "metadata": {},
   "outputs": [
    {
     "data": {
      "text/plain": [
       "18"
      ]
     },
     "execution_count": 22,
     "metadata": {},
     "output_type": "execute_result"
    }
   ],
   "source": [
    "a*b\n",
    "\n"
   ]
  },
  {
   "cell_type": "code",
   "execution_count": 23,
   "id": "658b9227",
   "metadata": {},
   "outputs": [],
   "source": [
    "c=a*b\n"
   ]
  },
  {
   "cell_type": "code",
   "execution_count": 24,
   "id": "3baf765d",
   "metadata": {},
   "outputs": [
    {
     "data": {
      "text/plain": [
       "18"
      ]
     },
     "execution_count": 24,
     "metadata": {},
     "output_type": "execute_result"
    }
   ],
   "source": [
    "c"
   ]
  },
  {
   "cell_type": "code",
   "execution_count": 25,
   "id": "33e4b988",
   "metadata": {},
   "outputs": [],
   "source": [
    "d=a-b\n",
    "\n"
   ]
  },
  {
   "cell_type": "code",
   "execution_count": 26,
   "id": "157cc1ed",
   "metadata": {},
   "outputs": [
    {
     "data": {
      "text/plain": [
       "-7"
      ]
     },
     "execution_count": 26,
     "metadata": {},
     "output_type": "execute_result"
    }
   ],
   "source": [
    "d"
   ]
  },
  {
   "cell_type": "code",
   "execution_count": 41,
   "id": "91151ef8",
   "metadata": {},
   "outputs": [
    {
     "data": {
      "text/plain": [
       "'mumbai'"
      ]
     },
     "execution_count": 41,
     "metadata": {},
     "output_type": "execute_result"
    }
   ],
   "source": [
    "city=\"mumbai\"\n",
    "city"
   ]
  },
  {
   "cell_type": "code",
   "execution_count": 50,
   "id": "e094c9b1",
   "metadata": {},
   "outputs": [],
   "source": [
    "country='India'"
   ]
  },
  {
   "cell_type": "code",
   "execution_count": 51,
   "id": "a7c828e4",
   "metadata": {},
   "outputs": [
    {
     "data": {
      "text/plain": [
       "'India'"
      ]
     },
     "execution_count": 51,
     "metadata": {},
     "output_type": "execute_result"
    }
   ],
   "source": [
    "country"
   ]
  },
  {
   "cell_type": "code",
   "execution_count": 52,
   "id": "710ff195",
   "metadata": {},
   "outputs": [],
   "source": [
    "mul=a*b"
   ]
  },
  {
   "cell_type": "code",
   "execution_count": null,
   "id": "16dabc75",
   "metadata": {},
   "outputs": [],
   "source": []
  },
  {
   "cell_type": "code",
   "execution_count": 28,
   "id": "6502a0be",
   "metadata": {},
   "outputs": [
    {
     "data": {
      "text/plain": [
       "18"
      ]
     },
     "execution_count": 28,
     "metadata": {},
     "output_type": "execute_result"
    }
   ],
   "source": [
    "mul"
   ]
  },
  {
   "cell_type": "markdown",
   "id": "4f670ed3",
   "metadata": {},
   "source": [
    "area of rectangle"
   ]
  },
  {
   "cell_type": "code",
   "execution_count": 62,
   "id": "9589c6e9",
   "metadata": {},
   "outputs": [
    {
     "name": "stdout",
     "output_type": "stream",
     "text": [
      "area of rect= 12\n",
      "area of rect with l= 4 and b= 3 is 12\n"
     ]
    }
   ],
   "source": [
    "l=4\n",
    "b=3\n",
    "area=l*b\n",
    "print (\"area of rect=\",area)\n",
    "print (\"area of rect with l=\",l,\"and b=\",b, \"is\",area)"
   ]
  },
  {
   "cell_type": "markdown",
   "id": "1f9ffbe4",
   "metadata": {},
   "source": [
    "perimeter"
   ]
  },
  {
   "cell_type": "code",
   "execution_count": 63,
   "id": "9c4258a7",
   "metadata": {},
   "outputs": [
    {
     "name": "stdout",
     "output_type": "stream",
     "text": [
      "peri of rect= 14\n"
     ]
    }
   ],
   "source": [
    "peri=2*(l+b)\n",
    "print (\"peri of rect=\",peri)"
   ]
  },
  {
   "cell_type": "code",
   "execution_count": 55,
   "id": "a9f1287c",
   "metadata": {},
   "outputs": [
    {
     "data": {
      "text/plain": [
       "14"
      ]
     },
     "execution_count": 55,
     "metadata": {},
     "output_type": "execute_result"
    }
   ],
   "source": [
    "peri"
   ]
  },
  {
   "cell_type": "markdown",
   "id": "36a87d9e",
   "metadata": {},
   "source": [
    "area of circle"
   ]
  },
  {
   "cell_type": "code",
   "execution_count": 100,
   "id": "09341991",
   "metadata": {},
   "outputs": [
    {
     "name": "stdout",
     "output_type": "stream",
     "text": [
      "area_circle 12\n",
      "area_circle with radius 10 is area_circle= 12\n"
     ]
    }
   ],
   "source": [
    "\n",
    "pi=3.14\n",
    "radius=10\n",
    "area_circle= pi*(radius**2)\n",
    "print (\"area_circle\",area)\n",
    "print (\"area_circle with radius\",radius ,\"is area_circle=\",area)"
   ]
  },
  {
   "cell_type": "markdown",
   "id": "ba99608a",
   "metadata": {},
   "source": [
    "#circumference"
   ]
  },
  {
   "cell_type": "code",
   "execution_count": 82,
   "id": "04a9268e",
   "metadata": {},
   "outputs": [],
   "source": [
    "circ=2*pi*radius"
   ]
  },
  {
   "cell_type": "code",
   "execution_count": 83,
   "id": "c0bf44bd",
   "metadata": {},
   "outputs": [
    {
     "data": {
      "text/plain": [
       "62.800000000000004"
      ]
     },
     "execution_count": 83,
     "metadata": {},
     "output_type": "execute_result"
    }
   ],
   "source": [
    "circ"
   ]
  },
  {
   "cell_type": "code",
   "execution_count": 105,
   "id": "2af5dc8f",
   "metadata": {},
   "outputs": [
    {
     "name": "stdout",
     "output_type": "stream",
     "text": [
      "enter name of countryjapan\n"
     ]
    }
   ],
   "source": [
    "country=input (\"enter name of country\")\n"
   ]
  },
  {
   "cell_type": "code",
   "execution_count": null,
   "id": "896f1735",
   "metadata": {},
   "outputs": [],
   "source": []
  },
  {
   "cell_type": "code",
   "execution_count": 106,
   "id": "5061b951",
   "metadata": {},
   "outputs": [
    {
     "data": {
      "text/plain": [
       "'japan'"
      ]
     },
     "execution_count": 106,
     "metadata": {},
     "output_type": "execute_result"
    }
   ],
   "source": [
    "country\n"
   ]
  },
  {
   "cell_type": "code",
   "execution_count": 115,
   "id": "52b6da03",
   "metadata": {},
   "outputs": [
    {
     "name": "stdout",
     "output_type": "stream",
     "text": [
      "any number5858\n"
     ]
    }
   ],
   "source": [
    "a=input (\"any number\")\n"
   ]
  },
  {
   "cell_type": "code",
   "execution_count": 118,
   "id": "fefa7c58",
   "metadata": {},
   "outputs": [
    {
     "data": {
      "text/plain": [
       "'5858'"
      ]
     },
     "execution_count": 118,
     "metadata": {},
     "output_type": "execute_result"
    }
   ],
   "source": [
    "a\n",
    "\n"
   ]
  },
  {
   "cell_type": "markdown",
   "id": "95cf90c9",
   "metadata": {},
   "source": [
    "type casting"
   ]
  },
  {
   "cell_type": "code",
   "execution_count": 119,
   "id": "1449dad4",
   "metadata": {},
   "outputs": [
    {
     "data": {
      "text/plain": [
       "int"
      ]
     },
     "execution_count": 119,
     "metadata": {},
     "output_type": "execute_result"
    }
   ],
   "source": [
    "type(100)"
   ]
  },
  {
   "cell_type": "code",
   "execution_count": 120,
   "id": "8b2242e0",
   "metadata": {},
   "outputs": [
    {
     "data": {
      "text/plain": [
       "float"
      ]
     },
     "execution_count": 120,
     "metadata": {},
     "output_type": "execute_result"
    }
   ],
   "source": [
    "type(45.63)"
   ]
  },
  {
   "cell_type": "code",
   "execution_count": 122,
   "id": "010ea2ee",
   "metadata": {},
   "outputs": [
    {
     "data": {
      "text/plain": [
       "str"
      ]
     },
     "execution_count": 122,
     "metadata": {},
     "output_type": "execute_result"
    }
   ],
   "source": [
    "type(\"gsgasg\")"
   ]
  },
  {
   "cell_type": "code",
   "execution_count": 123,
   "id": "fdcef976",
   "metadata": {},
   "outputs": [
    {
     "data": {
      "text/plain": [
       "int"
      ]
     },
     "execution_count": 123,
     "metadata": {},
     "output_type": "execute_result"
    }
   ],
   "source": [
    "h=22\n",
    "type(h)"
   ]
  },
  {
   "cell_type": "code",
   "execution_count": 124,
   "id": "b18943d6",
   "metadata": {},
   "outputs": [
    {
     "data": {
      "text/plain": [
       "22.0"
      ]
     },
     "execution_count": 124,
     "metadata": {},
     "output_type": "execute_result"
    }
   ],
   "source": [
    "float(h)"
   ]
  },
  {
   "cell_type": "code",
   "execution_count": 125,
   "id": "31d3d367",
   "metadata": {},
   "outputs": [],
   "source": [
    "x= float(h)"
   ]
  },
  {
   "cell_type": "code",
   "execution_count": 127,
   "id": "4016e8b7",
   "metadata": {},
   "outputs": [
    {
     "data": {
      "text/plain": [
       "22.0"
      ]
     },
     "execution_count": 127,
     "metadata": {},
     "output_type": "execute_result"
    }
   ],
   "source": [
    "x"
   ]
  },
  {
   "cell_type": "code",
   "execution_count": 129,
   "id": "8d6cd058",
   "metadata": {},
   "outputs": [
    {
     "data": {
      "text/plain": [
       "float"
      ]
     },
     "execution_count": 129,
     "metadata": {},
     "output_type": "execute_result"
    }
   ],
   "source": [
    "type (x)"
   ]
  },
  {
   "cell_type": "code",
   "execution_count": 131,
   "id": "a1bdf45c",
   "metadata": {},
   "outputs": [
    {
     "data": {
      "text/plain": [
       "int"
      ]
     },
     "execution_count": 131,
     "metadata": {},
     "output_type": "execute_result"
    }
   ],
   "source": [
    "type (h)"
   ]
  },
  {
   "cell_type": "code",
   "execution_count": 132,
   "id": "211455fc",
   "metadata": {},
   "outputs": [
    {
     "data": {
      "text/plain": [
       "22"
      ]
     },
     "execution_count": 132,
     "metadata": {},
     "output_type": "execute_result"
    }
   ],
   "source": [
    "int(x)"
   ]
  },
  {
   "cell_type": "code",
   "execution_count": 133,
   "id": "ce10ed78",
   "metadata": {},
   "outputs": [
    {
     "data": {
      "text/plain": [
       "22.0"
      ]
     },
     "execution_count": 133,
     "metadata": {},
     "output_type": "execute_result"
    }
   ],
   "source": [
    "float(x)"
   ]
  },
  {
   "cell_type": "code",
   "execution_count": 134,
   "id": "2b93cf05",
   "metadata": {},
   "outputs": [
    {
     "data": {
      "text/plain": [
       "int"
      ]
     },
     "execution_count": 134,
     "metadata": {},
     "output_type": "execute_result"
    }
   ],
   "source": [
    "sm=3256\n",
    "type (sm)"
   ]
  },
  {
   "cell_type": "code",
   "execution_count": 135,
   "id": "2f2850f1",
   "metadata": {},
   "outputs": [],
   "source": [
    "m=float(sm)"
   ]
  },
  {
   "cell_type": "code",
   "execution_count": 136,
   "id": "0a2918ed",
   "metadata": {},
   "outputs": [
    {
     "data": {
      "text/plain": [
       "3256.0"
      ]
     },
     "execution_count": 136,
     "metadata": {},
     "output_type": "execute_result"
    }
   ],
   "source": [
    "m"
   ]
  },
  {
   "cell_type": "code",
   "execution_count": 138,
   "id": "c78776c5",
   "metadata": {},
   "outputs": [
    {
     "data": {
      "text/plain": [
       "float"
      ]
     },
     "execution_count": 138,
     "metadata": {},
     "output_type": "execute_result"
    }
   ],
   "source": [
    "type (m)"
   ]
  },
  {
   "cell_type": "markdown",
   "id": "4f9619e6",
   "metadata": {},
   "source": [
    "length"
   ]
  },
  {
   "cell_type": "code",
   "execution_count": 141,
   "id": "c67ee406",
   "metadata": {},
   "outputs": [
    {
     "data": {
      "text/plain": [
       "8"
      ]
     },
     "execution_count": 141,
     "metadata": {},
     "output_type": "execute_result"
    }
   ],
   "source": [
    "len(\"ashkdskj\")"
   ]
  },
  {
   "cell_type": "code",
   "execution_count": 142,
   "id": "61142733",
   "metadata": {},
   "outputs": [
    {
     "data": {
      "text/plain": [
       "3"
      ]
     },
     "execution_count": 142,
     "metadata": {},
     "output_type": "execute_result"
    }
   ],
   "source": [
    "len(\"sun\")"
   ]
  },
  {
   "cell_type": "code",
   "execution_count": 145,
   "id": "084ec708",
   "metadata": {},
   "outputs": [
    {
     "data": {
      "text/plain": [
       "7"
      ]
     },
     "execution_count": 145,
     "metadata": {},
     "output_type": "execute_result"
    }
   ],
   "source": [
    "city=\"Bijapur\"\n",
    "len(\"bijapur\")"
   ]
  },
  {
   "cell_type": "code",
   "execution_count": 146,
   "id": "c3bceed5",
   "metadata": {},
   "outputs": [
    {
     "data": {
      "text/plain": [
       "'Bijapur'"
      ]
     },
     "execution_count": 146,
     "metadata": {},
     "output_type": "execute_result"
    }
   ],
   "source": [
    "city"
   ]
  },
  {
   "cell_type": "code",
   "execution_count": 147,
   "id": "fb4ab6fe",
   "metadata": {},
   "outputs": [
    {
     "data": {
      "text/plain": [
       "4"
      ]
     },
     "execution_count": 147,
     "metadata": {},
     "output_type": "execute_result"
    }
   ],
   "source": [
    "len(\"city\")"
   ]
  },
  {
   "cell_type": "code",
   "execution_count": null,
   "id": "2a505e88",
   "metadata": {},
   "outputs": [],
   "source": []
  }
 ],
 "metadata": {
  "kernelspec": {
   "display_name": "Python 3 (ipykernel)",
   "language": "python",
   "name": "python3"
  },
  "language_info": {
   "codemirror_mode": {
    "name": "ipython",
    "version": 3
   },
   "file_extension": ".py",
   "mimetype": "text/x-python",
   "name": "python",
   "nbconvert_exporter": "python",
   "pygments_lexer": "ipython3",
   "version": "3.9.7"
  }
 },
 "nbformat": 4,
 "nbformat_minor": 5
}
