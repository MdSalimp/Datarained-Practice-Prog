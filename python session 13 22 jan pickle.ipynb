{
 "cells": [
  {
   "cell_type": "code",
   "execution_count": 25,
   "id": "59e7ea0d",
   "metadata": {},
   "outputs": [
    {
     "data": {
      "text/plain": [
       "22"
      ]
     },
     "execution_count": 25,
     "metadata": {},
     "output_type": "execute_result"
    }
   ],
   "source": [
    "savefile.write(\"this is the first line\")"
   ]
  },
  {
   "cell_type": "code",
   "execution_count": 26,
   "id": "478c7f7e",
   "metadata": {},
   "outputs": [],
   "source": [
    "savefile.close()"
   ]
  },
  {
   "cell_type": "code",
   "execution_count": 27,
   "id": "64f2f3b4",
   "metadata": {},
   "outputs": [],
   "source": [
    "readme=open('c:\\\\python\\jan22file.txt','r')"
   ]
  },
  {
   "cell_type": "code",
   "execution_count": 28,
   "id": "82836d19",
   "metadata": {},
   "outputs": [
    {
     "name": "stdout",
     "output_type": "stream",
     "text": [
      "this is the first line\n"
     ]
    }
   ],
   "source": [
    "print(readme.read())"
   ]
  },
  {
   "cell_type": "code",
   "execution_count": 29,
   "id": "8f5010a1",
   "metadata": {},
   "outputs": [],
   "source": [
    "readme.close()"
   ]
  },
  {
   "cell_type": "code",
   "execution_count": 30,
   "id": "27d43ef7",
   "metadata": {},
   "outputs": [],
   "source": [
    "appendfile=open('c:\\\\python\\jan22file.txt','a')"
   ]
  },
  {
   "cell_type": "code",
   "execution_count": 31,
   "id": "d87283eb",
   "metadata": {},
   "outputs": [
    {
     "data": {
      "text/plain": [
       "19"
      ]
     },
     "execution_count": 31,
     "metadata": {},
     "output_type": "execute_result"
    }
   ],
   "source": [
    "appendfile.write(\"\\n this is next line\")"
   ]
  },
  {
   "cell_type": "code",
   "execution_count": 32,
   "id": "0f963415",
   "metadata": {},
   "outputs": [],
   "source": [
    "appendfile.close()"
   ]
  },
  {
   "cell_type": "code",
   "execution_count": 33,
   "id": "c18c8709",
   "metadata": {},
   "outputs": [],
   "source": [
    "readme=open('c:\\\\python\\jan22file.txt','r')"
   ]
  },
  {
   "cell_type": "code",
   "execution_count": 34,
   "id": "f74880b1",
   "metadata": {},
   "outputs": [
    {
     "name": "stdout",
     "output_type": "stream",
     "text": [
      "this is the first line\n",
      " this is next line\n"
     ]
    }
   ],
   "source": [
    "print(readme.read())"
   ]
  },
  {
   "cell_type": "code",
   "execution_count": 35,
   "id": "4394491e",
   "metadata": {},
   "outputs": [],
   "source": [
    "readme.close()"
   ]
  },
  {
   "cell_type": "markdown",
   "id": "9e6c323d",
   "metadata": {},
   "source": [
    "# pickle in python"
   ]
  },
  {
   "cell_type": "code",
   "execution_count": 2,
   "id": "dd8b14f5",
   "metadata": {},
   "outputs": [],
   "source": [
    "import pickle"
   ]
  },
  {
   "cell_type": "code",
   "execution_count": 3,
   "id": "8ad2a430",
   "metadata": {},
   "outputs": [],
   "source": [
    "flower__dict={1:'rose',2:'lily',3:'lotus',4:'tulip'}"
   ]
  },
  {
   "cell_type": "code",
   "execution_count": 9,
   "id": "98c0137f",
   "metadata": {},
   "outputs": [],
   "source": [
    "outfile=open('flower.obj','wb')"
   ]
  },
  {
   "cell_type": "code",
   "execution_count": 10,
   "id": "c4d371cd",
   "metadata": {},
   "outputs": [],
   "source": [
    "pickle.dump(flower__dict,outfile)\n",
    "outfile.close()"
   ]
  },
  {
   "cell_type": "code",
   "execution_count": 18,
   "id": "d3818f51",
   "metadata": {},
   "outputs": [],
   "source": [
    "infile=open('flower.obj','rb')"
   ]
  },
  {
   "cell_type": "code",
   "execution_count": 19,
   "id": "c6c26dd3",
   "metadata": {},
   "outputs": [],
   "source": [
    "new__dict=pickle.load(infile)"
   ]
  },
  {
   "cell_type": "code",
   "execution_count": 20,
   "id": "95763a78",
   "metadata": {},
   "outputs": [],
   "source": [
    "infile.close()"
   ]
  },
  {
   "cell_type": "code",
   "execution_count": 21,
   "id": "08520c12",
   "metadata": {},
   "outputs": [
    {
     "name": "stdout",
     "output_type": "stream",
     "text": [
      "{1: 'rose', 2: 'lily', 3: 'lotus', 4: 'tulip'}\n"
     ]
    }
   ],
   "source": [
    "print(new__dict)"
   ]
  },
  {
   "cell_type": "code",
   "execution_count": 22,
   "id": "12709918",
   "metadata": {},
   "outputs": [
    {
     "name": "stdout",
     "output_type": "stream",
     "text": [
      "True\n"
     ]
    }
   ],
   "source": [
    "print(new__dict==flower__dict)"
   ]
  },
  {
   "cell_type": "code",
   "execution_count": 23,
   "id": "7644bab7",
   "metadata": {},
   "outputs": [
    {
     "name": "stdout",
     "output_type": "stream",
     "text": [
      "<class 'dict'>\n"
     ]
    }
   ],
   "source": [
    "print(type(new__dict))"
   ]
  },
  {
   "cell_type": "code",
   "execution_count": null,
   "id": "4eeccaab",
   "metadata": {},
   "outputs": [],
   "source": []
  }
 ],
 "metadata": {
  "kernelspec": {
   "display_name": "Python 3 (ipykernel)",
   "language": "python",
   "name": "python3"
  },
  "language_info": {
   "codemirror_mode": {
    "name": "ipython",
    "version": 3
   },
   "file_extension": ".py",
   "mimetype": "text/x-python",
   "name": "python",
   "nbconvert_exporter": "python",
   "pygments_lexer": "ipython3",
   "version": "3.9.7"
  }
 },
 "nbformat": 4,
 "nbformat_minor": 5
}
