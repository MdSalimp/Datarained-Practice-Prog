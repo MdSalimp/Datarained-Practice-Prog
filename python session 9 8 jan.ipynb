{
 "cells": [
  {
   "cell_type": "markdown",
   "id": "9c5895ed",
   "metadata": {},
   "source": [
    "Anonymous function lambda"
   ]
  },
  {
   "cell_type": "code",
   "execution_count": 1,
   "id": "4f98fb1d",
   "metadata": {},
   "outputs": [],
   "source": [
    "test=lambda x:x*2;"
   ]
  },
  {
   "cell_type": "code",
   "execution_count": 2,
   "id": "2e383c1c",
   "metadata": {},
   "outputs": [
    {
     "data": {
      "text/plain": [
       "6"
      ]
     },
     "execution_count": 2,
     "metadata": {},
     "output_type": "execute_result"
    }
   ],
   "source": [
    "test(3)"
   ]
  },
  {
   "cell_type": "code",
   "execution_count": 3,
   "id": "073035a1",
   "metadata": {},
   "outputs": [
    {
     "data": {
      "text/plain": [
       "16"
      ]
     },
     "execution_count": 3,
     "metadata": {},
     "output_type": "execute_result"
    }
   ],
   "source": [
    "test(8)"
   ]
  },
  {
   "cell_type": "code",
   "execution_count": 5,
   "id": "4dc072b7",
   "metadata": {},
   "outputs": [],
   "source": [
    "test1add=lambda x,y:x+y"
   ]
  },
  {
   "cell_type": "code",
   "execution_count": 6,
   "id": "c703a09c",
   "metadata": {},
   "outputs": [
    {
     "data": {
      "text/plain": [
       "5"
      ]
     },
     "execution_count": 6,
     "metadata": {},
     "output_type": "execute_result"
    }
   ],
   "source": [
    "test1add(2,3)"
   ]
  },
  {
   "cell_type": "code",
   "execution_count": 8,
   "id": "865a3bb2",
   "metadata": {},
   "outputs": [],
   "source": [
    "m=lambda x,y,z:x+y+z"
   ]
  },
  {
   "cell_type": "code",
   "execution_count": 9,
   "id": "35fa6281",
   "metadata": {},
   "outputs": [
    {
     "data": {
      "text/plain": [
       "6"
      ]
     },
     "execution_count": 9,
     "metadata": {},
     "output_type": "execute_result"
    }
   ],
   "source": [
    "m(1,2,3)"
   ]
  },
  {
   "cell_type": "code",
   "execution_count": 10,
   "id": "6b81793a",
   "metadata": {},
   "outputs": [],
   "source": [
    "square=lambda x:x**2"
   ]
  },
  {
   "cell_type": "code",
   "execution_count": 11,
   "id": "7a6ee348",
   "metadata": {},
   "outputs": [
    {
     "data": {
      "text/plain": [
       "16"
      ]
     },
     "execution_count": 11,
     "metadata": {},
     "output_type": "execute_result"
    }
   ],
   "source": [
    "square(4)"
   ]
  },
  {
   "cell_type": "code",
   "execution_count": 16,
   "id": "36836bbc",
   "metadata": {},
   "outputs": [],
   "source": [
    "sqroot=lambda x:x**(1/2)"
   ]
  },
  {
   "cell_type": "code",
   "execution_count": 17,
   "id": "f7e9a144",
   "metadata": {},
   "outputs": [
    {
     "data": {
      "text/plain": [
       "4.0"
      ]
     },
     "execution_count": 17,
     "metadata": {},
     "output_type": "execute_result"
    }
   ],
   "source": [
    "sqroot(16)"
   ]
  },
  {
   "cell_type": "code",
   "execution_count": 19,
   "id": "782865ef",
   "metadata": {},
   "outputs": [],
   "source": [
    "cube=lambda x:x**3"
   ]
  },
  {
   "cell_type": "code",
   "execution_count": 20,
   "id": "d0262de7",
   "metadata": {},
   "outputs": [
    {
     "data": {
      "text/plain": [
       "27"
      ]
     },
     "execution_count": 20,
     "metadata": {},
     "output_type": "execute_result"
    }
   ],
   "source": [
    "cube(3)"
   ]
  },
  {
   "cell_type": "code",
   "execution_count": 21,
   "id": "e375fc2c",
   "metadata": {},
   "outputs": [],
   "source": [
    "cuberoot=lambda x:x**(1/3)"
   ]
  },
  {
   "cell_type": "code",
   "execution_count": 22,
   "id": "6d4be0aa",
   "metadata": {},
   "outputs": [
    {
     "data": {
      "text/plain": [
       "3.0"
      ]
     },
     "execution_count": 22,
     "metadata": {},
     "output_type": "execute_result"
    }
   ],
   "source": [
    "cuberoot(27)"
   ]
  },
  {
   "cell_type": "code",
   "execution_count": 24,
   "id": "882ee8ec",
   "metadata": {},
   "outputs": [
    {
     "name": "stdout",
     "output_type": "stream",
     "text": [
      "val of total= 9\n",
      "val of total= 21\n"
     ]
    }
   ],
   "source": [
    "addvar=lambda a1,a2,a3:a1+a2+a3\n",
    "print ('val of total=',addvar(2,3,4))\n",
    "print ('val of total=',addvar(6,7,8))"
   ]
  },
  {
   "cell_type": "code",
   "execution_count": 25,
   "id": "4b542dd3",
   "metadata": {},
   "outputs": [],
   "source": [
    "def fahrenhit(T):\n",
    "    return(((9)/5)*T+32)"
   ]
  },
  {
   "cell_type": "code",
   "execution_count": 26,
   "id": "15ddaf4d",
   "metadata": {},
   "outputs": [
    {
     "data": {
      "text/plain": [
       "95.0"
      ]
     },
     "execution_count": 26,
     "metadata": {},
     "output_type": "execute_result"
    }
   ],
   "source": [
    "f=fahrenhit(35)\n",
    "f"
   ]
  },
  {
   "cell_type": "code",
   "execution_count": 28,
   "id": "c6d3ee90",
   "metadata": {},
   "outputs": [],
   "source": [
    "def celcius(T):\n",
    "    return(((5)/9)*(T-32))"
   ]
  },
  {
   "cell_type": "code",
   "execution_count": 29,
   "id": "afe80ed9",
   "metadata": {},
   "outputs": [
    {
     "data": {
      "text/plain": [
       "35.0"
      ]
     },
     "execution_count": 29,
     "metadata": {},
     "output_type": "execute_result"
    }
   ],
   "source": [
    "c=celcius(95)\n",
    "c"
   ]
  },
  {
   "cell_type": "code",
   "execution_count": 1,
   "id": "9dd459aa",
   "metadata": {},
   "outputs": [
    {
     "data": {
      "text/plain": [
       "101.12"
      ]
     },
     "execution_count": 1,
     "metadata": {},
     "output_type": "execute_result"
    }
   ],
   "source": [
    "f=lambda x:(9/5)*x+32;\n",
    "f(38.4)"
   ]
  },
  {
   "cell_type": "code",
   "execution_count": 7,
   "id": "1a0e5d24",
   "metadata": {},
   "outputs": [
    {
     "data": {
      "text/plain": [
       "[2, 4, 6, 8]"
      ]
     },
     "execution_count": 7,
     "metadata": {},
     "output_type": "execute_result"
    }
   ],
   "source": [
    "mylist=[1,2,3,4]\n",
    "list(map(lambda x:x*2,mylist))"
   ]
  },
  {
   "cell_type": "code",
   "execution_count": 3,
   "id": "8139faae",
   "metadata": {},
   "outputs": [],
   "source": [
    "c=[35.2,36.2,58.3,86.3]"
   ]
  },
  {
   "cell_type": "code",
   "execution_count": 9,
   "id": "8935d95b",
   "metadata": {},
   "outputs": [
    {
     "name": "stdout",
     "output_type": "stream",
     "text": [
      "[95.36000000000001, 97.16000000000001, 136.94, 187.34]\n"
     ]
    }
   ],
   "source": [
    "F = list(map(lambda x: ((9)/5)*x +32, c))\n",
    "print(F)"
   ]
  },
  {
   "cell_type": "code",
   "execution_count": 55,
   "id": "21f0da7c",
   "metadata": {},
   "outputs": [
    {
     "name": "stdout",
     "output_type": "stream",
     "text": [
      "[35.2, 36.2, 58.3, 86.3]\n"
     ]
    }
   ],
   "source": [
    "C = list(map(lambda x: ((5)/9)*(x -32), c))\n",
    "print(c)"
   ]
  },
  {
   "cell_type": "code",
   "execution_count": 61,
   "id": "4201ac1f",
   "metadata": {},
   "outputs": [
    {
     "data": {
      "text/plain": [
       "[35.2, 36.2, 58.3, 86.3]"
      ]
     },
     "execution_count": 61,
     "metadata": {},
     "output_type": "execute_result"
    }
   ],
   "source": [
    "newClist= [round(x,2) for x in c]\n",
    "newClist"
   ]
  },
  {
   "cell_type": "code",
   "execution_count": 65,
   "id": "44f7f1c7",
   "metadata": {},
   "outputs": [
    {
     "data": {
      "text/plain": [
       "['35.20', '36.20', '58.30', '86.30']"
      ]
     },
     "execution_count": 65,
     "metadata": {},
     "output_type": "execute_result"
    }
   ],
   "source": [
    "newlist=['%.2f'%j for j in c]\n",
    "newlist"
   ]
  },
  {
   "cell_type": "code",
   "execution_count": 13,
   "id": "9d83fc6b",
   "metadata": {},
   "outputs": [
    {
     "name": "stdout",
     "output_type": "stream",
     "text": [
      "[6.28, 12.56, 18.84, 25.12]\n"
     ]
    }
   ],
   "source": [
    "rad=[1,2,3,4]\n",
    "cir=list(map(lambda y:2*3.14*y,rad))\n",
    "print(cir)"
   ]
  },
  {
   "cell_type": "markdown",
   "id": "085bd0ed",
   "metadata": {},
   "source": [
    "Filter in Lambda"
   ]
  },
  {
   "cell_type": "code",
   "execution_count": 14,
   "id": "b2100c80",
   "metadata": {},
   "outputs": [
    {
     "data": {
      "text/plain": [
       "[3, 4, 5]"
      ]
     },
     "execution_count": 14,
     "metadata": {},
     "output_type": "execute_result"
    }
   ],
   "source": [
    "mylist=[1,2,3,4,5]\n",
    "list(filter(lambda x: x>2,mylist))"
   ]
  },
  {
   "cell_type": "code",
   "execution_count": 6,
   "id": "045b7547",
   "metadata": {},
   "outputs": [
    {
     "data": {
      "text/plain": [
       "[0, 2, 4, 6, 8, 10]"
      ]
     },
     "execution_count": 6,
     "metadata": {},
     "output_type": "execute_result"
    }
   ],
   "source": [
    " even=lambda x:x%2==0\n",
    "list(filter(even,range(11)))"
   ]
  },
  {
   "cell_type": "code",
   "execution_count": 7,
   "id": "2820127f",
   "metadata": {},
   "outputs": [
    {
     "data": {
      "text/plain": [
       "[0, 2, 4, 6, 8, 10]"
      ]
     },
     "execution_count": 7,
     "metadata": {},
     "output_type": "execute_result"
    }
   ],
   "source": [
    "[x for x in range(11) if x%2==0]"
   ]
  },
  {
   "cell_type": "code",
   "execution_count": 16,
   "id": "dcf91858",
   "metadata": {},
   "outputs": [
    {
     "data": {
      "text/plain": [
       "[1, 3, 5, 7, 9]"
      ]
     },
     "execution_count": 16,
     "metadata": {},
     "output_type": "execute_result"
    }
   ],
   "source": [
    "odd=lambda x:x%2!=0\n",
    "list(filter(odd,range(11)))"
   ]
  },
  {
   "cell_type": "code",
   "execution_count": null,
   "id": "28ea771d",
   "metadata": {},
   "outputs": [],
   "source": []
  }
 ],
 "metadata": {
  "kernelspec": {
   "display_name": "Python 3 (ipykernel)",
   "language": "python",
   "name": "python3"
  },
  "language_info": {
   "codemirror_mode": {
    "name": "ipython",
    "version": 3
   },
   "file_extension": ".py",
   "mimetype": "text/x-python",
   "name": "python",
   "nbconvert_exporter": "python",
   "pygments_lexer": "ipython3",
   "version": "3.9.7"
  }
 },
 "nbformat": 4,
 "nbformat_minor": 5
}
