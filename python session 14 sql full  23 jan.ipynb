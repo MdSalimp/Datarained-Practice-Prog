{
 "cells": [
  {
   "cell_type": "code",
   "execution_count": 18,
   "id": "05f8efef",
   "metadata": {},
   "outputs": [],
   "source": [
    "import sqlite3"
   ]
  },
  {
   "cell_type": "code",
   "execution_count": 23,
   "id": "b0541f52",
   "metadata": {},
   "outputs": [],
   "source": [
    "db=sqlite3.connect(\"student_database final new.db\")"
   ]
  },
  {
   "cell_type": "code",
   "execution_count": 24,
   "id": "4320c06e",
   "metadata": {},
   "outputs": [],
   "source": [
    "cur=db.cursor()"
   ]
  },
  {
   "cell_type": "code",
   "execution_count": 25,
   "id": "66d9da9f",
   "metadata": {},
   "outputs": [
    {
     "ename": "OperationalError",
     "evalue": "table student already exists",
     "output_type": "error",
     "traceback": [
      "\u001b[1;31m---------------------------------------------------------------------------\u001b[0m",
      "\u001b[1;31mOperationalError\u001b[0m                          Traceback (most recent call last)",
      "\u001b[1;32m~\\AppData\\Local\\Temp/ipykernel_5684/480668198.py\u001b[0m in \u001b[0;36m<module>\u001b[1;34m\u001b[0m\n\u001b[1;32m----> 1\u001b[1;33m \u001b[0mcur\u001b[0m\u001b[1;33m.\u001b[0m\u001b[0mexecute\u001b[0m\u001b[1;33m(\u001b[0m\u001b[1;34m\"create table student(id int primary key,name text,marks int)\"\u001b[0m\u001b[1;33m)\u001b[0m\u001b[1;33m\u001b[0m\u001b[1;33m\u001b[0m\u001b[0m\n\u001b[0m",
      "\u001b[1;31mOperationalError\u001b[0m: table student already exists"
     ]
    }
   ],
   "source": [
    "cur.execute(\"create table student(id int primary key,name text,marks int)\")"
   ]
  },
  {
   "cell_type": "code",
   "execution_count": 27,
   "id": "cf780225",
   "metadata": {},
   "outputs": [
    {
     "ename": "IntegrityError",
     "evalue": "UNIQUE constraint failed: student.id",
     "output_type": "error",
     "traceback": [
      "\u001b[1;31m---------------------------------------------------------------------------\u001b[0m",
      "\u001b[1;31mIntegrityError\u001b[0m                            Traceback (most recent call last)",
      "\u001b[1;32m~\\AppData\\Local\\Temp/ipykernel_5684/490681178.py\u001b[0m in \u001b[0;36m<module>\u001b[1;34m\u001b[0m\n\u001b[1;32m----> 1\u001b[1;33m \u001b[0mcur\u001b[0m\u001b[1;33m.\u001b[0m\u001b[0mexecute\u001b[0m\u001b[1;33m(\u001b[0m\u001b[1;34m\"insert into student(id,name,marks) values(1,'john',90)\"\u001b[0m\u001b[1;33m)\u001b[0m\u001b[1;33m\u001b[0m\u001b[1;33m\u001b[0m\u001b[0m\n\u001b[0m\u001b[0;32m      2\u001b[0m \u001b[0mdb\u001b[0m\u001b[1;33m.\u001b[0m\u001b[0mcommit\u001b[0m\u001b[1;33m(\u001b[0m\u001b[1;33m)\u001b[0m\u001b[1;33m\u001b[0m\u001b[1;33m\u001b[0m\u001b[0m\n",
      "\u001b[1;31mIntegrityError\u001b[0m: UNIQUE constraint failed: student.id"
     ]
    }
   ],
   "source": [
    "cur.execute(\"insert into student(id,name,marks) values(1,'john',90)\")\n",
    "db.commit()"
   ]
  },
  {
   "cell_type": "code",
   "execution_count": 12,
   "id": "a762735f",
   "metadata": {},
   "outputs": [
    {
     "name": "stdout",
     "output_type": "stream",
     "text": [
      "-1 record(s) inserted\n"
     ]
    }
   ],
   "source": [
    "print(cur.rowcount,\"record(s) inserted\")"
   ]
  },
  {
   "cell_type": "code",
   "execution_count": 8,
   "id": "441bea71",
   "metadata": {},
   "outputs": [],
   "source": [
    "cur.execute(\"insert into student(id,name,marks) values(2,'teena',100)\")\n",
    "db.commit()"
   ]
  },
  {
   "cell_type": "code",
   "execution_count": 9,
   "id": "5f544d86",
   "metadata": {},
   "outputs": [
    {
     "name": "stdout",
     "output_type": "stream",
     "text": [
      "(1, 'john', 90)\n",
      "(2, 'teena', 100)\n"
     ]
    }
   ],
   "source": [
    "results=cur.execute(\"select * from student\")\n",
    "for row in results:\n",
    "    print(row)"
   ]
  },
  {
   "cell_type": "code",
   "execution_count": 10,
   "id": "0883eda5",
   "metadata": {},
   "outputs": [],
   "source": [
    "cur.execute(\"insert into student(id,name,marks) values(3,'andrew',110)\")\n",
    "db.commit()"
   ]
  },
  {
   "cell_type": "code",
   "execution_count": 11,
   "id": "77304ce6",
   "metadata": {},
   "outputs": [],
   "source": [
    "cur.execute(\"insert into student(id,name,marks) values(4,'dor',45)\")\n",
    "db.commit()"
   ]
  },
  {
   "cell_type": "code",
   "execution_count": 12,
   "id": "dc058e6d",
   "metadata": {},
   "outputs": [],
   "source": [
    "cur.execute(\"insert into student(id,name,marks) values(5,'surt',55)\")\n",
    "db.commit()"
   ]
  },
  {
   "cell_type": "code",
   "execution_count": 13,
   "id": "4bf0b606",
   "metadata": {},
   "outputs": [
    {
     "name": "stdout",
     "output_type": "stream",
     "text": [
      "(1, 'john', 90)\n",
      "(2, 'teena', 100)\n",
      "(3, 'andrew', 110)\n",
      "(4, 'dor', 45)\n",
      "(5, 'surt', 55)\n"
     ]
    }
   ],
   "source": [
    "results=cur.execute(\"select * from student\")\n",
    "for row in results:\n",
    "    print(row)"
   ]
  },
  {
   "cell_type": "code",
   "execution_count": 14,
   "id": "eef50961",
   "metadata": {},
   "outputs": [
    {
     "name": "stdout",
     "output_type": "stream",
     "text": [
      "3 Record(s) inserted\n"
     ]
    }
   ],
   "source": [
    "cur.execute(\"insert into student values (9,'kia',23),(10,'abj',93),(11,'tam',88)\")\n",
    "db.commit()\n",
    "print (cur.rowcount,\"Record(s) inserted\")"
   ]
  },
  {
   "cell_type": "code",
   "execution_count": 15,
   "id": "1681eead",
   "metadata": {},
   "outputs": [
    {
     "name": "stdout",
     "output_type": "stream",
     "text": [
      "(1, 'john', 90)\n",
      "(2, 'teena', 100)\n",
      "(3, 'andrew', 110)\n",
      "(4, 'dor', 45)\n",
      "(5, 'surt', 55)\n",
      "(9, 'kia', 23)\n",
      "(10, 'abj', 93)\n",
      "(11, 'tam', 88)\n"
     ]
    }
   ],
   "source": [
    "results=cur.execute(\"select * from student\")\n",
    "for row in results:\n",
    "    print(row)"
   ]
  },
  {
   "cell_type": "code",
   "execution_count": 16,
   "id": "902963b4",
   "metadata": {},
   "outputs": [
    {
     "name": "stdout",
     "output_type": "stream",
     "text": [
      "(1, 'john')\n",
      "(2, 'teena')\n",
      "(3, 'andrew')\n",
      "(4, 'dor')\n",
      "(5, 'surt')\n",
      "(9, 'kia')\n",
      "(10, 'abj')\n",
      "(11, 'tam')\n"
     ]
    }
   ],
   "source": [
    "results=cur.execute(\"select id,name from student\")\n",
    "for i in results:\n",
    "    print(i)"
   ]
  },
  {
   "cell_type": "markdown",
   "id": "5fdc0dd8",
   "metadata": {},
   "source": []
  },
  {
   "cell_type": "code",
   "execution_count": 17,
   "id": "576b33da",
   "metadata": {},
   "outputs": [
    {
     "name": "stdout",
     "output_type": "stream",
     "text": [
      "(1, 90)\n",
      "(2, 100)\n",
      "(3, 110)\n",
      "(4, 45)\n",
      "(5, 55)\n",
      "(9, 23)\n",
      "(10, 93)\n",
      "(11, 88)\n"
     ]
    }
   ],
   "source": [
    "results=cur.execute(\"select id,marks from student\")\n",
    "for i in results:\n",
    "    print(i)"
   ]
  },
  {
   "cell_type": "code",
   "execution_count": 18,
   "id": "ffeeda5e",
   "metadata": {},
   "outputs": [
    {
     "name": "stdout",
     "output_type": "stream",
     "text": [
      "(1, 'john', 90)\n"
     ]
    }
   ],
   "source": [
    "results=cur.execute(\"select * from student where id=1\")\n",
    "for i in results:\n",
    "    print(i)"
   ]
  },
  {
   "cell_type": "code",
   "execution_count": 19,
   "id": "e2afbd3d",
   "metadata": {},
   "outputs": [
    {
     "name": "stdout",
     "output_type": "stream",
     "text": [
      "(2, 'teena', 100)\n"
     ]
    }
   ],
   "source": [
    "results=cur.execute(\"select * from student where id=2\")\n",
    "for i in results:\n",
    "    print(i)"
   ]
  },
  {
   "cell_type": "code",
   "execution_count": 20,
   "id": "9aeff129",
   "metadata": {},
   "outputs": [
    {
     "name": "stdout",
     "output_type": "stream",
     "text": [
      "(1, 'john', 90)\n"
     ]
    }
   ],
   "source": [
    "results=cur.execute(\"select * from student where name='john'\")\n",
    "for i in results:\n",
    "    print(i)"
   ]
  },
  {
   "cell_type": "code",
   "execution_count": 21,
   "id": "f10e6109",
   "metadata": {},
   "outputs": [
    {
     "name": "stdout",
     "output_type": "stream",
     "text": [
      "(90,)\n"
     ]
    }
   ],
   "source": [
    "results=cur.execute(\"select marks from student where name='john'\")\n",
    "for i in results:\n",
    "    print(i)"
   ]
  },
  {
   "cell_type": "code",
   "execution_count": 22,
   "id": "020fb707",
   "metadata": {},
   "outputs": [
    {
     "name": "stdout",
     "output_type": "stream",
     "text": [
      "(1, 'john', 90)\n",
      "(2, 'teena', 100)\n",
      "(3, 'andrew', 110)\n"
     ]
    }
   ],
   "source": [
    "results=cur.execute(\"select * from student limit 3\")\n",
    "for i in results:\n",
    "    print(i)"
   ]
  },
  {
   "cell_type": "code",
   "execution_count": 23,
   "id": "22ed71ba",
   "metadata": {},
   "outputs": [
    {
     "name": "stdout",
     "output_type": "stream",
     "text": [
      "(11, 'tam', 88)\n"
     ]
    }
   ],
   "source": [
    "results=cur.execute(\"select * from student where marks>60 and marks <90\")\n",
    "for i in results:\n",
    "    print(i)"
   ]
  },
  {
   "cell_type": "code",
   "execution_count": 24,
   "id": "e09547a9",
   "metadata": {},
   "outputs": [
    {
     "name": "stdout",
     "output_type": "stream",
     "text": [
      "(4, 'dor', 45)\n",
      "(5, 'surt', 55)\n"
     ]
    }
   ],
   "source": [
    "results=cur.execute(\"select * from student where marks>40 and marks <60\")\n",
    "for i in results:\n",
    "    print(i)"
   ]
  },
  {
   "cell_type": "code",
   "execution_count": 25,
   "id": "93e5280c",
   "metadata": {},
   "outputs": [
    {
     "data": {
      "text/plain": [
       "[(1, 'john', 90),\n",
       " (2, 'teena', 100),\n",
       " (3, 'andrew', 110),\n",
       " (4, 'dor', 45),\n",
       " (5, 'surt', 55),\n",
       " (9, 'kia', 23),\n",
       " (10, 'abj', 93),\n",
       " (11, 'tam', 88)]"
      ]
     },
     "execution_count": 25,
     "metadata": {},
     "output_type": "execute_result"
    }
   ],
   "source": [
    "results=cur.execute(\"select * from student\")\n",
    "results.fetchall()"
   ]
  },
  {
   "cell_type": "code",
   "execution_count": 26,
   "id": "514095c9",
   "metadata": {},
   "outputs": [
    {
     "name": "stdout",
     "output_type": "stream",
     "text": [
      "(10, 'abj', 93)\n",
      "(3, 'andrew', 110)\n",
      "(4, 'dor', 45)\n",
      "(1, 'john', 90)\n",
      "(9, 'kia', 23)\n",
      "(5, 'surt', 55)\n",
      "(11, 'tam', 88)\n",
      "(2, 'teena', 100)\n"
     ]
    }
   ],
   "source": [
    "results=cur.execute(\"select * from student order by name asc\")\n",
    "for i in results:\n",
    "    print(i)"
   ]
  },
  {
   "cell_type": "code",
   "execution_count": 27,
   "id": "8ae43a01",
   "metadata": {},
   "outputs": [
    {
     "name": "stdout",
     "output_type": "stream",
     "text": [
      "(2, 'teena', 100)\n",
      "(11, 'tam', 88)\n",
      "(5, 'surt', 55)\n",
      "(9, 'kia', 23)\n",
      "(1, 'john', 90)\n",
      "(4, 'dor', 45)\n",
      "(3, 'andrew', 110)\n",
      "(10, 'abj', 93)\n"
     ]
    }
   ],
   "source": [
    "results=cur.execute(\"select * from student order by name desc\")\n",
    "for i in results:\n",
    "    print(i)"
   ]
  },
  {
   "cell_type": "code",
   "execution_count": 28,
   "id": "49a955f9",
   "metadata": {},
   "outputs": [
    {
     "name": "stdout",
     "output_type": "stream",
     "text": [
      "(4, 'dor', 45)\n"
     ]
    }
   ],
   "source": [
    "results=cur.execute(\"select * from student where name='dor'and marks=45\")\n",
    "for i in results:\n",
    "    print(i)"
   ]
  },
  {
   "cell_type": "code",
   "execution_count": 30,
   "id": "8e69b7b7",
   "metadata": {},
   "outputs": [],
   "source": [
    "results=cur.execute(\"select * from student where name='dor'and marks=55\")\n",
    "for i in results:\n",
    "    print(i)"
   ]
  },
  {
   "cell_type": "code",
   "execution_count": 31,
   "id": "c595f08a",
   "metadata": {},
   "outputs": [
    {
     "name": "stdout",
     "output_type": "stream",
     "text": [
      "(2, 'teena', 100)\n"
     ]
    }
   ],
   "source": [
    "results=cur.execute(\"select * from student where id=2 and marks=100\")\n",
    "for i in results:\n",
    "    print(i)"
   ]
  },
  {
   "cell_type": "code",
   "execution_count": 32,
   "id": "3b9eb9ac",
   "metadata": {},
   "outputs": [
    {
     "name": "stdout",
     "output_type": "stream",
     "text": [
      "(23,)\n"
     ]
    }
   ],
   "source": [
    "results=cur.execute(\"select min (marks)from student \")\n",
    "for i in results:\n",
    "    print(i)"
   ]
  },
  {
   "cell_type": "code",
   "execution_count": 33,
   "id": "0c3df57e",
   "metadata": {},
   "outputs": [
    {
     "data": {
      "text/plain": [
       "(110,)"
      ]
     },
     "execution_count": 33,
     "metadata": {},
     "output_type": "execute_result"
    }
   ],
   "source": [
    "results=cur.execute(\"select max (marks)from student \")\n",
    "results.fetchone()"
   ]
  },
  {
   "cell_type": "code",
   "execution_count": 34,
   "id": "e87c6ef3",
   "metadata": {},
   "outputs": [
    {
     "data": {
      "text/plain": [
       "(75.5,)"
      ]
     },
     "execution_count": 34,
     "metadata": {},
     "output_type": "execute_result"
    }
   ],
   "source": [
    "results=cur.execute(\"select avg(marks)from student \")\n",
    "results.fetchone()"
   ]
  },
  {
   "cell_type": "code",
   "execution_count": 35,
   "id": "07624ff4",
   "metadata": {},
   "outputs": [
    {
     "data": {
      "text/plain": [
       "(604,)"
      ]
     },
     "execution_count": 35,
     "metadata": {},
     "output_type": "execute_result"
    }
   ],
   "source": [
    "results=cur.execute(\"select sum(marks)from student \")\n",
    "results.fetchone()"
   ]
  },
  {
   "cell_type": "code",
   "execution_count": 36,
   "id": "c6023c11",
   "metadata": {},
   "outputs": [
    {
     "data": {
      "text/plain": [
       "(8,)"
      ]
     },
     "execution_count": 36,
     "metadata": {},
     "output_type": "execute_result"
    }
   ],
   "source": [
    "results=cur.execute(\"select count(id)from student \")\n",
    "results.fetchone()"
   ]
  },
  {
   "cell_type": "code",
   "execution_count": 54,
   "id": "d7b3b672",
   "metadata": {},
   "outputs": [
    {
     "name": "stdout",
     "output_type": "stream",
     "text": [
      "(5, 'surt', 55)\n"
     ]
    }
   ],
   "source": [
    "results=cur.execute(\"select * from student where marks between 55 and 85\")\n",
    "for i in results:\n",
    "    print(i)"
   ]
  },
  {
   "cell_type": "code",
   "execution_count": 38,
   "id": "7543abc4",
   "metadata": {},
   "outputs": [],
   "source": [
    "results=cur.execute(\"select * from student where marks is null\")\n",
    "for i in results:\n",
    "    print(i)"
   ]
  },
  {
   "cell_type": "code",
   "execution_count": 39,
   "id": "0b98f15d",
   "metadata": {},
   "outputs": [
    {
     "name": "stdout",
     "output_type": "stream",
     "text": [
      "(1, 'john', 90)\n",
      "(2, 'teena', 100)\n",
      "(3, 'andrew', 110)\n",
      "(4, 'dor', 45)\n",
      "(5, 'surt', 55)\n",
      "(9, 'kia', 23)\n",
      "(10, 'abj', 93)\n",
      "(11, 'tam', 88)\n"
     ]
    }
   ],
   "source": [
    "results=cur.execute(\"select * from student where marks is not null\")\n",
    "for i in results:\n",
    "    print(i)"
   ]
  },
  {
   "cell_type": "code",
   "execution_count": 40,
   "id": "c538f4e2",
   "metadata": {},
   "outputs": [
    {
     "name": "stdout",
     "output_type": "stream",
     "text": [
      "(4, 'dor', 45)\n"
     ]
    }
   ],
   "source": [
    "results=cur.execute(\"select * from student where name like 'd%'\")\n",
    "for i in results:\n",
    "    print(i)"
   ]
  },
  {
   "cell_type": "code",
   "execution_count": 41,
   "id": "1fac12e2",
   "metadata": {},
   "outputs": [
    {
     "name": "stdout",
     "output_type": "stream",
     "text": [
      "(9, 'kia', 23)\n"
     ]
    }
   ],
   "source": [
    "results=cur.execute(\"select * from student where name like '_i%'\")\n",
    "for i in results:\n",
    "    print(i)"
   ]
  },
  {
   "cell_type": "code",
   "execution_count": 42,
   "id": "8766aa87",
   "metadata": {},
   "outputs": [
    {
     "name": "stdout",
     "output_type": "stream",
     "text": [
      "(4, 'dor', 45)\n"
     ]
    }
   ],
   "source": [
    "results=cur.execute(\"select * from student where name like '%r'\")\n",
    "for i in results:\n",
    "    print(i)"
   ]
  },
  {
   "cell_type": "code",
   "execution_count": 43,
   "id": "ee8a968c",
   "metadata": {},
   "outputs": [
    {
     "name": "stdout",
     "output_type": "stream",
     "text": [
      "(3, 'andrew', 110)\n",
      "(4, 'dor', 45)\n",
      "(5, 'surt', 55)\n"
     ]
    }
   ],
   "source": [
    "results=cur.execute(\"select * from student where name like '%r%'\")\n",
    "for i in results:\n",
    "    print(i)"
   ]
  },
  {
   "cell_type": "code",
   "execution_count": 44,
   "id": "123a185e",
   "metadata": {},
   "outputs": [
    {
     "name": "stdout",
     "output_type": "stream",
     "text": [
      "(4, 'dor', 45)\n",
      "(9, 'kia', 23)\n",
      "(10, 'abj', 93)\n",
      "(11, 'tam', 88)\n"
     ]
    }
   ],
   "source": [
    "results=cur.execute(\"select * from student where name like '___'\")\n",
    "for i in results:\n",
    "    print(i)"
   ]
  },
  {
   "cell_type": "code",
   "execution_count": 45,
   "id": "f0bdf848",
   "metadata": {},
   "outputs": [
    {
     "name": "stdout",
     "output_type": "stream",
     "text": [
      "(1, 'john', 90)\n",
      "(2, 'teena', 100)\n",
      "(3, 'andrew', 110)\n",
      "(4, 'dor', 45)\n",
      "(5, 'surt', 55)\n",
      "(9, 'kia', 23)\n",
      "(10, 'abj', 93)\n",
      "(11, 'tam', 88)\n"
     ]
    }
   ],
   "source": [
    "results=cur.execute(\"select * from student where marks NOT in(70)\")\n",
    "for i in results:\n",
    "    print(i)"
   ]
  },
  {
   "cell_type": "code",
   "execution_count": 46,
   "id": "3fc076fe",
   "metadata": {},
   "outputs": [
    {
     "name": "stdout",
     "output_type": "stream",
     "text": [
      "(1, 'john', 90)\n",
      "(2, 'teena', 100)\n",
      "(3, 'andrew', 110)\n",
      "(5, 'surt', 55)\n",
      "(9, 'kia', 23)\n",
      "(10, 'abj', 93)\n",
      "(11, 'tam', 88)\n"
     ]
    }
   ],
   "source": [
    "results=cur.execute(\"select * from student where name NOT in('dor')\")\n",
    "for i in results:\n",
    "    print(i)"
   ]
  },
  {
   "cell_type": "code",
   "execution_count": 47,
   "id": "c2fbdbc2",
   "metadata": {},
   "outputs": [
    {
     "data": {
      "text/plain": [
       "<sqlite3.Cursor at 0x2459053f5e0>"
      ]
     },
     "execution_count": 47,
     "metadata": {},
     "output_type": "execute_result"
    }
   ],
   "source": [
    "sql=\"update student set marks=81 where id=4\"\n",
    "cur.execute(sql)"
   ]
  },
  {
   "cell_type": "code",
   "execution_count": 48,
   "id": "2b86db67",
   "metadata": {},
   "outputs": [
    {
     "name": "stdout",
     "output_type": "stream",
     "text": [
      "(4, 'dor', 81)\n"
     ]
    }
   ],
   "source": [
    "results=cur.execute(\"select * from student where id=4\")\n",
    "for i in results:\n",
    "    print(i)"
   ]
  },
  {
   "cell_type": "code",
   "execution_count": 49,
   "id": "4a0ba85b",
   "metadata": {},
   "outputs": [
    {
     "name": "stdout",
     "output_type": "stream",
     "text": [
      "(1, 'john', 90)\n",
      "(2, 'teena', 100)\n",
      "(3, 'andrew', 110)\n",
      "(4, 'dor', 81)\n",
      "(5, 'surt', 55)\n",
      "(9, 'kia', 23)\n",
      "(10, 'abj', 93)\n",
      "(11, 'tam', 88)\n"
     ]
    }
   ],
   "source": [
    "results=cur.execute(\"select * from student\")\n",
    "for i in results:\n",
    "    print(i)"
   ]
  },
  {
   "cell_type": "code",
   "execution_count": 50,
   "id": "bbd17c11",
   "metadata": {},
   "outputs": [
    {
     "data": {
      "text/plain": [
       "<sqlite3.Cursor at 0x2459053f5e0>"
      ]
     },
     "execution_count": 50,
     "metadata": {},
     "output_type": "execute_result"
    }
   ],
   "source": [
    "sql=\"update student set marks=105 where id in (2,3)\"\n",
    "cur.execute(sql)"
   ]
  },
  {
   "cell_type": "code",
   "execution_count": 51,
   "id": "e7e4ffba",
   "metadata": {},
   "outputs": [
    {
     "name": "stdout",
     "output_type": "stream",
     "text": [
      "(1, 'john', 90)\n",
      "(2, 'teena', 105)\n",
      "(3, 'andrew', 105)\n",
      "(4, 'dor', 81)\n",
      "(5, 'surt', 55)\n",
      "(9, 'kia', 23)\n",
      "(10, 'abj', 93)\n",
      "(11, 'tam', 88)\n"
     ]
    }
   ],
   "source": [
    "results=cur.execute(\"select * from student\")\n",
    "for i in results:\n",
    "    print(i)"
   ]
  },
  {
   "cell_type": "code",
   "execution_count": 52,
   "id": "825ae6ad",
   "metadata": {},
   "outputs": [
    {
     "data": {
      "text/plain": [
       "<sqlite3.Cursor at 0x2459053f5e0>"
      ]
     },
     "execution_count": 52,
     "metadata": {},
     "output_type": "execute_result"
    }
   ],
   "source": [
    "sql=\"delete from  student where id=4\"\n",
    "cur.execute(sql)"
   ]
  },
  {
   "cell_type": "code",
   "execution_count": 53,
   "id": "c94c83f0",
   "metadata": {},
   "outputs": [
    {
     "name": "stdout",
     "output_type": "stream",
     "text": [
      "(1, 'john', 90)\n",
      "(2, 'teena', 105)\n",
      "(3, 'andrew', 105)\n",
      "(5, 'surt', 55)\n",
      "(9, 'kia', 23)\n",
      "(10, 'abj', 93)\n",
      "(11, 'tam', 88)\n"
     ]
    }
   ],
   "source": [
    "results=cur.execute(\"select * from student\")\n",
    "for i in results:\n",
    "    print(i)"
   ]
  },
  {
   "cell_type": "code",
   "execution_count": null,
   "id": "77ed2fcd",
   "metadata": {},
   "outputs": [],
   "source": []
  }
 ],
 "metadata": {
  "kernelspec": {
   "display_name": "Python 3 (ipykernel)",
   "language": "python",
   "name": "python3"
  },
  "language_info": {
   "codemirror_mode": {
    "name": "ipython",
    "version": 3
   },
   "file_extension": ".py",
   "mimetype": "text/x-python",
   "name": "python",
   "nbconvert_exporter": "python",
   "pygments_lexer": "ipython3",
   "version": "3.9.7"
  }
 },
 "nbformat": 4,
 "nbformat_minor": 5
}
