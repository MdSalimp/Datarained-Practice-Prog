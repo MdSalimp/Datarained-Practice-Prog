{
 "cells": [
  {
   "cell_type": "code",
   "execution_count": 1,
   "id": "77cf7370",
   "metadata": {},
   "outputs": [],
   "source": [
    "import sqlite3"
   ]
  },
  {
   "cell_type": "code",
   "execution_count": 2,
   "id": "8840745c",
   "metadata": {},
   "outputs": [],
   "source": [
    "db=sqlite3.connect(\"student_database.db\")"
   ]
  },
  {
   "cell_type": "code",
   "execution_count": 3,
   "id": "a71a6937",
   "metadata": {},
   "outputs": [],
   "source": [
    "cur=db.cursor()"
   ]
  },
  {
   "cell_type": "code",
   "execution_count": 4,
   "id": "5403eaff",
   "metadata": {},
   "outputs": [],
   "source": [
    "results=cur.execute(\"select * from student\")"
   ]
  },
  {
   "cell_type": "code",
   "execution_count": 5,
   "id": "18e42478",
   "metadata": {},
   "outputs": [
    {
     "name": "stdout",
     "output_type": "stream",
     "text": [
      "(1, 'john', 90)\n",
      "(2, 'teena', 100)\n",
      "(3, 'andrew', 110)\n",
      "(4, 'dor', 45)\n",
      "(5, 'surt', 55)\n",
      "(9, 'kia', 23)\n",
      "(10, 'abj', 93)\n",
      "(11, 'tam', 88)\n"
     ]
    }
   ],
   "source": [
    "for row in results:\n",
    "    print(row)"
   ]
  },
  {
   "cell_type": "code",
   "execution_count": null,
   "id": "55c4bb34",
   "metadata": {},
   "outputs": [],
   "source": []
  }
 ],
 "metadata": {
  "kernelspec": {
   "display_name": "Python 3 (ipykernel)",
   "language": "python",
   "name": "python3"
  },
  "language_info": {
   "codemirror_mode": {
    "name": "ipython",
    "version": 3
   },
   "file_extension": ".py",
   "mimetype": "text/x-python",
   "name": "python",
   "nbconvert_exporter": "python",
   "pygments_lexer": "ipython3",
   "version": "3.9.7"
  }
 },
 "nbformat": 4,
 "nbformat_minor": 5
}
