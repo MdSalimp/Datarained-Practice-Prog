{
 "cells": [
  {
   "cell_type": "markdown",
   "id": "8d1ac750",
   "metadata": {},
   "source": [
    "# modules"
   ]
  },
  {
   "cell_type": "code",
   "execution_count": 1,
   "id": "d0056e91",
   "metadata": {},
   "outputs": [],
   "source": [
    "#import module name"
   ]
  },
  {
   "cell_type": "code",
   "execution_count": 1,
   "id": "27c07b2c",
   "metadata": {},
   "outputs": [],
   "source": [
    "import keyword"
   ]
  },
  {
   "cell_type": "code",
   "execution_count": 2,
   "id": "c5452330",
   "metadata": {},
   "outputs": [
    {
     "name": "stdout",
     "output_type": "stream",
     "text": [
      "['False', 'None', 'True', '__peg_parser__', 'and', 'as', 'assert', 'async', 'await', 'break', 'class', 'continue', 'def', 'del', 'elif', 'else', 'except', 'finally', 'for', 'from', 'global', 'if', 'import', 'in', 'is', 'lambda', 'nonlocal', 'not', 'or', 'pass', 'raise', 'return', 'try', 'while', 'with', 'yield']\n"
     ]
    }
   ],
   "source": [
    "print(keyword.kwlist)"
   ]
  },
  {
   "cell_type": "markdown",
   "id": "040fdc37",
   "metadata": {},
   "source": [
    "python module search path"
   ]
  },
  {
   "cell_type": "code",
   "execution_count": 3,
   "id": "32bd08ce",
   "metadata": {},
   "outputs": [],
   "source": [
    "import sys"
   ]
  },
  {
   "cell_type": "code",
   "execution_count": 4,
   "id": "ae2eeeae",
   "metadata": {},
   "outputs": [
    {
     "data": {
      "text/plain": [
       "['C:\\\\Users\\\\Inayat\\\\python prog',\n",
       " 'C:\\\\Users\\\\Inayat\\\\anaconda3\\\\python39.zip',\n",
       " 'C:\\\\Users\\\\Inayat\\\\anaconda3\\\\DLLs',\n",
       " 'C:\\\\Users\\\\Inayat\\\\anaconda3\\\\lib',\n",
       " 'C:\\\\Users\\\\Inayat\\\\anaconda3',\n",
       " '',\n",
       " 'C:\\\\Users\\\\Inayat\\\\anaconda3\\\\lib\\\\site-packages',\n",
       " 'C:\\\\Users\\\\Inayat\\\\anaconda3\\\\lib\\\\site-packages\\\\locket-0.2.1-py3.9.egg',\n",
       " 'C:\\\\Users\\\\Inayat\\\\anaconda3\\\\lib\\\\site-packages\\\\win32',\n",
       " 'C:\\\\Users\\\\Inayat\\\\anaconda3\\\\lib\\\\site-packages\\\\win32\\\\lib',\n",
       " 'C:\\\\Users\\\\Inayat\\\\anaconda3\\\\lib\\\\site-packages\\\\Pythonwin',\n",
       " 'C:\\\\Users\\\\Inayat\\\\anaconda3\\\\lib\\\\site-packages\\\\IPython\\\\extensions',\n",
       " 'C:\\\\Users\\\\Inayat\\\\.ipython']"
      ]
     },
     "execution_count": 4,
     "metadata": {},
     "output_type": "execute_result"
    }
   ],
   "source": [
    "sys.path"
   ]
  },
  {
   "cell_type": "code",
   "execution_count": 6,
   "id": "dd01cf85",
   "metadata": {},
   "outputs": [],
   "source": [
    "import sys"
   ]
  },
  {
   "cell_type": "code",
   "execution_count": 5,
   "id": "7cc2ba83",
   "metadata": {},
   "outputs": [
    {
     "data": {
      "text/plain": [
       "['C:\\\\Users\\\\Inayat\\\\python prog',\n",
       " 'C:\\\\Users\\\\Inayat\\\\anaconda3\\\\python39.zip',\n",
       " 'C:\\\\Users\\\\Inayat\\\\anaconda3\\\\DLLs',\n",
       " 'C:\\\\Users\\\\Inayat\\\\anaconda3\\\\lib',\n",
       " 'C:\\\\Users\\\\Inayat\\\\anaconda3',\n",
       " '',\n",
       " 'C:\\\\Users\\\\Inayat\\\\anaconda3\\\\lib\\\\site-packages',\n",
       " 'C:\\\\Users\\\\Inayat\\\\anaconda3\\\\lib\\\\site-packages\\\\locket-0.2.1-py3.9.egg',\n",
       " 'C:\\\\Users\\\\Inayat\\\\anaconda3\\\\lib\\\\site-packages\\\\win32',\n",
       " 'C:\\\\Users\\\\Inayat\\\\anaconda3\\\\lib\\\\site-packages\\\\win32\\\\lib',\n",
       " 'C:\\\\Users\\\\Inayat\\\\anaconda3\\\\lib\\\\site-packages\\\\Pythonwin',\n",
       " 'C:\\\\Users\\\\Inayat\\\\anaconda3\\\\lib\\\\site-packages\\\\IPython\\\\extensions',\n",
       " 'C:\\\\Users\\\\Inayat\\\\.ipython']"
      ]
     },
     "execution_count": 5,
     "metadata": {},
     "output_type": "execute_result"
    }
   ],
   "source": [
    "sys.path"
   ]
  },
  {
   "cell_type": "code",
   "execution_count": 6,
   "id": "01145c01",
   "metadata": {},
   "outputs": [],
   "source": [
    "import os"
   ]
  },
  {
   "cell_type": "code",
   "execution_count": 7,
   "id": "eee0b933",
   "metadata": {},
   "outputs": [
    {
     "data": {
      "text/plain": [
       "<module 'os' from 'C:\\\\Users\\\\Inayat\\\\anaconda3\\\\lib\\\\os.py'>"
      ]
     },
     "execution_count": 7,
     "metadata": {},
     "output_type": "execute_result"
    }
   ],
   "source": [
    "os"
   ]
  },
  {
   "cell_type": "code",
   "execution_count": 52,
   "id": "46ad0397",
   "metadata": {},
   "outputs": [
    {
     "data": {
      "text/plain": [
       "'C:\\\\Users\\\\Inayat\\\\python prog'"
      ]
     },
     "execution_count": 52,
     "metadata": {},
     "output_type": "execute_result"
    }
   ],
   "source": [
    "os.getcwd()"
   ]
  },
  {
   "cell_type": "code",
   "execution_count": 10,
   "id": "c1763f8c",
   "metadata": {},
   "outputs": [
    {
     "data": {
      "text/plain": [
       "['.ipynb_checkpoints',\n",
       " '10 apr boston and house.ipynb',\n",
       " '12 mar stat.ipynb',\n",
       " '13 feb plot.ipynb',\n",
       " '13 mar student_marks.ipynb',\n",
       " '16 apr cancer.ipynb',\n",
       " '19 mar std marks 2.ipynb',\n",
       " '19t-20 feb empy pandas.ipynb',\n",
       " '20th march std marks2.ipynb',\n",
       " '23 jan session 14 sql std data.ipynb',\n",
       " '26 -27 mar prsdt height and wine.ipynb',\n",
       " '26 feb panda and visualization.ipynb',\n",
       " '27 feb-6 mar prac proj.ipynb',\n",
       " '5 feb sql 3.ipynb',\n",
       " 'Assignment-2-Revised-Solution.ipynb',\n",
       " 'beautiful soup.ipynb',\n",
       " 'boston 1.ipynb',\n",
       " 'brain_size.csv',\n",
       " 'Concrete_Data.csv',\n",
       " 'dataset1-master',\n",
       " 'db prc.ipynb',\n",
       " 'demofile',\n",
       " 'demofile.txt',\n",
       " 'DSData-b19261abfb53808e0d3ca6a5c10b4f4ac6684dca',\n",
       " 'DSData-master',\n",
       " 'empl.csv',\n",
       " 'emptest.csv',\n",
       " 'exceptional.ipynb',\n",
       " 'flower.obj',\n",
       " 'house_pred_submission.csv',\n",
       " 'house_price_data_median.csv',\n",
       " 'hrdata.csv',\n",
       " 'hrdata_modified.csv',\n",
       " 'HR_attrition_rate.csv',\n",
       " 'internship.ipynb',\n",
       " 'iris.csv',\n",
       " 'jan22file.txt',\n",
       " 'MACHINE LEARNING.docx',\n",
       " 'PANDA 12 feb.ipynb',\n",
       " 'plbm practice exp.ipynb',\n",
       " 'practice 1.ipynb',\n",
       " 'president hgt pract.ipynb',\n",
       " 'president_heights.csv',\n",
       " 'python session  12 16 jan modules.ipynb',\n",
       " 'python session 1 4 dec prc1.ipynb',\n",
       " 'python session 10 9 jan exc hndl.ipynb',\n",
       " 'python session 13 22 jan pickle.ipynb',\n",
       " 'python session 14 23 jan.ipynb',\n",
       " 'PYTHON SESSION 15 29 JAN std db2.ipynb',\n",
       " 'python session 16 30 jan std db5.ipynb',\n",
       " 'python session 16 csv.ipynb',\n",
       " 'python session 2 5 dec.ipynb',\n",
       " 'python session 29 jan sess15.ipynb',\n",
       " 'python session 3 11dec.ipynb',\n",
       " 'python session 4 12 dec.ipynb',\n",
       " 'python session 5 18 dec new.ipynb',\n",
       " 'python session 6 19 dec.ipynb',\n",
       " 'python session 6 feb(array).ipynb',\n",
       " 'python session 7 26 dec(funct).ipynb',\n",
       " 'python session 7 part 2 fun.ipynb',\n",
       " 'python session 8 2nd jan(fun & arg).ipynb',\n",
       " 'python session 9 8 jan.ipynb',\n",
       " 'role_website.csv',\n",
       " 'scores_file.csv',\n",
       " 'session 11 15 jan.ipynb',\n",
       " 'sql lite practice1.ipynb',\n",
       " 'student_database.db',\n",
       " 'student_marks.csv',\n",
       " 'ticket boston.ipynb',\n",
       " 'titanic_train.csv',\n",
       " 'txt prac.ipynb',\n",
       " 'untitled.txt',\n",
       " 'Untitled23.ipynb',\n",
       " 'Untitled6.ipynb',\n",
       " 'WebScraping_Beautiful-Soup_Assignment--1-.ipynb',\n",
       " 'winequality-red.csv']"
      ]
     },
     "execution_count": 10,
     "metadata": {},
     "output_type": "execute_result"
    }
   ],
   "source": [
    "os.listdir()"
   ]
  },
  {
   "cell_type": "code",
   "execution_count": 11,
   "id": "6aa019de",
   "metadata": {},
   "outputs": [],
   "source": [
    "import math"
   ]
  },
  {
   "cell_type": "code",
   "execution_count": 12,
   "id": "5680dd6a",
   "metadata": {},
   "outputs": [
    {
     "data": {
      "text/plain": [
       "3.141592653589793"
      ]
     },
     "execution_count": 12,
     "metadata": {},
     "output_type": "execute_result"
    }
   ],
   "source": [
    "math.pi"
   ]
  },
  {
   "cell_type": "code",
   "execution_count": 13,
   "id": "8fb32412",
   "metadata": {},
   "outputs": [
    {
     "data": {
      "text/plain": [
       "4.0"
      ]
     },
     "execution_count": 13,
     "metadata": {},
     "output_type": "execute_result"
    }
   ],
   "source": [
    "math.sqrt(16)"
   ]
  },
  {
   "cell_type": "code",
   "execution_count": 14,
   "id": "16476668",
   "metadata": {},
   "outputs": [
    {
     "data": {
      "text/plain": [
       "8.0"
      ]
     },
     "execution_count": 14,
     "metadata": {},
     "output_type": "execute_result"
    }
   ],
   "source": [
    "math.pow(2,3)"
   ]
  },
  {
   "cell_type": "markdown",
   "id": "121a52d6",
   "metadata": {},
   "source": [
    "import with renaiming"
   ]
  },
  {
   "cell_type": "code",
   "execution_count": 15,
   "id": "98f37261",
   "metadata": {},
   "outputs": [
    {
     "data": {
      "text/plain": [
       "3.141592653589793"
      ]
     },
     "execution_count": 15,
     "metadata": {},
     "output_type": "execute_result"
    }
   ],
   "source": [
    "import math as m\n",
    "m.pi"
   ]
  },
  {
   "cell_type": "code",
   "execution_count": 16,
   "id": "9005da5a",
   "metadata": {},
   "outputs": [
    {
     "data": {
      "text/plain": [
       "8.0"
      ]
     },
     "execution_count": 16,
     "metadata": {},
     "output_type": "execute_result"
    }
   ],
   "source": [
    "m.pow(2,3)"
   ]
  },
  {
   "cell_type": "code",
   "execution_count": 17,
   "id": "c81c52ab",
   "metadata": {},
   "outputs": [],
   "source": [
    "from math import pi"
   ]
  },
  {
   "cell_type": "code",
   "execution_count": 18,
   "id": "29302188",
   "metadata": {},
   "outputs": [
    {
     "data": {
      "text/plain": [
       "3.141592653589793"
      ]
     },
     "execution_count": 18,
     "metadata": {},
     "output_type": "execute_result"
    }
   ],
   "source": [
    "pi"
   ]
  },
  {
   "cell_type": "code",
   "execution_count": 19,
   "id": "34f863f6",
   "metadata": {},
   "outputs": [],
   "source": [
    "from math import sqrt"
   ]
  },
  {
   "cell_type": "code",
   "execution_count": 20,
   "id": "cdad0717",
   "metadata": {},
   "outputs": [
    {
     "data": {
      "text/plain": [
       "4.0"
      ]
     },
     "execution_count": 20,
     "metadata": {},
     "output_type": "execute_result"
    }
   ],
   "source": [
    "sqrt(16)"
   ]
  },
  {
   "cell_type": "code",
   "execution_count": 21,
   "id": "ae9c7e12",
   "metadata": {},
   "outputs": [
    {
     "name": "stdout",
     "output_type": "stream",
     "text": [
      "the value of pi is 3.141592653589793\n"
     ]
    }
   ],
   "source": [
    "print(\"the value of pi is\",pi)"
   ]
  },
  {
   "cell_type": "markdown",
   "id": "f0ae8fe7",
   "metadata": {},
   "source": [
    "get current date and time"
   ]
  },
  {
   "cell_type": "code",
   "execution_count": 22,
   "id": "1f436b74",
   "metadata": {},
   "outputs": [],
   "source": [
    "import datetime"
   ]
  },
  {
   "cell_type": "code",
   "execution_count": 23,
   "id": "31543187",
   "metadata": {},
   "outputs": [
    {
     "data": {
      "text/plain": [
       "<module 'datetime' from 'C:\\\\Users\\\\Inayat\\\\anaconda3\\\\lib\\\\datetime.py'>"
      ]
     },
     "execution_count": 23,
     "metadata": {},
     "output_type": "execute_result"
    }
   ],
   "source": [
    "datetime"
   ]
  },
  {
   "cell_type": "code",
   "execution_count": 24,
   "id": "057e5f5f",
   "metadata": {},
   "outputs": [
    {
     "data": {
      "text/plain": [
       "dict_keys(['__name__', '__doc__', '__package__', '__loader__', '__spec__', 'acos', 'acosh', 'asin', 'asinh', 'atan', 'atan2', 'atanh', 'ceil', 'copysign', 'cos', 'cosh', 'degrees', 'dist', 'erf', 'erfc', 'exp', 'expm1', 'fabs', 'factorial', 'floor', 'fmod', 'frexp', 'fsum', 'gamma', 'gcd', 'hypot', 'isclose', 'isfinite', 'isinf', 'isnan', 'isqrt', 'lcm', 'ldexp', 'lgamma', 'log', 'log1p', 'log10', 'log2', 'modf', 'pow', 'radians', 'remainder', 'sin', 'sinh', 'sqrt', 'tan', 'tanh', 'trunc', 'prod', 'perm', 'comb', 'nextafter', 'ulp', 'pi', 'e', 'tau', 'inf', 'nan'])"
      ]
     },
     "execution_count": 24,
     "metadata": {},
     "output_type": "execute_result"
    }
   ],
   "source": [
    "math.__dict__.keys()"
   ]
  },
  {
   "cell_type": "code",
   "execution_count": 25,
   "id": "a7a27aa7",
   "metadata": {},
   "outputs": [],
   "source": [
    "import datetime"
   ]
  },
  {
   "cell_type": "code",
   "execution_count": 35,
   "id": "7b8026fe",
   "metadata": {},
   "outputs": [],
   "source": [
    "dt=datetime.datetime.now()"
   ]
  },
  {
   "cell_type": "code",
   "execution_count": 36,
   "id": "ec662129",
   "metadata": {},
   "outputs": [
    {
     "data": {
      "text/plain": [
       "datetime.datetime(2023, 3, 12, 15, 26, 41, 964924)"
      ]
     },
     "execution_count": 36,
     "metadata": {},
     "output_type": "execute_result"
    }
   ],
   "source": [
    "dt"
   ]
  },
  {
   "cell_type": "markdown",
   "id": "14d6f2ac",
   "metadata": {},
   "source": [
    "get current date"
   ]
  },
  {
   "cell_type": "code",
   "execution_count": 37,
   "id": "428a69c0",
   "metadata": {},
   "outputs": [],
   "source": [
    "dt1=datetime.date.today()"
   ]
  },
  {
   "cell_type": "code",
   "execution_count": 38,
   "id": "5d562a83",
   "metadata": {},
   "outputs": [
    {
     "data": {
      "text/plain": [
       "datetime.date(2023, 3, 12)"
      ]
     },
     "execution_count": 38,
     "metadata": {},
     "output_type": "execute_result"
    }
   ],
   "source": [
    "dt1"
   ]
  },
  {
   "cell_type": "code",
   "execution_count": 39,
   "id": "3f646ff9",
   "metadata": {},
   "outputs": [
    {
     "data": {
      "text/plain": [
       "datetime.date(2021, 5, 25)"
      ]
     },
     "execution_count": 39,
     "metadata": {},
     "output_type": "execute_result"
    }
   ],
   "source": [
    "import datetime\n",
    "d=datetime.date(2021,5,25)\n",
    "d"
   ]
  },
  {
   "cell_type": "code",
   "execution_count": 40,
   "id": "46e90ede",
   "metadata": {},
   "outputs": [
    {
     "data": {
      "text/plain": [
       "datetime.date(2021, 5, 26)"
      ]
     },
     "execution_count": 40,
     "metadata": {},
     "output_type": "execute_result"
    }
   ],
   "source": [
    "from datetime import date\n",
    "a=date(2021,5,26)\n",
    "a"
   ]
  },
  {
   "cell_type": "code",
   "execution_count": 41,
   "id": "8ae042de",
   "metadata": {},
   "outputs": [],
   "source": [
    "td=date.today()"
   ]
  },
  {
   "cell_type": "code",
   "execution_count": 42,
   "id": "60022a4f",
   "metadata": {},
   "outputs": [
    {
     "data": {
      "text/plain": [
       "datetime.date(2022, 1, 16)"
      ]
     },
     "execution_count": 42,
     "metadata": {},
     "output_type": "execute_result"
    }
   ],
   "source": [
    "td"
   ]
  },
  {
   "cell_type": "code",
   "execution_count": 42,
   "id": "51563ce2",
   "metadata": {},
   "outputs": [
    {
     "name": "stdout",
     "output_type": "stream",
     "text": [
      "year 2023\n",
      "month 3\n",
      "date 12\n"
     ]
    }
   ],
   "source": [
    "print('year',td.year)\n",
    "print('month',td.month)\n",
    "print('date',td.day)"
   ]
  },
  {
   "cell_type": "code",
   "execution_count": 43,
   "id": "a25cb487",
   "metadata": {},
   "outputs": [
    {
     "name": "stdout",
     "output_type": "stream",
     "text": [
      "00:00:00\n",
      "11:35:56\n"
     ]
    }
   ],
   "source": [
    "from datetime import time\n",
    "a=time()\n",
    "print(a)\n",
    "b=time(11,35,56)\n",
    "print(b)"
   ]
  },
  {
   "cell_type": "code",
   "execution_count": 44,
   "id": "ce7a251f",
   "metadata": {},
   "outputs": [
    {
     "name": "stdout",
     "output_type": "stream",
     "text": [
      "hour 11\n",
      "minute 35\n",
      "second 56\n"
     ]
    }
   ],
   "source": [
    "print('hour',b.hour)\n",
    "print('minute',b.minute)\n",
    "print('second',b.second)"
   ]
  },
  {
   "cell_type": "code",
   "execution_count": 45,
   "id": "bbc1db2e",
   "metadata": {},
   "outputs": [
    {
     "name": "stdout",
     "output_type": "stream",
     "text": [
      "2021-04-26 00:00:00\n"
     ]
    }
   ],
   "source": [
    "from datetime import datetime\n",
    "a=datetime(2021,4,26)\n",
    "print(a)"
   ]
  },
  {
   "cell_type": "code",
   "execution_count": 46,
   "id": "f56a3887",
   "metadata": {},
   "outputs": [
    {
     "name": "stdout",
     "output_type": "stream",
     "text": [
      "year 2021\n",
      "month 4\n",
      "date 26\n"
     ]
    }
   ],
   "source": [
    "print('year',a.year)\n",
    "print('month',a.month)\n",
    "print('date',a.day)"
   ]
  },
  {
   "cell_type": "code",
   "execution_count": 47,
   "id": "85340606",
   "metadata": {},
   "outputs": [
    {
     "name": "stdout",
     "output_type": "stream",
     "text": [
      "2021\n",
      "2\n",
      "27\n",
      "17\n",
      "30\n",
      "50\n"
     ]
    }
   ],
   "source": [
    "b=datetime(2021,2,27,17,30,50)\n",
    "print(b.year)\n",
    "print(b.month)\n",
    "print(b.day)\n",
    "print(b.hour)\n",
    "print(b.minute)\n",
    "print(b.second)"
   ]
  },
  {
   "cell_type": "markdown",
   "id": "32be9d93",
   "metadata": {},
   "source": [
    "# File input output operations"
   ]
  },
  {
   "cell_type": "code",
   "execution_count": 70,
   "id": "6c4a0187",
   "metadata": {},
   "outputs": [],
   "source": [
    "savefile=open('C:\\\\Users\\\\Inayat\\python prog\\demofile.txt','w')"
   ]
  },
  {
   "cell_type": "code",
   "execution_count": 71,
   "id": "1ccffc9a",
   "metadata": {},
   "outputs": [
    {
     "data": {
      "text/plain": [
       "22"
      ]
     },
     "execution_count": 71,
     "metadata": {},
     "output_type": "execute_result"
    }
   ],
   "source": [
    "savefile.write(\"this is the first line\")"
   ]
  },
  {
   "cell_type": "code",
   "execution_count": 75,
   "id": "8f73e485",
   "metadata": {},
   "outputs": [],
   "source": [
    "savefile.close()"
   ]
  },
  {
   "cell_type": "code",
   "execution_count": 76,
   "id": "07db3f70",
   "metadata": {},
   "outputs": [],
   "source": [
    "readme=open('C:\\\\Users\\\\Inayat\\python prog\\demofile.txt','r')"
   ]
  },
  {
   "cell_type": "code",
   "execution_count": 77,
   "id": "8392ca12",
   "metadata": {},
   "outputs": [
    {
     "name": "stdout",
     "output_type": "stream",
     "text": [
      "this is the first line\n"
     ]
    }
   ],
   "source": [
    "print(readme.read())"
   ]
  },
  {
   "cell_type": "code",
   "execution_count": 78,
   "id": "a8e23c77",
   "metadata": {},
   "outputs": [],
   "source": [
    "readme.close()"
   ]
  },
  {
   "cell_type": "code",
   "execution_count": 79,
   "id": "726a7b81",
   "metadata": {},
   "outputs": [],
   "source": [
    "appendfile=open('C:\\\\Users\\\\Inayat\\python prog\\demofile.txt','a')"
   ]
  },
  {
   "cell_type": "code",
   "execution_count": 80,
   "id": "0430f52e",
   "metadata": {},
   "outputs": [
    {
     "data": {
      "text/plain": [
       "19"
      ]
     },
     "execution_count": 80,
     "metadata": {},
     "output_type": "execute_result"
    }
   ],
   "source": [
    "appendfile.write(\"\\n this is next line\")"
   ]
  },
  {
   "cell_type": "code",
   "execution_count": 81,
   "id": "adfef4a2",
   "metadata": {},
   "outputs": [],
   "source": [
    "appendfile.close()"
   ]
  },
  {
   "cell_type": "code",
   "execution_count": 82,
   "id": "7099d989",
   "metadata": {},
   "outputs": [],
   "source": [
    "readme=open('C:\\\\Users\\\\Inayat\\python prog\\demofile.txt','r')"
   ]
  },
  {
   "cell_type": "code",
   "execution_count": 83,
   "id": "7e40f704",
   "metadata": {},
   "outputs": [
    {
     "name": "stdout",
     "output_type": "stream",
     "text": [
      "this is the first line\n",
      " this is next line\n"
     ]
    }
   ],
   "source": [
    "print(readme.read())"
   ]
  },
  {
   "cell_type": "code",
   "execution_count": 84,
   "id": "0e993752",
   "metadata": {},
   "outputs": [],
   "source": [
    "readme.close()"
   ]
  },
  {
   "cell_type": "code",
   "execution_count": null,
   "id": "115ffc30",
   "metadata": {},
   "outputs": [],
   "source": []
  },
  {
   "cell_type": "code",
   "execution_count": null,
   "id": "ed5f08a6",
   "metadata": {},
   "outputs": [],
   "source": []
  },
  {
   "cell_type": "code",
   "execution_count": null,
   "id": "2af76e25",
   "metadata": {},
   "outputs": [],
   "source": []
  }
 ],
 "metadata": {
  "kernelspec": {
   "display_name": "Python 3 (ipykernel)",
   "language": "python",
   "name": "python3"
  },
  "language_info": {
   "codemirror_mode": {
    "name": "ipython",
    "version": 3
   },
   "file_extension": ".py",
   "mimetype": "text/x-python",
   "name": "python",
   "nbconvert_exporter": "python",
   "pygments_lexer": "ipython3",
   "version": "3.9.7"
  }
 },
 "nbformat": 4,
 "nbformat_minor": 5
}
