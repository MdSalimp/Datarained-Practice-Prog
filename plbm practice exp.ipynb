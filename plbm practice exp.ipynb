{
 "cells": [
  {
   "cell_type": "markdown",
   "id": "8457937d",
   "metadata": {},
   "source": [
    "user defined functions"
   ]
  },
  {
   "cell_type": "code",
   "execution_count": 1,
   "id": "c3b73c43",
   "metadata": {},
   "outputs": [],
   "source": [
    "def fadd(a,b):\n",
    "    c=a+b\n",
    "    print(c)"
   ]
  },
  {
   "cell_type": "code",
   "execution_count": 2,
   "id": "a6dfdb35",
   "metadata": {},
   "outputs": [
    {
     "name": "stdout",
     "output_type": "stream",
     "text": [
      "10\n"
     ]
    }
   ],
   "source": [
    "fadd(5,5)"
   ]
  },
  {
   "cell_type": "code",
   "execution_count": 3,
   "id": "3f09aeb6",
   "metadata": {},
   "outputs": [
    {
     "name": "stdout",
     "output_type": "stream",
     "text": [
      "15\n"
     ]
    }
   ],
   "source": [
    "fadd(10,5)"
   ]
  },
  {
   "cell_type": "code",
   "execution_count": 4,
   "id": "acadd450",
   "metadata": {},
   "outputs": [],
   "source": [
    "def fsub(a,b):\n",
    "    c=a-b\n",
    "    print(c)"
   ]
  },
  {
   "cell_type": "code",
   "execution_count": 5,
   "id": "ce1d7182",
   "metadata": {},
   "outputs": [
    {
     "name": "stdout",
     "output_type": "stream",
     "text": [
      "3\n"
     ]
    }
   ],
   "source": [
    "fsub(6,3)"
   ]
  },
  {
   "cell_type": "code",
   "execution_count": 6,
   "id": "bed62f83",
   "metadata": {},
   "outputs": [],
   "source": [
    "def fmultiply(a,b):\n",
    "    c=a*b\n",
    "    print(c)"
   ]
  },
  {
   "cell_type": "code",
   "execution_count": 7,
   "id": "69d2c8bd",
   "metadata": {},
   "outputs": [
    {
     "name": "stdout",
     "output_type": "stream",
     "text": [
      "30\n"
     ]
    }
   ],
   "source": [
    "fmultiply(5,6)"
   ]
  },
  {
   "cell_type": "code",
   "execution_count": 8,
   "id": "59cbaacd",
   "metadata": {},
   "outputs": [],
   "source": [
    "def fdiv(a,b):\n",
    "    c=a/b\n",
    "    print(c)"
   ]
  },
  {
   "cell_type": "code",
   "execution_count": 9,
   "id": "5f51197e",
   "metadata": {},
   "outputs": [
    {
     "name": "stdout",
     "output_type": "stream",
     "text": [
      "2.0\n"
     ]
    }
   ],
   "source": [
    "fdiv(12,6)"
   ]
  },
  {
   "cell_type": "code",
   "execution_count": 10,
   "id": "3532d661",
   "metadata": {},
   "outputs": [],
   "source": [
    "def fadd(a,b,c):\n",
    "    c=a+b+c\n",
    "    print(c)"
   ]
  },
  {
   "cell_type": "code",
   "execution_count": 11,
   "id": "53fb28ab",
   "metadata": {},
   "outputs": [
    {
     "name": "stdout",
     "output_type": "stream",
     "text": [
      "12\n"
     ]
    }
   ],
   "source": [
    "fadd(3,4,5)"
   ]
  },
  {
   "cell_type": "code",
   "execution_count": 13,
   "id": "fa630db2",
   "metadata": {},
   "outputs": [],
   "source": [
    "def fmul(a,b,c):\n",
    "    c=a*b*c\n",
    "    print(c)"
   ]
  },
  {
   "cell_type": "code",
   "execution_count": 14,
   "id": "19028c3a",
   "metadata": {},
   "outputs": [
    {
     "name": "stdout",
     "output_type": "stream",
     "text": [
      "120\n"
     ]
    }
   ],
   "source": [
    "fmul(4,5,6)"
   ]
  },
  {
   "cell_type": "code",
   "execution_count": 15,
   "id": "d9c13a12",
   "metadata": {},
   "outputs": [],
   "source": [
    "def areaofrect(l,b):\n",
    "    area=l*b\n",
    "    print(area)"
   ]
  },
  {
   "cell_type": "code",
   "execution_count": 16,
   "id": "68dc7e1c",
   "metadata": {},
   "outputs": [
    {
     "name": "stdout",
     "output_type": "stream",
     "text": [
      "8\n"
     ]
    }
   ],
   "source": [
    "areaofrect(2,4)"
   ]
  },
  {
   "cell_type": "code",
   "execution_count": 23,
   "id": "e38f83c8",
   "metadata": {},
   "outputs": [
    {
     "name": "stdout",
     "output_type": "stream",
     "text": [
      "length10\n",
      "breadth5\n",
      "area 50\n",
      "area with length= 10 and area with breadth = 5 area 50\n",
      "50\n"
     ]
    }
   ],
   "source": [
    "length=int(input(\"length\"))\n",
    "breadth=int(input(\"breadth\"))\n",
    "area=length*breadth\n",
    "print(\"area\",area)\n",
    "print(\"area with length=\",length, \"and area with breadth =\",breadth ,\"area\",area)\n",
    "areaofrect(length,breadth)"
   ]
  },
  {
   "cell_type": "code",
   "execution_count": 3,
   "id": "9d7c0072",
   "metadata": {},
   "outputs": [],
   "source": [
    "def area__of__circle(radius):\n",
    "    pi=3.14\n",
    "    area=pi*(radius**2)\n",
    "    print(\"area__of__circle=\",area)\n",
    "   "
   ]
  },
  {
   "cell_type": "code",
   "execution_count": 4,
   "id": "dd8fe52c",
   "metadata": {},
   "outputs": [
    {
     "name": "stdout",
     "output_type": "stream",
     "text": [
      "enter radius5\n",
      "area__of__circle= 78.5\n"
     ]
    }
   ],
   "source": [
    "radius=int(input(\"enter radius\"))\n",
    "area__of__circle(radius)"
   ]
  },
  {
   "cell_type": "code",
   "execution_count": 5,
   "id": "6b4ac464",
   "metadata": {},
   "outputs": [
    {
     "ename": "NameError",
     "evalue": "name 'marks' is not defined",
     "output_type": "error",
     "traceback": [
      "\u001b[1;31m---------------------------------------------------------------------------\u001b[0m",
      "\u001b[1;31mNameError\u001b[0m                                 Traceback (most recent call last)",
      "\u001b[1;32m~\\AppData\\Local\\Temp/ipykernel_30324/780153628.py\u001b[0m in \u001b[0;36m<module>\u001b[1;34m\u001b[0m\n\u001b[1;32m----> 1\u001b[1;33m \u001b[0mmarks\u001b[0m\u001b[1;33m\u001b[0m\u001b[1;33m\u001b[0m\u001b[0m\n\u001b[0m",
      "\u001b[1;31mNameError\u001b[0m: name 'marks' is not defined"
     ]
    }
   ],
   "source": [
    "marks"
   ]
  },
  {
   "cell_type": "markdown",
   "id": "f21a5beb",
   "metadata": {},
   "source": [
    "\n",
    "# user defined functions parametric functions"
   ]
  },
  {
   "cell_type": "code",
   "execution_count": 8,
   "id": "f43cfb06",
   "metadata": {},
   "outputs": [],
   "source": [
    "def funcadd():\n",
    "    a=10\n",
    "    b=5\n",
    "    c=a+b\n",
    "    return c"
   ]
  },
  {
   "cell_type": "code",
   "execution_count": 9,
   "id": "183ff283",
   "metadata": {},
   "outputs": [
    {
     "name": "stdout",
     "output_type": "stream",
     "text": [
      "15\n"
     ]
    }
   ],
   "source": [
    "val=funcadd()\n",
    "print(val)"
   ]
  },
  {
   "cell_type": "code",
   "execution_count": 7,
   "id": "e8cf7a36",
   "metadata": {},
   "outputs": [
    {
     "data": {
      "text/plain": [
       "5"
      ]
     },
     "execution_count": 7,
     "metadata": {},
     "output_type": "execute_result"
    }
   ],
   "source": [
    "fadd(2,3)"
   ]
  },
  {
   "cell_type": "code",
   "execution_count": 11,
   "id": "df94ac2a",
   "metadata": {},
   "outputs": [
    {
     "data": {
      "text/plain": [
       "20"
      ]
     },
     "execution_count": 11,
     "metadata": {},
     "output_type": "execute_result"
    }
   ],
   "source": [
    "def function_mul(a,b):\n",
    "    c=a*b\n",
    "    return  c\n",
    "myval=function_mul(4,5)\n",
    "myval"
   ]
  },
  {
   "cell_type": "code",
   "execution_count": 15,
   "id": "67fae5d3",
   "metadata": {},
   "outputs": [
    {
     "name": "stdout",
     "output_type": "stream",
     "text": [
      "area of circle 706.5\n"
     ]
    }
   ],
   "source": [
    "def areacircle(val):\n",
    "    ar=3.14*(val**2)\n",
    "    print(\"area of circle\",ar)\n",
    "areacircle(val)"
   ]
  },
  {
   "cell_type": "code",
   "execution_count": 17,
   "id": "c29b6d1e",
   "metadata": {},
   "outputs": [],
   "source": [
    "def arearect():\n",
    "    length=10\n",
    "    breadth=20\n",
    "    return length*breadth"
   ]
  },
  {
   "cell_type": "code",
   "execution_count": 18,
   "id": "31544677",
   "metadata": {},
   "outputs": [
    {
     "data": {
      "text/plain": [
       "200"
      ]
     },
     "execution_count": 18,
     "metadata": {},
     "output_type": "execute_result"
    }
   ],
   "source": [
    "arearect()"
   ]
  },
  {
   "cell_type": "markdown",
   "id": "22f196ed",
   "metadata": {},
   "source": [
    "variable num of arguments"
   ]
  },
  {
   "cell_type": "code",
   "execution_count": 20,
   "id": "2cefdca2",
   "metadata": {},
   "outputs": [],
   "source": [
    "def plus(*args):\n",
    "    return sum(args)"
   ]
  },
  {
   "cell_type": "code",
   "execution_count": 21,
   "id": "97754e21",
   "metadata": {},
   "outputs": [
    {
     "data": {
      "text/plain": [
       "49"
      ]
     },
     "execution_count": 21,
     "metadata": {},
     "output_type": "execute_result"
    }
   ],
   "source": [
    "plus(9,6,7,8,9,10)"
   ]
  },
  {
   "cell_type": "code",
   "execution_count": 2,
   "id": "9673d4b9",
   "metadata": {},
   "outputs": [],
   "source": [
    "def mu(*args):\n",
    "    return max(args)"
   ]
  },
  {
   "cell_type": "code",
   "execution_count": 3,
   "id": "5d0914cf",
   "metadata": {},
   "outputs": [
    {
     "data": {
      "text/plain": [
       "4"
      ]
     },
     "execution_count": 3,
     "metadata": {},
     "output_type": "execute_result"
    }
   ],
   "source": [
    "mu(2,3,4)"
   ]
  },
  {
   "cell_type": "code",
   "execution_count": 6,
   "id": "0b153410",
   "metadata": {},
   "outputs": [],
   "source": [
    "def plus(*args):\n",
    "    return min(args)"
   ]
  },
  {
   "cell_type": "code",
   "execution_count": 7,
   "id": "de6f68c6",
   "metadata": {},
   "outputs": [
    {
     "data": {
      "text/plain": [
       "1"
      ]
     },
     "execution_count": 7,
     "metadata": {},
     "output_type": "execute_result"
    }
   ],
   "source": [
    "plus(1,5,6,7)"
   ]
  },
  {
   "cell_type": "code",
   "execution_count": 21,
   "id": "a7e3851e",
   "metadata": {},
   "outputs": [],
   "source": [
    "def sumfun(*numbers):\n",
    "    s=0\n",
    "    for n in numbers:\n",
    "        s+=n\n",
    "        return s"
   ]
  },
  {
   "cell_type": "code",
   "execution_count": 20,
   "id": "13427eb7",
   "metadata": {},
   "outputs": [
    {
     "name": "stdout",
     "output_type": "stream",
     "text": [
      "1\n"
     ]
    }
   ],
   "source": [
    "print (sumfun(1,2))"
   ]
  },
  {
   "cell_type": "code",
   "execution_count": 24,
   "id": "d336c7de",
   "metadata": {},
   "outputs": [
    {
     "name": "stdout",
     "output_type": "stream",
     "text": [
      "3\n"
     ]
    }
   ],
   "source": [
    "print (sumfun(3,4,2))"
   ]
  },
  {
   "cell_type": "code",
   "execution_count": null,
   "id": "053cd2c1",
   "metadata": {},
   "outputs": [],
   "source": []
  }
 ],
 "metadata": {
  "kernelspec": {
   "display_name": "Python 3 (ipykernel)",
   "language": "python",
   "name": "python3"
  },
  "language_info": {
   "codemirror_mode": {
    "name": "ipython",
    "version": 3
   },
   "file_extension": ".py",
   "mimetype": "text/x-python",
   "name": "python",
   "nbconvert_exporter": "python",
   "pygments_lexer": "ipython3",
   "version": "3.9.7"
  }
 },
 "nbformat": 4,
 "nbformat_minor": 5
}
