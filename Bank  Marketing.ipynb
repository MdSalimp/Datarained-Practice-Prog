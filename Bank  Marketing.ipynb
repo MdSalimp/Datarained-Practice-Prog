{
 "cells": [
  {
   "cell_type": "markdown",
   "id": "443ae258",
   "metadata": {},
   "source": [
    "BANK MARKETING: Predicting Whether The Customer Will Subscribe To Term Deposit (FIXED DEPOSIT) or not.\n",
    "Problem Statement:\n",
    "Business Use Case\n",
    "There has been a revenue decline for a Portuguese bank and they would like to know what actions to take. After investigation, they found out that the root cause is that their clients are not depositing as frequently as before. Knowing that term deposits allow banks to hold onto a deposit for a specific amount of time, so banks can invest in higher gain financial products to make a profit. In addition, banks also hold better chance to persuade term deposit clients into buying other products such as funds or insurance to further increase their revenues. As a result, the Portuguese bank would like to identify existing clients that have higher chance to subscribe for a term deposit and focus marketing efforts on such clients.\n",
    "\n",
    "Problem Statement\n",
    "Your client is a retail banking institution. Term deposits are a major source of income for a bank. A term deposit is a cash investment held at a financial institution. Your money is invested for an agreed rate of interest over a fixed amount of time, or term. The bank has various outreach plans to sell term deposits to their customers such as email marketing, advertisements, telephonic marketing and digital marketing. Telephonic marketing campaigns still remain one of the most effective way to reach out to people. However, they require huge investment as large call centers are hired to actually execute these campaigns. Hence, it is crucial to identify the customers most likely to convert beforehand so that they can be specifically targeted via call.\n",
    "\n",
    "You are provided with the client data such as : age of the client, their job type, their marital status, etc. Along with the client data, you are also provided with the information of the call such as the duration of the call, day and month of the call, etc. Given this information, your task is to predict if the client will subscribe to term deposit.\n",
    "\n",
    "About The Dataset\n",
    "The dataset is related with direct marketing campaigns (phone calls) of a Portuguese banking institution. The classification goal of this dataset is to predict if the client or the customer of polish banking institution will subscribe a term deposit product of the bank or not. \n",
    "\n",
    "You are provided with following 2 files:\n",
    "\n",
    "1.     train.csv : Use this dataset to train the model. This file contains all the client and call details as well as the target variable “subscribed”. You have to train your model using this file.\n",
    "\n",
    "2.     test.csv : Use the trained model to predict whether a new set of clients will subscribe the term deposit.\n",
    "\n",
    " \n",
    "\n",
    "Dataset Attributes\n",
    "Here is the description of all the variables :\n",
    "\n",
    "Variable: Definition\n",
    "ID: Unique client ID\n",
    "age: Age of the client\n",
    "job: Type of jobBANK MARKETING: Predicting Whether The Customer Will Subscribe To Term Deposit (FIXED DEPOSIT) or not.\n",
    "Problem Statement:\n",
    "Business Use Case\n",
    "There has been a revenue decline for a Portuguese bank and they would like to know what actions to take. After investigation, they found out that the root cause is that their clients are not depositing as frequently as before. Knowing that term deposits allow banks to hold onto a deposit for a specific amount of time, so banks can invest in higher gain financial products to make a profit. In addition, banks also hold better chance to persuade term deposit clients into buying other products such as funds or insurance to further increase their revenues. As a result, the Portuguese bank would like to identify existing clients that have higher chance to subscribe for a term deposit and focus marketing efforts on such clients.\n",
    "\n",
    "Problem Statement\n",
    "Your client is a retail banking institution. Term deposits are a major source of income for a bank. A term deposit is a cash investment held at a financial institution. Your money is invested for an agreed rate of interest over a fixed amount of time, or term. The bank has various outreach plans to sell term deposits to their customers such as email marketing, advertisements, telephonic marketing and digital marketing. Telephonic marketing campaigns still remain one of the most effective way to reach out to people. However, they require huge investment as large call centers are hired to actually execute these campaigns. Hence, it is crucial to identify the customers most likely to convert beforehand so that they can be specifically targeted via call.\n",
    "\n",
    "You are provided with the client data such as : age of the client, their job type, their marital status, etc. Along with the client data, you are also provided with the information of the call such as the duration of the call, day and month of the call, etc. Given this information, your task is to predict if the client will subscribe to term deposit.\n",
    "\n",
    "About The Dataset\n",
    "The dataset is related with direct marketing campaigns (phone calls) of a Portuguese banking institution. The classification goal of this dataset is to predict if the client or the customer of polish banking institution will subscribe a term deposit product of the bank or not. \n",
    "\n",
    "You are provided with following 2 files:\n",
    "\n",
    "1.     train.csv : Use this dataset to train the model. This file contains all the client and call details as well as the target variable “subscribed”. You have to train your model using this file.\n",
    "\n",
    "2.     test.csv : Use the trained model to predict whether a new set of clients will subscribe the term deposit.\n",
    "\n",
    " \n",
    "\n",
    "Dataset Attributes\n",
    "Here is the description of all the variables :\n",
    "\n",
    "Variable: Definition\n",
    "ID: Unique client ID\n",
    "age: Age of the client\n",
    "job: Type of job\n",
    "marital: Marital status of the client\n",
    "education: Education level\n",
    "default: Credit in default.\n",
    "housing: Housing loan\n",
    "loan: Personal loan\n",
    "contact: Type of communication\n",
    "month: Contact month\n",
    "day_of_week: Day of week of contact\n",
    "duration: Contact duration\n",
    "campaign: number of contacts performed during this campaign to the client\n",
    "pdays: number of days that passed by after the client was last contacted\n",
    "previous: number of contacts performed before this campaign\n",
    "poutcome: outcome of the previous marketing campaign\n",
    "Output variable (desired target):\n",
    "Subscribed (target): has the client subscribed a term deposit? (YES/NO)\n",
    " \n",
    "\n",
    "Datasets:\n",
    "\n",
    "Downlaod Files:\n",
    "https://github.com/dsrscientist/dataset5\n",
    "https://raw.githubusercontent.com/dsrscientist/dataset5/main/termdeposit_train.csv\n",
    "https://raw.githubusercontent.com/dsrscientist/dataset5/main/termdeposit_test.csv\n",
    "marital: Marital status of the client\n",
    "education: Education level\n",
    "default: Credit in default.\n",
    "housing: Housing loan\n",
    "loan: Personal loan\n",
    "contact: Type of communication\n",
    "month: Contact month\n",
    "day_of_week: Day of week of contact\n",
    "duration: Contact duration\n",
    "campaign: number of contacts performed during this campaign to the client\n",
    "pdays: number of days that passed by after the client was last contacted\n",
    "previous: number of contacts performed before this campaign\n",
    "poutcome: outcome of the previous marketing campaign\n",
    "Output variable (desired target):\n",
    "Subscribed (target): has the client subscribed a term deposit? (YES/NO)\n",
    " \n",
    "\n",
    "Datasets:\n",
    "\n",
    "Downlaod Files:\n",
    "https://github.com/dsrscientist/dataset5\n",
    "https://raw.githubusercontent.com/dsrscientist/dataset5/main/termdeposit_train.csv\n",
    "https://raw.githubusercontent.com/dsrscientist/dataset5/main/termdeposit_test.csv"
   ]
  },
  {
   "cell_type": "code",
   "execution_count": 235,
   "id": "382fb4c5",
   "metadata": {},
   "outputs": [],
   "source": [
    "%matplotlib inline\n",
    "import pandas as pd\n",
    "import numpy as np\n",
    "import matplotlib\n",
    "from matplotlib import pyplot as plt\n",
    "import matplotlib.pyplot as plt\n",
    "import seaborn as sns\n",
    "import sklearn\n",
    "from sklearn.model_selection import train_test_split\n",
    "from sklearn.preprocessing import StandardScaler\n",
    "from sklearn.preprocessing import LabelEncoder\n",
    "from sklearn import tree\n",
    "from sklearn.preprocessing import power_transform\n",
    "from sklearn.ensemble import RandomForestClassifier\n",
    "from sklearn.linear_model import LogisticRegression\n",
    "from sklearn.svm import SVC\n",
    "from sklearn.tree import DecisionTreeClassifier\n",
    "from sklearn.model_selection import cross_val_score\n",
    "from sklearn.model_selection import GridSearchCV\n",
    "from sklearn.neighbors import KNeighborsClassifier\n",
    "from sklearn.metrics import accuracy_score,classification_report,confusion_matrix, roc_curve, roc_auc_score\n",
    "from sklearn.naive_bayes import GaussianNB\n",
    "from imblearn.over_sampling import SMOTE\n",
    "from statsmodels.stats.outliers_influence import variance_inflation_factor\n",
    "from sklearn.ensemble import AdaBoostClassifier\n",
    "from sklearn.ensemble import GradientBoostingClassifier\n",
    "from sklearn.metrics import roc_curve\n",
    "from sklearn.metrics  import roc_auc_score\n",
    "import warnings\n",
    "warnings.filterwarnings('ignore')"
   ]
  },
  {
   "cell_type": "code",
   "execution_count": 236,
   "id": "a924754e",
   "metadata": {},
   "outputs": [
    {
     "data": {
      "text/html": [
       "<div>\n",
       "<style scoped>\n",
       "    .dataframe tbody tr th:only-of-type {\n",
       "        vertical-align: middle;\n",
       "    }\n",
       "\n",
       "    .dataframe tbody tr th {\n",
       "        vertical-align: top;\n",
       "    }\n",
       "\n",
       "    .dataframe thead th {\n",
       "        text-align: right;\n",
       "    }\n",
       "</style>\n",
       "<table border=\"1\" class=\"dataframe\">\n",
       "  <thead>\n",
       "    <tr style=\"text-align: right;\">\n",
       "      <th></th>\n",
       "      <th>ID</th>\n",
       "      <th>age</th>\n",
       "      <th>job</th>\n",
       "      <th>marital</th>\n",
       "      <th>education</th>\n",
       "      <th>default</th>\n",
       "      <th>balance</th>\n",
       "      <th>housing</th>\n",
       "      <th>loan</th>\n",
       "      <th>contact</th>\n",
       "      <th>day</th>\n",
       "      <th>month</th>\n",
       "      <th>duration</th>\n",
       "      <th>campaign</th>\n",
       "      <th>pdays</th>\n",
       "      <th>previous</th>\n",
       "      <th>poutcome</th>\n",
       "      <th>subscribed</th>\n",
       "    </tr>\n",
       "  </thead>\n",
       "  <tbody>\n",
       "    <tr>\n",
       "      <th>0</th>\n",
       "      <td>26110</td>\n",
       "      <td>56</td>\n",
       "      <td>admin.</td>\n",
       "      <td>married</td>\n",
       "      <td>unknown</td>\n",
       "      <td>no</td>\n",
       "      <td>1933</td>\n",
       "      <td>no</td>\n",
       "      <td>no</td>\n",
       "      <td>telephone</td>\n",
       "      <td>19</td>\n",
       "      <td>nov</td>\n",
       "      <td>44</td>\n",
       "      <td>2</td>\n",
       "      <td>-1</td>\n",
       "      <td>0</td>\n",
       "      <td>unknown</td>\n",
       "      <td>no</td>\n",
       "    </tr>\n",
       "    <tr>\n",
       "      <th>1</th>\n",
       "      <td>40576</td>\n",
       "      <td>31</td>\n",
       "      <td>unknown</td>\n",
       "      <td>married</td>\n",
       "      <td>secondary</td>\n",
       "      <td>no</td>\n",
       "      <td>3</td>\n",
       "      <td>no</td>\n",
       "      <td>no</td>\n",
       "      <td>cellular</td>\n",
       "      <td>20</td>\n",
       "      <td>jul</td>\n",
       "      <td>91</td>\n",
       "      <td>2</td>\n",
       "      <td>-1</td>\n",
       "      <td>0</td>\n",
       "      <td>unknown</td>\n",
       "      <td>no</td>\n",
       "    </tr>\n",
       "    <tr>\n",
       "      <th>2</th>\n",
       "      <td>15320</td>\n",
       "      <td>27</td>\n",
       "      <td>services</td>\n",
       "      <td>married</td>\n",
       "      <td>secondary</td>\n",
       "      <td>no</td>\n",
       "      <td>891</td>\n",
       "      <td>yes</td>\n",
       "      <td>no</td>\n",
       "      <td>cellular</td>\n",
       "      <td>18</td>\n",
       "      <td>jul</td>\n",
       "      <td>240</td>\n",
       "      <td>1</td>\n",
       "      <td>-1</td>\n",
       "      <td>0</td>\n",
       "      <td>unknown</td>\n",
       "      <td>no</td>\n",
       "    </tr>\n",
       "    <tr>\n",
       "      <th>3</th>\n",
       "      <td>43962</td>\n",
       "      <td>57</td>\n",
       "      <td>management</td>\n",
       "      <td>divorced</td>\n",
       "      <td>tertiary</td>\n",
       "      <td>no</td>\n",
       "      <td>3287</td>\n",
       "      <td>no</td>\n",
       "      <td>no</td>\n",
       "      <td>cellular</td>\n",
       "      <td>22</td>\n",
       "      <td>jun</td>\n",
       "      <td>867</td>\n",
       "      <td>1</td>\n",
       "      <td>84</td>\n",
       "      <td>3</td>\n",
       "      <td>success</td>\n",
       "      <td>yes</td>\n",
       "    </tr>\n",
       "    <tr>\n",
       "      <th>4</th>\n",
       "      <td>29842</td>\n",
       "      <td>31</td>\n",
       "      <td>technician</td>\n",
       "      <td>married</td>\n",
       "      <td>secondary</td>\n",
       "      <td>no</td>\n",
       "      <td>119</td>\n",
       "      <td>yes</td>\n",
       "      <td>no</td>\n",
       "      <td>cellular</td>\n",
       "      <td>4</td>\n",
       "      <td>feb</td>\n",
       "      <td>380</td>\n",
       "      <td>1</td>\n",
       "      <td>-1</td>\n",
       "      <td>0</td>\n",
       "      <td>unknown</td>\n",
       "      <td>no</td>\n",
       "    </tr>\n",
       "    <tr>\n",
       "      <th>...</th>\n",
       "      <td>...</td>\n",
       "      <td>...</td>\n",
       "      <td>...</td>\n",
       "      <td>...</td>\n",
       "      <td>...</td>\n",
       "      <td>...</td>\n",
       "      <td>...</td>\n",
       "      <td>...</td>\n",
       "      <td>...</td>\n",
       "      <td>...</td>\n",
       "      <td>...</td>\n",
       "      <td>...</td>\n",
       "      <td>...</td>\n",
       "      <td>...</td>\n",
       "      <td>...</td>\n",
       "      <td>...</td>\n",
       "      <td>...</td>\n",
       "      <td>...</td>\n",
       "    </tr>\n",
       "    <tr>\n",
       "      <th>31642</th>\n",
       "      <td>36483</td>\n",
       "      <td>29</td>\n",
       "      <td>management</td>\n",
       "      <td>single</td>\n",
       "      <td>tertiary</td>\n",
       "      <td>no</td>\n",
       "      <td>0</td>\n",
       "      <td>yes</td>\n",
       "      <td>no</td>\n",
       "      <td>cellular</td>\n",
       "      <td>12</td>\n",
       "      <td>may</td>\n",
       "      <td>116</td>\n",
       "      <td>2</td>\n",
       "      <td>-1</td>\n",
       "      <td>0</td>\n",
       "      <td>unknown</td>\n",
       "      <td>no</td>\n",
       "    </tr>\n",
       "    <tr>\n",
       "      <th>31643</th>\n",
       "      <td>40178</td>\n",
       "      <td>53</td>\n",
       "      <td>management</td>\n",
       "      <td>divorced</td>\n",
       "      <td>tertiary</td>\n",
       "      <td>no</td>\n",
       "      <td>380</td>\n",
       "      <td>no</td>\n",
       "      <td>yes</td>\n",
       "      <td>cellular</td>\n",
       "      <td>5</td>\n",
       "      <td>jun</td>\n",
       "      <td>438</td>\n",
       "      <td>2</td>\n",
       "      <td>-1</td>\n",
       "      <td>0</td>\n",
       "      <td>unknown</td>\n",
       "      <td>yes</td>\n",
       "    </tr>\n",
       "    <tr>\n",
       "      <th>31644</th>\n",
       "      <td>19710</td>\n",
       "      <td>32</td>\n",
       "      <td>management</td>\n",
       "      <td>single</td>\n",
       "      <td>tertiary</td>\n",
       "      <td>no</td>\n",
       "      <td>312</td>\n",
       "      <td>no</td>\n",
       "      <td>no</td>\n",
       "      <td>cellular</td>\n",
       "      <td>7</td>\n",
       "      <td>aug</td>\n",
       "      <td>37</td>\n",
       "      <td>3</td>\n",
       "      <td>-1</td>\n",
       "      <td>0</td>\n",
       "      <td>unknown</td>\n",
       "      <td>no</td>\n",
       "    </tr>\n",
       "    <tr>\n",
       "      <th>31645</th>\n",
       "      <td>38556</td>\n",
       "      <td>57</td>\n",
       "      <td>technician</td>\n",
       "      <td>married</td>\n",
       "      <td>secondary</td>\n",
       "      <td>no</td>\n",
       "      <td>225</td>\n",
       "      <td>yes</td>\n",
       "      <td>no</td>\n",
       "      <td>telephone</td>\n",
       "      <td>15</td>\n",
       "      <td>may</td>\n",
       "      <td>22</td>\n",
       "      <td>7</td>\n",
       "      <td>337</td>\n",
       "      <td>12</td>\n",
       "      <td>failure</td>\n",
       "      <td>no</td>\n",
       "    </tr>\n",
       "    <tr>\n",
       "      <th>31646</th>\n",
       "      <td>14156</td>\n",
       "      <td>55</td>\n",
       "      <td>management</td>\n",
       "      <td>divorced</td>\n",
       "      <td>secondary</td>\n",
       "      <td>no</td>\n",
       "      <td>204</td>\n",
       "      <td>yes</td>\n",
       "      <td>no</td>\n",
       "      <td>cellular</td>\n",
       "      <td>11</td>\n",
       "      <td>jul</td>\n",
       "      <td>1973</td>\n",
       "      <td>2</td>\n",
       "      <td>-1</td>\n",
       "      <td>0</td>\n",
       "      <td>unknown</td>\n",
       "      <td>yes</td>\n",
       "    </tr>\n",
       "  </tbody>\n",
       "</table>\n",
       "<p>31647 rows × 18 columns</p>\n",
       "</div>"
      ],
      "text/plain": [
       "          ID  age         job   marital  education default  balance housing  \\\n",
       "0      26110   56      admin.   married    unknown      no     1933      no   \n",
       "1      40576   31     unknown   married  secondary      no        3      no   \n",
       "2      15320   27    services   married  secondary      no      891     yes   \n",
       "3      43962   57  management  divorced   tertiary      no     3287      no   \n",
       "4      29842   31  technician   married  secondary      no      119     yes   \n",
       "...      ...  ...         ...       ...        ...     ...      ...     ...   \n",
       "31642  36483   29  management    single   tertiary      no        0     yes   \n",
       "31643  40178   53  management  divorced   tertiary      no      380      no   \n",
       "31644  19710   32  management    single   tertiary      no      312      no   \n",
       "31645  38556   57  technician   married  secondary      no      225     yes   \n",
       "31646  14156   55  management  divorced  secondary      no      204     yes   \n",
       "\n",
       "      loan    contact  day month  duration  campaign  pdays  previous  \\\n",
       "0       no  telephone   19   nov        44         2     -1         0   \n",
       "1       no   cellular   20   jul        91         2     -1         0   \n",
       "2       no   cellular   18   jul       240         1     -1         0   \n",
       "3       no   cellular   22   jun       867         1     84         3   \n",
       "4       no   cellular    4   feb       380         1     -1         0   \n",
       "...    ...        ...  ...   ...       ...       ...    ...       ...   \n",
       "31642   no   cellular   12   may       116         2     -1         0   \n",
       "31643  yes   cellular    5   jun       438         2     -1         0   \n",
       "31644   no   cellular    7   aug        37         3     -1         0   \n",
       "31645   no  telephone   15   may        22         7    337        12   \n",
       "31646   no   cellular   11   jul      1973         2     -1         0   \n",
       "\n",
       "      poutcome subscribed  \n",
       "0      unknown         no  \n",
       "1      unknown         no  \n",
       "2      unknown         no  \n",
       "3      success        yes  \n",
       "4      unknown         no  \n",
       "...        ...        ...  \n",
       "31642  unknown         no  \n",
       "31643  unknown        yes  \n",
       "31644  unknown         no  \n",
       "31645  failure         no  \n",
       "31646  unknown        yes  \n",
       "\n",
       "[31647 rows x 18 columns]"
      ]
     },
     "execution_count": 236,
     "metadata": {},
     "output_type": "execute_result"
    }
   ],
   "source": [
    "BTrain= pd.read_csv('https://raw.githubusercontent.com/dsrscientist/dataset5/main/termdeposit_train.csv')\n",
    "BTrain"
   ]
  },
  {
   "cell_type": "code",
   "execution_count": 237,
   "id": "f64f47da",
   "metadata": {},
   "outputs": [
    {
     "data": {
      "text/plain": [
       "(31647, 18)"
      ]
     },
     "execution_count": 237,
     "metadata": {},
     "output_type": "execute_result"
    }
   ],
   "source": [
    "BTrain.shape"
   ]
  },
  {
   "cell_type": "code",
   "execution_count": 238,
   "id": "3562462a",
   "metadata": {},
   "outputs": [
    {
     "data": {
      "text/plain": [
       "Index(['ID', 'age', 'job', 'marital', 'education', 'default', 'balance',\n",
       "       'housing', 'loan', 'contact', 'day', 'month', 'duration', 'campaign',\n",
       "       'pdays', 'previous', 'poutcome', 'subscribed'],\n",
       "      dtype='object')"
      ]
     },
     "execution_count": 238,
     "metadata": {},
     "output_type": "execute_result"
    }
   ],
   "source": [
    "BTrain.columns"
   ]
  },
  {
   "cell_type": "code",
   "execution_count": 239,
   "id": "bc0929fd",
   "metadata": {},
   "outputs": [
    {
     "name": "stdout",
     "output_type": "stream",
     "text": [
      "<class 'pandas.core.frame.DataFrame'>\n",
      "RangeIndex: 31647 entries, 0 to 31646\n",
      "Data columns (total 18 columns):\n",
      " #   Column      Non-Null Count  Dtype \n",
      "---  ------      --------------  ----- \n",
      " 0   ID          31647 non-null  int64 \n",
      " 1   age         31647 non-null  int64 \n",
      " 2   job         31647 non-null  object\n",
      " 3   marital     31647 non-null  object\n",
      " 4   education   31647 non-null  object\n",
      " 5   default     31647 non-null  object\n",
      " 6   balance     31647 non-null  int64 \n",
      " 7   housing     31647 non-null  object\n",
      " 8   loan        31647 non-null  object\n",
      " 9   contact     31647 non-null  object\n",
      " 10  day         31647 non-null  int64 \n",
      " 11  month       31647 non-null  object\n",
      " 12  duration    31647 non-null  int64 \n",
      " 13  campaign    31647 non-null  int64 \n",
      " 14  pdays       31647 non-null  int64 \n",
      " 15  previous    31647 non-null  int64 \n",
      " 16  poutcome    31647 non-null  object\n",
      " 17  subscribed  31647 non-null  object\n",
      "dtypes: int64(8), object(10)\n",
      "memory usage: 4.3+ MB\n"
     ]
    }
   ],
   "source": [
    "BTrain.info()"
   ]
  },
  {
   "cell_type": "code",
   "execution_count": 240,
   "id": "82b6bfbe",
   "metadata": {},
   "outputs": [
    {
     "data": {
      "text/plain": [
       "Index(['ID', 'age', 'job', 'marital', 'education', 'default', 'balance',\n",
       "       'housing', 'loan', 'contact', 'day', 'month', 'duration', 'campaign',\n",
       "       'pdays', 'previous', 'poutcome', 'subscribed'],\n",
       "      dtype='object')"
      ]
     },
     "execution_count": 240,
     "metadata": {},
     "output_type": "execute_result"
    }
   ],
   "source": [
    "BTrain.columns = BTrain.columns.str.replace(' ', '_')\n",
    "BTrain.columns"
   ]
  },
  {
   "cell_type": "code",
   "execution_count": 241,
   "id": "98d87580",
   "metadata": {},
   "outputs": [
    {
     "data": {
      "text/plain": [
       "ID            0\n",
       "age           0\n",
       "job           0\n",
       "marital       0\n",
       "education     0\n",
       "default       0\n",
       "balance       0\n",
       "housing       0\n",
       "loan          0\n",
       "contact       0\n",
       "day           0\n",
       "month         0\n",
       "duration      0\n",
       "campaign      0\n",
       "pdays         0\n",
       "previous      0\n",
       "poutcome      0\n",
       "subscribed    0\n",
       "dtype: int64"
      ]
     },
     "execution_count": 241,
     "metadata": {},
     "output_type": "execute_result"
    }
   ],
   "source": [
    "BTrain.isnull().sum()     #no Missing Values"
   ]
  },
  {
   "cell_type": "code",
   "execution_count": 242,
   "id": "91c8e1a7",
   "metadata": {},
   "outputs": [
    {
     "data": {
      "text/plain": [
       "0"
      ]
     },
     "execution_count": 242,
     "metadata": {},
     "output_type": "execute_result"
    }
   ],
   "source": [
    "BTrain.duplicated().sum()"
   ]
  },
  {
   "cell_type": "code",
   "execution_count": 243,
   "id": "7f3ba5aa",
   "metadata": {},
   "outputs": [
    {
     "name": "stdout",
     "output_type": "stream",
     "text": [
      "Number of rows after removing duplicates= 31647\n"
     ]
    }
   ],
   "source": [
    "#dropping duplicate rows and resetting index\n",
    "BTrain=BTrain.drop_duplicates()\n",
    "print('Number of rows after removing duplicates=', len(BTrain))"
   ]
  },
  {
   "cell_type": "code",
   "execution_count": 244,
   "id": "87b47c1f",
   "metadata": {},
   "outputs": [
    {
     "data": {
      "text/plain": [
       "<AxesSubplot:>"
      ]
     },
     "execution_count": 244,
     "metadata": {},
     "output_type": "execute_result"
    },
    {
     "data": {
      "image/png": "[encoded data removed]",
      "text/plain": [
       "<Figure size 432x288 with 2 Axes>"
      ]
     },
     "metadata": {
      "needs_background": "light"
     },
     "output_type": "display_data"
    }
   ],
   "source": [
    "sns.heatmap(BTrain.isnull())"
   ]
  },
  {
   "cell_type": "code",
   "execution_count": 245,
   "id": "d2964e4a",
   "metadata": {},
   "outputs": [
    {
     "data": {
      "text/plain": [
       "0"
      ]
     },
     "execution_count": 245,
     "metadata": {},
     "output_type": "execute_result"
    }
   ],
   "source": [
    "BTrain.duplicated().sum()"
   ]
  },
  {
   "cell_type": "code",
   "execution_count": 246,
   "id": "6d0ba66f",
   "metadata": {},
   "outputs": [
    {
     "data": {
      "text/html": [
       "<div>\n",
       "<style scoped>\n",
       "    .dataframe tbody tr th:only-of-type {\n",
       "        vertical-align: middle;\n",
       "    }\n",
       "\n",
       "    .dataframe tbody tr th {\n",
       "        vertical-align: top;\n",
       "    }\n",
       "\n",
       "    .dataframe thead th {\n",
       "        text-align: right;\n",
       "    }\n",
       "</style>\n",
       "<table border=\"1\" class=\"dataframe\">\n",
       "  <thead>\n",
       "    <tr style=\"text-align: right;\">\n",
       "      <th></th>\n",
       "      <th>ID</th>\n",
       "      <th>age</th>\n",
       "      <th>job</th>\n",
       "      <th>marital</th>\n",
       "      <th>education</th>\n",
       "      <th>default</th>\n",
       "      <th>balance</th>\n",
       "      <th>housing</th>\n",
       "      <th>loan</th>\n",
       "      <th>contact</th>\n",
       "      <th>day</th>\n",
       "      <th>month</th>\n",
       "      <th>duration</th>\n",
       "      <th>campaign</th>\n",
       "      <th>pdays</th>\n",
       "      <th>previous</th>\n",
       "      <th>poutcome</th>\n",
       "    </tr>\n",
       "  </thead>\n",
       "  <tbody>\n",
       "    <tr>\n",
       "      <th>0</th>\n",
       "      <td>38441</td>\n",
       "      <td>32</td>\n",
       "      <td>services</td>\n",
       "      <td>married</td>\n",
       "      <td>secondary</td>\n",
       "      <td>no</td>\n",
       "      <td>118</td>\n",
       "      <td>yes</td>\n",
       "      <td>no</td>\n",
       "      <td>cellular</td>\n",
       "      <td>15</td>\n",
       "      <td>may</td>\n",
       "      <td>20</td>\n",
       "      <td>6</td>\n",
       "      <td>-1</td>\n",
       "      <td>0</td>\n",
       "      <td>unknown</td>\n",
       "    </tr>\n",
       "    <tr>\n",
       "      <th>1</th>\n",
       "      <td>40403</td>\n",
       "      <td>78</td>\n",
       "      <td>retired</td>\n",
       "      <td>divorced</td>\n",
       "      <td>primary</td>\n",
       "      <td>no</td>\n",
       "      <td>2787</td>\n",
       "      <td>no</td>\n",
       "      <td>no</td>\n",
       "      <td>telephone</td>\n",
       "      <td>1</td>\n",
       "      <td>jul</td>\n",
       "      <td>372</td>\n",
       "      <td>1</td>\n",
       "      <td>-1</td>\n",
       "      <td>0</td>\n",
       "      <td>unknown</td>\n",
       "    </tr>\n",
       "    <tr>\n",
       "      <th>2</th>\n",
       "      <td>3709</td>\n",
       "      <td>31</td>\n",
       "      <td>self-employed</td>\n",
       "      <td>single</td>\n",
       "      <td>tertiary</td>\n",
       "      <td>no</td>\n",
       "      <td>144</td>\n",
       "      <td>yes</td>\n",
       "      <td>no</td>\n",
       "      <td>unknown</td>\n",
       "      <td>16</td>\n",
       "      <td>may</td>\n",
       "      <td>676</td>\n",
       "      <td>1</td>\n",
       "      <td>-1</td>\n",
       "      <td>0</td>\n",
       "      <td>unknown</td>\n",
       "    </tr>\n",
       "    <tr>\n",
       "      <th>3</th>\n",
       "      <td>37422</td>\n",
       "      <td>57</td>\n",
       "      <td>services</td>\n",
       "      <td>single</td>\n",
       "      <td>primary</td>\n",
       "      <td>no</td>\n",
       "      <td>3777</td>\n",
       "      <td>yes</td>\n",
       "      <td>no</td>\n",
       "      <td>telephone</td>\n",
       "      <td>13</td>\n",
       "      <td>may</td>\n",
       "      <td>65</td>\n",
       "      <td>2</td>\n",
       "      <td>-1</td>\n",
       "      <td>0</td>\n",
       "      <td>unknown</td>\n",
       "    </tr>\n",
       "    <tr>\n",
       "      <th>4</th>\n",
       "      <td>12527</td>\n",
       "      <td>45</td>\n",
       "      <td>blue-collar</td>\n",
       "      <td>divorced</td>\n",
       "      <td>secondary</td>\n",
       "      <td>no</td>\n",
       "      <td>-705</td>\n",
       "      <td>no</td>\n",
       "      <td>yes</td>\n",
       "      <td>unknown</td>\n",
       "      <td>3</td>\n",
       "      <td>jul</td>\n",
       "      <td>111</td>\n",
       "      <td>1</td>\n",
       "      <td>-1</td>\n",
       "      <td>0</td>\n",
       "      <td>unknown</td>\n",
       "    </tr>\n",
       "    <tr>\n",
       "      <th>...</th>\n",
       "      <td>...</td>\n",
       "      <td>...</td>\n",
       "      <td>...</td>\n",
       "      <td>...</td>\n",
       "      <td>...</td>\n",
       "      <td>...</td>\n",
       "      <td>...</td>\n",
       "      <td>...</td>\n",
       "      <td>...</td>\n",
       "      <td>...</td>\n",
       "      <td>...</td>\n",
       "      <td>...</td>\n",
       "      <td>...</td>\n",
       "      <td>...</td>\n",
       "      <td>...</td>\n",
       "      <td>...</td>\n",
       "      <td>...</td>\n",
       "    </tr>\n",
       "    <tr>\n",
       "      <th>13559</th>\n",
       "      <td>23465</td>\n",
       "      <td>39</td>\n",
       "      <td>management</td>\n",
       "      <td>married</td>\n",
       "      <td>tertiary</td>\n",
       "      <td>no</td>\n",
       "      <td>45</td>\n",
       "      <td>no</td>\n",
       "      <td>no</td>\n",
       "      <td>cellular</td>\n",
       "      <td>28</td>\n",
       "      <td>aug</td>\n",
       "      <td>148</td>\n",
       "      <td>4</td>\n",
       "      <td>-1</td>\n",
       "      <td>0</td>\n",
       "      <td>unknown</td>\n",
       "    </tr>\n",
       "    <tr>\n",
       "      <th>13560</th>\n",
       "      <td>11743</td>\n",
       "      <td>54</td>\n",
       "      <td>blue-collar</td>\n",
       "      <td>married</td>\n",
       "      <td>primary</td>\n",
       "      <td>no</td>\n",
       "      <td>2281</td>\n",
       "      <td>yes</td>\n",
       "      <td>no</td>\n",
       "      <td>unknown</td>\n",
       "      <td>20</td>\n",
       "      <td>jun</td>\n",
       "      <td>158</td>\n",
       "      <td>1</td>\n",
       "      <td>-1</td>\n",
       "      <td>0</td>\n",
       "      <td>unknown</td>\n",
       "    </tr>\n",
       "    <tr>\n",
       "      <th>13561</th>\n",
       "      <td>28292</td>\n",
       "      <td>35</td>\n",
       "      <td>retired</td>\n",
       "      <td>married</td>\n",
       "      <td>primary</td>\n",
       "      <td>no</td>\n",
       "      <td>285</td>\n",
       "      <td>yes</td>\n",
       "      <td>no</td>\n",
       "      <td>cellular</td>\n",
       "      <td>29</td>\n",
       "      <td>jan</td>\n",
       "      <td>136</td>\n",
       "      <td>1</td>\n",
       "      <td>-1</td>\n",
       "      <td>0</td>\n",
       "      <td>unknown</td>\n",
       "    </tr>\n",
       "    <tr>\n",
       "      <th>13562</th>\n",
       "      <td>45163</td>\n",
       "      <td>29</td>\n",
       "      <td>admin.</td>\n",
       "      <td>single</td>\n",
       "      <td>secondary</td>\n",
       "      <td>no</td>\n",
       "      <td>464</td>\n",
       "      <td>no</td>\n",
       "      <td>no</td>\n",
       "      <td>cellular</td>\n",
       "      <td>9</td>\n",
       "      <td>nov</td>\n",
       "      <td>208</td>\n",
       "      <td>2</td>\n",
       "      <td>91</td>\n",
       "      <td>3</td>\n",
       "      <td>success</td>\n",
       "    </tr>\n",
       "    <tr>\n",
       "      <th>13563</th>\n",
       "      <td>34839</td>\n",
       "      <td>29</td>\n",
       "      <td>admin.</td>\n",
       "      <td>married</td>\n",
       "      <td>secondary</td>\n",
       "      <td>no</td>\n",
       "      <td>2</td>\n",
       "      <td>yes</td>\n",
       "      <td>no</td>\n",
       "      <td>cellular</td>\n",
       "      <td>6</td>\n",
       "      <td>may</td>\n",
       "      <td>339</td>\n",
       "      <td>1</td>\n",
       "      <td>362</td>\n",
       "      <td>1</td>\n",
       "      <td>failure</td>\n",
       "    </tr>\n",
       "  </tbody>\n",
       "</table>\n",
       "<p>13564 rows × 17 columns</p>\n",
       "</div>"
      ],
      "text/plain": [
       "          ID  age            job   marital  education default  balance  \\\n",
       "0      38441   32       services   married  secondary      no      118   \n",
       "1      40403   78        retired  divorced    primary      no     2787   \n",
       "2       3709   31  self-employed    single   tertiary      no      144   \n",
       "3      37422   57       services    single    primary      no     3777   \n",
       "4      12527   45    blue-collar  divorced  secondary      no     -705   \n",
       "...      ...  ...            ...       ...        ...     ...      ...   \n",
       "13559  23465   39     management   married   tertiary      no       45   \n",
       "13560  11743   54    blue-collar   married    primary      no     2281   \n",
       "13561  28292   35        retired   married    primary      no      285   \n",
       "13562  45163   29         admin.    single  secondary      no      464   \n",
       "13563  34839   29         admin.   married  secondary      no        2   \n",
       "\n",
       "      housing loan    contact  day month  duration  campaign  pdays  previous  \\\n",
       "0         yes   no   cellular   15   may        20         6     -1         0   \n",
       "1          no   no  telephone    1   jul       372         1     -1         0   \n",
       "2         yes   no    unknown   16   may       676         1     -1         0   \n",
       "3         yes   no  telephone   13   may        65         2     -1         0   \n",
       "4          no  yes    unknown    3   jul       111         1     -1         0   \n",
       "...       ...  ...        ...  ...   ...       ...       ...    ...       ...   \n",
       "13559      no   no   cellular   28   aug       148         4     -1         0   \n",
       "13560     yes   no    unknown   20   jun       158         1     -1         0   \n",
       "13561     yes   no   cellular   29   jan       136         1     -1         0   \n",
       "13562      no   no   cellular    9   nov       208         2     91         3   \n",
       "13563     yes   no   cellular    6   may       339         1    362         1   \n",
       "\n",
       "      poutcome  \n",
       "0      unknown  \n",
       "1      unknown  \n",
       "2      unknown  \n",
       "3      unknown  \n",
       "4      unknown  \n",
       "...        ...  \n",
       "13559  unknown  \n",
       "13560  unknown  \n",
       "13561  unknown  \n",
       "13562  success  \n",
       "13563  failure  \n",
       "\n",
       "[13564 rows x 17 columns]"
      ]
     },
     "execution_count": 246,
     "metadata": {},
     "output_type": "execute_result"
    }
   ],
   "source": [
    "BTest= pd.read_csv('https://raw.githubusercontent.com/dsrscientist/dataset5/main/termdeposit_test.csv')\n",
    "BTest"
   ]
  },
  {
   "cell_type": "code",
   "execution_count": 247,
   "id": "ef49bdea",
   "metadata": {},
   "outputs": [
    {
     "data": {
      "text/plain": [
       "(13564, 17)"
      ]
     },
     "execution_count": 247,
     "metadata": {},
     "output_type": "execute_result"
    }
   ],
   "source": [
    "BTest.shape"
   ]
  },
  {
   "cell_type": "code",
   "execution_count": 248,
   "id": "738a3b67",
   "metadata": {},
   "outputs": [
    {
     "data": {
      "text/plain": [
       "Index(['ID', 'age', 'job', 'marital', 'education', 'default', 'balance',\n",
       "       'housing', 'loan', 'contact', 'day', 'month', 'duration', 'campaign',\n",
       "       'pdays', 'previous', 'poutcome'],\n",
       "      dtype='object')"
      ]
     },
     "execution_count": 248,
     "metadata": {},
     "output_type": "execute_result"
    }
   ],
   "source": [
    "BTest.columns"
   ]
  },
  {
   "cell_type": "code",
   "execution_count": 249,
   "id": "e4586d85",
   "metadata": {},
   "outputs": [
    {
     "name": "stdout",
     "output_type": "stream",
     "text": [
      "<class 'pandas.core.frame.DataFrame'>\n",
      "RangeIndex: 13564 entries, 0 to 13563\n",
      "Data columns (total 17 columns):\n",
      " #   Column     Non-Null Count  Dtype \n",
      "---  ------     --------------  ----- \n",
      " 0   ID         13564 non-null  int64 \n",
      " 1   age        13564 non-null  int64 \n",
      " 2   job        13564 non-null  object\n",
      " 3   marital    13564 non-null  object\n",
      " 4   education  13564 non-null  object\n",
      " 5   default    13564 non-null  object\n",
      " 6   balance    13564 non-null  int64 \n",
      " 7   housing    13564 non-null  object\n",
      " 8   loan       13564 non-null  object\n",
      " 9   contact    13564 non-null  object\n",
      " 10  day        13564 non-null  int64 \n",
      " 11  month      13564 non-null  object\n",
      " 12  duration   13564 non-null  int64 \n",
      " 13  campaign   13564 non-null  int64 \n",
      " 14  pdays      13564 non-null  int64 \n",
      " 15  previous   13564 non-null  int64 \n",
      " 16  poutcome   13564 non-null  object\n",
      "dtypes: int64(8), object(9)\n",
      "memory usage: 1.8+ MB\n"
     ]
    }
   ],
   "source": [
    "BTest.info()"
   ]
  },
  {
   "cell_type": "code",
   "execution_count": 250,
   "id": "33162f9f",
   "metadata": {},
   "outputs": [
    {
     "data": {
      "text/plain": [
       "Index(['ID', 'age', 'job', 'marital', 'education', 'default', 'balance',\n",
       "       'housing', 'loan', 'contact', 'day', 'month', 'duration', 'campaign',\n",
       "       'pdays', 'previous', 'poutcome'],\n",
       "      dtype='object')"
      ]
     },
     "execution_count": 250,
     "metadata": {},
     "output_type": "execute_result"
    }
   ],
   "source": [
    "BTest.columns =BTest.columns.str.replace(' ', '_')\n",
    "BTest.columns"
   ]
  },
  {
   "cell_type": "code",
   "execution_count": 251,
   "id": "48a490d4",
   "metadata": {},
   "outputs": [
    {
     "data": {
      "text/plain": [
       "ID           0\n",
       "age          0\n",
       "job          0\n",
       "marital      0\n",
       "education    0\n",
       "default      0\n",
       "balance      0\n",
       "housing      0\n",
       "loan         0\n",
       "contact      0\n",
       "day          0\n",
       "month        0\n",
       "duration     0\n",
       "campaign     0\n",
       "pdays        0\n",
       "previous     0\n",
       "poutcome     0\n",
       "dtype: int64"
      ]
     },
     "execution_count": 251,
     "metadata": {},
     "output_type": "execute_result"
    }
   ],
   "source": [
    "BTest.isnull().sum()     #no Missing Values"
   ]
  },
  {
   "cell_type": "code",
   "execution_count": 252,
   "id": "6aecaeb7",
   "metadata": {},
   "outputs": [
    {
     "data": {
      "text/plain": [
       "0"
      ]
     },
     "execution_count": 252,
     "metadata": {},
     "output_type": "execute_result"
    }
   ],
   "source": [
    "BTest.duplicated().sum()"
   ]
  },
  {
   "cell_type": "code",
   "execution_count": 253,
   "id": "bda26c3a",
   "metadata": {},
   "outputs": [
    {
     "name": "stdout",
     "output_type": "stream",
     "text": [
      "Number of rows after removing duplicates= 13564\n"
     ]
    }
   ],
   "source": [
    "#dropping duplicate rows and resetting index\n",
    "BTest=BTest.drop_duplicates()\n",
    "print('Number of rows after removing duplicates=', len(BTest))"
   ]
  },
  {
   "cell_type": "code",
   "execution_count": 254,
   "id": "03aa0d07",
   "metadata": {},
   "outputs": [
    {
     "data": {
      "text/plain": [
       "<AxesSubplot:>"
      ]
     },
     "execution_count": 254,
     "metadata": {},
     "output_type": "execute_result"
    },
    {
     "data": {
      "image/png": "[encoded data removed]",
      "text/plain": [
       "<Figure size 432x288 with 2 Axes>"
      ]
     },
     "metadata": {
      "needs_background": "light"
     },
     "output_type": "display_data"
    }
   ],
   "source": [
    "sns.heatmap(BTest.isnull())"
   ]
  },
  {
   "cell_type": "code",
   "execution_count": 255,
   "id": "4398e1fd",
   "metadata": {},
   "outputs": [
    {
     "data": {
      "text/plain": [
       "0"
      ]
     },
     "execution_count": 255,
     "metadata": {},
     "output_type": "execute_result"
    }
   ],
   "source": [
    "BTest.duplicated().sum()"
   ]
  },
  {
   "cell_type": "markdown",
   "id": "6a2ce77b",
   "metadata": {},
   "source": [
    "Univariate Analysis 'Subscribed' variable"
   ]
  },
  {
   "cell_type": "code",
   "execution_count": 256,
   "id": "07e4dfd4",
   "metadata": {},
   "outputs": [
    {
     "data": {
      "text/plain": [
       "no     27932\n",
       "yes     3715\n",
       "Name: subscribed, dtype: int64"
      ]
     },
     "execution_count": 256,
     "metadata": {},
     "output_type": "execute_result"
    }
   ],
   "source": [
    "#Frequency of 'subscribed'\n",
    "BTrain['subscribed'].value_counts()"
   ]
  },
  {
   "cell_type": "code",
   "execution_count": 257,
   "id": "46a1c7be",
   "metadata": {},
   "outputs": [
    {
     "data": {
      "text/plain": [
       "<AxesSubplot:xlabel='subscribed', ylabel='count'>"
      ]
     },
     "execution_count": 257,
     "metadata": {},
     "output_type": "execute_result"
    },
    {
     "data": {
      "image/png": "[encoded data removed]",
      "text/plain": [
       "<Figure size 432x288 with 1 Axes>"
      ]
     },
     "metadata": {
      "needs_background": "light"
     },
     "output_type": "display_data"
    }
   ],
   "source": [
    "# Plotting the 'subscribed' frequency\n",
    "sns.countplot(data=BTrain,x='subscribed')"
   ]
  },
  {
   "cell_type": "code",
   "execution_count": 258,
   "id": "9c83736b",
   "metadata": {},
   "outputs": [
    {
     "data": {
      "text/plain": [
       "no     0.882611\n",
       "yes    0.117389\n",
       "Name: subscribed, dtype: float64"
      ]
     },
     "execution_count": 258,
     "metadata": {},
     "output_type": "execute_result"
    }
   ],
   "source": [
    "#Normalizing the frequency table of 'Subscribed' variable\n",
    "BTrain['subscribed'].value_counts(normalize=True)"
   ]
  },
  {
   "cell_type": "code",
   "execution_count": 259,
   "id": "1a70c536",
   "metadata": {},
   "outputs": [
    {
     "data": {
      "text/plain": [
       "blue-collar      6842\n",
       "management       6639\n",
       "technician       5307\n",
       "admin.           3631\n",
       "services         2903\n",
       "retired          1574\n",
       "self-employed    1123\n",
       "entrepreneur     1008\n",
       "unemployed        905\n",
       "housemaid         874\n",
       "student           635\n",
       "unknown           206\n",
       "Name: job, dtype: int64"
      ]
     },
     "execution_count": 259,
     "metadata": {},
     "output_type": "execute_result"
    }
   ],
   "source": [
    "#Frequency table\n",
    "BTrain['job'].value_counts()"
   ]
  },
  {
   "cell_type": "markdown",
   "id": "4a721389",
   "metadata": {},
   "source": [
    "# EDA"
   ]
  },
  {
   "cell_type": "code",
   "execution_count": 260,
   "id": "f7e1245a",
   "metadata": {},
   "outputs": [
    {
     "data": {
      "text/html": [
       "<div>\n",
       "<style scoped>\n",
       "    .dataframe tbody tr th:only-of-type {\n",
       "        vertical-align: middle;\n",
       "    }\n",
       "\n",
       "    .dataframe tbody tr th {\n",
       "        vertical-align: top;\n",
       "    }\n",
       "\n",
       "    .dataframe thead th {\n",
       "        text-align: right;\n",
       "    }\n",
       "</style>\n",
       "<table border=\"1\" class=\"dataframe\">\n",
       "  <thead>\n",
       "    <tr style=\"text-align: right;\">\n",
       "      <th></th>\n",
       "      <th>ID</th>\n",
       "      <th>age</th>\n",
       "      <th>job</th>\n",
       "      <th>marital</th>\n",
       "      <th>education</th>\n",
       "      <th>default</th>\n",
       "      <th>balance</th>\n",
       "      <th>housing</th>\n",
       "      <th>loan</th>\n",
       "      <th>contact</th>\n",
       "      <th>day</th>\n",
       "      <th>month</th>\n",
       "      <th>duration</th>\n",
       "      <th>campaign</th>\n",
       "      <th>pdays</th>\n",
       "      <th>previous</th>\n",
       "      <th>poutcome</th>\n",
       "      <th>subscribed</th>\n",
       "    </tr>\n",
       "  </thead>\n",
       "  <tbody>\n",
       "    <tr>\n",
       "      <th>31627</th>\n",
       "      <td>9508</td>\n",
       "      <td>35</td>\n",
       "      <td>7.0</td>\n",
       "      <td>2.0</td>\n",
       "      <td>1.0</td>\n",
       "      <td>0.0</td>\n",
       "      <td>-2</td>\n",
       "      <td>0.0</td>\n",
       "      <td>0.0</td>\n",
       "      <td>2.0</td>\n",
       "      <td>6</td>\n",
       "      <td>6.0</td>\n",
       "      <td>15</td>\n",
       "      <td>1</td>\n",
       "      <td>-1</td>\n",
       "      <td>0</td>\n",
       "      <td>3.0</td>\n",
       "      <td>0.0</td>\n",
       "    </tr>\n",
       "    <tr>\n",
       "      <th>31628</th>\n",
       "      <td>36947</td>\n",
       "      <td>43</td>\n",
       "      <td>10.0</td>\n",
       "      <td>0.0</td>\n",
       "      <td>0.0</td>\n",
       "      <td>0.0</td>\n",
       "      <td>-70</td>\n",
       "      <td>1.0</td>\n",
       "      <td>0.0</td>\n",
       "      <td>0.0</td>\n",
       "      <td>12</td>\n",
       "      <td>8.0</td>\n",
       "      <td>124</td>\n",
       "      <td>2</td>\n",
       "      <td>-1</td>\n",
       "      <td>0</td>\n",
       "      <td>3.0</td>\n",
       "      <td>0.0</td>\n",
       "    </tr>\n",
       "    <tr>\n",
       "      <th>31629</th>\n",
       "      <td>19661</td>\n",
       "      <td>35</td>\n",
       "      <td>9.0</td>\n",
       "      <td>2.0</td>\n",
       "      <td>2.0</td>\n",
       "      <td>0.0</td>\n",
       "      <td>632</td>\n",
       "      <td>0.0</td>\n",
       "      <td>0.0</td>\n",
       "      <td>0.0</td>\n",
       "      <td>7</td>\n",
       "      <td>1.0</td>\n",
       "      <td>141</td>\n",
       "      <td>1</td>\n",
       "      <td>-1</td>\n",
       "      <td>0</td>\n",
       "      <td>3.0</td>\n",
       "      <td>0.0</td>\n",
       "    </tr>\n",
       "    <tr>\n",
       "      <th>31630</th>\n",
       "      <td>17513</td>\n",
       "      <td>36</td>\n",
       "      <td>4.0</td>\n",
       "      <td>2.0</td>\n",
       "      <td>2.0</td>\n",
       "      <td>0.0</td>\n",
       "      <td>8</td>\n",
       "      <td>0.0</td>\n",
       "      <td>0.0</td>\n",
       "      <td>0.0</td>\n",
       "      <td>29</td>\n",
       "      <td>5.0</td>\n",
       "      <td>858</td>\n",
       "      <td>7</td>\n",
       "      <td>-1</td>\n",
       "      <td>0</td>\n",
       "      <td>3.0</td>\n",
       "      <td>0.0</td>\n",
       "    </tr>\n",
       "    <tr>\n",
       "      <th>31631</th>\n",
       "      <td>11638</td>\n",
       "      <td>46</td>\n",
       "      <td>2.0</td>\n",
       "      <td>1.0</td>\n",
       "      <td>2.0</td>\n",
       "      <td>0.0</td>\n",
       "      <td>341</td>\n",
       "      <td>0.0</td>\n",
       "      <td>0.0</td>\n",
       "      <td>2.0</td>\n",
       "      <td>19</td>\n",
       "      <td>6.0</td>\n",
       "      <td>318</td>\n",
       "      <td>2</td>\n",
       "      <td>-1</td>\n",
       "      <td>0</td>\n",
       "      <td>3.0</td>\n",
       "      <td>0.0</td>\n",
       "    </tr>\n",
       "    <tr>\n",
       "      <th>31632</th>\n",
       "      <td>5195</td>\n",
       "      <td>33</td>\n",
       "      <td>1.0</td>\n",
       "      <td>1.0</td>\n",
       "      <td>1.0</td>\n",
       "      <td>0.0</td>\n",
       "      <td>0</td>\n",
       "      <td>1.0</td>\n",
       "      <td>0.0</td>\n",
       "      <td>2.0</td>\n",
       "      <td>21</td>\n",
       "      <td>8.0</td>\n",
       "      <td>521</td>\n",
       "      <td>3</td>\n",
       "      <td>-1</td>\n",
       "      <td>0</td>\n",
       "      <td>3.0</td>\n",
       "      <td>1.0</td>\n",
       "    </tr>\n",
       "    <tr>\n",
       "      <th>31633</th>\n",
       "      <td>9847</td>\n",
       "      <td>50</td>\n",
       "      <td>9.0</td>\n",
       "      <td>1.0</td>\n",
       "      <td>2.0</td>\n",
       "      <td>0.0</td>\n",
       "      <td>3117</td>\n",
       "      <td>0.0</td>\n",
       "      <td>0.0</td>\n",
       "      <td>2.0</td>\n",
       "      <td>9</td>\n",
       "      <td>6.0</td>\n",
       "      <td>174</td>\n",
       "      <td>1</td>\n",
       "      <td>-1</td>\n",
       "      <td>0</td>\n",
       "      <td>3.0</td>\n",
       "      <td>0.0</td>\n",
       "    </tr>\n",
       "    <tr>\n",
       "      <th>31634</th>\n",
       "      <td>8652</td>\n",
       "      <td>30</td>\n",
       "      <td>9.0</td>\n",
       "      <td>2.0</td>\n",
       "      <td>2.0</td>\n",
       "      <td>0.0</td>\n",
       "      <td>432</td>\n",
       "      <td>1.0</td>\n",
       "      <td>1.0</td>\n",
       "      <td>2.0</td>\n",
       "      <td>3</td>\n",
       "      <td>6.0</td>\n",
       "      <td>180</td>\n",
       "      <td>3</td>\n",
       "      <td>-1</td>\n",
       "      <td>0</td>\n",
       "      <td>3.0</td>\n",
       "      <td>0.0</td>\n",
       "    </tr>\n",
       "    <tr>\n",
       "      <th>31635</th>\n",
       "      <td>41379</td>\n",
       "      <td>35</td>\n",
       "      <td>4.0</td>\n",
       "      <td>1.0</td>\n",
       "      <td>2.0</td>\n",
       "      <td>0.0</td>\n",
       "      <td>4</td>\n",
       "      <td>0.0</td>\n",
       "      <td>0.0</td>\n",
       "      <td>0.0</td>\n",
       "      <td>1</td>\n",
       "      <td>11.0</td>\n",
       "      <td>157</td>\n",
       "      <td>2</td>\n",
       "      <td>-1</td>\n",
       "      <td>0</td>\n",
       "      <td>3.0</td>\n",
       "      <td>0.0</td>\n",
       "    </tr>\n",
       "    <tr>\n",
       "      <th>31636</th>\n",
       "      <td>20954</td>\n",
       "      <td>48</td>\n",
       "      <td>3.0</td>\n",
       "      <td>1.0</td>\n",
       "      <td>0.0</td>\n",
       "      <td>0.0</td>\n",
       "      <td>469</td>\n",
       "      <td>0.0</td>\n",
       "      <td>0.0</td>\n",
       "      <td>0.0</td>\n",
       "      <td>14</td>\n",
       "      <td>1.0</td>\n",
       "      <td>103</td>\n",
       "      <td>2</td>\n",
       "      <td>-1</td>\n",
       "      <td>0</td>\n",
       "      <td>3.0</td>\n",
       "      <td>0.0</td>\n",
       "    </tr>\n",
       "    <tr>\n",
       "      <th>31637</th>\n",
       "      <td>20110</td>\n",
       "      <td>44</td>\n",
       "      <td>9.0</td>\n",
       "      <td>1.0</td>\n",
       "      <td>1.0</td>\n",
       "      <td>0.0</td>\n",
       "      <td>5163</td>\n",
       "      <td>0.0</td>\n",
       "      <td>0.0</td>\n",
       "      <td>0.0</td>\n",
       "      <td>11</td>\n",
       "      <td>1.0</td>\n",
       "      <td>48</td>\n",
       "      <td>2</td>\n",
       "      <td>-1</td>\n",
       "      <td>0</td>\n",
       "      <td>3.0</td>\n",
       "      <td>0.0</td>\n",
       "    </tr>\n",
       "    <tr>\n",
       "      <th>31638</th>\n",
       "      <td>16309</td>\n",
       "      <td>29</td>\n",
       "      <td>1.0</td>\n",
       "      <td>1.0</td>\n",
       "      <td>1.0</td>\n",
       "      <td>0.0</td>\n",
       "      <td>721</td>\n",
       "      <td>1.0</td>\n",
       "      <td>0.0</td>\n",
       "      <td>0.0</td>\n",
       "      <td>23</td>\n",
       "      <td>5.0</td>\n",
       "      <td>644</td>\n",
       "      <td>1</td>\n",
       "      <td>-1</td>\n",
       "      <td>0</td>\n",
       "      <td>3.0</td>\n",
       "      <td>0.0</td>\n",
       "    </tr>\n",
       "    <tr>\n",
       "      <th>31639</th>\n",
       "      <td>279</td>\n",
       "      <td>38</td>\n",
       "      <td>7.0</td>\n",
       "      <td>2.0</td>\n",
       "      <td>1.0</td>\n",
       "      <td>0.0</td>\n",
       "      <td>570</td>\n",
       "      <td>1.0</td>\n",
       "      <td>0.0</td>\n",
       "      <td>2.0</td>\n",
       "      <td>5</td>\n",
       "      <td>8.0</td>\n",
       "      <td>75</td>\n",
       "      <td>2</td>\n",
       "      <td>-1</td>\n",
       "      <td>0</td>\n",
       "      <td>3.0</td>\n",
       "      <td>0.0</td>\n",
       "    </tr>\n",
       "    <tr>\n",
       "      <th>31640</th>\n",
       "      <td>12109</td>\n",
       "      <td>43</td>\n",
       "      <td>4.0</td>\n",
       "      <td>2.0</td>\n",
       "      <td>1.0</td>\n",
       "      <td>0.0</td>\n",
       "      <td>2968</td>\n",
       "      <td>0.0</td>\n",
       "      <td>0.0</td>\n",
       "      <td>2.0</td>\n",
       "      <td>20</td>\n",
       "      <td>6.0</td>\n",
       "      <td>30</td>\n",
       "      <td>4</td>\n",
       "      <td>-1</td>\n",
       "      <td>0</td>\n",
       "      <td>3.0</td>\n",
       "      <td>0.0</td>\n",
       "    </tr>\n",
       "    <tr>\n",
       "      <th>31641</th>\n",
       "      <td>9476</td>\n",
       "      <td>37</td>\n",
       "      <td>9.0</td>\n",
       "      <td>2.0</td>\n",
       "      <td>2.0</td>\n",
       "      <td>0.0</td>\n",
       "      <td>1309</td>\n",
       "      <td>0.0</td>\n",
       "      <td>0.0</td>\n",
       "      <td>2.0</td>\n",
       "      <td>6</td>\n",
       "      <td>6.0</td>\n",
       "      <td>442</td>\n",
       "      <td>2</td>\n",
       "      <td>-1</td>\n",
       "      <td>0</td>\n",
       "      <td>3.0</td>\n",
       "      <td>0.0</td>\n",
       "    </tr>\n",
       "    <tr>\n",
       "      <th>31642</th>\n",
       "      <td>36483</td>\n",
       "      <td>29</td>\n",
       "      <td>4.0</td>\n",
       "      <td>2.0</td>\n",
       "      <td>2.0</td>\n",
       "      <td>0.0</td>\n",
       "      <td>0</td>\n",
       "      <td>1.0</td>\n",
       "      <td>0.0</td>\n",
       "      <td>0.0</td>\n",
       "      <td>12</td>\n",
       "      <td>8.0</td>\n",
       "      <td>116</td>\n",
       "      <td>2</td>\n",
       "      <td>-1</td>\n",
       "      <td>0</td>\n",
       "      <td>3.0</td>\n",
       "      <td>0.0</td>\n",
       "    </tr>\n",
       "    <tr>\n",
       "      <th>31643</th>\n",
       "      <td>40178</td>\n",
       "      <td>53</td>\n",
       "      <td>4.0</td>\n",
       "      <td>0.0</td>\n",
       "      <td>2.0</td>\n",
       "      <td>0.0</td>\n",
       "      <td>380</td>\n",
       "      <td>0.0</td>\n",
       "      <td>1.0</td>\n",
       "      <td>0.0</td>\n",
       "      <td>5</td>\n",
       "      <td>6.0</td>\n",
       "      <td>438</td>\n",
       "      <td>2</td>\n",
       "      <td>-1</td>\n",
       "      <td>0</td>\n",
       "      <td>3.0</td>\n",
       "      <td>1.0</td>\n",
       "    </tr>\n",
       "    <tr>\n",
       "      <th>31644</th>\n",
       "      <td>19710</td>\n",
       "      <td>32</td>\n",
       "      <td>4.0</td>\n",
       "      <td>2.0</td>\n",
       "      <td>2.0</td>\n",
       "      <td>0.0</td>\n",
       "      <td>312</td>\n",
       "      <td>0.0</td>\n",
       "      <td>0.0</td>\n",
       "      <td>0.0</td>\n",
       "      <td>7</td>\n",
       "      <td>1.0</td>\n",
       "      <td>37</td>\n",
       "      <td>3</td>\n",
       "      <td>-1</td>\n",
       "      <td>0</td>\n",
       "      <td>3.0</td>\n",
       "      <td>0.0</td>\n",
       "    </tr>\n",
       "    <tr>\n",
       "      <th>31645</th>\n",
       "      <td>38556</td>\n",
       "      <td>57</td>\n",
       "      <td>9.0</td>\n",
       "      <td>1.0</td>\n",
       "      <td>1.0</td>\n",
       "      <td>0.0</td>\n",
       "      <td>225</td>\n",
       "      <td>1.0</td>\n",
       "      <td>0.0</td>\n",
       "      <td>1.0</td>\n",
       "      <td>15</td>\n",
       "      <td>8.0</td>\n",
       "      <td>22</td>\n",
       "      <td>7</td>\n",
       "      <td>337</td>\n",
       "      <td>12</td>\n",
       "      <td>0.0</td>\n",
       "      <td>0.0</td>\n",
       "    </tr>\n",
       "    <tr>\n",
       "      <th>31646</th>\n",
       "      <td>14156</td>\n",
       "      <td>55</td>\n",
       "      <td>4.0</td>\n",
       "      <td>0.0</td>\n",
       "      <td>1.0</td>\n",
       "      <td>0.0</td>\n",
       "      <td>204</td>\n",
       "      <td>1.0</td>\n",
       "      <td>0.0</td>\n",
       "      <td>0.0</td>\n",
       "      <td>11</td>\n",
       "      <td>5.0</td>\n",
       "      <td>1973</td>\n",
       "      <td>2</td>\n",
       "      <td>-1</td>\n",
       "      <td>0</td>\n",
       "      <td>3.0</td>\n",
       "      <td>1.0</td>\n",
       "    </tr>\n",
       "  </tbody>\n",
       "</table>\n",
       "</div>"
      ],
      "text/plain": [
       "          ID  age   job  marital  education  default  balance  housing  loan  \\\n",
       "31627   9508   35   7.0      2.0        1.0      0.0       -2      0.0   0.0   \n",
       "31628  36947   43  10.0      0.0        0.0      0.0      -70      1.0   0.0   \n",
       "31629  19661   35   9.0      2.0        2.0      0.0      632      0.0   0.0   \n",
       "31630  17513   36   4.0      2.0        2.0      0.0        8      0.0   0.0   \n",
       "31631  11638   46   2.0      1.0        2.0      0.0      341      0.0   0.0   \n",
       "31632   5195   33   1.0      1.0        1.0      0.0        0      1.0   0.0   \n",
       "31633   9847   50   9.0      1.0        2.0      0.0     3117      0.0   0.0   \n",
       "31634   8652   30   9.0      2.0        2.0      0.0      432      1.0   1.0   \n",
       "31635  41379   35   4.0      1.0        2.0      0.0        4      0.0   0.0   \n",
       "31636  20954   48   3.0      1.0        0.0      0.0      469      0.0   0.0   \n",
       "31637  20110   44   9.0      1.0        1.0      0.0     5163      0.0   0.0   \n",
       "31638  16309   29   1.0      1.0        1.0      0.0      721      1.0   0.0   \n",
       "31639    279   38   7.0      2.0        1.0      0.0      570      1.0   0.0   \n",
       "31640  12109   43   4.0      2.0        1.0      0.0     2968      0.0   0.0   \n",
       "31641   9476   37   9.0      2.0        2.0      0.0     1309      0.0   0.0   \n",
       "31642  36483   29   4.0      2.0        2.0      0.0        0      1.0   0.0   \n",
       "31643  40178   53   4.0      0.0        2.0      0.0      380      0.0   1.0   \n",
       "31644  19710   32   4.0      2.0        2.0      0.0      312      0.0   0.0   \n",
       "31645  38556   57   9.0      1.0        1.0      0.0      225      1.0   0.0   \n",
       "31646  14156   55   4.0      0.0        1.0      0.0      204      1.0   0.0   \n",
       "\n",
       "       contact  day  month  duration  campaign  pdays  previous  poutcome  \\\n",
       "31627      2.0    6    6.0        15         1     -1         0       3.0   \n",
       "31628      0.0   12    8.0       124         2     -1         0       3.0   \n",
       "31629      0.0    7    1.0       141         1     -1         0       3.0   \n",
       "31630      0.0   29    5.0       858         7     -1         0       3.0   \n",
       "31631      2.0   19    6.0       318         2     -1         0       3.0   \n",
       "31632      2.0   21    8.0       521         3     -1         0       3.0   \n",
       "31633      2.0    9    6.0       174         1     -1         0       3.0   \n",
       "31634      2.0    3    6.0       180         3     -1         0       3.0   \n",
       "31635      0.0    1   11.0       157         2     -1         0       3.0   \n",
       "31636      0.0   14    1.0       103         2     -1         0       3.0   \n",
       "31637      0.0   11    1.0        48         2     -1         0       3.0   \n",
       "31638      0.0   23    5.0       644         1     -1         0       3.0   \n",
       "31639      2.0    5    8.0        75         2     -1         0       3.0   \n",
       "31640      2.0   20    6.0        30         4     -1         0       3.0   \n",
       "31641      2.0    6    6.0       442         2     -1         0       3.0   \n",
       "31642      0.0   12    8.0       116         2     -1         0       3.0   \n",
       "31643      0.0    5    6.0       438         2     -1         0       3.0   \n",
       "31644      0.0    7    1.0        37         3     -1         0       3.0   \n",
       "31645      1.0   15    8.0        22         7    337        12       0.0   \n",
       "31646      0.0   11    5.0      1973         2     -1         0       3.0   \n",
       "\n",
       "       subscribed  \n",
       "31627         0.0  \n",
       "31628         0.0  \n",
       "31629         0.0  \n",
       "31630         0.0  \n",
       "31631         0.0  \n",
       "31632         1.0  \n",
       "31633         0.0  \n",
       "31634         0.0  \n",
       "31635         0.0  \n",
       "31636         0.0  \n",
       "31637         0.0  \n",
       "31638         0.0  \n",
       "31639         0.0  \n",
       "31640         0.0  \n",
       "31641         0.0  \n",
       "31642         0.0  \n",
       "31643         1.0  \n",
       "31644         0.0  \n",
       "31645         0.0  \n",
       "31646         1.0  "
      ]
     },
     "execution_count": 260,
     "metadata": {},
     "output_type": "execute_result"
    }
   ],
   "source": [
    "from sklearn.preprocessing import OrdinalEncoder\n",
    "enc=OrdinalEncoder()\n",
    "for i in BTrain.columns:\n",
    "    if BTrain[i].dtypes=='object':\n",
    "        BTrain[i]=enc.fit_transform(BTrain[i].values.reshape(-1,1))\n",
    "BTrain.tail(20)"
   ]
  },
  {
   "cell_type": "code",
   "execution_count": 261,
   "id": "9c1dd517",
   "metadata": {},
   "outputs": [
    {
     "data": {
      "text/plain": [
       "ID              int64\n",
       "age             int64\n",
       "job           float64\n",
       "marital       float64\n",
       "education     float64\n",
       "default       float64\n",
       "balance         int64\n",
       "housing       float64\n",
       "loan          float64\n",
       "contact       float64\n",
       "day             int64\n",
       "month         float64\n",
       "duration        int64\n",
       "campaign        int64\n",
       "pdays           int64\n",
       "previous        int64\n",
       "poutcome      float64\n",
       "subscribed    float64\n",
       "dtype: object"
      ]
     },
     "execution_count": 261,
     "metadata": {},
     "output_type": "execute_result"
    }
   ],
   "source": [
    "BTrain.dtypes"
   ]
  },
  {
   "cell_type": "code",
   "execution_count": 262,
   "id": "ee0bbf1c",
   "metadata": {},
   "outputs": [
    {
     "data": {
      "image/png": "[encoded data removed]",
      "text/plain": [
       "<Figure size 432x288 with 1 Axes>"
      ]
     },
     "metadata": {
      "needs_background": "light"
     },
     "output_type": "display_data"
    },
    {
     "data": {
      "image/png": "[encoded data removed]",
      "text/plain": [
       "<Figure size 432x288 with 1 Axes>"
      ]
     },
     "metadata": {
      "needs_background": "light"
     },
     "output_type": "display_data"
    },
    {
     "data": {
      "image/png": "[encoded data removed]",
      "text/plain": [
       "<Figure size 432x288 with 1 Axes>"
      ]
     },
     "metadata": {
      "needs_background": "light"
     },
     "output_type": "display_data"
    },
    {
     "data": {
      "image/png": "[encoded data removed]",
      "text/plain": [
       "<Figure size 432x288 with 1 Axes>"
      ]
     },
     "metadata": {
      "needs_background": "light"
     },
     "output_type": "display_data"
    },
    {
     "data": {
      "image/png": "[encoded data removed]",
      "text/plain": [
       "<Figure size 432x288 with 1 Axes>"
      ]
     },
     "metadata": {
      "needs_background": "light"
     },
     "output_type": "display_data"
    },
    {
     "data": {
      "image/png": "[encoded data removed]",
      "text/plain": [
       "<Figure size 432x288 with 1 Axes>"
      ]
     },
     "metadata": {
      "needs_background": "light"
     },
     "output_type": "display_data"
    },
    {
     "data": {
      "image/png": "[encoded data removed]",
      "text/plain": [
       "<Figure size 432x288 with 1 Axes>"
      ]
     },
     "metadata": {
      "needs_background": "light"
     },
     "output_type": "display_data"
    },
    {
     "data": {
      "image/png": "[encoded data removed]",
      "text/plain": [
       "<Figure size 432x288 with 1 Axes>"
      ]
     },
     "metadata": {
      "needs_background": "light"
     },
     "output_type": "display_data"
    },
    {
     "data": {
      "image/png": "[encoded data removed]",
      "text/plain": [
       "<Figure size 432x288 with 1 Axes>"
      ]
     },
     "metadata": {
      "needs_background": "light"
     },
     "output_type": "display_data"
    },
    {
     "data": {
      "image/png": "[encoded data removed]",
      "text/plain": [
       "<Figure size 432x288 with 1 Axes>"
      ]
     },
     "metadata": {
      "needs_background": "light"
     },
     "output_type": "display_data"
    },
    {
     "data": {
      "image/png": "[encoded data removed]",
      "text/plain": [
       "<Figure size 432x288 with 1 Axes>"
      ]
     },
     "metadata": {
      "needs_background": "light"
     },
     "output_type": "display_data"
    },
    {
     "data": {
      "image/png": "[encoded data removed]",
      "text/plain": [
       "<Figure size 432x288 with 1 Axes>"
      ]
     },
     "metadata": {
      "needs_background": "light"
     },
     "output_type": "display_data"
    },
    {
     "data": {
      "image/png": "[encoded data removed]",
      "text/plain": [
       "<Figure size 432x288 with 1 Axes>"
      ]
     },
     "metadata": {
      "needs_background": "light"
     },
     "output_type": "display_data"
    },
    {
     "data": {
      "image/png": "[encoded data removed]",
      "text/plain": [
       "<Figure size 432x288 with 1 Axes>"
      ]
     },
     "metadata": {
      "needs_background": "light"
     },
     "output_type": "display_data"
    },
    {
     "data": {
      "image/png": "[encoded data removed]",
      "text/plain": [
       "<Figure size 432x288 with 1 Axes>"
      ]
     },
     "metadata": {
      "needs_background": "light"
     },
     "output_type": "display_data"
    },
    {
     "data": {
      "image/png": "[encoded data removed]",
      "text/plain": [
       "<Figure size 432x288 with 1 Axes>"
      ]
     },
     "metadata": {
      "needs_background": "light"
     },
     "output_type": "display_data"
    },
    {
     "data": {
      "image/png": "[encoded data removed]",
      "text/plain": [
       "<Figure size 432x288 with 1 Axes>"
      ]
     },
     "metadata": {
      "needs_background": "light"
     },
     "output_type": "display_data"
    },
    {
     "data": {
      "image/png": "[encoded data removed]",
      "text/plain": [
       "<Figure size 432x288 with 1 Axes>"
      ]
     },
     "metadata": {
      "needs_background": "light"
     },
     "output_type": "display_data"
    }
   ],
   "source": [
    "for column in BTrain.columns:\n",
    "    sns.countplot(x=column, data=BTrain)\n",
    "    plt.xlabel(column)\n",
    "    plt.ylabel('subscribed')\n",
    "    plt.show()"
   ]
  },
  {
   "cell_type": "code",
   "execution_count": null,
   "id": "e9820f27",
   "metadata": {},
   "outputs": [],
   "source": [
    "for column in BTrain.columns:\n",
    "    sns.barplot(x=column, y='subscribed', data=BTrain)\n",
    "    plt.xlabel(column)\n",
    "    plt.show()"
   ]
  },
  {
   "cell_type": "code",
   "execution_count": null,
   "id": "d4660187",
   "metadata": {},
   "outputs": [],
   "source": [
    "BTrain.hist(bins=10, figsize=(20,20))"
   ]
  },
  {
   "cell_type": "markdown",
   "id": "c5eb232e",
   "metadata": {},
   "source": [
    "# Multivarate "
   ]
  },
  {
   "cell_type": "code",
   "execution_count": null,
   "id": "863733bc",
   "metadata": {},
   "outputs": [],
   "source": [
    "sns.scatterplot(x='job',y='subscribed',hue='ID',data=BTrain)"
   ]
  },
  {
   "cell_type": "code",
   "execution_count": null,
   "id": "b7d11cfc",
   "metadata": {},
   "outputs": [],
   "source": [
    "sns.scatterplot(x='marital',y='subscribed',hue='education',data=BTrain)"
   ]
  },
  {
   "cell_type": "code",
   "execution_count": null,
   "id": "ca6b2fde",
   "metadata": {},
   "outputs": [],
   "source": [
    "plt.figure(figsize=(25,30))\n",
    "sns.pairplot(BTrain)\n",
    "plt.show()"
   ]
  },
  {
   "cell_type": "markdown",
   "id": "cffc8134",
   "metadata": {},
   "source": [
    "Now Lets See that counts of each columns"
   ]
  },
  {
   "cell_type": "code",
   "execution_count": null,
   "id": "04d7801a",
   "metadata": {},
   "outputs": [],
   "source": [
    "for i in BTrain.columns:\n",
    "        print(BTrain[i].value_counts())\n",
    "        print('*'*100)"
   ]
  },
  {
   "cell_type": "code",
   "execution_count": null,
   "id": "da1b24fa",
   "metadata": {},
   "outputs": [],
   "source": [
    "plt.figure(figsize = (10,10))\n",
    "sns.heatmap(BTrain.corr(),annot=True,linewidths=0.1,linecolor=\"black\",fmt=\"0.2f\")"
   ]
  },
  {
   "cell_type": "code",
   "execution_count": null,
   "id": "e9f71d42",
   "metadata": {},
   "outputs": [],
   "source": [
    "#checking the columns which are positively and negatively correlated\n",
    "plt.figure(figsize=(25,30))\n",
    "BTrain.corr()['subscribed'].sort_values(ascending=False).plot(kind='bar',color='c')\n",
    "plt.xlabel('Features',fontsize=14)\n",
    "plt.ylabel('columns with target names',fontsize=14)\n",
    "plt.title('CORRELATION',fontsize=18)\n",
    "plt.show()"
   ]
  },
  {
   "cell_type": "code",
   "execution_count": null,
   "id": "136a73c2",
   "metadata": {},
   "outputs": [],
   "source": [
    "BTrain.corr()"
   ]
  },
  {
   "cell_type": "code",
   "execution_count": null,
   "id": "002ea417",
   "metadata": {},
   "outputs": [],
   "source": [
    "BTrain.corr()['subscribed'].sort_values()"
   ]
  },
  {
   "cell_type": "markdown",
   "id": "5ea5a934",
   "metadata": {},
   "source": [
    "# DESCRIPTIVE STATSTICS"
   ]
  },
  {
   "cell_type": "code",
   "execution_count": null,
   "id": "4c18df4c",
   "metadata": {},
   "outputs": [],
   "source": [
    "BTrain.describe().T"
   ]
  },
  {
   "cell_type": "code",
   "execution_count": null,
   "id": "88df2737",
   "metadata": {},
   "outputs": [],
   "source": [
    "plt.figure(figsize = (22,7))\n",
    "sns.heatmap(BTrain.describe(),annot=True,linewidths=0.1,linecolor=\"black\",fmt=\"0.2f\")"
   ]
  },
  {
   "cell_type": "code",
   "execution_count": null,
   "id": "a1f99946",
   "metadata": {},
   "outputs": [],
   "source": [
    "BTrain.info()"
   ]
  },
  {
   "cell_type": "markdown",
   "id": "ec61264d",
   "metadata": {},
   "source": [
    "OUTLIERS CHECKING(Any One outlier method can be  used)"
   ]
  },
  {
   "cell_type": "code",
   "execution_count": null,
   "id": "0053fa2a",
   "metadata": {},
   "outputs": [],
   "source": [
    "colmlist=BTrain.columns.values\n",
    "ncol=30\n",
    "nrows=14"
   ]
  },
  {
   "cell_type": "code",
   "execution_count": null,
   "id": "a768a82d",
   "metadata": {},
   "outputs": [],
   "source": [
    "plt.figure(figsize=(ncol,3*ncol))\n",
    "for i in range (0,len(colmlist)):\n",
    "    plt.subplot(nrows,ncol,i+1)\n",
    "    sns.boxplot(data= BTrain[colmlist[i]],color='green',orient='v')\n",
    "    plt.tight_layout()"
   ]
  },
  {
   "cell_type": "code",
   "execution_count": null,
   "id": "c2ebb108",
   "metadata": {},
   "outputs": [],
   "source": [
    "# to find out outliers in the dataset\n",
    "BTrain.plot(kind='box',subplots=True,figsize=(20,10))"
   ]
  },
  {
   "cell_type": "code",
   "execution_count": null,
   "id": "339645ee",
   "metadata": {},
   "outputs": [],
   "source": [
    "#Lets plot all using Histogram and see the skewness again\n",
    " \n",
    "#plt.rcParams['figure.figsize']=(20,20)\n",
    "BTrain.hist(bins=25,color='green',density=True,label='Value',histtype='bar')\n",
    "plt.show()"
   ]
  },
  {
   "cell_type": "code",
   "execution_count": null,
   "id": "4ddc0612",
   "metadata": {},
   "outputs": [],
   "source": [
    "sns.distplot(BTrain['age'])"
   ]
  },
  {
   "cell_type": "code",
   "execution_count": null,
   "id": "8761b4a2",
   "metadata": {},
   "outputs": [],
   "source": [
    " sns.distplot(BTrain['marital'])\n",
    "    "
   ]
  },
  {
   "cell_type": "code",
   "execution_count": null,
   "id": "1deef134",
   "metadata": {},
   "outputs": [],
   "source": [
    "sns.distplot(BTrain['education'])\n",
    "    "
   ]
  },
  {
   "cell_type": "markdown",
   "id": "2b7685ed",
   "metadata": {},
   "source": [
    "the data of the column is not normalised ...The building block is out of normalized curve..It a right skewed data..\n",
    "we can see that the data is not normally distributed\n",
    "\n",
    "Normal distribution curve of outcome column is irrelevent"
   ]
  },
  {
   "cell_type": "code",
   "execution_count": null,
   "id": "d5c52229",
   "metadata": {},
   "outputs": [],
   "source": [
    "#to check for outliers through zscore \n",
    "from scipy.stats import zscore\n",
    "(np.abs(zscore( BTrain)) < 3).all()"
   ]
  },
  {
   "cell_type": "code",
   "execution_count": null,
   "id": "efec4665",
   "metadata": {},
   "outputs": [],
   "source": [
    "#to remove outliers in data set through zscore\n",
    "z = np.abs(zscore( BTrain))\n",
    "z.shape"
   ]
  },
  {
   "cell_type": "code",
   "execution_count": null,
   "id": "700fa749",
   "metadata": {},
   "outputs": [],
   "source": [
    "threshold = 3\n",
    "print(np.where(z>3))"
   ]
  },
  {
   "cell_type": "code",
   "execution_count": null,
   "id": "3cd2a450",
   "metadata": {},
   "outputs": [],
   "source": [
    "BTrain_new=BTrain[(z<3).all(axis=1)]\n",
    "print(BTrain.shape)\n"
   ]
  },
  {
   "cell_type": "code",
   "execution_count": null,
   "id": "a9ffbeea",
   "metadata": {},
   "outputs": [],
   "source": [
    "BTrain.shape"
   ]
  },
  {
   "cell_type": "code",
   "execution_count": null,
   "id": "cfda617e",
   "metadata": {},
   "outputs": [],
   "source": [
    "print (\"Old DataFrame =\",BTrain.shape)\n",
    "print (\"New DataFrame =\",BTrain_new.shape)\n",
    "print (\"Total dropped rows = \",BTrain.shape[0] - BTrain_new.shape[0])"
   ]
  },
  {
   "cell_type": "code",
   "execution_count": null,
   "id": "b5926d54",
   "metadata": {},
   "outputs": [],
   "source": [
    "#to find % loss in data\n",
    "loss = (31647-27584)/31647 * 100\n",
    "print(loss)"
   ]
  },
  {
   "cell_type": "code",
   "execution_count": null,
   "id": "5d3b9276",
   "metadata": {},
   "outputs": [],
   "source": [
    "BTrain_new"
   ]
  },
  {
   "cell_type": "code",
   "execution_count": null,
   "id": "a28bf980",
   "metadata": {},
   "outputs": [],
   "source": [
    "# Independent column\n",
    "\n",
    "x=BTrain_new.iloc[:,0:-1]\n",
    "x"
   ]
  },
  {
   "cell_type": "code",
   "execution_count": null,
   "id": "d0144bba",
   "metadata": {},
   "outputs": [],
   "source": [
    "x.shape"
   ]
  },
  {
   "cell_type": "code",
   "execution_count": null,
   "id": "d75aa7b0",
   "metadata": {},
   "outputs": [],
   "source": [
    "# Target or dependent variable\n",
    "\n",
    "y=BTrain_new.iloc[:,-1]\n",
    "y.shape"
   ]
  },
  {
   "cell_type": "markdown",
   "id": "be8d87d4",
   "metadata": {},
   "source": [
    "# TRANSFORMING DATA TO REMOVE SKEWNESS"
   ]
  },
  {
   "cell_type": "code",
   "execution_count": null,
   "id": "be3615a4",
   "metadata": {},
   "outputs": [],
   "source": [
    "BTrain"
   ]
  },
  {
   "cell_type": "code",
   "execution_count": null,
   "id": "b4b7a53e",
   "metadata": {},
   "outputs": [],
   "source": [
    "BTrain.skew()"
   ]
  },
  {
   "cell_type": "code",
   "execution_count": null,
   "id": "6adf0c36",
   "metadata": {},
   "outputs": [],
   "source": [
    "from sklearn.preprocessing import power_transform\n",
    "x_new=power_transform(BTrain,method='yeo-johnson')"
   ]
  },
  {
   "cell_type": "code",
   "execution_count": null,
   "id": "b3ef987e",
   "metadata": {},
   "outputs": [],
   "source": [
    "pd.DataFrame(x_new).skew()"
   ]
  },
  {
   "cell_type": "code",
   "execution_count": null,
   "id": "15bf2215",
   "metadata": {},
   "outputs": [],
   "source": [
    "# It will be a 2 dimensional data containg rows and columns\n",
    "\n",
    "from sklearn.preprocessing import StandardScaler\n",
    "#transforming my dataset into a standard normal distribution\n",
    "sc=StandardScaler()\n",
    "\n",
    "x= pd.DataFrame(sc.fit_transform(x), columns=x.columns)\n",
    "x"
   ]
  },
  {
   "cell_type": "code",
   "execution_count": null,
   "id": "b6a8de62",
   "metadata": {},
   "outputs": [],
   "source": [
    "x.mean()"
   ]
  },
  {
   "cell_type": "code",
   "execution_count": null,
   "id": "10b860ec",
   "metadata": {},
   "outputs": [],
   "source": [
    "x.std()"
   ]
  },
  {
   "cell_type": "code",
   "execution_count": null,
   "id": "834e0997",
   "metadata": {},
   "outputs": [],
   "source": [
    "#BTrain['subscribe'].value_counts()"
   ]
  },
  {
   "cell_type": "markdown",
   "id": "11d724fb",
   "metadata": {},
   "source": [
    "Balancing the dataset over here,otherwise it will be a baised dataset"
   ]
  },
  {
   "cell_type": "code",
   "execution_count": null,
   "id": "de5cb843",
   "metadata": {},
   "outputs": [],
   "source": [
    "smt=SMOTE()\n",
    "x,y=smt.fit_resample(x,y)"
   ]
  },
  {
   "cell_type": "code",
   "execution_count": null,
   "id": "c7697604",
   "metadata": {},
   "outputs": [],
   "source": [
    "x.shape"
   ]
  },
  {
   "cell_type": "code",
   "execution_count": null,
   "id": "04a52391",
   "metadata": {},
   "outputs": [],
   "source": [
    "y.value_counts()"
   ]
  },
  {
   "cell_type": "code",
   "execution_count": null,
   "id": "ddcbaec7",
   "metadata": {},
   "outputs": [],
   "source": [
    "plt.figure(figsize=(8,8))\n",
    "sns.countplot(y)"
   ]
  },
  {
   "cell_type": "markdown",
   "id": "4711a842",
   "metadata": {},
   "source": [
    "WE CHECK MULTICOLLINEARITY BY VARIANCE INFLATION FACTOR (VIF)"
   ]
  },
  {
   "cell_type": "code",
   "execution_count": null,
   "id": "1cdfd5be",
   "metadata": {},
   "outputs": [],
   "source": [
    "def vif_cal():\n",
    "    vif=pd.DataFrame()\n",
    "    vif[\"VIF FACTOR\"]=[variance_inflation_factor(x.values,i) for i in range(x.shape[1])]\n",
    "    vif[\"FEATURES\"]=x.columns\n",
    "    print (vif)"
   ]
  },
  {
   "cell_type": "code",
   "execution_count": null,
   "id": "d89170df",
   "metadata": {},
   "outputs": [],
   "source": [
    "vif_cal()"
   ]
  },
  {
   "cell_type": "markdown",
   "id": "ac90133c",
   "metadata": {},
   "source": [
    "# No Multicollinearity is present in the dataset...Here we can observe all the columns have VIF less than 10 which means we are free from multicollinearity problem. Let's move to buliding machine learning models...\n"
   ]
  },
  {
   "cell_type": "code",
   "execution_count": null,
   "id": "1c4501e3",
   "metadata": {},
   "outputs": [],
   "source": [
    "# to predict best random state value\n",
    "maxAcc =0\n",
    "maxRS=0\n",
    "\n",
    "for i in range(1,1239):\n",
    "    x_train,x_test,y_train,y_test = train_test_split(x,y,test_size=0.20,random_state=i)\n",
    "    LR = LogisticRegression()\n",
    "    LR.fit(x_train,y_train)\n",
    "    predrf = LR.predict(x_test)\n",
    "    acc=accuracy_score(y_test,predrf)\n",
    "    if acc>maxAcc:\n",
    "        maxAcc=acc\n",
    "        maxRS=i\n",
    "print('Best accuracy is',maxAcc,'on Random_State',maxRS)"
   ]
  },
  {
   "cell_type": "code",
   "execution_count": null,
   "id": "e67c5635",
   "metadata": {},
   "outputs": [],
   "source": [
    "x_train,x_test,y_train,y_test = train_test_split(x,y,test_size=0.20,random_state=1229)"
   ]
  },
  {
   "cell_type": "code",
   "execution_count": null,
   "id": "667244b3",
   "metadata": {},
   "outputs": [],
   "source": [
    "print('shape of x_train:',x_train.shape)\n",
    "print('shape of y_train:',x_train.shape)\n",
    "print('shape of x_test:',x_test.shape)\n",
    "print('shape of y_test:',y_test.shape)"
   ]
  },
  {
   "cell_type": "code",
   "execution_count": null,
   "id": "c843c3b6",
   "metadata": {},
   "outputs": [],
   "source": [
    "x_train"
   ]
  },
  {
   "cell_type": "code",
   "execution_count": null,
   "id": "d33948ea",
   "metadata": {},
   "outputs": [],
   "source": [
    "y_test"
   ]
  },
  {
   "cell_type": "code",
   "execution_count": null,
   "id": "182310f2",
   "metadata": {},
   "outputs": [],
   "source": [
    "x_test"
   ]
  },
  {
   "cell_type": "code",
   "execution_count": null,
   "id": "7204f747",
   "metadata": {},
   "outputs": [],
   "source": [
    "y_train"
   ]
  },
  {
   "cell_type": "markdown",
   "id": "bd9ee064",
   "metadata": {},
   "source": [
    "CROSS VALIDATION FOR LOGISTICS REGRESSION,ENSEMBLE TECHNIQUE(GradientBoostingClassifier,RandomForestClassifier)"
   ]
  },
  {
   "cell_type": "code",
   "execution_count": 5,
   "id": "158d442b",
   "metadata": {},
   "outputs": [
    {
     "ename": "NameError",
     "evalue": "name 'LogisticRegression' is not defined",
     "output_type": "error",
     "traceback": [
      "\u001b[1;31m---------------------------------------------------------------------------\u001b[0m",
      "\u001b[1;31mNameError\u001b[0m                                 Traceback (most recent call last)",
      "\u001b[1;32m~\\AppData\\Local\\Temp/ipykernel_9516/756310410.py\u001b[0m in \u001b[0;36m<module>\u001b[1;34m\u001b[0m\n\u001b[1;32m----> 1\u001b[1;33m \u001b[0mlg\u001b[0m\u001b[1;33m=\u001b[0m\u001b[0mLogisticRegression\u001b[0m\u001b[1;33m(\u001b[0m\u001b[1;33m)\u001b[0m\u001b[1;33m\u001b[0m\u001b[1;33m\u001b[0m\u001b[0m\n\u001b[0m\u001b[0;32m      2\u001b[0m \u001b[0mgnb\u001b[0m\u001b[1;33m=\u001b[0m\u001b[0mGaussianNB\u001b[0m\u001b[1;33m(\u001b[0m\u001b[1;33m)\u001b[0m\u001b[1;33m\u001b[0m\u001b[1;33m\u001b[0m\u001b[0m\n\u001b[0;32m      3\u001b[0m \u001b[0msvc\u001b[0m\u001b[1;33m=\u001b[0m\u001b[0mSVC\u001b[0m\u001b[1;33m(\u001b[0m\u001b[1;33m)\u001b[0m\u001b[1;33m\u001b[0m\u001b[1;33m\u001b[0m\u001b[0m\n\u001b[0;32m      4\u001b[0m \u001b[0mdtc\u001b[0m\u001b[1;33m=\u001b[0m\u001b[0mDecisionTreeClassifier\u001b[0m\u001b[1;33m(\u001b[0m\u001b[1;33m)\u001b[0m\u001b[1;33m\u001b[0m\u001b[1;33m\u001b[0m\u001b[0m\n\u001b[0;32m      5\u001b[0m \u001b[0mknn\u001b[0m\u001b[1;33m=\u001b[0m\u001b[0mKNeighborsClassifier\u001b[0m\u001b[1;33m(\u001b[0m\u001b[1;33m)\u001b[0m\u001b[1;33m\u001b[0m\u001b[1;33m\u001b[0m\u001b[0m\n",
      "\u001b[1;31mNameError\u001b[0m: name 'LogisticRegression' is not defined"
     ]
    }
   ],
   "source": [
    "lg=LogisticRegression()\n",
    "gnb=GaussianNB()\n",
    "svc=SVC()\n",
    "dtc=DecisionTreeClassifier()\n",
    "knn=KNeighborsClassifier()\n",
    "gb = GradientBoostingClassifier()\n",
    "RF = RandomForestClassifier(random_state=0)\n",
    "ada = AdaBoostClassifier()\n",
    "\n",
    "model=[lg,gnb,svc,dtc,knn,RF,gb,ada]\n",
    "for m in model:\n",
    "    m.fit(x_train,y_train)\n",
    "    m.score(x_train,y_train)\n",
    "    predm=m.predict(x_test)\n",
    "    print(\"Accuracy_score:\",m,'is')\n",
    "    print(confusion_matrix(y_test, predm))\n",
    "    print(accuracy_score(y_test,predm))\n",
    "    print(classification_report(y_test,predm))\n",
    "    print('\\n')"
   ]
  },
  {
   "cell_type": "code",
   "execution_count": null,
   "id": "3f81c08a",
   "metadata": {},
   "outputs": [],
   "source": [
    "#cross validation to check the accuracy score\n",
    "print('cross validation score of random forest model = ', cross_val_score(RF,x,y,cv=None).mean())\n",
    "print('cross validation score of logistic regression model = ', cross_val_score(lg,x,y,cv=None).mean())\n",
    "print('cross validation score of decison tree model = ', cross_val_score(dtc,x,y,cv=None).mean())\n",
    "print('cross validation score of  KNeighborsClassifier model = ', cross_val_score(knn,x,y,cv=None).mean())\n",
    "print('cross validation score of standard vector machine model = ', cross_val_score(svc,x,y,cv=None).mean())\n",
    "print('cross validation score of GaussianNB model = ', cross_val_score(gnb,x,y,cv=None).mean())\n",
    "print('cross validation score of GradientBoostingClassifier model = ',cross_val_score(gb,x,y,cv=None).mean())\n",
    "print('cross validation score of AdaBoostingClassifier model = ',cross_val_score(ada,x,y,cv=None).mean())"
   ]
  },
  {
   "cell_type": "markdown",
   "id": "aa496b33",
   "metadata": {},
   "source": [
    "Hyper parameter tuning"
   ]
  },
  {
   "cell_type": "markdown",
   "id": "46630e1d",
   "metadata": {},
   "source": [
    "Plotting ROC and compare AUC for all the models used"
   ]
  },
  {
   "cell_type": "code",
   "execution_count": 1,
   "id": "a7529d77",
   "metadata": {},
   "outputs": [],
   "source": [
    "# hyperparameter tuning with RandomForestClassifier, parameters of RandomForestClassifier\n",
    "parameters ={'n_estimators':[200], 'criterion':['gini'], \n",
    "             'min_samples_split':[5], 'min_samples_leaf':[2], \n",
    "              'bootstrap':[True],'n_jobs':[-1], 'random_state':[520]}"
   ]
  },
  {
   "cell_type": "code",
   "execution_count": 2,
   "id": "81e67200",
   "metadata": {},
   "outputs": [
    {
     "ename": "NameError",
     "evalue": "name 'GridSearchCV' is not defined",
     "output_type": "error",
     "traceback": [
      "\u001b[1;31m---------------------------------------------------------------------------\u001b[0m",
      "\u001b[1;31mNameError\u001b[0m                                 Traceback (most recent call last)",
      "\u001b[1;32m~\\AppData\\Local\\Temp/ipykernel_11328/4223652978.py\u001b[0m in \u001b[0;36m<module>\u001b[1;34m\u001b[0m\n\u001b[1;32m----> 1\u001b[1;33m \u001b[0mgcv\u001b[0m \u001b[1;33m=\u001b[0m \u001b[0mGridSearchCV\u001b[0m\u001b[1;33m(\u001b[0m\u001b[0mLogisticRegression\u001b[0m\u001b[1;33m(\u001b[0m\u001b[0mrandom_state\u001b[0m\u001b[1;33m=\u001b[0m\u001b[1;36m621\u001b[0m\u001b[1;33m)\u001b[0m\u001b[1;33m,\u001b[0m \u001b[0mparameter\u001b[0m\u001b[1;33m,\u001b[0m \u001b[0mverbose\u001b[0m\u001b[1;33m=\u001b[0m\u001b[1;36m1\u001b[0m\u001b[1;33m,\u001b[0m \u001b[0mcv\u001b[0m\u001b[1;33m=\u001b[0m\u001b[1;36m10\u001b[0m\u001b[1;33m,\u001b[0m \u001b[0mn_jobs\u001b[0m\u001b[1;33m=\u001b[0m\u001b[1;33m-\u001b[0m\u001b[1;36m1\u001b[0m\u001b[1;33m)\u001b[0m\u001b[1;33m\u001b[0m\u001b[1;33m\u001b[0m\u001b[0m\n\u001b[0m",
      "\u001b[1;31mNameError\u001b[0m: name 'GridSearchCV' is not defined"
     ]
    }
   ],
   "source": [
    "gcv = GridSearchCV(LogisticRegression(random_state=621), parameter, verbose=1, cv=10, n_jobs=-1)"
   ]
  },
  {
   "cell_type": "code",
   "execution_count": null,
   "id": "ad8c6b94",
   "metadata": {},
   "outputs": [],
   "source": [
    "#training the model\n",
    "gcv.fit(x_train,y_train)"
   ]
  },
  {
   "cell_type": "code",
   "execution_count": null,
   "id": "1d662ff9",
   "metadata": {},
   "outputs": [],
   "source": [
    "#finding out which parameter is giving best accuracy\n",
    "gcv.best_params_"
   ]
  },
  {
   "cell_type": "code",
   "execution_count": null,
   "id": "c85d2cdd",
   "metadata": {},
   "outputs": [],
   "source": [
    "type(gcv)"
   ]
  },
  {
   "cell_type": "code",
   "execution_count": null,
   "id": "232311ba",
   "metadata": {},
   "outputs": [],
   "source": [
    "# finding best estimator\n",
    "gcv.best_estimator_"
   ]
  },
  {
   "cell_type": "code",
   "execution_count": null,
   "id": "084b9b9a",
   "metadata": {},
   "outputs": [],
   "source": [
    "# Applying the parameters to the final model\n",
    "pred = gcv.best_estimator_.predict(x_test)\n",
    "acc =accuracy_score(y_test,pred)\n",
    "print(acc*100)"
   ]
  },
  {
   "cell_type": "markdown",
   "id": "cbf8357e",
   "metadata": {},
   "source": [
    "ROC AUC Scores"
   ]
  },
  {
   "cell_type": "code",
   "execution_count": null,
   "id": "f25696c6",
   "metadata": {},
   "outputs": [],
   "source": [
    "from sklearn.metrics import RocCurveDisplay\n",
    "svc_disp = RocCurveDisplay.from_estimator(gcv, x_test, y_test)\n",
    "#rfc_disp = RocCurveDisplay.from_estimator(rfc, x_test, y_test, ax=svc_disp.ax_)\n",
    "plt.title(\"AUC ROC plot\")\n",
    "plt.show()"
   ]
  },
  {
   "cell_type": "code",
   "execution_count": null,
   "id": "67256781",
   "metadata": {},
   "outputs": [],
   "source": [
    "gsv=GridSearchCV\n",
    "dtc.fit(x_train,y_train)\n",
    "y_pred=dtc.predict(x_test)\n",
    "from sklearn.metrics import roc_curve,auc\n",
    "fpr,tpr,thresholds=roc_curve(y_pred,y_test)\n",
    "roc_auc=auc(fpr,tpr)\n",
    "\n",
    "plt.figure()\n",
    "plt.plot(fpr,tpr,color='darkorange',lw=10,label='ROC Curve(area=%0.2f)' % roc_auc)\n",
    "plt.plot([0,1],[0,1],color='navy',lw=10,linestyle='--')\n",
    "plt.xlim([0.0,1.0])\n",
    "plt.ylim([0.0,1.05])\n",
    "plt.xlabel('False Positive Rate')\n",
    "plt.ylabel('True positive rate')\n",
    "plt.title('Receiver operating Characteristic')\n",
    "plt.legend(loc=\"lower right\")\n",
    "plt.show()"
   ]
  },
  {
   "cell_type": "code",
   "execution_count": null,
   "id": "62c9599b",
   "metadata": {},
   "outputs": [],
   "source": [
    "#saving the model\n",
    "import joblib\n",
    "joblib.dump(gcv,'Bank Marketing.pkl')"
   ]
  },
  {
   "cell_type": "code",
   "execution_count": null,
   "id": "4f7c6635",
   "metadata": {},
   "outputs": [],
   "source": [
    "#Loading the saved model\n",
    "BM=joblib.load('Bank Marketing.pkl')"
   ]
  },
  {
   "cell_type": "code",
   "execution_count": null,
   "id": "6ca25dbd",
   "metadata": {},
   "outputs": [],
   "source": [
    "prediction = BM.predict(x_test)\n",
    "prediction"
   ]
  },
  {
   "cell_type": "code",
   "execution_count": null,
   "id": "e09ec660",
   "metadata": {},
   "outputs": [],
   "source": [
    "pd.DataFrame([BM.predict(x_test)[:],y_test[:]],index=[\"Predicted\",\"Original\"])"
   ]
  },
  {
   "cell_type": "markdown",
   "id": "560701bf",
   "metadata": {},
   "source": [
    "Let's now make the prediction on test dataset"
   ]
  },
  {
   "cell_type": "code",
   "execution_count": null,
   "id": "e87ace6a",
   "metadata": {},
   "outputs": [],
   "source": [
    "BTest"
   ]
  },
  {
   "cell_type": "code",
   "execution_count": null,
   "id": "3dc3a2f2",
   "metadata": {},
   "outputs": [],
   "source": [
    "from sklearn.preprocessing import OrdinalEncoder\n",
    "enc=OrdinalEncoder()\n",
    "for i in BTest.columns:\n",
    "    if BTest[i].dtypes=='object':\n",
    "        BTest[i]=enc.fit_transform(BTest[i].values.reshape(-1,1))\n",
    "BTest.tail(20)"
   ]
  },
  {
   "cell_type": "code",
   "execution_count": null,
   "id": "fb1ef982",
   "metadata": {},
   "outputs": [],
   "source": [
    "BTrain.isnull().sum()"
   ]
  },
  {
   "cell_type": "code",
   "execution_count": null,
   "id": "078e19c2",
   "metadata": {},
   "outputs": [],
   "source": [
    "test=pd.get_dummies(BTest)\n",
    "BTest.head()"
   ]
  },
  {
   "cell_type": "code",
   "execution_count": null,
   "id": "2150f0bb",
   "metadata": {},
   "outputs": [],
   "source": [
    "test_prediction=dtc.predict(test)"
   ]
  },
  {
   "cell_type": "code",
   "execution_count": null,
   "id": "b646af0e",
   "metadata": {},
   "outputs": [],
   "source": [
    "sub=pd.DataFrame()"
   ]
  },
  {
   "cell_type": "code",
   "execution_count": null,
   "id": "f3932f89",
   "metadata": {},
   "outputs": [],
   "source": [
    "sub['ID']=test['ID']\n",
    "sub['Subscribed']=test_prediction"
   ]
  },
  {
   "cell_type": "code",
   "execution_count": null,
   "id": "c7636d38",
   "metadata": {},
   "outputs": [],
   "source": [
    "sub['Subscribed'].replace(0,'No',inplace=True)\n",
    "\n",
    "sub['Subscribed'].replace(1,'Yes',inplace=True)\n",
    "\n",
    " "
   ]
  },
  {
   "cell_type": "code",
   "execution_count": null,
   "id": "bb67fb85",
   "metadata": {},
   "outputs": [],
   "source": [
    "sub.to_csv('subscription.csv',header=True,index=False)\n",
    "#save the client subscribed a term deposit in csv file"
   ]
  },
  {
   "cell_type": "code",
   "execution_count": null,
   "id": "766309f4",
   "metadata": {},
   "outputs": [],
   "source": [
    "ds=pd.read_csv('subscription.csv')"
   ]
  },
  {
   "cell_type": "code",
   "execution_count": null,
   "id": "12da6a31",
   "metadata": {},
   "outputs": [],
   "source": [
    "ds"
   ]
  },
  {
   "cell_type": "code",
   "execution_count": null,
   "id": "7961f605",
   "metadata": {},
   "outputs": [],
   "source": []
  }
 ],
 "metadata": {
  "kernelspec": {
   "display_name": "Python 3 (ipykernel)",
   "language": "python",
   "name": "python3"
  },
  "language_info": {
   "codemirror_mode": {
    "name": "ipython",
    "version": 3
   },
   "file_extension": ".py",
   "mimetype": "text/x-python",
   "name": "python",
   "nbconvert_exporter": "python",
   "pygments_lexer": "ipython3",
   "version": "3.9.7"
  }
 },
 "nbformat": 4,
 "nbformat_minor": 5
}
